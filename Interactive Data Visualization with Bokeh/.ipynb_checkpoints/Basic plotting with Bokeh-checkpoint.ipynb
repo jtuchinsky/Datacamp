{
 "cells": [
  {
   "cell_type": "markdown",
   "metadata": {},
   "source": [
    "## Basic plotting with Bokeh"
   ]
  },
  {
   "cell_type": "markdown",
   "metadata": {},
   "source": [
    "### A simple scatter plot"
   ]
  },
  {
   "cell_type": "markdown",
   "metadata": {},
   "source": [
    "In this example, you're going to make a scatter plot of female literacy vs fertility using data from the European Environmental Agency. This dataset highlights that countries with low female literacy have high birthrates. The x-axis data has been loaded for you as 'fertility' and the y-axis data has been loaded as 'female_literacy'.\n",
    "\n",
    "Your job is to create a figure, assign x-axis and y-axis labels, and plot female_literacy vs fertility using the circle glyph."
   ]
  },
  {
   "cell_type": "code",
   "execution_count": 1,
   "metadata": {
    "scrolled": true
   },
   "outputs": [
    {
     "data": {
      "text/html": [
       "\n",
       "    <div class=\"bk-root\">\n",
       "        <a href=\"https://bokeh.pydata.org\" target=\"_blank\" class=\"bk-logo bk-logo-small bk-logo-notebook\"></a>\n",
       "        <span id=\"1001\">Loading BokehJS ...</span>\n",
       "    </div>"
      ]
     },
     "metadata": {},
     "output_type": "display_data"
    },
    {
     "data": {
      "application/javascript": [
       "\n",
       "(function(root) {\n",
       "  function now() {\n",
       "    return new Date();\n",
       "  }\n",
       "\n",
       "  var force = true;\n",
       "\n",
       "  if (typeof (root._bokeh_onload_callbacks) === \"undefined\" || force === true) {\n",
       "    root._bokeh_onload_callbacks = [];\n",
       "    root._bokeh_is_loading = undefined;\n",
       "  }\n",
       "\n",
       "  var JS_MIME_TYPE = 'application/javascript';\n",
       "  var HTML_MIME_TYPE = 'text/html';\n",
       "  var EXEC_MIME_TYPE = 'application/vnd.bokehjs_exec.v0+json';\n",
       "  var CLASS_NAME = 'output_bokeh rendered_html';\n",
       "\n",
       "  /**\n",
       "   * Render data to the DOM node\n",
       "   */\n",
       "  function render(props, node) {\n",
       "    var script = document.createElement(\"script\");\n",
       "    node.appendChild(script);\n",
       "  }\n",
       "\n",
       "  /**\n",
       "   * Handle when an output is cleared or removed\n",
       "   */\n",
       "  function handleClearOutput(event, handle) {\n",
       "    var cell = handle.cell;\n",
       "\n",
       "    var id = cell.output_area._bokeh_element_id;\n",
       "    var server_id = cell.output_area._bokeh_server_id;\n",
       "    // Clean up Bokeh references\n",
       "    if (id != null && id in Bokeh.index) {\n",
       "      Bokeh.index[id].model.document.clear();\n",
       "      delete Bokeh.index[id];\n",
       "    }\n",
       "\n",
       "    if (server_id !== undefined) {\n",
       "      // Clean up Bokeh references\n",
       "      var cmd = \"from bokeh.io.state import curstate; print(curstate().uuid_to_server['\" + server_id + \"'].get_sessions()[0].document.roots[0]._id)\";\n",
       "      cell.notebook.kernel.execute(cmd, {\n",
       "        iopub: {\n",
       "          output: function(msg) {\n",
       "            var id = msg.content.text.trim();\n",
       "            if (id in Bokeh.index) {\n",
       "              Bokeh.index[id].model.document.clear();\n",
       "              delete Bokeh.index[id];\n",
       "            }\n",
       "          }\n",
       "        }\n",
       "      });\n",
       "      // Destroy server and session\n",
       "      var cmd = \"import bokeh.io.notebook as ion; ion.destroy_server('\" + server_id + \"')\";\n",
       "      cell.notebook.kernel.execute(cmd);\n",
       "    }\n",
       "  }\n",
       "\n",
       "  /**\n",
       "   * Handle when a new output is added\n",
       "   */\n",
       "  function handleAddOutput(event, handle) {\n",
       "    var output_area = handle.output_area;\n",
       "    var output = handle.output;\n",
       "\n",
       "    // limit handleAddOutput to display_data with EXEC_MIME_TYPE content only\n",
       "    if ((output.output_type != \"display_data\") || (!output.data.hasOwnProperty(EXEC_MIME_TYPE))) {\n",
       "      return\n",
       "    }\n",
       "\n",
       "    var toinsert = output_area.element.find(\".\" + CLASS_NAME.split(' ')[0]);\n",
       "\n",
       "    if (output.metadata[EXEC_MIME_TYPE][\"id\"] !== undefined) {\n",
       "      toinsert[toinsert.length - 1].firstChild.textContent = output.data[JS_MIME_TYPE];\n",
       "      // store reference to embed id on output_area\n",
       "      output_area._bokeh_element_id = output.metadata[EXEC_MIME_TYPE][\"id\"];\n",
       "    }\n",
       "    if (output.metadata[EXEC_MIME_TYPE][\"server_id\"] !== undefined) {\n",
       "      var bk_div = document.createElement(\"div\");\n",
       "      bk_div.innerHTML = output.data[HTML_MIME_TYPE];\n",
       "      var script_attrs = bk_div.children[0].attributes;\n",
       "      for (var i = 0; i < script_attrs.length; i++) {\n",
       "        toinsert[toinsert.length - 1].firstChild.setAttribute(script_attrs[i].name, script_attrs[i].value);\n",
       "      }\n",
       "      // store reference to server id on output_area\n",
       "      output_area._bokeh_server_id = output.metadata[EXEC_MIME_TYPE][\"server_id\"];\n",
       "    }\n",
       "  }\n",
       "\n",
       "  function register_renderer(events, OutputArea) {\n",
       "\n",
       "    function append_mime(data, metadata, element) {\n",
       "      // create a DOM node to render to\n",
       "      var toinsert = this.create_output_subarea(\n",
       "        metadata,\n",
       "        CLASS_NAME,\n",
       "        EXEC_MIME_TYPE\n",
       "      );\n",
       "      this.keyboard_manager.register_events(toinsert);\n",
       "      // Render to node\n",
       "      var props = {data: data, metadata: metadata[EXEC_MIME_TYPE]};\n",
       "      render(props, toinsert[toinsert.length - 1]);\n",
       "      element.append(toinsert);\n",
       "      return toinsert\n",
       "    }\n",
       "\n",
       "    /* Handle when an output is cleared or removed */\n",
       "    events.on('clear_output.CodeCell', handleClearOutput);\n",
       "    events.on('delete.Cell', handleClearOutput);\n",
       "\n",
       "    /* Handle when a new output is added */\n",
       "    events.on('output_added.OutputArea', handleAddOutput);\n",
       "\n",
       "    /**\n",
       "     * Register the mime type and append_mime function with output_area\n",
       "     */\n",
       "    OutputArea.prototype.register_mime_type(EXEC_MIME_TYPE, append_mime, {\n",
       "      /* Is output safe? */\n",
       "      safe: true,\n",
       "      /* Index of renderer in `output_area.display_order` */\n",
       "      index: 0\n",
       "    });\n",
       "  }\n",
       "\n",
       "  // register the mime type if in Jupyter Notebook environment and previously unregistered\n",
       "  if (root.Jupyter !== undefined) {\n",
       "    var events = require('base/js/events');\n",
       "    var OutputArea = require('notebook/js/outputarea').OutputArea;\n",
       "\n",
       "    if (OutputArea.prototype.mime_types().indexOf(EXEC_MIME_TYPE) == -1) {\n",
       "      register_renderer(events, OutputArea);\n",
       "    }\n",
       "  }\n",
       "\n",
       "  \n",
       "  if (typeof (root._bokeh_timeout) === \"undefined\" || force === true) {\n",
       "    root._bokeh_timeout = Date.now() + 5000;\n",
       "    root._bokeh_failed_load = false;\n",
       "  }\n",
       "\n",
       "  var NB_LOAD_WARNING = {'data': {'text/html':\n",
       "     \"<div style='background-color: #fdd'>\\n\"+\n",
       "     \"<p>\\n\"+\n",
       "     \"BokehJS does not appear to have successfully loaded. If loading BokehJS from CDN, this \\n\"+\n",
       "     \"may be due to a slow or bad network connection. Possible fixes:\\n\"+\n",
       "     \"</p>\\n\"+\n",
       "     \"<ul>\\n\"+\n",
       "     \"<li>re-rerun `output_notebook()` to attempt to load from CDN again, or</li>\\n\"+\n",
       "     \"<li>use INLINE resources instead, as so:</li>\\n\"+\n",
       "     \"</ul>\\n\"+\n",
       "     \"<code>\\n\"+\n",
       "     \"from bokeh.resources import INLINE\\n\"+\n",
       "     \"output_notebook(resources=INLINE)\\n\"+\n",
       "     \"</code>\\n\"+\n",
       "     \"</div>\"}};\n",
       "\n",
       "  function display_loaded() {\n",
       "    var el = document.getElementById(\"1001\");\n",
       "    if (el != null) {\n",
       "      el.textContent = \"BokehJS is loading...\";\n",
       "    }\n",
       "    if (root.Bokeh !== undefined) {\n",
       "      if (el != null) {\n",
       "        el.textContent = \"BokehJS \" + root.Bokeh.version + \" successfully loaded.\";\n",
       "      }\n",
       "    } else if (Date.now() < root._bokeh_timeout) {\n",
       "      setTimeout(display_loaded, 100)\n",
       "    }\n",
       "  }\n",
       "\n",
       "\n",
       "  function run_callbacks() {\n",
       "    try {\n",
       "      root._bokeh_onload_callbacks.forEach(function(callback) { callback() });\n",
       "    }\n",
       "    finally {\n",
       "      delete root._bokeh_onload_callbacks\n",
       "    }\n",
       "    console.info(\"Bokeh: all callbacks have finished\");\n",
       "  }\n",
       "\n",
       "  function load_libs(js_urls, callback) {\n",
       "    root._bokeh_onload_callbacks.push(callback);\n",
       "    if (root._bokeh_is_loading > 0) {\n",
       "      console.log(\"Bokeh: BokehJS is being loaded, scheduling callback at\", now());\n",
       "      return null;\n",
       "    }\n",
       "    if (js_urls == null || js_urls.length === 0) {\n",
       "      run_callbacks();\n",
       "      return null;\n",
       "    }\n",
       "    console.log(\"Bokeh: BokehJS not loaded, scheduling load and callback at\", now());\n",
       "    root._bokeh_is_loading = js_urls.length;\n",
       "    for (var i = 0; i < js_urls.length; i++) {\n",
       "      var url = js_urls[i];\n",
       "      var s = document.createElement('script');\n",
       "      s.src = url;\n",
       "      s.async = false;\n",
       "      s.onreadystatechange = s.onload = function() {\n",
       "        root._bokeh_is_loading--;\n",
       "        if (root._bokeh_is_loading === 0) {\n",
       "          console.log(\"Bokeh: all BokehJS libraries loaded\");\n",
       "          run_callbacks()\n",
       "        }\n",
       "      };\n",
       "      s.onerror = function() {\n",
       "        console.warn(\"failed to load library \" + url);\n",
       "      };\n",
       "      console.log(\"Bokeh: injecting script tag for BokehJS library: \", url);\n",
       "      document.getElementsByTagName(\"head\")[0].appendChild(s);\n",
       "    }\n",
       "  };var element = document.getElementById(\"1001\");\n",
       "  if (element == null) {\n",
       "    console.log(\"Bokeh: ERROR: autoload.js configured with elementid '1001' but no matching script tag was found. \")\n",
       "    return false;\n",
       "  }\n",
       "\n",
       "  var js_urls = [\"https://cdn.pydata.org/bokeh/release/bokeh-1.0.2.min.js\", \"https://cdn.pydata.org/bokeh/release/bokeh-widgets-1.0.2.min.js\", \"https://cdn.pydata.org/bokeh/release/bokeh-tables-1.0.2.min.js\", \"https://cdn.pydata.org/bokeh/release/bokeh-gl-1.0.2.min.js\"];\n",
       "\n",
       "  var inline_js = [\n",
       "    function(Bokeh) {\n",
       "      Bokeh.set_log_level(\"info\");\n",
       "    },\n",
       "    \n",
       "    function(Bokeh) {\n",
       "      \n",
       "    },\n",
       "    function(Bokeh) {\n",
       "      console.log(\"Bokeh: injecting CSS: https://cdn.pydata.org/bokeh/release/bokeh-1.0.2.min.css\");\n",
       "      Bokeh.embed.inject_css(\"https://cdn.pydata.org/bokeh/release/bokeh-1.0.2.min.css\");\n",
       "      console.log(\"Bokeh: injecting CSS: https://cdn.pydata.org/bokeh/release/bokeh-widgets-1.0.2.min.css\");\n",
       "      Bokeh.embed.inject_css(\"https://cdn.pydata.org/bokeh/release/bokeh-widgets-1.0.2.min.css\");\n",
       "      console.log(\"Bokeh: injecting CSS: https://cdn.pydata.org/bokeh/release/bokeh-tables-1.0.2.min.css\");\n",
       "      Bokeh.embed.inject_css(\"https://cdn.pydata.org/bokeh/release/bokeh-tables-1.0.2.min.css\");\n",
       "    }\n",
       "  ];\n",
       "\n",
       "  function run_inline_js() {\n",
       "    \n",
       "    if ((root.Bokeh !== undefined) || (force === true)) {\n",
       "      for (var i = 0; i < inline_js.length; i++) {\n",
       "        inline_js[i].call(root, root.Bokeh);\n",
       "      }if (force === true) {\n",
       "        display_loaded();\n",
       "      }} else if (Date.now() < root._bokeh_timeout) {\n",
       "      setTimeout(run_inline_js, 100);\n",
       "    } else if (!root._bokeh_failed_load) {\n",
       "      console.log(\"Bokeh: BokehJS failed to load within specified timeout.\");\n",
       "      root._bokeh_failed_load = true;\n",
       "    } else if (force !== true) {\n",
       "      var cell = $(document.getElementById(\"1001\")).parents('.cell').data().cell;\n",
       "      cell.output_area.append_execute_result(NB_LOAD_WARNING)\n",
       "    }\n",
       "\n",
       "  }\n",
       "\n",
       "  if (root._bokeh_is_loading === 0) {\n",
       "    console.log(\"Bokeh: BokehJS loaded, going straight to plotting\");\n",
       "    run_inline_js();\n",
       "  } else {\n",
       "    load_libs(js_urls, function() {\n",
       "      console.log(\"Bokeh: BokehJS plotting callback run at\", now());\n",
       "      run_inline_js();\n",
       "    });\n",
       "  }\n",
       "}(window));"
      ],
      "application/vnd.bokehjs_load.v0+json": "\n(function(root) {\n  function now() {\n    return new Date();\n  }\n\n  var force = true;\n\n  if (typeof (root._bokeh_onload_callbacks) === \"undefined\" || force === true) {\n    root._bokeh_onload_callbacks = [];\n    root._bokeh_is_loading = undefined;\n  }\n\n  \n\n  \n  if (typeof (root._bokeh_timeout) === \"undefined\" || force === true) {\n    root._bokeh_timeout = Date.now() + 5000;\n    root._bokeh_failed_load = false;\n  }\n\n  var NB_LOAD_WARNING = {'data': {'text/html':\n     \"<div style='background-color: #fdd'>\\n\"+\n     \"<p>\\n\"+\n     \"BokehJS does not appear to have successfully loaded. If loading BokehJS from CDN, this \\n\"+\n     \"may be due to a slow or bad network connection. Possible fixes:\\n\"+\n     \"</p>\\n\"+\n     \"<ul>\\n\"+\n     \"<li>re-rerun `output_notebook()` to attempt to load from CDN again, or</li>\\n\"+\n     \"<li>use INLINE resources instead, as so:</li>\\n\"+\n     \"</ul>\\n\"+\n     \"<code>\\n\"+\n     \"from bokeh.resources import INLINE\\n\"+\n     \"output_notebook(resources=INLINE)\\n\"+\n     \"</code>\\n\"+\n     \"</div>\"}};\n\n  function display_loaded() {\n    var el = document.getElementById(\"1001\");\n    if (el != null) {\n      el.textContent = \"BokehJS is loading...\";\n    }\n    if (root.Bokeh !== undefined) {\n      if (el != null) {\n        el.textContent = \"BokehJS \" + root.Bokeh.version + \" successfully loaded.\";\n      }\n    } else if (Date.now() < root._bokeh_timeout) {\n      setTimeout(display_loaded, 100)\n    }\n  }\n\n\n  function run_callbacks() {\n    try {\n      root._bokeh_onload_callbacks.forEach(function(callback) { callback() });\n    }\n    finally {\n      delete root._bokeh_onload_callbacks\n    }\n    console.info(\"Bokeh: all callbacks have finished\");\n  }\n\n  function load_libs(js_urls, callback) {\n    root._bokeh_onload_callbacks.push(callback);\n    if (root._bokeh_is_loading > 0) {\n      console.log(\"Bokeh: BokehJS is being loaded, scheduling callback at\", now());\n      return null;\n    }\n    if (js_urls == null || js_urls.length === 0) {\n      run_callbacks();\n      return null;\n    }\n    console.log(\"Bokeh: BokehJS not loaded, scheduling load and callback at\", now());\n    root._bokeh_is_loading = js_urls.length;\n    for (var i = 0; i < js_urls.length; i++) {\n      var url = js_urls[i];\n      var s = document.createElement('script');\n      s.src = url;\n      s.async = false;\n      s.onreadystatechange = s.onload = function() {\n        root._bokeh_is_loading--;\n        if (root._bokeh_is_loading === 0) {\n          console.log(\"Bokeh: all BokehJS libraries loaded\");\n          run_callbacks()\n        }\n      };\n      s.onerror = function() {\n        console.warn(\"failed to load library \" + url);\n      };\n      console.log(\"Bokeh: injecting script tag for BokehJS library: \", url);\n      document.getElementsByTagName(\"head\")[0].appendChild(s);\n    }\n  };var element = document.getElementById(\"1001\");\n  if (element == null) {\n    console.log(\"Bokeh: ERROR: autoload.js configured with elementid '1001' but no matching script tag was found. \")\n    return false;\n  }\n\n  var js_urls = [\"https://cdn.pydata.org/bokeh/release/bokeh-1.0.2.min.js\", \"https://cdn.pydata.org/bokeh/release/bokeh-widgets-1.0.2.min.js\", \"https://cdn.pydata.org/bokeh/release/bokeh-tables-1.0.2.min.js\", \"https://cdn.pydata.org/bokeh/release/bokeh-gl-1.0.2.min.js\"];\n\n  var inline_js = [\n    function(Bokeh) {\n      Bokeh.set_log_level(\"info\");\n    },\n    \n    function(Bokeh) {\n      \n    },\n    function(Bokeh) {\n      console.log(\"Bokeh: injecting CSS: https://cdn.pydata.org/bokeh/release/bokeh-1.0.2.min.css\");\n      Bokeh.embed.inject_css(\"https://cdn.pydata.org/bokeh/release/bokeh-1.0.2.min.css\");\n      console.log(\"Bokeh: injecting CSS: https://cdn.pydata.org/bokeh/release/bokeh-widgets-1.0.2.min.css\");\n      Bokeh.embed.inject_css(\"https://cdn.pydata.org/bokeh/release/bokeh-widgets-1.0.2.min.css\");\n      console.log(\"Bokeh: injecting CSS: https://cdn.pydata.org/bokeh/release/bokeh-tables-1.0.2.min.css\");\n      Bokeh.embed.inject_css(\"https://cdn.pydata.org/bokeh/release/bokeh-tables-1.0.2.min.css\");\n    }\n  ];\n\n  function run_inline_js() {\n    \n    if ((root.Bokeh !== undefined) || (force === true)) {\n      for (var i = 0; i < inline_js.length; i++) {\n        inline_js[i].call(root, root.Bokeh);\n      }if (force === true) {\n        display_loaded();\n      }} else if (Date.now() < root._bokeh_timeout) {\n      setTimeout(run_inline_js, 100);\n    } else if (!root._bokeh_failed_load) {\n      console.log(\"Bokeh: BokehJS failed to load within specified timeout.\");\n      root._bokeh_failed_load = true;\n    } else if (force !== true) {\n      var cell = $(document.getElementById(\"1001\")).parents('.cell').data().cell;\n      cell.output_area.append_execute_result(NB_LOAD_WARNING)\n    }\n\n  }\n\n  if (root._bokeh_is_loading === 0) {\n    console.log(\"Bokeh: BokehJS loaded, going straight to plotting\");\n    run_inline_js();\n  } else {\n    load_libs(js_urls, function() {\n      console.log(\"Bokeh: BokehJS plotting callback run at\", now());\n      run_inline_js();\n    });\n  }\n}(window));"
     },
     "metadata": {},
     "output_type": "display_data"
    },
    {
     "data": {
      "text/html": [
       "\n",
       "\n",
       "\n",
       "\n",
       "\n",
       "\n",
       "  <div class=\"bk-root\" id=\"8fc6af37-b4f7-4d46-a7ce-b23fe3128013\"></div>\n"
      ]
     },
     "metadata": {},
     "output_type": "display_data"
    },
    {
     "data": {
      "application/javascript": [
       "(function(root) {\n",
       "  function embed_document(root) {\n",
       "    \n",
       "  var docs_json = {\"1c0b6981-a486-4309-b1eb-addafb251cce\":{\"roots\":{\"references\":[{\"attributes\":{\"below\":[{\"id\":\"1011\",\"type\":\"LinearAxis\"}],\"left\":[{\"id\":\"1016\",\"type\":\"LinearAxis\"}],\"renderers\":[{\"id\":\"1011\",\"type\":\"LinearAxis\"},{\"id\":\"1015\",\"type\":\"Grid\"},{\"id\":\"1016\",\"type\":\"LinearAxis\"},{\"id\":\"1020\",\"type\":\"Grid\"},{\"id\":\"1029\",\"type\":\"BoxAnnotation\"},{\"id\":\"1039\",\"type\":\"GlyphRenderer\"}],\"title\":{\"id\":\"1041\",\"type\":\"Title\"},\"toolbar\":{\"id\":\"1027\",\"type\":\"Toolbar\"},\"x_range\":{\"id\":\"1003\",\"type\":\"DataRange1d\"},\"x_scale\":{\"id\":\"1007\",\"type\":\"LinearScale\"},\"y_range\":{\"id\":\"1005\",\"type\":\"DataRange1d\"},\"y_scale\":{\"id\":\"1009\",\"type\":\"LinearScale\"}},\"id\":\"1002\",\"subtype\":\"Figure\",\"type\":\"Plot\"},{\"attributes\":{},\"id\":\"1012\",\"type\":\"BasicTicker\"},{\"attributes\":{},\"id\":\"1044\",\"type\":\"BasicTickFormatter\"},{\"attributes\":{\"plot\":{\"id\":\"1002\",\"subtype\":\"Figure\",\"type\":\"Plot\"},\"ticker\":{\"id\":\"1012\",\"type\":\"BasicTicker\"}},\"id\":\"1015\",\"type\":\"Grid\"},{\"attributes\":{},\"id\":\"1046\",\"type\":\"BasicTickFormatter\"},{\"attributes\":{\"axis_label\":\"female_literacy (% population)\",\"formatter\":{\"id\":\"1046\",\"type\":\"BasicTickFormatter\"},\"plot\":{\"id\":\"1002\",\"subtype\":\"Figure\",\"type\":\"Plot\"},\"ticker\":{\"id\":\"1017\",\"type\":\"BasicTicker\"}},\"id\":\"1016\",\"type\":\"LinearAxis\"},{\"attributes\":{},\"id\":\"1047\",\"type\":\"UnionRenderers\"},{\"attributes\":{},\"id\":\"1017\",\"type\":\"BasicTicker\"},{\"attributes\":{\"dimension\":1,\"plot\":{\"id\":\"1002\",\"subtype\":\"Figure\",\"type\":\"Plot\"},\"ticker\":{\"id\":\"1017\",\"type\":\"BasicTicker\"}},\"id\":\"1020\",\"type\":\"Grid\"},{\"attributes\":{\"data_source\":{\"id\":\"1036\",\"type\":\"ColumnDataSource\"},\"glyph\":{\"id\":\"1037\",\"type\":\"Circle\"},\"hover_glyph\":null,\"muted_glyph\":null,\"nonselection_glyph\":{\"id\":\"1038\",\"type\":\"Circle\"},\"selection_glyph\":null,\"view\":{\"id\":\"1040\",\"type\":\"CDSView\"}},\"id\":\"1039\",\"type\":\"GlyphRenderer\"},{\"attributes\":{},\"id\":\"1048\",\"type\":\"Selection\"},{\"attributes\":{\"fill_color\":{\"value\":\"#1f77b4\"},\"line_color\":{\"value\":\"#1f77b4\"},\"x\":{\"field\":\"x\"},\"y\":{\"field\":\"y\"}},\"id\":\"1037\",\"type\":\"Circle\"},{\"attributes\":{\"plot\":null,\"text\":\"\"},\"id\":\"1041\",\"type\":\"Title\"},{\"attributes\":{},\"id\":\"1021\",\"type\":\"PanTool\"},{\"attributes\":{},\"id\":\"1022\",\"type\":\"WheelZoomTool\"},{\"attributes\":{\"callback\":null,\"data\":{\"x\":{\"__ndarray__\":\"6Pup8dJN/D/b+X5qvHQFQARWDi2ynQBAdJMYBFYOAUAIrBxaZDv9P2Dl0CLb+Q5A6Pup8dJNAkD91HjpJrEUQH0/NV66SfY//tR46SYx9D9zaJHtfD8BQGmR7Xw/NQhA3SQGgZVDAEDJdr6fGi/1P7tJDAIrhwZA8tJNYhDYFEDNzMzMzMwAQOXQItv5fvw/8/3UeOkm/T9uEoPAyqEXQH9qvHSTGP4/bhKDwMqh/T89CtejcD32P3Noke18PwJACtejcD0KBEAv3SQGgZXzPy2yne+nxvU/sXJoke189z8IrBxaZDsDQBSuR+F6FBZACKwcWmQ7EEBjEFg5tMgBQFYOLbKdbxNAE4PAyqFF9D8j2/l+arwCQN0kBoGVQ/k/arx0kxgEGUB56SYxCKwCQOSlm8QgsA9AhetRuB4FGkA9CtejcD0EQC/dJAaBlQZAlkOLbOf7A0CWQ4ts5/sBQKrx0k1iEARAUrgehetRCEBEi2zn+6n9P+F6FK5H4RBAZmZmZmZmFECR7Xw/Nd4TQDMzMzMzM/U/dJMYBFYOEkD8qfHSTWIJQBFYObTIdgJAexSuR+F6EkBEi2zn+ykSQEA1XrpJjBZAN4lBYOXQ/j/AyqFFtvP7PycxCKwcWgJAd76fGi9dF0BSuB6F69EVQC2yne+nRhxArBxaZDvfBkDfT42XbhIQQLTIdr6fGgRAH4XrUbieFUCmm8QgsPIWQIGVQ4ts5wpAj8L1KFyPE0ApXI/C9Sj2PxSuR+F6FPg/bef7qfFSGEAlBoGVQ4v8P0A1XrpJDPY/MzMzMzMz9z/b+X5qvHT9P+xRuB6F6/U/TDeJQWDlBEA3iUFg5VAVQFK4HoXrURVALIcW2c73CkDl0CLb+X70P1YOLbKd7/0/001iEFg5AUBPjZduEoMVQM3MzMzMzBFAXI/C9Shc9z9g5dAi2/n2P5duEoPAyvk/hetRuB6FCUBqvHSTGAQGQM3MzMzMzApACtejcD0KEEBEi2zn+6kQQIlBYOXQIgVAN4lBYOXQB0BSuB6F61ELQFyPwvUoXAJA8/3UeOkmCEARWDm0yHYFQClcj8L1qBRAL90kBoGV/T/GSzeJQWD9P7+fGi/dJARAcT0K16NwA0DqJjEIrBwSQGiR7Xw/NfQ/KVyPwvUo/j9KDAIrhxb/P/yp8dJNYv4/30+Nl24S9z9zaJHtfD//P30/NV66yRJAHFpkO99P+T8zMzMzMzMAQNv5fmq8dP0/JQaBlUMLFEAxCKwcWmTzP9R46SYxCPg/VOOlm8QgBECsHFpkO9/1P4PAyqFFtgBAWmQ730+NEUBEi2zn+6n9PyyHFtnO9/s/bef7qfHSB0Cd76fGSzcBQEw3iUFg5QJAAyuHFtnO/z83iUFg5dD2P1K4HoXrUQpA6SYxCKwcCkBg5dAi2/n2P30/NV66SfY/+n5qvHSTBkDGSzeJQeATQIlBYOXQohZA7FG4HoXrCUBKDAIrhxb7PyYxCKwcWvo/4XoUrkfhAkB46SYxCKz8P5qZmZmZmQtAqMZLN4lB+D93vp8aL90BQBsv3SQGgQRAbhKDwMohFUAUrkfhehQPQLbz/dR46e4/lkOLbOf7AkDo+6nx0k0FQGq8dJMYBPQ/0SLb+X5qAEAshxbZzvcKQFg5tMh2vgBAAAAAAAAAAECq8dJNYhAPQDeJQWDl0A5AWDm0yHa+DUCDwMqhRbb7PwaBlUOLbA9A\",\"dtype\":\"float64\",\"shape\":[162]},\"y\":{\"__ndarray__\":\"AAAAAACgVkBmZmZmZmZJQAAAAAAAwFhAMzMzMzMzVkDNzMzMzIxWQAAAAAAAAERAZmZmZmbmSEBmZmZmZmZIQJqZmZmZ2VhAAAAAAADAWEAAAAAAAOBWQJqZmZmZeVdAzczMzMyMVkAAAAAAAMBYQGZmZmZm5kxAzczMzMzMNkAzMzMzM1NUQM3MzMzMTFNAAAAAAADgVkDNzMzMzAxMQAAAAAAAwFhAAAAAAADAWEAAAAAAAKBYQM3MzMzMTFZAZmZmZmYGVkBmZmZmZiZYQGZmZmZm5lhAmpmZmZk5WECamZmZmVlXQDMzMzMzk1BAzczMzMzMTUDNzMzMzGxYQDMzMzMzs1RAMzMzMzPTWEAzMzMzM/NPQAAAAAAAwFhAMzMzMzOzUEDNzMzMzAxGQM3MzMzMTFFAMzMzMzMzKUBmZmZmZiZVQDMzMzMzs0ZAmpmZmZm5V0CamZmZmblYQDMzMzMzc1ZAzczMzMwMVEAAAAAAAABZQGZmZmZmpk1AZmZmZmZmRUDNzMzMzAxEQJqZmZmZOVhAZmZmZmYmRkDNzMzMzExTQGZmZmZmRlZAMzMzMzNTUEAzMzMzM/NQQAAAAAAAgExAzczMzMysWEAAAAAAAMBYQAAAAAAA4FhAmpmZmZmZNUAzMzMzM3NQQDMzMzMzMy5AmpmZmZm5UUDNzMzMzCxRQM3MzMzMbFRAMzMzMzMzMkAAAAAAAIBOQDMzMzMzM1ZAAAAAAACAQECamZmZmflXQDMzMzMz81hAZmZmZmbmNUAAAAAAAMBYQJqZmZmZOVdAAAAAAADAWEAAAAAAAMBRQJqZmZmZuVhAMzMzMzMTVkBmZmZmZmY6QGZmZmZmhlBAAAAAAACAVUDNzMzMzOxYQAAAAAAAwFhAzczMzMzMWECamZmZmRk8QDMzMzMz801AAAAAAADAWECamZmZmXlYQM3MzMzMDFhAAAAAAADgVECamZmZmflXQAAAAAAA4FhAzczMzMzMS0CamZmZmdlKQDMzMzMzU1RAAAAAAABgV0CamZmZmZlPQJqZmZmZWVRAmpmZmZk5VkCamZmZmXlTQGZmZmZm5jxAAAAAAADAWEAAAAAAAABZQGZmZmZmxlhAMzMzMzPTWEAAAAAAAEBLQGZmZmZm5lZAAAAAAAAAWUDNzMzMzAxYQAAAAAAA4FZAAAAAAACAWEAAAAAAAMBYQM3MzMzMjERAzczMzMzsWEAAAAAAAMBYQAAAAAAAgFVAAAAAAACASkCamZmZmflXQDMzMzMzc1hAMzMzMzMzV0DNzMzMzOxYQAAAAAAAoFhAAAAAAADASEDNzMzMzKxYQJqZmZmZ2VhAmpmZmZk5VEBmZmZmZkZXQDMzMzMzs1ZAMzMzMzNzWEAzMzMzM/NYQM3MzMzM7FVAZmZmZmbGV0CamZmZmdlXQM3MzMzM7FhAAAAAAADgVEBmZmZmZiZBQAAAAAAAQEJAzczMzMzMVEAzMzMzM/NYQM3MzMzMjFhAmpmZmZmZVkAzMzMzMzNVQGZmZmZmZlVAzczMzMwsWECamZmZmVlWQJqZmZmZWUNAZmZmZmZGVkAzMzMzM/NQQM3MzMzMrFZAmpmZmZkZVkAzMzMzM9NTQAAAAAAAYFdAMzMzMzNTV0AAAAAAACBYQAAAAAAAwFhAmpmZmZmZWEAAAAAAAOBTQAAAAAAAoFhAMzMzMzPTVEAAAAAAAIBYQGZmZmZmxlhA\",\"dtype\":\"float64\",\"shape\":[162]}},\"selected\":{\"id\":\"1048\",\"type\":\"Selection\"},\"selection_policy\":{\"id\":\"1047\",\"type\":\"UnionRenderers\"}},\"id\":\"1036\",\"type\":\"ColumnDataSource\"},{\"attributes\":{\"overlay\":{\"id\":\"1029\",\"type\":\"BoxAnnotation\"}},\"id\":\"1023\",\"type\":\"BoxZoomTool\"},{\"attributes\":{\"fill_alpha\":{\"value\":0.1},\"fill_color\":{\"value\":\"#1f77b4\"},\"line_alpha\":{\"value\":0.1},\"line_color\":{\"value\":\"#1f77b4\"},\"x\":{\"field\":\"x\"},\"y\":{\"field\":\"y\"}},\"id\":\"1038\",\"type\":\"Circle\"},{\"attributes\":{},\"id\":\"1024\",\"type\":\"SaveTool\"},{\"attributes\":{},\"id\":\"1025\",\"type\":\"ResetTool\"},{\"attributes\":{},\"id\":\"1026\",\"type\":\"HelpTool\"},{\"attributes\":{\"callback\":null},\"id\":\"1003\",\"type\":\"DataRange1d\"},{\"attributes\":{\"active_drag\":\"auto\",\"active_inspect\":\"auto\",\"active_multi\":null,\"active_scroll\":\"auto\",\"active_tap\":\"auto\",\"tools\":[{\"id\":\"1021\",\"type\":\"PanTool\"},{\"id\":\"1022\",\"type\":\"WheelZoomTool\"},{\"id\":\"1023\",\"type\":\"BoxZoomTool\"},{\"id\":\"1024\",\"type\":\"SaveTool\"},{\"id\":\"1025\",\"type\":\"ResetTool\"},{\"id\":\"1026\",\"type\":\"HelpTool\"}]},\"id\":\"1027\",\"type\":\"Toolbar\"},{\"attributes\":{\"callback\":null},\"id\":\"1005\",\"type\":\"DataRange1d\"},{\"attributes\":{},\"id\":\"1007\",\"type\":\"LinearScale\"},{\"attributes\":{\"bottom_units\":\"screen\",\"fill_alpha\":{\"value\":0.5},\"fill_color\":{\"value\":\"lightgrey\"},\"left_units\":\"screen\",\"level\":\"overlay\",\"line_alpha\":{\"value\":1.0},\"line_color\":{\"value\":\"black\"},\"line_dash\":[4,4],\"line_width\":{\"value\":2},\"plot\":null,\"render_mode\":\"css\",\"right_units\":\"screen\",\"top_units\":\"screen\"},\"id\":\"1029\",\"type\":\"BoxAnnotation\"},{\"attributes\":{},\"id\":\"1009\",\"type\":\"LinearScale\"},{\"attributes\":{\"source\":{\"id\":\"1036\",\"type\":\"ColumnDataSource\"}},\"id\":\"1040\",\"type\":\"CDSView\"},{\"attributes\":{\"axis_label\":\"fertility (children per woman)\",\"formatter\":{\"id\":\"1044\",\"type\":\"BasicTickFormatter\"},\"plot\":{\"id\":\"1002\",\"subtype\":\"Figure\",\"type\":\"Plot\"},\"ticker\":{\"id\":\"1012\",\"type\":\"BasicTicker\"}},\"id\":\"1011\",\"type\":\"LinearAxis\"}],\"root_ids\":[\"1002\"]},\"title\":\"Bokeh Application\",\"version\":\"1.0.2\"}};\n",
       "  var render_items = [{\"docid\":\"1c0b6981-a486-4309-b1eb-addafb251cce\",\"roots\":{\"1002\":\"8fc6af37-b4f7-4d46-a7ce-b23fe3128013\"}}];\n",
       "  root.Bokeh.embed.embed_items_notebook(docs_json, render_items);\n",
       "\n",
       "  }\n",
       "  if (root.Bokeh !== undefined) {\n",
       "    embed_document(root);\n",
       "  } else {\n",
       "    var attempts = 0;\n",
       "    var timer = setInterval(function(root) {\n",
       "      if (root.Bokeh !== undefined) {\n",
       "        embed_document(root);\n",
       "        clearInterval(timer);\n",
       "      }\n",
       "      attempts++;\n",
       "      if (attempts > 100) {\n",
       "        console.log(\"Bokeh: ERROR: Unable to run BokehJS code because BokehJS library is missing\");\n",
       "        clearInterval(timer);\n",
       "      }\n",
       "    }, 10, root)\n",
       "  }\n",
       "})(window);"
      ],
      "application/vnd.bokehjs_exec.v0+json": ""
     },
     "metadata": {
      "application/vnd.bokehjs_exec.v0+json": {
       "id": "1002"
      }
     },
     "output_type": "display_data"
    }
   ],
   "source": [
    "import pandas as pd\n",
    "df = pd.read_csv('literacy_birth_rate.csv')\n",
    "fertility = df['fertility']\n",
    "female_literacy = df['female literacy']\n",
    "\n",
    "# Import figure from bokeh.plotting\n",
    "from bokeh.plotting import figure\n",
    "\n",
    "# Import output_file and show from bokeh.io\n",
    "from bokeh.io import output_notebook, show\n",
    "\n",
    "output_notebook()\n",
    "\n",
    "# Create the figure: p\n",
    "p = figure(x_axis_label='fertility (children per woman)', y_axis_label='female_literacy (% population)')\n",
    "\n",
    "# Add a circle glyph to the figure p\n",
    "p.circle(fertility,female_literacy)\n",
    "\n",
    "# Call the output_file() function and specify the name of the file\n",
    "#output_notebook()\n",
    "\n",
    "# Display the plot\n",
    "show(p)\n"
   ]
  },
  {
   "cell_type": "markdown",
   "metadata": {},
   "source": [
    "### A scatter plot with different shapes"
   ]
  },
  {
   "cell_type": "markdown",
   "metadata": {},
   "source": [
    "By calling multiple glyph functions on the same figure object, we can overlay multiple data sets in the same figure.\n",
    "\n",
    "In this exercise, you will plot female literacy vs fertility for two different regions, Africa and Latin America. Each set of x and y data has been loaded separately for you as fertility_africa, female_literacy_africa, fertility_latinamerica, and female_literacy_latinamerica.\n",
    "\n",
    "Your job is to plot the Latin America data with the circle() glyph, and the Africa data with the x() glyph."
   ]
  },
  {
   "cell_type": "code",
   "execution_count": 13,
   "metadata": {},
   "outputs": [
    {
     "data": {
      "text/html": [
       "\n",
       "\n",
       "\n",
       "\n",
       "\n",
       "\n",
       "  <div class=\"bk-root\" id=\"4cf61572-fd97-4527-8d14-5c6c6c7ca12e\"></div>\n"
      ]
     },
     "metadata": {},
     "output_type": "display_data"
    },
    {
     "data": {
      "application/javascript": [
       "(function(root) {\n",
       "  function embed_document(root) {\n",
       "    \n",
       "  var docs_json = {\"b01cbd0a-4749-4319-8b11-b4ac0398c77c\":{\"roots\":{\"references\":[{\"attributes\":{\"below\":[{\"id\":\"3084\",\"type\":\"LinearAxis\"}],\"left\":[{\"id\":\"3089\",\"type\":\"LinearAxis\"}],\"renderers\":[{\"id\":\"3084\",\"type\":\"LinearAxis\"},{\"id\":\"3088\",\"type\":\"Grid\"},{\"id\":\"3089\",\"type\":\"LinearAxis\"},{\"id\":\"3093\",\"type\":\"Grid\"},{\"id\":\"3102\",\"type\":\"BoxAnnotation\"},{\"id\":\"3112\",\"type\":\"GlyphRenderer\"},{\"id\":\"3117\",\"type\":\"GlyphRenderer\"}],\"title\":{\"id\":\"3200\",\"type\":\"Title\"},\"toolbar\":{\"id\":\"3100\",\"type\":\"Toolbar\"},\"x_range\":{\"id\":\"3076\",\"type\":\"DataRange1d\"},\"x_scale\":{\"id\":\"3080\",\"type\":\"LinearScale\"},\"y_range\":{\"id\":\"3078\",\"type\":\"DataRange1d\"},\"y_scale\":{\"id\":\"3082\",\"type\":\"LinearScale\"}},\"id\":\"3075\",\"subtype\":\"Figure\",\"type\":\"Plot\"},{\"attributes\":{\"overlay\":{\"id\":\"3102\",\"type\":\"BoxAnnotation\"}},\"id\":\"3096\",\"type\":\"BoxZoomTool\"},{\"attributes\":{\"callback\":null,\"data\":{\"x\":{\"__ndarray__\":\"/dR46SaxFEC7SQwCK4cGQPLSTWIQ2BRAbhKDwMqhF0AK16NwPQoEQBSuR+F6FBZACKwcWmQ7EEBWDi2ynW8TQCPb+X5qvAJAarx0kxgEGUB56SYxCKwCQOF6FK5H4RBAke18PzXeE0B0kxgEVg4SQHsUrkfhehJARIts5/spEkBANV66SYwWQHe+nxovXRdAUrgehevRFUAtsp3vp0YcQB+F61G4nhVAppvEILDyFkCBlUOLbOcKQI/C9ShcjxNAbef7qfFSGEDb+X5qvHT9PzeJQWDlUBVAUrgehetRFUBPjZduEoMVQM3MzMzMzBFARIts5/upEECJQWDl0CIFQClcj8L1qBRA6iYxCKwcEkB9PzVeuskSQCUGgZVDCxRAWmQ730+NEUBSuB6F61EKQOkmMQisHApA+n5qvHSTBkDGSzeJQeATQIlBYOXQohZA7FG4HoXrCUB46SYxCKz8P5qZmZmZmQtAbhKDwMohFUAUrkfhehQPQOj7qfHSTQVAWDm0yHa+DUA=\",\"dtype\":\"float64\",\"shape\":[49]},\"y\":{\"__ndarray__\":\"ZmZmZmZmSEBmZmZmZuZMQM3MzMzMzDZAzczMzMwMTEBmZmZmZgZWQDMzMzMzk1BAzczMzMzMTUAzMzMzM7NUQDMzMzMz809AMzMzMzOzUEDNzMzMzAxGQGZmZmZmpk1AzczMzMwMREBmZmZmZiZGQDMzMzMzU1BAMzMzMzPzUEAAAAAAAIBMQJqZmZmZmTVAMzMzMzNzUEAzMzMzMzMuQDMzMzMzMzJAAAAAAACATkAzMzMzMzNWQAAAAAAAgEBAZmZmZmbmNUAAAAAAAMBRQGZmZmZmZjpAZmZmZmaGUECamZmZmRk8QDMzMzMz801AmpmZmZnZSkAzMzMzM1NUQGZmZmZm5jxAAAAAAABAS0DNzMzMzIxEQAAAAAAAgEpAAAAAAADASEDNzMzMzOxVQGZmZmZmxldAAAAAAADgVEBmZmZmZiZBQAAAAAAAQEJAzczMzMzMVEAzMzMzMzNVQGZmZmZmZlVAZmZmZmZGVkAzMzMzM/NQQDMzMzMz01NAMzMzMzPTVEA=\",\"dtype\":\"float64\",\"shape\":[49]}},\"selected\":{\"id\":\"3207\",\"type\":\"Selection\"},\"selection_policy\":{\"id\":\"3208\",\"type\":\"UnionRenderers\"}},\"id\":\"3114\",\"type\":\"ColumnDataSource\"},{\"attributes\":{\"axis_label\":\"female_literacy (% population)\",\"formatter\":{\"id\":\"3202\",\"type\":\"BasicTickFormatter\"},\"plot\":{\"id\":\"3075\",\"subtype\":\"Figure\",\"type\":\"Plot\"},\"ticker\":{\"id\":\"3090\",\"type\":\"BasicTicker\"}},\"id\":\"3089\",\"type\":\"LinearAxis\"},{\"attributes\":{\"fill_color\":{\"value\":\"#1f77b4\"},\"line_color\":{\"value\":\"#1f77b4\"},\"x\":{\"field\":\"x\"},\"y\":{\"field\":\"y\"}},\"id\":\"3110\",\"type\":\"Circle\"},{\"attributes\":{},\"id\":\"3207\",\"type\":\"Selection\"},{\"attributes\":{\"callback\":null},\"id\":\"3076\",\"type\":\"DataRange1d\"},{\"attributes\":{},\"id\":\"3097\",\"type\":\"SaveTool\"},{\"attributes\":{},\"id\":\"3090\",\"type\":\"BasicTicker\"},{\"attributes\":{\"data_source\":{\"id\":\"3114\",\"type\":\"ColumnDataSource\"},\"glyph\":{\"id\":\"3115\",\"type\":\"X\"},\"hover_glyph\":null,\"muted_glyph\":null,\"nonselection_glyph\":{\"id\":\"3116\",\"type\":\"X\"},\"selection_glyph\":null,\"view\":{\"id\":\"3118\",\"type\":\"CDSView\"}},\"id\":\"3117\",\"type\":\"GlyphRenderer\"},{\"attributes\":{},\"id\":\"3202\",\"type\":\"BasicTickFormatter\"},{\"attributes\":{\"active_drag\":\"auto\",\"active_inspect\":\"auto\",\"active_multi\":null,\"active_scroll\":\"auto\",\"active_tap\":\"auto\",\"tools\":[{\"id\":\"3094\",\"type\":\"PanTool\"},{\"id\":\"3095\",\"type\":\"WheelZoomTool\"},{\"id\":\"3096\",\"type\":\"BoxZoomTool\"},{\"id\":\"3097\",\"type\":\"SaveTool\"},{\"id\":\"3098\",\"type\":\"ResetTool\"},{\"id\":\"3099\",\"type\":\"HelpTool\"}]},\"id\":\"3100\",\"type\":\"Toolbar\"},{\"attributes\":{\"source\":{\"id\":\"3114\",\"type\":\"ColumnDataSource\"}},\"id\":\"3118\",\"type\":\"CDSView\"},{\"attributes\":{},\"id\":\"3095\",\"type\":\"WheelZoomTool\"},{\"attributes\":{},\"id\":\"3085\",\"type\":\"BasicTicker\"},{\"attributes\":{\"dimension\":1,\"plot\":{\"id\":\"3075\",\"subtype\":\"Figure\",\"type\":\"Plot\"},\"ticker\":{\"id\":\"3090\",\"type\":\"BasicTicker\"}},\"id\":\"3093\",\"type\":\"Grid\"},{\"attributes\":{},\"id\":\"3099\",\"type\":\"HelpTool\"},{\"attributes\":{\"callback\":null,\"data\":{\"x\":{\"__ndarray__\":\"CKwcWmQ7/T9zaJHtfD8BQAisHFpkOwNAYxBYObTIAUA9CtejcD0EQJZDi2zn+wNAN4lBYOXQ/j/fT42XbhIQQLTIdr6fGgRAFK5H4XoU+D9MN4lBYOUEQCyHFtnO9wpAhetRuB6FCUA3iUFg5dAHQFyPwvUoXAJAEVg5tMh2BUBKDAIrhxb/P1TjpZvEIARAg8DKoUW2AEBMN4lBYOUCQCYxCKwcWvo/lkOLbOf7AkAshxbZzvcKQIPAyqFFtvs/\",\"dtype\":\"float64\",\"shape\":[24]},\"y\":{\"__ndarray__\":\"zczMzMyMVkAAAAAAAOBWQJqZmZmZWVdAzczMzMxsWEBmZmZmZiZVQJqZmZmZuVdAzczMzMysWEDNzMzMzCxRQM3MzMzMbFRAMzMzMzPzWEAzMzMzMxNWQAAAAAAAgFVAAAAAAADgVEAAAAAAAGBXQJqZmZmZWVRAmpmZmZl5U0DNzMzMzAxYQDMzMzMzM1dAAAAAAACgWEAzMzMzM7NWQM3MzMzMjFhAmpmZmZkZVkAAAAAAACBYQAAAAAAAgFhA\",\"dtype\":\"float64\",\"shape\":[24]}},\"selected\":{\"id\":\"3205\",\"type\":\"Selection\"},\"selection_policy\":{\"id\":\"3206\",\"type\":\"UnionRenderers\"}},\"id\":\"3109\",\"type\":\"ColumnDataSource\"},{\"attributes\":{},\"id\":\"3098\",\"type\":\"ResetTool\"},{\"attributes\":{\"bottom_units\":\"screen\",\"fill_alpha\":{\"value\":0.5},\"fill_color\":{\"value\":\"lightgrey\"},\"left_units\":\"screen\",\"level\":\"overlay\",\"line_alpha\":{\"value\":1.0},\"line_color\":{\"value\":\"black\"},\"line_dash\":[4,4],\"line_width\":{\"value\":2},\"plot\":null,\"render_mode\":\"css\",\"right_units\":\"screen\",\"top_units\":\"screen\"},\"id\":\"3102\",\"type\":\"BoxAnnotation\"},{\"attributes\":{},\"id\":\"3206\",\"type\":\"UnionRenderers\"},{\"attributes\":{},\"id\":\"3094\",\"type\":\"PanTool\"},{\"attributes\":{},\"id\":\"3080\",\"type\":\"LinearScale\"},{\"attributes\":{},\"id\":\"3205\",\"type\":\"Selection\"},{\"attributes\":{\"fill_alpha\":{\"value\":0.1},\"fill_color\":{\"value\":\"#1f77b4\"},\"line_alpha\":{\"value\":0.1},\"line_color\":{\"value\":\"#1f77b4\"},\"x\":{\"field\":\"x\"},\"y\":{\"field\":\"y\"}},\"id\":\"3111\",\"type\":\"Circle\"},{\"attributes\":{\"fill_color\":{\"value\":\"#1f77b4\"},\"line_color\":{\"value\":\"#1f77b4\"},\"x\":{\"field\":\"x\"},\"y\":{\"field\":\"y\"}},\"id\":\"3115\",\"type\":\"X\"},{\"attributes\":{},\"id\":\"3208\",\"type\":\"UnionRenderers\"},{\"attributes\":{\"plot\":{\"id\":\"3075\",\"subtype\":\"Figure\",\"type\":\"Plot\"},\"ticker\":{\"id\":\"3085\",\"type\":\"BasicTicker\"}},\"id\":\"3088\",\"type\":\"Grid\"},{\"attributes\":{\"data_source\":{\"id\":\"3109\",\"type\":\"ColumnDataSource\"},\"glyph\":{\"id\":\"3110\",\"type\":\"Circle\"},\"hover_glyph\":null,\"muted_glyph\":null,\"nonselection_glyph\":{\"id\":\"3111\",\"type\":\"Circle\"},\"selection_glyph\":null,\"view\":{\"id\":\"3113\",\"type\":\"CDSView\"}},\"id\":\"3112\",\"type\":\"GlyphRenderer\"},{\"attributes\":{\"fill_alpha\":{\"value\":0.1},\"fill_color\":{\"value\":\"#1f77b4\"},\"line_alpha\":{\"value\":0.1},\"line_color\":{\"value\":\"#1f77b4\"},\"x\":{\"field\":\"x\"},\"y\":{\"field\":\"y\"}},\"id\":\"3116\",\"type\":\"X\"},{\"attributes\":{\"callback\":null},\"id\":\"3078\",\"type\":\"DataRange1d\"},{\"attributes\":{\"plot\":null,\"text\":\"\"},\"id\":\"3200\",\"type\":\"Title\"},{\"attributes\":{},\"id\":\"3082\",\"type\":\"LinearScale\"},{\"attributes\":{\"axis_label\":\"fertility (children per woman)\",\"formatter\":{\"id\":\"3204\",\"type\":\"BasicTickFormatter\"},\"plot\":{\"id\":\"3075\",\"subtype\":\"Figure\",\"type\":\"Plot\"},\"ticker\":{\"id\":\"3085\",\"type\":\"BasicTicker\"}},\"id\":\"3084\",\"type\":\"LinearAxis\"},{\"attributes\":{},\"id\":\"3204\",\"type\":\"BasicTickFormatter\"},{\"attributes\":{\"source\":{\"id\":\"3109\",\"type\":\"ColumnDataSource\"}},\"id\":\"3113\",\"type\":\"CDSView\"}],\"root_ids\":[\"3075\"]},\"title\":\"Bokeh Application\",\"version\":\"1.0.2\"}};\n",
       "  var render_items = [{\"docid\":\"b01cbd0a-4749-4319-8b11-b4ac0398c77c\",\"roots\":{\"3075\":\"4cf61572-fd97-4527-8d14-5c6c6c7ca12e\"}}];\n",
       "  root.Bokeh.embed.embed_items_notebook(docs_json, render_items);\n",
       "\n",
       "  }\n",
       "  if (root.Bokeh !== undefined) {\n",
       "    embed_document(root);\n",
       "  } else {\n",
       "    var attempts = 0;\n",
       "    var timer = setInterval(function(root) {\n",
       "      if (root.Bokeh !== undefined) {\n",
       "        embed_document(root);\n",
       "        clearInterval(timer);\n",
       "      }\n",
       "      attempts++;\n",
       "      if (attempts > 100) {\n",
       "        console.log(\"Bokeh: ERROR: Unable to run BokehJS code because BokehJS library is missing\");\n",
       "        clearInterval(timer);\n",
       "      }\n",
       "    }, 10, root)\n",
       "  }\n",
       "})(window);"
      ],
      "application/vnd.bokehjs_exec.v0+json": ""
     },
     "metadata": {
      "application/vnd.bokehjs_exec.v0+json": {
       "id": "3075"
      }
     },
     "output_type": "display_data"
    }
   ],
   "source": [
    "latinamerica = df.loc[df['Continent'] == 'LAT']\n",
    "fertility_latinamerica=latinamerica['fertility'] \n",
    "female_literacy_latinamerica=latinamerica['female literacy']\n",
    "\n",
    "africa = df.loc[df['Continent'] == 'AF']\n",
    "fertility_africa=africa['fertility'] \n",
    "female_literacy_africa=africa['female literacy']\n",
    "\n",
    "# Create the figure: p\n",
    "p = figure(x_axis_label='fertility (children per woman)', y_axis_label='female_literacy (% population)')\n",
    "\n",
    "# Add a circle glyph to the figure p\n",
    "p.circle(fertility_latinamerica, female_literacy_latinamerica)\n",
    "\n",
    "# Add an x glyph to the figure p\n",
    "p.x(fertility_africa, female_literacy_africa)\n",
    "\n",
    "# Specify the name of the file\n",
    "#output_file('fert_lit_separate.html')\n",
    "#output_notebook()\n",
    "\n",
    "# Display the plot\n",
    "show(p)"
   ]
  },
  {
   "cell_type": "markdown",
   "metadata": {},
   "source": [
    "### Customizing your scatter plots"
   ]
  },
  {
   "cell_type": "markdown",
   "metadata": {},
   "source": [
    "The three most important arguments to customize scatter glyphs are `color`, `size`, and `alpha`. Bokeh accepts colors as hexadecimal strings, tuples of RGB values between 0 and 255, and any of the 147 CSS color names. Size values are supplied in screen space units with 100 meaning the size of the entire figure.\n",
    "\n",
    "The `alpha` parameter controls transparency. It takes in floating point numbers between 0.0, meaning completely transparent, and 1.0, meaning completely opaque.\n",
    "\n",
    "In this exercise, you'll plot female literacy vs fertility for Africa and Latin America as red and blue circle glyphs, respectively."
   ]
  },
  {
   "cell_type": "code",
   "execution_count": 14,
   "metadata": {},
   "outputs": [
    {
     "data": {
      "text/html": [
       "\n",
       "\n",
       "\n",
       "\n",
       "\n",
       "\n",
       "  <div class=\"bk-root\" id=\"f9467bf7-275e-48dd-957b-ebdfa4336ae0\"></div>\n"
      ]
     },
     "metadata": {},
     "output_type": "display_data"
    },
    {
     "data": {
      "application/javascript": [
       "(function(root) {\n",
       "  function embed_document(root) {\n",
       "    \n",
       "  var docs_json = {\"d29aff79-5da6-44d2-867e-d57012022946\":{\"roots\":{\"references\":[{\"attributes\":{\"below\":[{\"id\":\"3385\",\"type\":\"LinearAxis\"}],\"left\":[{\"id\":\"3390\",\"type\":\"LinearAxis\"}],\"renderers\":[{\"id\":\"3385\",\"type\":\"LinearAxis\"},{\"id\":\"3389\",\"type\":\"Grid\"},{\"id\":\"3390\",\"type\":\"LinearAxis\"},{\"id\":\"3394\",\"type\":\"Grid\"},{\"id\":\"3403\",\"type\":\"BoxAnnotation\"},{\"id\":\"3413\",\"type\":\"GlyphRenderer\"},{\"id\":\"3418\",\"type\":\"GlyphRenderer\"}],\"title\":{\"id\":\"3512\",\"type\":\"Title\"},\"toolbar\":{\"id\":\"3401\",\"type\":\"Toolbar\"},\"x_range\":{\"id\":\"3377\",\"type\":\"DataRange1d\"},\"x_scale\":{\"id\":\"3381\",\"type\":\"LinearScale\"},\"y_range\":{\"id\":\"3379\",\"type\":\"DataRange1d\"},\"y_scale\":{\"id\":\"3383\",\"type\":\"LinearScale\"}},\"id\":\"3376\",\"subtype\":\"Figure\",\"type\":\"Plot\"},{\"attributes\":{\"data_source\":{\"id\":\"3410\",\"type\":\"ColumnDataSource\"},\"glyph\":{\"id\":\"3411\",\"type\":\"Circle\"},\"hover_glyph\":null,\"muted_glyph\":null,\"nonselection_glyph\":{\"id\":\"3412\",\"type\":\"Circle\"},\"selection_glyph\":null,\"view\":{\"id\":\"3414\",\"type\":\"CDSView\"}},\"id\":\"3413\",\"type\":\"GlyphRenderer\"},{\"attributes\":{\"fill_alpha\":{\"value\":0.8},\"fill_color\":{\"value\":\"red\"},\"line_alpha\":{\"value\":0.8},\"line_color\":{\"value\":\"red\"},\"size\":{\"units\":\"screen\",\"value\":10},\"x\":{\"field\":\"x\"},\"y\":{\"field\":\"y\"}},\"id\":\"3416\",\"type\":\"Circle\"},{\"attributes\":{},\"id\":\"3517\",\"type\":\"Selection\"},{\"attributes\":{\"plot\":{\"id\":\"3376\",\"subtype\":\"Figure\",\"type\":\"Plot\"},\"ticker\":{\"id\":\"3386\",\"type\":\"BasicTicker\"}},\"id\":\"3389\",\"type\":\"Grid\"},{\"attributes\":{\"axis_label\":\"fertility (children per woman)\",\"formatter\":{\"id\":\"3516\",\"type\":\"BasicTickFormatter\"},\"plot\":{\"id\":\"3376\",\"subtype\":\"Figure\",\"type\":\"Plot\"},\"ticker\":{\"id\":\"3386\",\"type\":\"BasicTicker\"}},\"id\":\"3385\",\"type\":\"LinearAxis\"},{\"attributes\":{\"callback\":null,\"data\":{\"x\":{\"__ndarray__\":\"CKwcWmQ7/T9zaJHtfD8BQAisHFpkOwNAYxBYObTIAUA9CtejcD0EQJZDi2zn+wNAN4lBYOXQ/j/fT42XbhIQQLTIdr6fGgRAFK5H4XoU+D9MN4lBYOUEQCyHFtnO9wpAhetRuB6FCUA3iUFg5dAHQFyPwvUoXAJAEVg5tMh2BUBKDAIrhxb/P1TjpZvEIARAg8DKoUW2AEBMN4lBYOUCQCYxCKwcWvo/lkOLbOf7AkAshxbZzvcKQIPAyqFFtvs/\",\"dtype\":\"float64\",\"shape\":[24]},\"y\":{\"__ndarray__\":\"zczMzMyMVkAAAAAAAOBWQJqZmZmZWVdAzczMzMxsWEBmZmZmZiZVQJqZmZmZuVdAzczMzMysWEDNzMzMzCxRQM3MzMzMbFRAMzMzMzPzWEAzMzMzMxNWQAAAAAAAgFVAAAAAAADgVEAAAAAAAGBXQJqZmZmZWVRAmpmZmZl5U0DNzMzMzAxYQDMzMzMzM1dAAAAAAACgWEAzMzMzM7NWQM3MzMzMjFhAmpmZmZkZVkAAAAAAACBYQAAAAAAAgFhA\",\"dtype\":\"float64\",\"shape\":[24]}},\"selected\":{\"id\":\"3517\",\"type\":\"Selection\"},\"selection_policy\":{\"id\":\"3518\",\"type\":\"UnionRenderers\"}},\"id\":\"3410\",\"type\":\"ColumnDataSource\"},{\"attributes\":{\"source\":{\"id\":\"3410\",\"type\":\"ColumnDataSource\"}},\"id\":\"3414\",\"type\":\"CDSView\"},{\"attributes\":{\"callback\":null},\"id\":\"3377\",\"type\":\"DataRange1d\"},{\"attributes\":{},\"id\":\"3383\",\"type\":\"LinearScale\"},{\"attributes\":{},\"id\":\"3386\",\"type\":\"BasicTicker\"},{\"attributes\":{\"callback\":null},\"id\":\"3379\",\"type\":\"DataRange1d\"},{\"attributes\":{},\"id\":\"3399\",\"type\":\"ResetTool\"},{\"attributes\":{\"callback\":null,\"data\":{\"x\":{\"__ndarray__\":\"/dR46SaxFEC7SQwCK4cGQPLSTWIQ2BRAbhKDwMqhF0AK16NwPQoEQBSuR+F6FBZACKwcWmQ7EEBWDi2ynW8TQCPb+X5qvAJAarx0kxgEGUB56SYxCKwCQOF6FK5H4RBAke18PzXeE0B0kxgEVg4SQHsUrkfhehJARIts5/spEkBANV66SYwWQHe+nxovXRdAUrgehevRFUAtsp3vp0YcQB+F61G4nhVAppvEILDyFkCBlUOLbOcKQI/C9ShcjxNAbef7qfFSGEDb+X5qvHT9PzeJQWDlUBVAUrgehetRFUBPjZduEoMVQM3MzMzMzBFARIts5/upEECJQWDl0CIFQClcj8L1qBRA6iYxCKwcEkB9PzVeuskSQCUGgZVDCxRAWmQ730+NEUBSuB6F61EKQOkmMQisHApA+n5qvHSTBkDGSzeJQeATQIlBYOXQohZA7FG4HoXrCUB46SYxCKz8P5qZmZmZmQtAbhKDwMohFUAUrkfhehQPQOj7qfHSTQVAWDm0yHa+DUA=\",\"dtype\":\"float64\",\"shape\":[49]},\"y\":{\"__ndarray__\":\"ZmZmZmZmSEBmZmZmZuZMQM3MzMzMzDZAzczMzMwMTEBmZmZmZgZWQDMzMzMzk1BAzczMzMzMTUAzMzMzM7NUQDMzMzMz809AMzMzMzOzUEDNzMzMzAxGQGZmZmZmpk1AzczMzMwMREBmZmZmZiZGQDMzMzMzU1BAMzMzMzPzUEAAAAAAAIBMQJqZmZmZmTVAMzMzMzNzUEAzMzMzMzMuQDMzMzMzMzJAAAAAAACATkAzMzMzMzNWQAAAAAAAgEBAZmZmZmbmNUAAAAAAAMBRQGZmZmZmZjpAZmZmZmaGUECamZmZmRk8QDMzMzMz801AmpmZmZnZSkAzMzMzM1NUQGZmZmZm5jxAAAAAAABAS0DNzMzMzIxEQAAAAAAAgEpAAAAAAADASEDNzMzMzOxVQGZmZmZmxldAAAAAAADgVEBmZmZmZiZBQAAAAAAAQEJAzczMzMzMVEAzMzMzMzNVQGZmZmZmZlVAZmZmZmZGVkAzMzMzM/NQQDMzMzMz01NAMzMzMzPTVEA=\",\"dtype\":\"float64\",\"shape\":[49]}},\"selected\":{\"id\":\"3519\",\"type\":\"Selection\"},\"selection_policy\":{\"id\":\"3520\",\"type\":\"UnionRenderers\"}},\"id\":\"3415\",\"type\":\"ColumnDataSource\"},{\"attributes\":{},\"id\":\"3516\",\"type\":\"BasicTickFormatter\"},{\"attributes\":{\"plot\":null,\"text\":\"\"},\"id\":\"3512\",\"type\":\"Title\"},{\"attributes\":{},\"id\":\"3391\",\"type\":\"BasicTicker\"},{\"attributes\":{},\"id\":\"3520\",\"type\":\"UnionRenderers\"},{\"attributes\":{\"fill_alpha\":{\"value\":0.1},\"fill_color\":{\"value\":\"#1f77b4\"},\"line_alpha\":{\"value\":0.1},\"line_color\":{\"value\":\"#1f77b4\"},\"size\":{\"units\":\"screen\",\"value\":10},\"x\":{\"field\":\"x\"},\"y\":{\"field\":\"y\"}},\"id\":\"3412\",\"type\":\"Circle\"},{\"attributes\":{\"data_source\":{\"id\":\"3415\",\"type\":\"ColumnDataSource\"},\"glyph\":{\"id\":\"3416\",\"type\":\"Circle\"},\"hover_glyph\":null,\"muted_glyph\":null,\"nonselection_glyph\":{\"id\":\"3417\",\"type\":\"Circle\"},\"selection_glyph\":null,\"view\":{\"id\":\"3419\",\"type\":\"CDSView\"}},\"id\":\"3418\",\"type\":\"GlyphRenderer\"},{\"attributes\":{\"dimension\":1,\"plot\":{\"id\":\"3376\",\"subtype\":\"Figure\",\"type\":\"Plot\"},\"ticker\":{\"id\":\"3391\",\"type\":\"BasicTicker\"}},\"id\":\"3394\",\"type\":\"Grid\"},{\"attributes\":{\"bottom_units\":\"screen\",\"fill_alpha\":{\"value\":0.5},\"fill_color\":{\"value\":\"lightgrey\"},\"left_units\":\"screen\",\"level\":\"overlay\",\"line_alpha\":{\"value\":1.0},\"line_color\":{\"value\":\"black\"},\"line_dash\":[4,4],\"line_width\":{\"value\":2},\"plot\":null,\"render_mode\":\"css\",\"right_units\":\"screen\",\"top_units\":\"screen\"},\"id\":\"3403\",\"type\":\"BoxAnnotation\"},{\"attributes\":{},\"id\":\"3518\",\"type\":\"UnionRenderers\"},{\"attributes\":{\"fill_alpha\":{\"value\":0.1},\"fill_color\":{\"value\":\"#1f77b4\"},\"line_alpha\":{\"value\":0.1},\"line_color\":{\"value\":\"#1f77b4\"},\"size\":{\"units\":\"screen\",\"value\":10},\"x\":{\"field\":\"x\"},\"y\":{\"field\":\"y\"}},\"id\":\"3417\",\"type\":\"Circle\"},{\"attributes\":{},\"id\":\"3395\",\"type\":\"PanTool\"},{\"attributes\":{},\"id\":\"3519\",\"type\":\"Selection\"},{\"attributes\":{},\"id\":\"3381\",\"type\":\"LinearScale\"},{\"attributes\":{\"fill_alpha\":{\"value\":0.8},\"fill_color\":{\"value\":\"blue\"},\"line_alpha\":{\"value\":0.8},\"line_color\":{\"value\":\"blue\"},\"size\":{\"units\":\"screen\",\"value\":10},\"x\":{\"field\":\"x\"},\"y\":{\"field\":\"y\"}},\"id\":\"3411\",\"type\":\"Circle\"},{\"attributes\":{},\"id\":\"3514\",\"type\":\"BasicTickFormatter\"},{\"attributes\":{\"source\":{\"id\":\"3415\",\"type\":\"ColumnDataSource\"}},\"id\":\"3419\",\"type\":\"CDSView\"},{\"attributes\":{},\"id\":\"3398\",\"type\":\"SaveTool\"},{\"attributes\":{\"axis_label\":\"female_literacy (% population)\",\"formatter\":{\"id\":\"3514\",\"type\":\"BasicTickFormatter\"},\"plot\":{\"id\":\"3376\",\"subtype\":\"Figure\",\"type\":\"Plot\"},\"ticker\":{\"id\":\"3391\",\"type\":\"BasicTicker\"}},\"id\":\"3390\",\"type\":\"LinearAxis\"},{\"attributes\":{},\"id\":\"3400\",\"type\":\"HelpTool\"},{\"attributes\":{\"overlay\":{\"id\":\"3403\",\"type\":\"BoxAnnotation\"}},\"id\":\"3397\",\"type\":\"BoxZoomTool\"},{\"attributes\":{},\"id\":\"3396\",\"type\":\"WheelZoomTool\"},{\"attributes\":{\"active_drag\":\"auto\",\"active_inspect\":\"auto\",\"active_multi\":null,\"active_scroll\":\"auto\",\"active_tap\":\"auto\",\"tools\":[{\"id\":\"3395\",\"type\":\"PanTool\"},{\"id\":\"3396\",\"type\":\"WheelZoomTool\"},{\"id\":\"3397\",\"type\":\"BoxZoomTool\"},{\"id\":\"3398\",\"type\":\"SaveTool\"},{\"id\":\"3399\",\"type\":\"ResetTool\"},{\"id\":\"3400\",\"type\":\"HelpTool\"}]},\"id\":\"3401\",\"type\":\"Toolbar\"}],\"root_ids\":[\"3376\"]},\"title\":\"Bokeh Application\",\"version\":\"1.0.2\"}};\n",
       "  var render_items = [{\"docid\":\"d29aff79-5da6-44d2-867e-d57012022946\",\"roots\":{\"3376\":\"f9467bf7-275e-48dd-957b-ebdfa4336ae0\"}}];\n",
       "  root.Bokeh.embed.embed_items_notebook(docs_json, render_items);\n",
       "\n",
       "  }\n",
       "  if (root.Bokeh !== undefined) {\n",
       "    embed_document(root);\n",
       "  } else {\n",
       "    var attempts = 0;\n",
       "    var timer = setInterval(function(root) {\n",
       "      if (root.Bokeh !== undefined) {\n",
       "        embed_document(root);\n",
       "        clearInterval(timer);\n",
       "      }\n",
       "      attempts++;\n",
       "      if (attempts > 100) {\n",
       "        console.log(\"Bokeh: ERROR: Unable to run BokehJS code because BokehJS library is missing\");\n",
       "        clearInterval(timer);\n",
       "      }\n",
       "    }, 10, root)\n",
       "  }\n",
       "})(window);"
      ],
      "application/vnd.bokehjs_exec.v0+json": ""
     },
     "metadata": {
      "application/vnd.bokehjs_exec.v0+json": {
       "id": "3376"
      }
     },
     "output_type": "display_data"
    }
   ],
   "source": [
    "# Create the figure: p\n",
    "p = figure(x_axis_label='fertility (children per woman)', y_axis_label='female_literacy (% population)')\n",
    "\n",
    "# Add a blue circle glyph to the figure p\n",
    "p.circle(fertility_latinamerica, female_literacy_latinamerica, color='blue', size=10, alpha=0.8)\n",
    "\n",
    "# Add a red circle glyph to the figure p\n",
    "p.circle(fertility_africa, female_literacy_africa, color='red', size=10, alpha=0.8)\n",
    "\n",
    "\n",
    "# Specify the name of the file\n",
    "#output_file('fert_lit_separate_colors.html')\n",
    "\n",
    "\n",
    "# Display the plot\n",
    "show(p)\n"
   ]
  },
  {
   "cell_type": "markdown",
   "metadata": {},
   "source": [
    "### Lines"
   ]
  },
  {
   "cell_type": "markdown",
   "metadata": {},
   "source": [
    "We can draw lines on Bokeh plots with the `line()` glyph function.\n",
    "\n",
    "In this exercise, you'll plot the daily adjusted closing price of Apple Inc.'s stock (AAPL) from 2000 to 2013.\n",
    "\n",
    "The data points are provided for you as lists. `date` is a list of datetime objects to plot on the x-axis and `price` is a list of prices to plot on the y-axis.\n",
    "\n",
    "Since we are plotting dates on the x-axis, you must add `x_axis_type='datetime'` when creating the figure object."
   ]
  },
  {
   "cell_type": "code",
   "execution_count": 22,
   "metadata": {},
   "outputs": [
    {
     "data": {
      "text/html": [
       "<div>\n",
       "<style scoped>\n",
       "    .dataframe tbody tr th:only-of-type {\n",
       "        vertical-align: middle;\n",
       "    }\n",
       "\n",
       "    .dataframe tbody tr th {\n",
       "        vertical-align: top;\n",
       "    }\n",
       "\n",
       "    .dataframe thead th {\n",
       "        text-align: right;\n",
       "    }\n",
       "</style>\n",
       "<table border=\"1\" class=\"dataframe\">\n",
       "  <thead>\n",
       "    <tr style=\"text-align: right;\">\n",
       "      <th></th>\n",
       "      <th>Unnamed: 0</th>\n",
       "      <th>adj_close</th>\n",
       "      <th>close</th>\n",
       "      <th>date</th>\n",
       "      <th>high</th>\n",
       "      <th>low</th>\n",
       "      <th>open</th>\n",
       "      <th>volume</th>\n",
       "    </tr>\n",
       "  </thead>\n",
       "  <tbody>\n",
       "    <tr>\n",
       "      <th>0</th>\n",
       "      <td>0</td>\n",
       "      <td>31.68</td>\n",
       "      <td>130.31</td>\n",
       "      <td>2000-03-01</td>\n",
       "      <td>132.06</td>\n",
       "      <td>118.50</td>\n",
       "      <td>118.56</td>\n",
       "      <td>38478000</td>\n",
       "    </tr>\n",
       "    <tr>\n",
       "      <th>1</th>\n",
       "      <td>1</td>\n",
       "      <td>29.66</td>\n",
       "      <td>122.00</td>\n",
       "      <td>2000-03-02</td>\n",
       "      <td>127.94</td>\n",
       "      <td>120.69</td>\n",
       "      <td>127.00</td>\n",
       "      <td>11136800</td>\n",
       "    </tr>\n",
       "  </tbody>\n",
       "</table>\n",
       "</div>"
      ],
      "text/plain": [
       "   Unnamed: 0  adj_close   close       date    high     low    open    volume\n",
       "0           0      31.68  130.31 2000-03-01  132.06  118.50  118.56  38478000\n",
       "1           1      29.66  122.00 2000-03-02  127.94  120.69  127.00  11136800"
      ]
     },
     "metadata": {},
     "output_type": "display_data"
    },
    {
     "data": {
      "text/html": [
       "\n",
       "\n",
       "\n",
       "\n",
       "\n",
       "\n",
       "  <div class=\"bk-root\" id=\"2c17021d-f7d9-4a3e-9f13-947d98209f95\"></div>\n"
      ]
     },
     "metadata": {},
     "output_type": "display_data"
    },
    {
     "data": {
      "application/javascript": [
       "(function(root) {\n",
       "  function embed_document(root) {\n",
       "    \n",
       "  var docs_json = {\"2fed9aab-9c85-4256-b32b-8e655b2ddb35\":{\"roots\":{\"references\":[{\"attributes\":{\"below\":[{\"id\":\"6880\",\"type\":\"DatetimeAxis\"}],\"left\":[{\"id\":\"6885\",\"type\":\"LinearAxis\"}],\"renderers\":[{\"id\":\"6880\",\"type\":\"DatetimeAxis\"},{\"id\":\"6884\",\"type\":\"Grid\"},{\"id\":\"6885\",\"type\":\"LinearAxis\"},{\"id\":\"6889\",\"type\":\"Grid\"},{\"id\":\"6898\",\"type\":\"BoxAnnotation\"},{\"id\":\"6908\",\"type\":\"GlyphRenderer\"}],\"title\":{\"id\":\"7139\",\"type\":\"Title\"},\"toolbar\":{\"id\":\"6896\",\"type\":\"Toolbar\"},\"x_range\":{\"id\":\"6872\",\"type\":\"DataRange1d\"},\"x_scale\":{\"id\":\"6876\",\"type\":\"LinearScale\"},\"y_range\":{\"id\":\"6874\",\"type\":\"DataRange1d\"},\"y_scale\":{\"id\":\"6878\",\"type\":\"LinearScale\"}},\"id\":\"6871\",\"subtype\":\"Figure\",\"type\":\"Plot\"},{\"attributes\":{\"data_source\":{\"id\":\"6905\",\"type\":\"ColumnDataSource\"},\"glyph\":{\"id\":\"6906\",\"type\":\"Line\"},\"hover_glyph\":null,\"muted_glyph\":null,\"nonselection_glyph\":{\"id\":\"6907\",\"type\":\"Line\"},\"selection_glyph\":null,\"view\":{\"id\":\"6909\",\"type\":\"CDSView\"}},\"id\":\"6908\",\"type\":\"GlyphRenderer\"},{\"attributes\":{\"mantissas\":[1,2,5],\"max_interval\":500.0,\"num_minor_ticks\":0},\"id\":\"7144\",\"type\":\"AdaptiveTicker\"},{\"attributes\":{},\"id\":\"7143\",\"type\":\"DatetimeTickFormatter\"},{\"attributes\":{\"days\":[1,8,15,22]},\"id\":\"7149\",\"type\":\"DaysTicker\"},{\"attributes\":{\"days\":[1,2,3,4,5,6,7,8,9,10,11,12,13,14,15,16,17,18,19,20,21,22,23,24,25,26,27,28,29,30,31]},\"id\":\"7147\",\"type\":\"DaysTicker\"},{\"attributes\":{\"months\":[0,2,4,6,8,10]},\"id\":\"7152\",\"type\":\"MonthsTicker\"},{\"attributes\":{\"source\":{\"id\":\"6905\",\"type\":\"ColumnDataSource\"}},\"id\":\"6909\",\"type\":\"CDSView\"},{\"attributes\":{},\"id\":\"7157\",\"type\":\"UnionRenderers\"},{\"attributes\":{\"bottom_units\":\"screen\",\"fill_alpha\":{\"value\":0.5},\"fill_color\":{\"value\":\"lightgrey\"},\"left_units\":\"screen\",\"level\":\"overlay\",\"line_alpha\":{\"value\":1.0},\"line_color\":{\"value\":\"black\"},\"line_dash\":[4,4],\"line_width\":{\"value\":2},\"plot\":null,\"render_mode\":\"css\",\"right_units\":\"screen\",\"top_units\":\"screen\"},\"id\":\"6898\",\"type\":\"BoxAnnotation\"},{\"attributes\":{\"base\":60,\"mantissas\":[1,2,5,10,15,20,30],\"max_interval\":1800000.0,\"min_interval\":1000.0,\"num_minor_ticks\":0},\"id\":\"7145\",\"type\":\"AdaptiveTicker\"},{\"attributes\":{},\"id\":\"6893\",\"type\":\"SaveTool\"},{\"attributes\":{},\"id\":\"6895\",\"type\":\"HelpTool\"},{\"attributes\":{\"months\":[0,4,8]},\"id\":\"7153\",\"type\":\"MonthsTicker\"},{\"attributes\":{},\"id\":\"6886\",\"type\":\"BasicTicker\"},{\"attributes\":{\"plot\":{\"id\":\"6871\",\"subtype\":\"Figure\",\"type\":\"Plot\"},\"ticker\":{\"id\":\"6881\",\"type\":\"DatetimeTicker\"}},\"id\":\"6884\",\"type\":\"Grid\"},{\"attributes\":{\"months\":[0,6]},\"id\":\"7154\",\"type\":\"MonthsTicker\"},{\"attributes\":{},\"id\":\"6891\",\"type\":\"WheelZoomTool\"},{\"attributes\":{},\"id\":\"7156\",\"type\":\"Selection\"},{\"attributes\":{},\"id\":\"6894\",\"type\":\"ResetTool\"},{\"attributes\":{\"axis_label\":\"US Dollars\",\"formatter\":{\"id\":\"7141\",\"type\":\"BasicTickFormatter\"},\"plot\":{\"id\":\"6871\",\"subtype\":\"Figure\",\"type\":\"Plot\"},\"ticker\":{\"id\":\"6886\",\"type\":\"BasicTicker\"}},\"id\":\"6885\",\"type\":\"LinearAxis\"},{\"attributes\":{\"plot\":null,\"text\":\"\"},\"id\":\"7139\",\"type\":\"Title\"},{\"attributes\":{},\"id\":\"7155\",\"type\":\"YearsTicker\"},{\"attributes\":{},\"id\":\"6876\",\"type\":\"LinearScale\"},{\"attributes\":{\"num_minor_ticks\":5,\"tickers\":[{\"id\":\"7144\",\"type\":\"AdaptiveTicker\"},{\"id\":\"7145\",\"type\":\"AdaptiveTicker\"},{\"id\":\"7146\",\"type\":\"AdaptiveTicker\"},{\"id\":\"7147\",\"type\":\"DaysTicker\"},{\"id\":\"7148\",\"type\":\"DaysTicker\"},{\"id\":\"7149\",\"type\":\"DaysTicker\"},{\"id\":\"7150\",\"type\":\"DaysTicker\"},{\"id\":\"7151\",\"type\":\"MonthsTicker\"},{\"id\":\"7152\",\"type\":\"MonthsTicker\"},{\"id\":\"7153\",\"type\":\"MonthsTicker\"},{\"id\":\"7154\",\"type\":\"MonthsTicker\"},{\"id\":\"7155\",\"type\":\"YearsTicker\"}]},\"id\":\"6881\",\"type\":\"DatetimeTicker\"},{\"attributes\":{\"dimension\":1,\"plot\":{\"id\":\"6871\",\"subtype\":\"Figure\",\"type\":\"Plot\"},\"ticker\":{\"id\":\"6886\",\"type\":\"BasicTicker\"}},\"id\":\"6889\",\"type\":\"Grid\"},{\"attributes\":{},\"id\":\"6878\",\"type\":\"LinearScale\"},{\"attributes\":{\"callback\":null},\"id\":\"6872\",\"type\":\"DataRange1d\"},{\"attributes\":{\"axis_label\":\"Date\",\"formatter\":{\"id\":\"7143\",\"type\":\"DatetimeTickFormatter\"},\"plot\":{\"id\":\"6871\",\"subtype\":\"Figure\",\"type\":\"Plot\"},\"ticker\":{\"id\":\"6881\",\"type\":\"DatetimeTicker\"}},\"id\":\"6880\",\"type\":\"DatetimeAxis\"},{\"attributes\":{},\"id\":\"7141\",\"type\":\"BasicTickFormatter\"},{\"attributes\":{\"line_color\":\"#1f77b4\",\"x\":{\"field\":\"x\"},\"y\":{\"field\":\"y\"}},\"id\":\"6906\",\"type\":\"Line\"},{\"attributes\":{\"base\":24,\"mantissas\":[1,2,4,6,8,12],\"max_interval\":43200000.0,\"min_interval\":3600000.0,\"num_minor_ticks\":0},\"id\":\"7146\",\"type\":\"AdaptiveTicker\"},{\"attributes\":{\"months\":[0,1,2,3,4,5,6,7,8,9,10,11]},\"id\":\"7151\",\"type\":\"MonthsTicker\"},{\"attributes\":{\"line_alpha\":0.1,\"line_color\":\"#1f77b4\",\"x\":{\"field\":\"x\"},\"y\":{\"field\":\"y\"}},\"id\":\"6907\",\"type\":\"Line\"},{\"attributes\":{\"callback\":null,\"data\":{\"x\":{\"__ndarray__\":\"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\",\"dtype\":\"float64\",\"shape\":[3270]},\"y\":{\"__ndarray__\":\"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\",\"dtype\":\"float64\",\"shape\":[3270]}},\"selected\":{\"id\":\"7156\",\"type\":\"Selection\"},\"selection_policy\":{\"id\":\"7157\",\"type\":\"UnionRenderers\"}},\"id\":\"6905\",\"type\":\"ColumnDataSource\"},{\"attributes\":{},\"id\":\"6890\",\"type\":\"PanTool\"},{\"attributes\":{\"days\":[1,15]},\"id\":\"7150\",\"type\":\"DaysTicker\"},{\"attributes\":{\"overlay\":{\"id\":\"6898\",\"type\":\"BoxAnnotation\"}},\"id\":\"6892\",\"type\":\"BoxZoomTool\"},{\"attributes\":{\"callback\":null},\"id\":\"6874\",\"type\":\"DataRange1d\"},{\"attributes\":{\"active_drag\":\"auto\",\"active_inspect\":\"auto\",\"active_multi\":null,\"active_scroll\":\"auto\",\"active_tap\":\"auto\",\"tools\":[{\"id\":\"6890\",\"type\":\"PanTool\"},{\"id\":\"6891\",\"type\":\"WheelZoomTool\"},{\"id\":\"6892\",\"type\":\"BoxZoomTool\"},{\"id\":\"6893\",\"type\":\"SaveTool\"},{\"id\":\"6894\",\"type\":\"ResetTool\"},{\"id\":\"6895\",\"type\":\"HelpTool\"}]},\"id\":\"6896\",\"type\":\"Toolbar\"},{\"attributes\":{\"days\":[1,4,7,10,13,16,19,22,25,28]},\"id\":\"7148\",\"type\":\"DaysTicker\"}],\"root_ids\":[\"6871\"]},\"title\":\"Bokeh Application\",\"version\":\"1.0.2\"}};\n",
       "  var render_items = [{\"docid\":\"2fed9aab-9c85-4256-b32b-8e655b2ddb35\",\"roots\":{\"6871\":\"2c17021d-f7d9-4a3e-9f13-947d98209f95\"}}];\n",
       "  root.Bokeh.embed.embed_items_notebook(docs_json, render_items);\n",
       "\n",
       "  }\n",
       "  if (root.Bokeh !== undefined) {\n",
       "    embed_document(root);\n",
       "  } else {\n",
       "    var attempts = 0;\n",
       "    var timer = setInterval(function(root) {\n",
       "      if (root.Bokeh !== undefined) {\n",
       "        embed_document(root);\n",
       "        clearInterval(timer);\n",
       "      }\n",
       "      attempts++;\n",
       "      if (attempts > 100) {\n",
       "        console.log(\"Bokeh: ERROR: Unable to run BokehJS code because BokehJS library is missing\");\n",
       "        clearInterval(timer);\n",
       "      }\n",
       "    }, 10, root)\n",
       "  }\n",
       "})(window);"
      ],
      "application/vnd.bokehjs_exec.v0+json": ""
     },
     "metadata": {
      "application/vnd.bokehjs_exec.v0+json": {
       "id": "6871"
      }
     },
     "output_type": "display_data"
    }
   ],
   "source": [
    "apple=pd.read_csv('aapl.csv', parse_dates=['date'])\n",
    "display(apple.head(2))\n",
    "\n",
    "# Create a figure with x_axis_type=\"datetime\": p\n",
    "p = figure(x_axis_type=\"datetime\", x_axis_label='Date', y_axis_label='US Dollars')\n",
    "\n",
    "# Plot date along the x axis and price along the y axis\n",
    "p.line(apple.date, apple.adj_close)\n",
    "\n",
    "# Specify the name of the output file and show the result\n",
    "#output_file('line.html')\n",
    "show(p)\n",
    "\n"
   ]
  },
  {
   "cell_type": "markdown",
   "metadata": {},
   "source": [
    "### Lines and markers"
   ]
  },
  {
   "cell_type": "markdown",
   "metadata": {},
   "source": [
    "Lines and markers can be combined by plotting them separately using the same data points.\n",
    "\n",
    "In this exercise, you'll plot a line and circle glyph for the AAPL stock prices. Further, you'll adjust the `fill_color` keyword argument of the `circle()` glyph function while leaving the `line_color` at the default value."
   ]
  },
  {
   "cell_type": "code",
   "execution_count": 29,
   "metadata": {},
   "outputs": [
    {
     "data": {
      "text/html": [
       "<div>\n",
       "<style scoped>\n",
       "    .dataframe tbody tr th:only-of-type {\n",
       "        vertical-align: middle;\n",
       "    }\n",
       "\n",
       "    .dataframe tbody tr th {\n",
       "        vertical-align: top;\n",
       "    }\n",
       "\n",
       "    .dataframe thead th {\n",
       "        text-align: right;\n",
       "    }\n",
       "</style>\n",
       "<table border=\"1\" class=\"dataframe\">\n",
       "  <thead>\n",
       "    <tr style=\"text-align: right;\">\n",
       "      <th></th>\n",
       "      <th>Unnamed: 0</th>\n",
       "      <th>adj_close</th>\n",
       "      <th>close</th>\n",
       "      <th>date</th>\n",
       "      <th>high</th>\n",
       "      <th>low</th>\n",
       "      <th>open</th>\n",
       "      <th>volume</th>\n",
       "    </tr>\n",
       "  </thead>\n",
       "  <tbody>\n",
       "    <tr>\n",
       "      <th>1</th>\n",
       "      <td>1</td>\n",
       "      <td>29.66</td>\n",
       "      <td>122.0</td>\n",
       "      <td>2000-03-02</td>\n",
       "      <td>127.94</td>\n",
       "      <td>120.69</td>\n",
       "      <td>127.00</td>\n",
       "      <td>11136800</td>\n",
       "    </tr>\n",
       "    <tr>\n",
       "      <th>2</th>\n",
       "      <td>2</td>\n",
       "      <td>31.12</td>\n",
       "      <td>128.0</td>\n",
       "      <td>2000-03-03</td>\n",
       "      <td>128.23</td>\n",
       "      <td>120.00</td>\n",
       "      <td>124.87</td>\n",
       "      <td>11565200</td>\n",
       "    </tr>\n",
       "  </tbody>\n",
       "</table>\n",
       "</div>"
      ],
      "text/plain": [
       "   Unnamed: 0  adj_close  close       date    high     low    open    volume\n",
       "1           1      29.66  122.0 2000-03-02  127.94  120.69  127.00  11136800\n",
       "2           2      31.12  128.0 2000-03-03  128.23  120.00  124.87  11565200"
      ]
     },
     "metadata": {},
     "output_type": "display_data"
    },
    {
     "data": {
      "text/html": [
       "\n",
       "\n",
       "\n",
       "\n",
       "\n",
       "\n",
       "  <div class=\"bk-root\" id=\"c38bb880-bdd7-4e26-aae4-db282d26f5e4\"></div>\n"
      ]
     },
     "metadata": {},
     "output_type": "display_data"
    },
    {
     "data": {
      "application/javascript": [
       "(function(root) {\n",
       "  function embed_document(root) {\n",
       "    \n",
       "  var docs_json = {\"f739d02e-59e0-467c-a053-5c89931d5b5f\":{\"roots\":{\"references\":[{\"attributes\":{\"below\":[{\"id\":\"11024\",\"type\":\"DatetimeAxis\"}],\"left\":[{\"id\":\"11029\",\"type\":\"LinearAxis\"}],\"renderers\":[{\"id\":\"11024\",\"type\":\"DatetimeAxis\"},{\"id\":\"11028\",\"type\":\"Grid\"},{\"id\":\"11029\",\"type\":\"LinearAxis\"},{\"id\":\"11033\",\"type\":\"Grid\"},{\"id\":\"11042\",\"type\":\"BoxAnnotation\"},{\"id\":\"11052\",\"type\":\"GlyphRenderer\"},{\"id\":\"11057\",\"type\":\"GlyphRenderer\"}],\"title\":{\"id\":\"11424\",\"type\":\"Title\"},\"toolbar\":{\"id\":\"11040\",\"type\":\"Toolbar\"},\"x_range\":{\"id\":\"11016\",\"type\":\"DataRange1d\"},\"x_scale\":{\"id\":\"11020\",\"type\":\"LinearScale\"},\"y_range\":{\"id\":\"11018\",\"type\":\"DataRange1d\"},\"y_scale\":{\"id\":\"11022\",\"type\":\"LinearScale\"}},\"id\":\"11015\",\"subtype\":\"Figure\",\"type\":\"Plot\"},{\"attributes\":{},\"id\":\"11035\",\"type\":\"WheelZoomTool\"},{\"attributes\":{},\"id\":\"11441\",\"type\":\"Selection\"},{\"attributes\":{},\"id\":\"11038\",\"type\":\"ResetTool\"},{\"attributes\":{},\"id\":\"11440\",\"type\":\"YearsTicker\"},{\"attributes\":{\"overlay\":{\"id\":\"11042\",\"type\":\"BoxAnnotation\"}},\"id\":\"11036\",\"type\":\"BoxZoomTool\"},{\"attributes\":{\"callback\":null},\"id\":\"11018\",\"type\":\"DataRange1d\"},{\"attributes\":{\"active_drag\":\"auto\",\"active_inspect\":\"auto\",\"active_multi\":null,\"active_scroll\":\"auto\",\"active_tap\":\"auto\",\"tools\":[{\"id\":\"11034\",\"type\":\"PanTool\"},{\"id\":\"11035\",\"type\":\"WheelZoomTool\"},{\"id\":\"11036\",\"type\":\"BoxZoomTool\"},{\"id\":\"11037\",\"type\":\"SaveTool\"},{\"id\":\"11038\",\"type\":\"ResetTool\"},{\"id\":\"11039\",\"type\":\"HelpTool\"}]},\"id\":\"11040\",\"type\":\"Toolbar\"},{\"attributes\":{\"fill_color\":{\"value\":\"white\"},\"line_color\":{\"value\":\"#1f77b4\"},\"x\":{\"field\":\"x\"},\"y\":{\"field\":\"y\"}},\"id\":\"11055\",\"type\":\"Circle\"},{\"attributes\":{\"plot\":{\"id\":\"11015\",\"subtype\":\"Figure\",\"type\":\"Plot\"},\"ticker\":{\"id\":\"11025\",\"type\":\"DatetimeTicker\"}},\"id\":\"11028\",\"type\":\"Grid\"},{\"attributes\":{\"line_color\":\"#1f77b4\",\"x\":{\"field\":\"x\"},\"y\":{\"field\":\"y\"}},\"id\":\"11050\",\"type\":\"Line\"},{\"attributes\":{\"callback\":null},\"id\":\"11016\",\"type\":\"DataRange1d\"},{\"attributes\":{\"bottom_units\":\"screen\",\"fill_alpha\":{\"value\":0.5},\"fill_color\":{\"value\":\"lightgrey\"},\"left_units\":\"screen\",\"level\":\"overlay\",\"line_alpha\":{\"value\":1.0},\"line_color\":{\"value\":\"black\"},\"line_dash\":[4,4],\"line_width\":{\"value\":2},\"plot\":null,\"render_mode\":\"css\",\"right_units\":\"screen\",\"top_units\":\"screen\"},\"id\":\"11042\",\"type\":\"BoxAnnotation\"},{\"attributes\":{},\"id\":\"11020\",\"type\":\"LinearScale\"},{\"attributes\":{},\"id\":\"11030\",\"type\":\"BasicTicker\"},{\"attributes\":{\"months\":[0,4,8]},\"id\":\"11438\",\"type\":\"MonthsTicker\"},{\"attributes\":{},\"id\":\"11444\",\"type\":\"UnionRenderers\"},{\"attributes\":{},\"id\":\"11442\",\"type\":\"UnionRenderers\"},{\"attributes\":{\"line_alpha\":0.1,\"line_color\":\"#1f77b4\",\"x\":{\"field\":\"x\"},\"y\":{\"field\":\"y\"}},\"id\":\"11051\",\"type\":\"Line\"},{\"attributes\":{\"fill_alpha\":{\"value\":0.1},\"fill_color\":{\"value\":\"#1f77b4\"},\"line_alpha\":{\"value\":0.1},\"line_color\":{\"value\":\"#1f77b4\"},\"x\":{\"field\":\"x\"},\"y\":{\"field\":\"y\"}},\"id\":\"11056\",\"type\":\"Circle\"},{\"attributes\":{\"base\":24,\"mantissas\":[1,2,4,6,8,12],\"max_interval\":43200000.0,\"min_interval\":3600000.0,\"num_minor_ticks\":0},\"id\":\"11431\",\"type\":\"AdaptiveTicker\"},{\"attributes\":{\"dimension\":1,\"plot\":{\"id\":\"11015\",\"subtype\":\"Figure\",\"type\":\"Plot\"},\"ticker\":{\"id\":\"11030\",\"type\":\"BasicTicker\"}},\"id\":\"11033\",\"type\":\"Grid\"},{\"attributes\":{\"source\":{\"id\":\"11049\",\"type\":\"ColumnDataSource\"}},\"id\":\"11053\",\"type\":\"CDSView\"},{\"attributes\":{\"days\":[1,4,7,10,13,16,19,22,25,28]},\"id\":\"11433\",\"type\":\"DaysTicker\"},{\"attributes\":{},\"id\":\"11034\",\"type\":\"PanTool\"},{\"attributes\":{\"data_source\":{\"id\":\"11049\",\"type\":\"ColumnDataSource\"},\"glyph\":{\"id\":\"11050\",\"type\":\"Line\"},\"hover_glyph\":null,\"muted_glyph\":null,\"nonselection_glyph\":{\"id\":\"11051\",\"type\":\"Line\"},\"selection_glyph\":null,\"view\":{\"id\":\"11053\",\"type\":\"CDSView\"}},\"id\":\"11052\",\"type\":\"GlyphRenderer\"},{\"attributes\":{\"days\":[1,8,15,22]},\"id\":\"11434\",\"type\":\"DaysTicker\"},{\"attributes\":{\"months\":[0,1,2,3,4,5,6,7,8,9,10,11]},\"id\":\"11436\",\"type\":\"MonthsTicker\"},{\"attributes\":{\"data_source\":{\"id\":\"11054\",\"type\":\"ColumnDataSource\"},\"glyph\":{\"id\":\"11055\",\"type\":\"Circle\"},\"hover_glyph\":null,\"muted_glyph\":null,\"nonselection_glyph\":{\"id\":\"11056\",\"type\":\"Circle\"},\"selection_glyph\":null,\"view\":{\"id\":\"11058\",\"type\":\"CDSView\"}},\"id\":\"11057\",\"type\":\"GlyphRenderer\"},{\"attributes\":{\"num_minor_ticks\":5,\"tickers\":[{\"id\":\"11429\",\"type\":\"AdaptiveTicker\"},{\"id\":\"11430\",\"type\":\"AdaptiveTicker\"},{\"id\":\"11431\",\"type\":\"AdaptiveTicker\"},{\"id\":\"11432\",\"type\":\"DaysTicker\"},{\"id\":\"11433\",\"type\":\"DaysTicker\"},{\"id\":\"11434\",\"type\":\"DaysTicker\"},{\"id\":\"11435\",\"type\":\"DaysTicker\"},{\"id\":\"11436\",\"type\":\"MonthsTicker\"},{\"id\":\"11437\",\"type\":\"MonthsTicker\"},{\"id\":\"11438\",\"type\":\"MonthsTicker\"},{\"id\":\"11439\",\"type\":\"MonthsTicker\"},{\"id\":\"11440\",\"type\":\"YearsTicker\"}]},\"id\":\"11025\",\"type\":\"DatetimeTicker\"},{\"attributes\":{\"days\":[1,15]},\"id\":\"11435\",\"type\":\"DaysTicker\"},{\"attributes\":{\"axis_label\":\"US Dollars\",\"formatter\":{\"id\":\"11426\",\"type\":\"BasicTickFormatter\"},\"plot\":{\"id\":\"11015\",\"subtype\":\"Figure\",\"type\":\"Plot\"},\"ticker\":{\"id\":\"11030\",\"type\":\"BasicTicker\"}},\"id\":\"11029\",\"type\":\"LinearAxis\"},{\"attributes\":{},\"id\":\"11039\",\"type\":\"HelpTool\"},{\"attributes\":{\"callback\":null,\"data\":{\"x\":{\"__ndarray__\":\"AAAAc560a0IAAIA+Q7VrQgAAAKExt2tCAACAbNa3a0IAAAA4e7hrQgAAgAMguWtCAAAAz8S5a0IAAIAxs7trQgAAAP1XvGtCAACAyPy8a0IAAACUob1rQgAAgF9GvmtCAAAAwjTAa0IAAICN2cBrQgAAAFl+wWtCAACAJCPCa0IAAADwx8JrQgAAgFK2xGtCAAAAHlvFa0IAAIDp/8VrQgAAALWkxmtCAACAgEnHa0IAAADjN8lrQgAAgK7cyWtCAAAAeoHKa0IAAIBFJstrQgAAABHLy2tCAACAc7nNa0IAAAA/Xs5rQgAAgAoDz2tCAAAA1qfPa0IAAIChTNBrQgAAAAQ70mtCAACAz9/Sa0IAAACbhNNrQgAAgGYp1GtCAACAlLzWa0IAAABgYddrQgAAgCsG2GtCAAAA96rYa0IAAIDCT9lrQgAAACU+22tCAACA8OLba0IAAAC8h9xrQgAAgIcs3WtCAAAAU9Hda0IAAIC1v99rQgAAAIFk4GtCAACATAnha0IAAAAYruFrQgAAgONS4mtCAAAARkHka0IAAIAR5uRrQgAAAN2K5WtCAACAqC/ma0IAAAB01OZrQgAAgNbC6GtCAAAAomfpa0IAAIBtDOprQgAAADmx6mtCAACABFbra0IAAIAy6e1rQgAAAP6N7mtCAACAyTLva0IAAACV1+9rQgAAgPfF8WtCAAAAw2rya0IAAICOD/NrQgAAAFq082tCAACAJVn0a0IAAACIR/ZrQgAAgFPs9mtCAAAAH5H3a0IAAIDqNfhrQgAAALba+GtCAACAGMn6a0IAAADkbftrQgAAgK8S/GtCAAAAe7f8a0IAAIBGXP1rQgAAAKlK/2tCAACAdO//a0IAAABAlABsQgAAgAs5AWxCAAAA190BbEIAAIA5zANsQgAAgNAVBWxCAAAAnLoFbEIAAIBnXwZsQgAAAMpNCGxCAACAlfIIbEIAAABhlwlsQgAAgCw8CmxCAAAA+OAKbEIAAIBazwxsQgAAACZ0DWxCAACA8RgObEIAAAC9vQ5sQgAAgIhiD2xCAAAA61ARbEIAAIC29RFsQgAAAIKaEmxCAACATT8TbEIAAAAZ5BNsQgAAgHvSFWxCAAAAR3cWbEIAAIASHBdsQgAAAN7AF2xCAACAqWUYbEIAAAAMVBpsQgAAgNf4GmxCAAAAo50bbEIAAIBuQhxsQgAAADrnHGxCAACAnNUebEIAAABoeh9sQgAAgDMfIGxCAAAA/8MgbEIAAIDKaCFsQgAAAC1XI2xCAACA+PsjbEIAAADEoCRsQgAAgI9FJWxCAAAAW+olbEIAAIC92CdsQgAAAIl9KGxCAACAVCIpbEIAAAAgxylsQgAAgOtrKmxC\",\"dtype\":\"float64\",\"shape\":[129]},\"y\":{\"__ndarray__\":\"KVyPwvWoPUAfhetRuB4/QI/C9Shcjz5AH4XrUbjePUApXI/C9ag9QLgehetRuD1AUrgeheuRPkAAAAAAAIA9QEjhehSuxztAw/UoXI9CPECPwvUoXI89QKRwPQrXYz5AKVyPwvXoPUBI4XoUrmdAQEjhehSuh0FArkfhehQuQUBcj8L1KNxAQNejcD0K90BACtejcD3qQEBmZmZmZoZAQFK4HoXrkT5Aw/UoXI+CQEAUrkfhejRAQDMzMzMz8z5AMzMzMzOzP0BxPQrXo3A+QKRwPQrXA0BApHA9CtdjPkAK16NwPQo9QI/C9ShcjzpA7FG4HoWrO0AzMzMzMzM7QB+F61G4Hj5AmpmZmZnZPkAzMzMzM3M9QGZmZmZm5jxAzczMzMxMPUAzMzMzMzM/QAAAAAAAgD1AUrgehevRPkApXI/C9Sg+QLgehetROD5AKVyPwvWoPEB7FK5H4fo7QClcj8L16DpAAAAAAACAO0CF61G4HsU6QKRwPQrXozlAZmZmZmYmOEAAAAAAAAA5QOxRuB6FKzpAj8L1KFyPOEAzMzMzM7M5QGZmZmZmpjhAAAAAAACAOECamZmZmdk2QB+F61G43jVAXI/C9SjcNEBSuB6F61E1QLgehetRODVAAAAAAAAANUAK16NwPUo1QOxRuB6FazRA7FG4HoWrNUAAAAAAAIA2QDMzMzMzMzZAFK5H4XqUNkB7FK5H4Xo3QM3MzMzMDDdASOF6FK5HN0DsUbgehSs2QHsUrkfh+jZAPQrXo3D9NUD2KFyPwnU2QOxRuB6FKzZAPQrXo3B9N0AfhetRuJ44QM3MzMzMDDtApHA9CtcjOkCkcD0K1yM5QFK4HoXrUTpAKVyPwvUoOUC4HoXrUXg6QOxRuB6F6zhAuB6F61F4OUDsUbgehes5QFyPwvUoHDlAcT0K16MwOUC4HoXrUXg6QEjhehSuxztAcT0K16OwO0DhehSuR6E8QLgehetReDtAzczMzMwMPECamZmZmVk8QNejcD0K1ztAH4XrUbieOUCPwvUoXM86QArXo3A9CjpArkfhehSuN0DXo3A9Clc4QNejcD0KVzhACtejcD1KOUA9CtejcH03QPYoXI/CtThAexSuR+H6N0B7FK5H4fo2QNejcD0KVzdACtejcD0KN0CPwvUoXE83QHsUrkfhujZAmpmZmZkZN0DhehSuRyE3QHE9CtejMDdA4XoUrkfhNkAzMzMzM7M2QBSuR+F6lDdAw/UoXI8COUCPwvUoXE84QI/C9ShcjzhApHA9CtcjOUApXI/C9Wg6QEjhehSuRztA4XoUrkehO0B7FK5H4To8QEjhehSuxzxArkfhehTuPEDhehSuR6E9QJqZmZmZ2T5A\",\"dtype\":\"float64\",\"shape\":[129]}},\"selected\":{\"id\":\"11441\",\"type\":\"Selection\"},\"selection_policy\":{\"id\":\"11442\",\"type\":\"UnionRenderers\"}},\"id\":\"11049\",\"type\":\"ColumnDataSource\"},{\"attributes\":{},\"id\":\"11428\",\"type\":\"DatetimeTickFormatter\"},{\"attributes\":{\"months\":[0,2,4,6,8,10]},\"id\":\"11437\",\"type\":\"MonthsTicker\"},{\"attributes\":{},\"id\":\"11443\",\"type\":\"Selection\"},{\"attributes\":{},\"id\":\"11426\",\"type\":\"BasicTickFormatter\"},{\"attributes\":{\"days\":[1,2,3,4,5,6,7,8,9,10,11,12,13,14,15,16,17,18,19,20,21,22,23,24,25,26,27,28,29,30,31]},\"id\":\"11432\",\"type\":\"DaysTicker\"},{\"attributes\":{\"axis_label\":\"Date\",\"formatter\":{\"id\":\"11428\",\"type\":\"DatetimeTickFormatter\"},\"plot\":{\"id\":\"11015\",\"subtype\":\"Figure\",\"type\":\"Plot\"},\"ticker\":{\"id\":\"11025\",\"type\":\"DatetimeTicker\"}},\"id\":\"11024\",\"type\":\"DatetimeAxis\"},{\"attributes\":{\"callback\":null,\"data\":{\"x\":{\"__ndarray__\":\"AAAAc560a0IAAIA+Q7VrQgAAAKExt2tCAACAbNa3a0IAAAA4e7hrQgAAgAMguWtCAAAAz8S5a0IAAIAxs7trQgAAAP1XvGtCAACAyPy8a0IAAACUob1rQgAAgF9GvmtCAAAAwjTAa0IAAICN2cBrQgAAAFl+wWtCAACAJCPCa0IAAADwx8JrQgAAgFK2xGtCAAAAHlvFa0IAAIDp/8VrQgAAALWkxmtCAACAgEnHa0IAAADjN8lrQgAAgK7cyWtCAAAAeoHKa0IAAIBFJstrQgAAABHLy2tCAACAc7nNa0IAAAA/Xs5rQgAAgAoDz2tCAAAA1qfPa0IAAIChTNBrQgAAAAQ70mtCAACAz9/Sa0IAAACbhNNrQgAAgGYp1GtCAACAlLzWa0IAAABgYddrQgAAgCsG2GtCAAAA96rYa0IAAIDCT9lrQgAAACU+22tCAACA8OLba0IAAAC8h9xrQgAAgIcs3WtCAAAAU9Hda0IAAIC1v99rQgAAAIFk4GtCAACATAnha0IAAAAYruFrQgAAgONS4mtCAAAARkHka0IAAIAR5uRrQgAAAN2K5WtCAACAqC/ma0IAAAB01OZrQgAAgNbC6GtCAAAAomfpa0IAAIBtDOprQgAAADmx6mtCAACABFbra0IAAIAy6e1rQgAAAP6N7mtCAACAyTLva0IAAACV1+9rQgAAgPfF8WtCAAAAw2rya0IAAICOD/NrQgAAAFq082tCAACAJVn0a0IAAACIR/ZrQgAAgFPs9mtCAAAAH5H3a0IAAIDqNfhrQgAAALba+GtCAACAGMn6a0IAAADkbftrQgAAgK8S/GtCAAAAe7f8a0IAAIBGXP1rQgAAAKlK/2tCAACAdO//a0IAAABAlABsQgAAgAs5AWxCAAAA190BbEIAAIA5zANsQgAAgNAVBWxCAAAAnLoFbEIAAIBnXwZsQgAAAMpNCGxCAACAlfIIbEIAAABhlwlsQgAAgCw8CmxCAAAA+OAKbEIAAIBazwxsQgAAACZ0DWxCAACA8RgObEIAAAC9vQ5sQgAAgIhiD2xCAAAA61ARbEIAAIC29RFsQgAAAIKaEmxCAACATT8TbEIAAAAZ5BNsQgAAgHvSFWxCAAAAR3cWbEIAAIASHBdsQgAAAN7AF2xCAACAqWUYbEIAAAAMVBpsQgAAgNf4GmxCAAAAo50bbEIAAIBuQhxsQgAAADrnHGxCAACAnNUebEIAAABoeh9sQgAAgDMfIGxCAAAA/8MgbEIAAIDKaCFsQgAAAC1XI2xCAACA+PsjbEIAAADEoCRsQgAAgI9FJWxCAAAAW+olbEIAAIC92CdsQgAAAIl9KGxCAACAVCIpbEIAAAAgxylsQgAAgOtrKmxC\",\"dtype\":\"float64\",\"shape\":[129]},\"y\":{\"__ndarray__\":\"KVyPwvWoPUAfhetRuB4/QI/C9Shcjz5AH4XrUbjePUApXI/C9ag9QLgehetRuD1AUrgeheuRPkAAAAAAAIA9QEjhehSuxztAw/UoXI9CPECPwvUoXI89QKRwPQrXYz5AKVyPwvXoPUBI4XoUrmdAQEjhehSuh0FArkfhehQuQUBcj8L1KNxAQNejcD0K90BACtejcD3qQEBmZmZmZoZAQFK4HoXrkT5Aw/UoXI+CQEAUrkfhejRAQDMzMzMz8z5AMzMzMzOzP0BxPQrXo3A+QKRwPQrXA0BApHA9CtdjPkAK16NwPQo9QI/C9ShcjzpA7FG4HoWrO0AzMzMzMzM7QB+F61G4Hj5AmpmZmZnZPkAzMzMzM3M9QGZmZmZm5jxAzczMzMxMPUAzMzMzMzM/QAAAAAAAgD1AUrgehevRPkApXI/C9Sg+QLgehetROD5AKVyPwvWoPEB7FK5H4fo7QClcj8L16DpAAAAAAACAO0CF61G4HsU6QKRwPQrXozlAZmZmZmYmOEAAAAAAAAA5QOxRuB6FKzpAj8L1KFyPOEAzMzMzM7M5QGZmZmZmpjhAAAAAAACAOECamZmZmdk2QB+F61G43jVAXI/C9SjcNEBSuB6F61E1QLgehetRODVAAAAAAAAANUAK16NwPUo1QOxRuB6FazRA7FG4HoWrNUAAAAAAAIA2QDMzMzMzMzZAFK5H4XqUNkB7FK5H4Xo3QM3MzMzMDDdASOF6FK5HN0DsUbgehSs2QHsUrkfh+jZAPQrXo3D9NUD2KFyPwnU2QOxRuB6FKzZAPQrXo3B9N0AfhetRuJ44QM3MzMzMDDtApHA9CtcjOkCkcD0K1yM5QFK4HoXrUTpAKVyPwvUoOUC4HoXrUXg6QOxRuB6F6zhAuB6F61F4OUDsUbgehes5QFyPwvUoHDlAcT0K16MwOUC4HoXrUXg6QEjhehSuxztAcT0K16OwO0DhehSuR6E8QLgehetReDtAzczMzMwMPECamZmZmVk8QNejcD0K1ztAH4XrUbieOUCPwvUoXM86QArXo3A9CjpArkfhehSuN0DXo3A9Clc4QNejcD0KVzhACtejcD1KOUA9CtejcH03QPYoXI/CtThAexSuR+H6N0B7FK5H4fo2QNejcD0KVzdACtejcD0KN0CPwvUoXE83QHsUrkfhujZAmpmZmZkZN0DhehSuRyE3QHE9CtejMDdA4XoUrkfhNkAzMzMzM7M2QBSuR+F6lDdAw/UoXI8COUCPwvUoXE84QI/C9ShcjzhApHA9CtcjOUApXI/C9Wg6QEjhehSuRztA4XoUrkehO0B7FK5H4To8QEjhehSuxzxArkfhehTuPEDhehSuR6E9QJqZmZmZ2T5A\",\"dtype\":\"float64\",\"shape\":[129]}},\"selected\":{\"id\":\"11443\",\"type\":\"Selection\"},\"selection_policy\":{\"id\":\"11444\",\"type\":\"UnionRenderers\"}},\"id\":\"11054\",\"type\":\"ColumnDataSource\"},{\"attributes\":{\"plot\":null,\"text\":\"\"},\"id\":\"11424\",\"type\":\"Title\"},{\"attributes\":{\"source\":{\"id\":\"11054\",\"type\":\"ColumnDataSource\"}},\"id\":\"11058\",\"type\":\"CDSView\"},{\"attributes\":{},\"id\":\"11022\",\"type\":\"LinearScale\"},{\"attributes\":{\"months\":[0,6]},\"id\":\"11439\",\"type\":\"MonthsTicker\"},{\"attributes\":{\"mantissas\":[1,2,5],\"max_interval\":500.0,\"num_minor_ticks\":0},\"id\":\"11429\",\"type\":\"AdaptiveTicker\"},{\"attributes\":{\"base\":60,\"mantissas\":[1,2,5,10,15,20,30],\"max_interval\":1800000.0,\"min_interval\":1000.0,\"num_minor_ticks\":0},\"id\":\"11430\",\"type\":\"AdaptiveTicker\"},{\"attributes\":{},\"id\":\"11037\",\"type\":\"SaveTool\"}],\"root_ids\":[\"11015\"]},\"title\":\"Bokeh Application\",\"version\":\"1.0.2\"}};\n",
       "  var render_items = [{\"docid\":\"f739d02e-59e0-467c-a053-5c89931d5b5f\",\"roots\":{\"11015\":\"c38bb880-bdd7-4e26-aae4-db282d26f5e4\"}}];\n",
       "  root.Bokeh.embed.embed_items_notebook(docs_json, render_items);\n",
       "\n",
       "  }\n",
       "  if (root.Bokeh !== undefined) {\n",
       "    embed_document(root);\n",
       "  } else {\n",
       "    var attempts = 0;\n",
       "    var timer = setInterval(function(root) {\n",
       "      if (root.Bokeh !== undefined) {\n",
       "        embed_document(root);\n",
       "        clearInterval(timer);\n",
       "      }\n",
       "      attempts++;\n",
       "      if (attempts > 100) {\n",
       "        console.log(\"Bokeh: ERROR: Unable to run BokehJS code because BokehJS library is missing\");\n",
       "        clearInterval(timer);\n",
       "      }\n",
       "    }, 10, root)\n",
       "  }\n",
       "})(window);"
      ],
      "application/vnd.bokehjs_exec.v0+json": ""
     },
     "metadata": {
      "application/vnd.bokehjs_exec.v0+json": {
       "id": "11015"
      }
     },
     "output_type": "display_data"
    }
   ],
   "source": [
    "apple_2000=apple[(apple.date > '2000-03-01') & (apple.date <= '2000-09-01')]\n",
    "display(apple_2000.head(2))\n",
    "\n",
    "# Create a figure with x_axis_type=\"datetime\": p\n",
    "p = figure(x_axis_type=\"datetime\", x_axis_label='Date', y_axis_label='US Dollars')\n",
    "\n",
    "# Plot date along the x axis and price along the y axis\n",
    "p.line(apple_2000.date, apple_2000.adj_close)\n",
    "\n",
    "# With date on the x-axis and price on the y-axis, add a white circle glyph of size 4\n",
    "p.circle(apple_2000.date, apple_2000.adj_close, fill_color='white', size=4)\n",
    "\n",
    "show(p)"
   ]
  },
  {
   "cell_type": "markdown",
   "metadata": {},
   "source": [
    "### Plotting data from NumPy arrays"
   ]
  },
  {
   "cell_type": "markdown",
   "metadata": {},
   "source": [
    "In this exercise, you'll generate NumPy arrays using `np.linspace()` and `np.cos()` and plot them using the circle glyph.\n",
    "\n",
    "`np.linspace()` is a function that returns an array of evenly spaced numbers over a specified interval. For example, `np.linspace(0, 10, 5)` returns an array of 5 evenly spaced samples calculated over the interval `[0, 10]`. `np.cos(x)` calculates the element-wise cosine of some array x.\n",
    "\n",
    "For more information on NumPy functions, you can refer to the NumPy User Guide and NumPy Reference."
   ]
  },
  {
   "cell_type": "code",
   "execution_count": 30,
   "metadata": {},
   "outputs": [
    {
     "data": {
      "text/html": [
       "\n",
       "\n",
       "\n",
       "\n",
       "\n",
       "\n",
       "  <div class=\"bk-root\" id=\"6980ce47-96c8-4b32-a17c-1b6c956e06d9\"></div>\n"
      ]
     },
     "metadata": {},
     "output_type": "display_data"
    },
    {
     "data": {
      "application/javascript": [
       "(function(root) {\n",
       "  function embed_document(root) {\n",
       "    \n",
       "  var docs_json = {\"373863bb-d64c-49a0-96b6-a78353a1963d\":{\"roots\":{\"references\":[{\"attributes\":{\"below\":[{\"id\":\"11801\",\"type\":\"LinearAxis\"}],\"left\":[{\"id\":\"11806\",\"type\":\"LinearAxis\"}],\"renderers\":[{\"id\":\"11801\",\"type\":\"LinearAxis\"},{\"id\":\"11805\",\"type\":\"Grid\"},{\"id\":\"11806\",\"type\":\"LinearAxis\"},{\"id\":\"11810\",\"type\":\"Grid\"},{\"id\":\"11819\",\"type\":\"BoxAnnotation\"},{\"id\":\"11829\",\"type\":\"GlyphRenderer\"}],\"title\":{\"id\":\"12219\",\"type\":\"Title\"},\"toolbar\":{\"id\":\"11817\",\"type\":\"Toolbar\"},\"x_range\":{\"id\":\"11793\",\"type\":\"DataRange1d\"},\"x_scale\":{\"id\":\"11797\",\"type\":\"LinearScale\"},\"y_range\":{\"id\":\"11795\",\"type\":\"DataRange1d\"},\"y_scale\":{\"id\":\"11799\",\"type\":\"LinearScale\"}},\"id\":\"11792\",\"subtype\":\"Figure\",\"type\":\"Plot\"},{\"attributes\":{\"plot\":{\"id\":\"11792\",\"subtype\":\"Figure\",\"type\":\"Plot\"},\"ticker\":{\"id\":\"11802\",\"type\":\"BasicTicker\"}},\"id\":\"11805\",\"type\":\"Grid\"},{\"attributes\":{},\"id\":\"12224\",\"type\":\"Selection\"},{\"attributes\":{\"data_source\":{\"id\":\"11826\",\"type\":\"ColumnDataSource\"},\"glyph\":{\"id\":\"11827\",\"type\":\"Circle\"},\"hover_glyph\":null,\"muted_glyph\":null,\"nonselection_glyph\":{\"id\":\"11828\",\"type\":\"Circle\"},\"selection_glyph\":null,\"view\":{\"id\":\"11830\",\"type\":\"CDSView\"}},\"id\":\"11829\",\"type\":\"GlyphRenderer\"},{\"attributes\":{\"dimension\":1,\"plot\":{\"id\":\"11792\",\"subtype\":\"Figure\",\"type\":\"Plot\"},\"ticker\":{\"id\":\"11807\",\"type\":\"BasicTicker\"}},\"id\":\"11810\",\"type\":\"Grid\"},{\"attributes\":{},\"id\":\"11807\",\"type\":\"BasicTicker\"},{\"attributes\":{},\"id\":\"12221\",\"type\":\"BasicTickFormatter\"},{\"attributes\":{\"source\":{\"id\":\"11826\",\"type\":\"ColumnDataSource\"}},\"id\":\"11830\",\"type\":\"CDSView\"},{\"attributes\":{\"axis_label\":\"y\",\"formatter\":{\"id\":\"12221\",\"type\":\"BasicTickFormatter\"},\"plot\":{\"id\":\"11792\",\"subtype\":\"Figure\",\"type\":\"Plot\"},\"ticker\":{\"id\":\"11807\",\"type\":\"BasicTicker\"}},\"id\":\"11806\",\"type\":\"LinearAxis\"},{\"attributes\":{\"callback\":null,\"data\":{\"x\":{\"__ndarray__\":\"AAAAAAAAAAAxb2dIzNupPzFvZ0jM27k/ZZNNNtlkwz8xb2dIzNvJP3+lQK1fKdA/ZZNNNtlk0z9LgVq/UqDWPzFvZ0jM29k/F1100UUX3T9/pUCtXyngP3Icx3Ecx+E/ZZNNNtlk4z9YCtT6lQLlP0uBWr9SoOY/Pvjggw8+6D8xb2dIzNvpPyTm7QyJees/F1100UUX7T8K1PqVArXuP3+lQK1fKfA/+OCDDz748D9yHMdxHMfxP+tXCtT6lfI/ZZNNNtlk8z/ezpCYtzP0P1gK1PqVAvU/0UUXXXTR9T9LgVq/UqD2P8S8nSExb/c/Pvjggw8++D+3MyTm7Qz5PzFvZ0jM2/k/q6qqqqqq+j8k5u0MiXn7P54hMW9nSPw/F1100UUX/T+RmLczJOb9PwrU+pUCtf4/hA8++OCD/z9/pUCtXykAQDtDYt7OkABA+OCDDz74AEC1fqVArV8BQHIcx3EcxwFALrrooosuAkDrVwrU+pUCQKj1KwVq/QJAZZNNNtlkA0AiMW9nSMwDQN7OkJi3MwRAm2yyySabBEBYCtT6lQIFQBWo9SsFagVA0UUXXXTRBUCO4ziO4zgGQEuBWr9SoAZACB988MEHB0DEvJ0hMW8HQIFav1Kg1gdAPvjggw8+CED7lQK1fqUIQLczJObtDAlAdNFFF110CUAxb2dIzNsJQO4MiXk7QwpAq6qqqqqqCkBnSMzbGRILQCTm7QyJeQtA4YMPPvjgC0CeITFvZ0gMQFq/UqDWrwxAF1100UUXDUDU+pUCtX4NQJGYtzMk5g1ATTbZZJNNDkAK1PqVArUOQMdxHMdxHA9AhA8++OCDD0BArV8pUOsPQH+lQK1fKRBAXXTRRRddEEA7Q2LezpAQQBoS83aGxBBA+OCDDz74EEDXrxSo9SsRQLV+pUCtXxFAk0022WSTEUByHMdxHMcRQFDrVwrU+hFALrrooosuEkANiXk7Q2ISQOtXCtT6lRJAyiabbLLJEkCo9SsFav0SQIbEvJ0hMRNAZZNNNtlkE0BDYt7OkJgTQCIxb2dIzBNAAAAAAAAAFEA=\",\"dtype\":\"float64\",\"shape\":[100]},\"y\":{\"__ndarray__\":\"AAAAAAAA8D+IOhPnjfXvP2y1GW4+1u8/HBEGBiai7z/0ZpixZlnvP5AIKu8v/O4/yNmrmb6K7j9cg+vAXAXuP3RuOXlhbO0/9xmPojDA7D8251qnOgHsP4HvGzP8L+s/j8z94P1M6j/idqni01jpP3dzhZ8dVOg/pnqkTIU/5z8miaZ9vxvmP+7m1K6K6eQ/HRvGyK6p4z9L/dqd/FziP8UY6mFNBOE/gMXkOARB3z8LrmMrBmXcP1nJ/31+dtk/P1edLVd31j+BxXERhWnTP7+kCZQGT9A/3nwczMRTyj9osEhXTPjDP4viBJWUH7s/7bevprZ5rD/kJeEMaA11P1iQonMUOKe/wMctpFaBuL9e2la8UavCv7h8xfHHCcm/yDeLfeVXz7/q2GVLxsjSv1v6TmhW2dW/Q+6l4KLb2L8Zq47PtM3bv11nfeifrd6/rIhO3MG84L9cmTxwxhfiv9k8jyL7ZuO/b1n1G4Wp5L9liiXKkd7lvxooV2lXBee/xHL7hxUd6L+C4GCEFSXpv+aI7gOrHOq/jtapYzQD67+6CL0hG9jrv3SguT/Umuy/+5JWneBK7b99A29LzeftvwpVC9czce6/G5hDjLrm7r8Zqc+wFEjvvzrEHrYCle+/xNrVYlLN77/fkpnz3vDvv96JDjOR/++/qi0AiV/5778LSaQATt7vv9wr90Vuru+/bCgymt9p779C7mO/zhDvv4kUONt1o+6/3+cAURwi7r/8QxyTFo3tv6bm0evF5Oy/BTrPPZgp7L8FDmq8B1zrv5IW2ZuafOq/UUSWueKL6b8kKyQ9fYrov0aidDESeee/WpkzF1RY5r8gwj1w/yjlv4cjj0Ta6+O/6u75oLOh4r+m/vkPY0vhv5B8+hmQ09+/urT55JL73L+R8IzGqRDav5K3r168FNe/14Rkab0J1L83wRp5qfHQv3AkUVULncu/pYFip7xExb9nglKxFr29v6fIG9RJ3bC/D7lnLtOTj7/fYJ910fWhP1UiQABv4rU/DwVx2NVdwT/gTHmzHb/HP6i1P8XkEM4/2UprcIUn0j8=\",\"dtype\":\"float64\",\"shape\":[100]}},\"selected\":{\"id\":\"12224\",\"type\":\"Selection\"},\"selection_policy\":{\"id\":\"12225\",\"type\":\"UnionRenderers\"}},\"id\":\"11826\",\"type\":\"ColumnDataSource\"},{\"attributes\":{\"fill_color\":{\"value\":\"#1f77b4\"},\"line_color\":{\"value\":\"#1f77b4\"},\"x\":{\"field\":\"x\"},\"y\":{\"field\":\"y\"}},\"id\":\"11827\",\"type\":\"Circle\"},{\"attributes\":{\"fill_alpha\":{\"value\":0.1},\"fill_color\":{\"value\":\"#1f77b4\"},\"line_alpha\":{\"value\":0.1},\"line_color\":{\"value\":\"#1f77b4\"},\"x\":{\"field\":\"x\"},\"y\":{\"field\":\"y\"}},\"id\":\"11828\",\"type\":\"Circle\"},{\"attributes\":{\"plot\":null,\"text\":\"\"},\"id\":\"12219\",\"type\":\"Title\"},{\"attributes\":{},\"id\":\"11811\",\"type\":\"PanTool\"},{\"attributes\":{\"callback\":null},\"id\":\"11793\",\"type\":\"DataRange1d\"},{\"attributes\":{},\"id\":\"11797\",\"type\":\"LinearScale\"},{\"attributes\":{},\"id\":\"11812\",\"type\":\"WheelZoomTool\"},{\"attributes\":{},\"id\":\"12225\",\"type\":\"UnionRenderers\"},{\"attributes\":{},\"id\":\"11799\",\"type\":\"LinearScale\"},{\"attributes\":{},\"id\":\"11814\",\"type\":\"SaveTool\"},{\"attributes\":{\"callback\":null},\"id\":\"11795\",\"type\":\"DataRange1d\"},{\"attributes\":{\"overlay\":{\"id\":\"11819\",\"type\":\"BoxAnnotation\"}},\"id\":\"11813\",\"type\":\"BoxZoomTool\"},{\"attributes\":{\"axis_label\":\"x\",\"formatter\":{\"id\":\"12223\",\"type\":\"BasicTickFormatter\"},\"plot\":{\"id\":\"11792\",\"subtype\":\"Figure\",\"type\":\"Plot\"},\"ticker\":{\"id\":\"11802\",\"type\":\"BasicTicker\"}},\"id\":\"11801\",\"type\":\"LinearAxis\"},{\"attributes\":{},\"id\":\"11815\",\"type\":\"ResetTool\"},{\"attributes\":{},\"id\":\"11816\",\"type\":\"HelpTool\"},{\"attributes\":{\"active_drag\":\"auto\",\"active_inspect\":\"auto\",\"active_multi\":null,\"active_scroll\":\"auto\",\"active_tap\":\"auto\",\"tools\":[{\"id\":\"11811\",\"type\":\"PanTool\"},{\"id\":\"11812\",\"type\":\"WheelZoomTool\"},{\"id\":\"11813\",\"type\":\"BoxZoomTool\"},{\"id\":\"11814\",\"type\":\"SaveTool\"},{\"id\":\"11815\",\"type\":\"ResetTool\"},{\"id\":\"11816\",\"type\":\"HelpTool\"}]},\"id\":\"11817\",\"type\":\"Toolbar\"},{\"attributes\":{\"bottom_units\":\"screen\",\"fill_alpha\":{\"value\":0.5},\"fill_color\":{\"value\":\"lightgrey\"},\"left_units\":\"screen\",\"level\":\"overlay\",\"line_alpha\":{\"value\":1.0},\"line_color\":{\"value\":\"black\"},\"line_dash\":[4,4],\"line_width\":{\"value\":2},\"plot\":null,\"render_mode\":\"css\",\"right_units\":\"screen\",\"top_units\":\"screen\"},\"id\":\"11819\",\"type\":\"BoxAnnotation\"},{\"attributes\":{},\"id\":\"11802\",\"type\":\"BasicTicker\"},{\"attributes\":{},\"id\":\"12223\",\"type\":\"BasicTickFormatter\"}],\"root_ids\":[\"11792\"]},\"title\":\"Bokeh Application\",\"version\":\"1.0.2\"}};\n",
       "  var render_items = [{\"docid\":\"373863bb-d64c-49a0-96b6-a78353a1963d\",\"roots\":{\"11792\":\"6980ce47-96c8-4b32-a17c-1b6c956e06d9\"}}];\n",
       "  root.Bokeh.embed.embed_items_notebook(docs_json, render_items);\n",
       "\n",
       "  }\n",
       "  if (root.Bokeh !== undefined) {\n",
       "    embed_document(root);\n",
       "  } else {\n",
       "    var attempts = 0;\n",
       "    var timer = setInterval(function(root) {\n",
       "      if (root.Bokeh !== undefined) {\n",
       "        embed_document(root);\n",
       "        clearInterval(timer);\n",
       "      }\n",
       "      attempts++;\n",
       "      if (attempts > 100) {\n",
       "        console.log(\"Bokeh: ERROR: Unable to run BokehJS code because BokehJS library is missing\");\n",
       "        clearInterval(timer);\n",
       "      }\n",
       "    }, 10, root)\n",
       "  }\n",
       "})(window);"
      ],
      "application/vnd.bokehjs_exec.v0+json": ""
     },
     "metadata": {
      "application/vnd.bokehjs_exec.v0+json": {
       "id": "11792"
      }
     },
     "output_type": "display_data"
    }
   ],
   "source": [
    "# Import numpy as np\n",
    "import numpy as np\n",
    "\n",
    "p=figure(x_axis_label='x', y_axis_label='y')\n",
    "\n",
    "# Create array using np.linspace: x\n",
    "x = np.linspace(0, 5, 100)\n",
    "\n",
    "# Create array using np.cos: y\n",
    "y = np.cos(x)\n",
    "\n",
    "# Add circles at x and y\n",
    "p.circle(x, y)\n",
    "\n",
    "# Specify the name of the output file and show the result\n",
    "#output_file('numpy.html')\n",
    "show(p)"
   ]
  },
  {
   "cell_type": "markdown",
   "metadata": {},
   "source": [
    "### Plotting data from Pandas DataFrames"
   ]
  },
  {
   "cell_type": "markdown",
   "metadata": {},
   "source": [
    "You can create Bokeh plots from Pandas DataFrames by passing column selections to the glyph functions.\n",
    "\n",
    "Bokeh can plot floating point numbers, integers, and datetime data types. In this example, you will read a CSV file containing information on 392 automobiles manufactured in the US, Europe and Asia from 1970 to 1982.\n",
    "\n",
    "The CSV file is provided for you as 'auto.csv'.\n",
    "\n",
    "Your job is to plot miles-per-gallon (`mpg`) vs horsepower (`hp`) by passing Pandas column selections into the `p.circle()` function. Additionally, each glyph will be colored according to values in the color column."
   ]
  },
  {
   "cell_type": "code",
   "execution_count": 33,
   "metadata": {},
   "outputs": [
    {
     "data": {
      "text/html": [
       "\n",
       "\n",
       "\n",
       "\n",
       "\n",
       "\n",
       "  <div class=\"bk-root\" id=\"1baf00b2-5de8-489a-82e5-259541bf426d\"></div>\n"
      ]
     },
     "metadata": {},
     "output_type": "display_data"
    },
    {
     "data": {
      "application/javascript": [
       "(function(root) {\n",
       "  function embed_document(root) {\n",
       "    \n",
       "  var docs_json = {\"ccb9635a-6e93-4ef2-908b-5895e727af0f\":{\"roots\":{\"references\":[{\"attributes\":{\"below\":[{\"id\":\"13541\",\"type\":\"LinearAxis\"}],\"left\":[{\"id\":\"13546\",\"type\":\"LinearAxis\"}],\"renderers\":[{\"id\":\"13541\",\"type\":\"LinearAxis\"},{\"id\":\"13545\",\"type\":\"Grid\"},{\"id\":\"13546\",\"type\":\"LinearAxis\"},{\"id\":\"13550\",\"type\":\"Grid\"},{\"id\":\"13559\",\"type\":\"BoxAnnotation\"},{\"id\":\"13569\",\"type\":\"GlyphRenderer\"}],\"title\":{\"id\":\"13986\",\"type\":\"Title\"},\"toolbar\":{\"id\":\"13557\",\"type\":\"Toolbar\"},\"x_range\":{\"id\":\"13533\",\"type\":\"DataRange1d\"},\"x_scale\":{\"id\":\"13537\",\"type\":\"LinearScale\"},\"y_range\":{\"id\":\"13535\",\"type\":\"DataRange1d\"},\"y_scale\":{\"id\":\"13539\",\"type\":\"LinearScale\"}},\"id\":\"13532\",\"subtype\":\"Figure\",\"type\":\"Plot\"},{\"attributes\":{\"dimension\":1,\"plot\":{\"id\":\"13532\",\"subtype\":\"Figure\",\"type\":\"Plot\"},\"ticker\":{\"id\":\"13547\",\"type\":\"BasicTicker\"}},\"id\":\"13550\",\"type\":\"Grid\"},{\"attributes\":{},\"id\":\"13547\",\"type\":\"BasicTicker\"},{\"attributes\":{\"fill_alpha\":{\"value\":0.1},\"fill_color\":{\"value\":\"#1f77b4\"},\"line_alpha\":{\"value\":0.1},\"line_color\":{\"value\":\"#1f77b4\"},\"size\":{\"units\":\"screen\",\"value\":10},\"x\":{\"field\":\"x\"},\"y\":{\"field\":\"y\"}},\"id\":\"13568\",\"type\":\"Circle\"},{\"attributes\":{},\"id\":\"13539\",\"type\":\"LinearScale\"},{\"attributes\":{},\"id\":\"13537\",\"type\":\"LinearScale\"},{\"attributes\":{\"callback\":null,\"data\":{\"fill_color\":[\"blue\",\"blue\",\"red\",\"blue\",\"green\",\"red\",\"red\",\"green\",\"blue\",\"blue\",\"green\",\"blue\",\"blue\",\"blue\",\"blue\",\"blue\",\"green\",\"blue\",\"red\",\"red\",\"blue\",\"blue\",\"blue\",\"blue\",\"blue\",\"green\",\"red\",\"red\",\"blue\",\"red\",\"red\",\"blue\",\"blue\",\"blue\",\"green\",\"green\",\"blue\",\"blue\",\"blue\",\"blue\",\"red\",\"blue\",\"blue\",\"blue\",\"blue\",\"red\",\"red\",\"blue\",\"blue\",\"blue\",\"blue\",\"blue\",\"red\",\"blue\",\"green\",\"blue\",\"blue\",\"blue\",\"blue\",\"red\",\"red\",\"blue\",\"blue\",\"blue\",\"blue\",\"blue\",\"blue\",\"blue\",\"blue\",\"blue\",\"blue\",\"green\",\"blue\",\"blue\",\"red\",\"blue\",\"blue\",\"blue\",\"blue\",\"green\",\"green\",\"green\",\"green\",\"blue\",\"blue\",\"green\",\"blue\",\"blue\",\"red\",\"blue\",\"blue\",\"blue\",\"blue\",\"red\",\"red\",\"blue\",\"red\",\"blue\",\"blue\",\"blue\",\"green\",\"green\",\"blue\",\"blue\",\"green\",\"green\",\"blue\",\"blue\",\"red\",\"green\",\"green\",\"blue\",\"blue\",\"blue\",\"green\",\"blue\",\"red\",\"blue\",\"blue\",\"blue\",\"green\",\"red\",\"blue\",\"green\",\"blue\",\"green\",\"green\",\"blue\",\"blue\",\"blue\",\"blue\",\"blue\",\"green\",\"blue\",\"blue\",\"red\",\"blue\",\"green\",\"blue\",\"blue\",\"green\",\"blue\",\"blue\",\"blue\",\"blue\",\"red\",\"green\",\"blue\",\"blue\",\"green\",\"blue\",\"blue\",\"green\",\"red\",\"blue\",\"blue\",\"blue\",\"red\",\"red\",\"blue\",\"red\",\"blue\",\"blue\",\"green\",\"green\",\"green\",\"blue\",\"red\",\"blue\",\"red\",\"blue\",\"red\",\"blue\",\"blue\",\"blue\",\"blue\",\"blue\",\"green\",\"blue\",\"blue\",\"blue\",\"green\",\"blue\",\"green\",\"blue\",\"blue\",\"green\",\"blue\",\"red\",\"green\",\"blue\",\"green\",\"blue\",\"blue\",\"blue\",\"blue\",\"blue\",\"blue\",\"red\",\"blue\",\"blue\",\"green\",\"blue\",\"red\",\"red\",\"red\",\"blue\",\"blue\",\"blue\",\"blue\",\"red\",\"red\",\"red\",\"blue\",\"blue\",\"red\",\"red\",\"red\",\"blue\",\"blue\",\"blue\",\"blue\",\"blue\",\"red\",\"blue\",\"blue\",\"blue\",\"red\",\"blue\",\"blue\",\"blue\",\"blue\",\"green\",\"blue\",\"blue\",\"blue\",\"blue\",\"blue\",\"red\",\"green\",\"green\",\"red\",\"blue\",\"red\",\"blue\",\"blue\",\"blue\",\"red\",\"red\",\"blue\",\"blue\",\"red\",\"blue\",\"red\",\"blue\",\"red\",\"blue\",\"green\",\"red\",\"blue\",\"blue\",\"blue\",\"green\",\"blue\",\"blue\",\"green\",\"blue\",\"blue\",\"blue\",\"blue\",\"blue\",\"blue\",\"blue\",\"green\",\"blue\",\"red\",\"blue\",\"red\",\"green\",\"blue\",\"blue\",\"red\",\"red\",\"blue\",\"blue\",\"red\",\"green\",\"green\",\"blue\",\"blue\",\"red\",\"blue\",\"blue\",\"blue\",\"blue\",\"red\",\"blue\",\"green\",\"red\",\"red\",\"green\",\"blue\",\"blue\",\"green\",\"blue\",\"green\",\"blue\",\"blue\",\"green\",\"blue\",\"blue\",\"green\",\"blue\",\"blue\",\"blue\",\"blue\",\"blue\",\"blue\",\"green\",\"blue\",\"blue\",\"red\",\"blue\",\"red\",\"blue\",\"blue\",\"blue\",\"red\",\"blue\",\"red\",\"green\",\"blue\",\"blue\",\"blue\",\"blue\",\"red\",\"blue\",\"blue\",\"blue\",\"blue\",\"blue\",\"blue\",\"blue\",\"blue\",\"blue\",\"blue\",\"blue\",\"blue\",\"blue\",\"blue\",\"blue\",\"blue\",\"green\",\"green\",\"red\",\"green\",\"red\",\"blue\",\"red\",\"blue\",\"blue\",\"green\",\"green\",\"blue\",\"green\",\"blue\",\"red\",\"blue\",\"blue\",\"red\",\"red\",\"blue\",\"blue\",\"blue\",\"blue\",\"blue\",\"green\",\"green\",\"blue\",\"blue\",\"blue\",\"green\",\"blue\",\"red\",\"red\",\"red\",\"red\",\"blue\",\"blue\",\"red\",\"blue\",\"blue\"],\"line_color\":[\"blue\",\"blue\",\"red\",\"blue\",\"green\",\"red\",\"red\",\"green\",\"blue\",\"blue\",\"green\",\"blue\",\"blue\",\"blue\",\"blue\",\"blue\",\"green\",\"blue\",\"red\",\"red\",\"blue\",\"blue\",\"blue\",\"blue\",\"blue\",\"green\",\"red\",\"red\",\"blue\",\"red\",\"red\",\"blue\",\"blue\",\"blue\",\"green\",\"green\",\"blue\",\"blue\",\"blue\",\"blue\",\"red\",\"blue\",\"blue\",\"blue\",\"blue\",\"red\",\"red\",\"blue\",\"blue\",\"blue\",\"blue\",\"blue\",\"red\",\"blue\",\"green\",\"blue\",\"blue\",\"blue\",\"blue\",\"red\",\"red\",\"blue\",\"blue\",\"blue\",\"blue\",\"blue\",\"blue\",\"blue\",\"blue\",\"blue\",\"blue\",\"green\",\"blue\",\"blue\",\"red\",\"blue\",\"blue\",\"blue\",\"blue\",\"green\",\"green\",\"green\",\"green\",\"blue\",\"blue\",\"green\",\"blue\",\"blue\",\"red\",\"blue\",\"blue\",\"blue\",\"blue\",\"red\",\"red\",\"blue\",\"red\",\"blue\",\"blue\",\"blue\",\"green\",\"green\",\"blue\",\"blue\",\"green\",\"green\",\"blue\",\"blue\",\"red\",\"green\",\"green\",\"blue\",\"blue\",\"blue\",\"green\",\"blue\",\"red\",\"blue\",\"blue\",\"blue\",\"green\",\"red\",\"blue\",\"green\",\"blue\",\"green\",\"green\",\"blue\",\"blue\",\"blue\",\"blue\",\"blue\",\"green\",\"blue\",\"blue\",\"red\",\"blue\",\"green\",\"blue\",\"blue\",\"green\",\"blue\",\"blue\",\"blue\",\"blue\",\"red\",\"green\",\"blue\",\"blue\",\"green\",\"blue\",\"blue\",\"green\",\"red\",\"blue\",\"blue\",\"blue\",\"red\",\"red\",\"blue\",\"red\",\"blue\",\"blue\",\"green\",\"green\",\"green\",\"blue\",\"red\",\"blue\",\"red\",\"blue\",\"red\",\"blue\",\"blue\",\"blue\",\"blue\",\"blue\",\"green\",\"blue\",\"blue\",\"blue\",\"green\",\"blue\",\"green\",\"blue\",\"blue\",\"green\",\"blue\",\"red\",\"green\",\"blue\",\"green\",\"blue\",\"blue\",\"blue\",\"blue\",\"blue\",\"blue\",\"red\",\"blue\",\"blue\",\"green\",\"blue\",\"red\",\"red\",\"red\",\"blue\",\"blue\",\"blue\",\"blue\",\"red\",\"red\",\"red\",\"blue\",\"blue\",\"red\",\"red\",\"red\",\"blue\",\"blue\",\"blue\",\"blue\",\"blue\",\"red\",\"blue\",\"blue\",\"blue\",\"red\",\"blue\",\"blue\",\"blue\",\"blue\",\"green\",\"blue\",\"blue\",\"blue\",\"blue\",\"blue\",\"red\",\"green\",\"green\",\"red\",\"blue\",\"red\",\"blue\",\"blue\",\"blue\",\"red\",\"red\",\"blue\",\"blue\",\"red\",\"blue\",\"red\",\"blue\",\"red\",\"blue\",\"green\",\"red\",\"blue\",\"blue\",\"blue\",\"green\",\"blue\",\"blue\",\"green\",\"blue\",\"blue\",\"blue\",\"blue\",\"blue\",\"blue\",\"blue\",\"green\",\"blue\",\"red\",\"blue\",\"red\",\"green\",\"blue\",\"blue\",\"red\",\"red\",\"blue\",\"blue\",\"red\",\"green\",\"green\",\"blue\",\"blue\",\"red\",\"blue\",\"blue\",\"blue\",\"blue\",\"red\",\"blue\",\"green\",\"red\",\"red\",\"green\",\"blue\",\"blue\",\"green\",\"blue\",\"green\",\"blue\",\"blue\",\"green\",\"blue\",\"blue\",\"green\",\"blue\",\"blue\",\"blue\",\"blue\",\"blue\",\"blue\",\"green\",\"blue\",\"blue\",\"red\",\"blue\",\"red\",\"blue\",\"blue\",\"blue\",\"red\",\"blue\",\"red\",\"green\",\"blue\",\"blue\",\"blue\",\"blue\",\"red\",\"blue\",\"blue\",\"blue\",\"blue\",\"blue\",\"blue\",\"blue\",\"blue\",\"blue\",\"blue\",\"blue\",\"blue\",\"blue\",\"blue\",\"blue\",\"blue\",\"green\",\"green\",\"red\",\"green\",\"red\",\"blue\",\"red\",\"blue\",\"blue\",\"green\",\"green\",\"blue\",\"green\",\"blue\",\"red\",\"blue\",\"blue\",\"red\",\"red\",\"blue\",\"blue\",\"blue\",\"blue\",\"blue\",\"green\",\"green\",\"blue\",\"blue\",\"blue\",\"green\",\"blue\",\"red\",\"red\",\"red\",\"red\",\"blue\",\"blue\",\"red\",\"blue\",\"blue\"],\"x\":[88,193,60,98,78,100,75,76,130,140,52,88,84,148,150,130,58,82,65,110,95,110,140,170,78,90,96,95,110,75,132,150,83,85,86,75,140,139,70,52,60,84,138,180,65,67,97,150,70,100,180,129,95,90,83,75,100,85,112,67,65,88,100,75,100,70,145,110,210,80,145,69,150,198,120,92,90,115,95,75,76,67,71,115,84,91,150,215,67,175,60,175,110,95,68,150,67,95,110,105,102,110,89,66,88,75,78,105,70,103,60,150,72,170,90,110,58,152,145,139,83,69,150,67,80,71,46,105,90,110,175,80,74,150,150,65,100,48,105,90,48,105,105,88,100,75,113,190,92,80,165,180,71,97,72,105,90,75,88,155,68,90,84,87,112,87,125,108,142,97,105,75,137,150,88,145,63,95,140,88,85,70,85,115,86,79,120,120,65,110,220,115,170,100,90,225,85,65,97,90,90,49,110,70,92,53,100,190,63,90,67,65,75,100,110,60,93,88,150,100,150,88,225,68,70,208,105,74,90,110,72,97,88,88,129,85,86,150,70,48,77,65,175,90,150,110,130,53,65,158,95,61,215,100,145,68,150,88,67,105,175,160,74,135,100,67,198,180,215,100,225,155,170,81,85,95,80,92,70,149,84,97,52,72,85,52,95,71,140,100,96,150,75,107,110,75,97,133,70,67,112,145,115,98,70,78,230,63,76,105,95,62,165,165,160,190,95,180,78,120,80,75,68,67,95,140,110,72,150,95,54,153,130,170,86,97,90,145,86,79,165,83,64,92,72,140,150,96,150,80,130,100,125,90,94,76,90,150,97,85,81,78,46,84,70,153,116,100,167,88,88,88,200,125,92,110,69,67,90,150,90,71,105,62,88,122,65,88,90,68,110,88],\"y\":{\"__ndarray__\":\"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\",\"dtype\":\"float64\",\"shape\":[392]}},\"selected\":{\"id\":\"13991\",\"type\":\"Selection\"},\"selection_policy\":{\"id\":\"13992\",\"type\":\"UnionRenderers\"}},\"id\":\"13566\",\"type\":\"ColumnDataSource\"},{\"attributes\":{},\"id\":\"13992\",\"type\":\"UnionRenderers\"},{\"attributes\":{\"axis_label\":\"HP\",\"formatter\":{\"id\":\"13990\",\"type\":\"BasicTickFormatter\"},\"plot\":{\"id\":\"13532\",\"subtype\":\"Figure\",\"type\":\"Plot\"},\"ticker\":{\"id\":\"13542\",\"type\":\"BasicTicker\"}},\"id\":\"13541\",\"type\":\"LinearAxis\"},{\"attributes\":{},\"id\":\"13988\",\"type\":\"BasicTickFormatter\"},{\"attributes\":{},\"id\":\"13552\",\"type\":\"WheelZoomTool\"},{\"attributes\":{\"data_source\":{\"id\":\"13566\",\"type\":\"ColumnDataSource\"},\"glyph\":{\"id\":\"13567\",\"type\":\"Circle\"},\"hover_glyph\":null,\"muted_glyph\":null,\"nonselection_glyph\":{\"id\":\"13568\",\"type\":\"Circle\"},\"selection_glyph\":null,\"view\":{\"id\":\"13570\",\"type\":\"CDSView\"}},\"id\":\"13569\",\"type\":\"GlyphRenderer\"},{\"attributes\":{},\"id\":\"13556\",\"type\":\"HelpTool\"},{\"attributes\":{\"axis_label\":\"MPG\",\"formatter\":{\"id\":\"13988\",\"type\":\"BasicTickFormatter\"},\"plot\":{\"id\":\"13532\",\"subtype\":\"Figure\",\"type\":\"Plot\"},\"ticker\":{\"id\":\"13547\",\"type\":\"BasicTicker\"}},\"id\":\"13546\",\"type\":\"LinearAxis\"},{\"attributes\":{\"plot\":null,\"text\":\"\"},\"id\":\"13986\",\"type\":\"Title\"},{\"attributes\":{\"overlay\":{\"id\":\"13559\",\"type\":\"BoxAnnotation\"}},\"id\":\"13553\",\"type\":\"BoxZoomTool\"},{\"attributes\":{},\"id\":\"13554\",\"type\":\"SaveTool\"},{\"attributes\":{},\"id\":\"13991\",\"type\":\"Selection\"},{\"attributes\":{\"bottom_units\":\"screen\",\"fill_alpha\":{\"value\":0.5},\"fill_color\":{\"value\":\"lightgrey\"},\"left_units\":\"screen\",\"level\":\"overlay\",\"line_alpha\":{\"value\":1.0},\"line_color\":{\"value\":\"black\"},\"line_dash\":[4,4],\"line_width\":{\"value\":2},\"plot\":null,\"render_mode\":\"css\",\"right_units\":\"screen\",\"top_units\":\"screen\"},\"id\":\"13559\",\"type\":\"BoxAnnotation\"},{\"attributes\":{\"callback\":null},\"id\":\"13535\",\"type\":\"DataRange1d\"},{\"attributes\":{\"callback\":null},\"id\":\"13533\",\"type\":\"DataRange1d\"},{\"attributes\":{\"active_drag\":\"auto\",\"active_inspect\":\"auto\",\"active_multi\":null,\"active_scroll\":\"auto\",\"active_tap\":\"auto\",\"tools\":[{\"id\":\"13551\",\"type\":\"PanTool\"},{\"id\":\"13552\",\"type\":\"WheelZoomTool\"},{\"id\":\"13553\",\"type\":\"BoxZoomTool\"},{\"id\":\"13554\",\"type\":\"SaveTool\"},{\"id\":\"13555\",\"type\":\"ResetTool\"},{\"id\":\"13556\",\"type\":\"HelpTool\"}]},\"id\":\"13557\",\"type\":\"Toolbar\"},{\"attributes\":{\"fill_color\":{\"field\":\"fill_color\"},\"line_color\":{\"field\":\"line_color\"},\"size\":{\"units\":\"screen\",\"value\":10},\"x\":{\"field\":\"x\"},\"y\":{\"field\":\"y\"}},\"id\":\"13567\",\"type\":\"Circle\"},{\"attributes\":{},\"id\":\"13555\",\"type\":\"ResetTool\"},{\"attributes\":{\"plot\":{\"id\":\"13532\",\"subtype\":\"Figure\",\"type\":\"Plot\"},\"ticker\":{\"id\":\"13542\",\"type\":\"BasicTicker\"}},\"id\":\"13545\",\"type\":\"Grid\"},{\"attributes\":{},\"id\":\"13542\",\"type\":\"BasicTicker\"},{\"attributes\":{},\"id\":\"13551\",\"type\":\"PanTool\"},{\"attributes\":{},\"id\":\"13990\",\"type\":\"BasicTickFormatter\"},{\"attributes\":{\"source\":{\"id\":\"13566\",\"type\":\"ColumnDataSource\"}},\"id\":\"13570\",\"type\":\"CDSView\"}],\"root_ids\":[\"13532\"]},\"title\":\"Bokeh Application\",\"version\":\"1.0.2\"}};\n",
       "  var render_items = [{\"docid\":\"ccb9635a-6e93-4ef2-908b-5895e727af0f\",\"roots\":{\"13532\":\"1baf00b2-5de8-489a-82e5-259541bf426d\"}}];\n",
       "  root.Bokeh.embed.embed_items_notebook(docs_json, render_items);\n",
       "\n",
       "  }\n",
       "  if (root.Bokeh !== undefined) {\n",
       "    embed_document(root);\n",
       "  } else {\n",
       "    var attempts = 0;\n",
       "    var timer = setInterval(function(root) {\n",
       "      if (root.Bokeh !== undefined) {\n",
       "        embed_document(root);\n",
       "        clearInterval(timer);\n",
       "      }\n",
       "      attempts++;\n",
       "      if (attempts > 100) {\n",
       "        console.log(\"Bokeh: ERROR: Unable to run BokehJS code because BokehJS library is missing\");\n",
       "        clearInterval(timer);\n",
       "      }\n",
       "    }, 10, root)\n",
       "  }\n",
       "})(window);"
      ],
      "application/vnd.bokehjs_exec.v0+json": ""
     },
     "metadata": {
      "application/vnd.bokehjs_exec.v0+json": {
       "id": "13532"
      }
     },
     "output_type": "display_data"
    }
   ],
   "source": [
    "# Read in the CSV file: df\n",
    "df = pd.read_csv('auto-mpg.csv')\n",
    "\n",
    "# Create the figure: p\n",
    "p = figure(x_axis_label='HP', y_axis_label='MPG')\n",
    "\n",
    "# Plot mpg vs hp by color\n",
    "p.circle(df['hp'], df['mpg'], color=df['color'], size=10)\n",
    "\n",
    "# Specify the name of the output file and show the result\n",
    "# output_file('auto-df.html')\n",
    "show(p)\n"
   ]
  },
  {
   "cell_type": "markdown",
   "metadata": {},
   "source": [
    "### The Bokeh ColumnDataSource"
   ]
  },
  {
   "cell_type": "code",
   "execution_count": 37,
   "metadata": {},
   "outputs": [
    {
     "data": {
      "text/html": [
       "\n",
       "\n",
       "\n",
       "\n",
       "\n",
       "\n",
       "  <div class=\"bk-root\" id=\"7eec9722-36ed-4412-a6d5-8f8d945a59b5\"></div>\n"
      ]
     },
     "metadata": {},
     "output_type": "display_data"
    },
    {
     "data": {
      "application/javascript": [
       "(function(root) {\n",
       "  function embed_document(root) {\n",
       "    \n",
       "  var docs_json = {\"e078edeb-2bfe-4c3a-b8c6-c086e922f89a\":{\"roots\":{\"references\":[{\"attributes\":{\"below\":[{\"id\":\"15346\",\"type\":\"DatetimeAxis\"}],\"left\":[{\"id\":\"15351\",\"type\":\"LinearAxis\"}],\"renderers\":[{\"id\":\"15346\",\"type\":\"DatetimeAxis\"},{\"id\":\"15350\",\"type\":\"Grid\"},{\"id\":\"15351\",\"type\":\"LinearAxis\"},{\"id\":\"15355\",\"type\":\"Grid\"},{\"id\":\"15364\",\"type\":\"BoxAnnotation\"},{\"id\":\"15375\",\"type\":\"GlyphRenderer\"}],\"title\":{\"id\":\"15812\",\"type\":\"Title\"},\"toolbar\":{\"id\":\"15362\",\"type\":\"Toolbar\"},\"x_range\":{\"id\":\"15338\",\"type\":\"DataRange1d\"},\"x_scale\":{\"id\":\"15342\",\"type\":\"LinearScale\"},\"y_range\":{\"id\":\"15340\",\"type\":\"DataRange1d\"},\"y_scale\":{\"id\":\"15344\",\"type\":\"LinearScale\"}},\"id\":\"15337\",\"subtype\":\"Figure\",\"type\":\"Plot\"},{\"attributes\":{\"bottom_units\":\"screen\",\"fill_alpha\":{\"value\":0.5},\"fill_color\":{\"value\":\"lightgrey\"},\"left_units\":\"screen\",\"level\":\"overlay\",\"line_alpha\":{\"value\":1.0},\"line_color\":{\"value\":\"black\"},\"line_dash\":[4,4],\"line_width\":{\"value\":2},\"plot\":null,\"render_mode\":\"css\",\"right_units\":\"screen\",\"top_units\":\"screen\"},\"id\":\"15364\",\"type\":\"BoxAnnotation\"},{\"attributes\":{\"months\":[0,6]},\"id\":\"15827\",\"type\":\"MonthsTicker\"},{\"attributes\":{},\"id\":\"15830\",\"type\":\"UnionRenderers\"},{\"attributes\":{},\"id\":\"15828\",\"type\":\"YearsTicker\"},{\"attributes\":{},\"id\":\"15816\",\"type\":\"DatetimeTickFormatter\"},{\"attributes\":{\"fill_color\":{\"field\":\"color\"},\"line_color\":{\"field\":\"color\"},\"size\":{\"units\":\"screen\",\"value\":8},\"x\":{\"field\":\"Year\"},\"y\":{\"field\":\"Time\"}},\"id\":\"15373\",\"type\":\"Circle\"},{\"attributes\":{},\"id\":\"15814\",\"type\":\"BasicTickFormatter\"},{\"attributes\":{},\"id\":\"15357\",\"type\":\"WheelZoomTool\"},{\"attributes\":{},\"id\":\"15829\",\"type\":\"Selection\"},{\"attributes\":{\"mantissas\":[1,2,5],\"max_interval\":500.0,\"num_minor_ticks\":0},\"id\":\"15817\",\"type\":\"AdaptiveTicker\"},{\"attributes\":{\"days\":[1,2,3,4,5,6,7,8,9,10,11,12,13,14,15,16,17,18,19,20,21,22,23,24,25,26,27,28,29,30,31]},\"id\":\"15820\",\"type\":\"DaysTicker\"},{\"attributes\":{},\"id\":\"15342\",\"type\":\"LinearScale\"},{\"attributes\":{\"callback\":null,\"data\":{\"Country\":[\"JAM\",\"JAM\",\"USA\",\"JAM\",\"TRI\",\"USA\",\"USA\",\"POR\",\"USA\",\"USA\",\"TRI\",\"BAR\",\"CAN\",\"NAM\",\"TRI\",\"GBR\",\"NAM\",\"USA\",\"USA\",\"GBR\",\"USA\",\"USA\",\"USA\",\"CAN\",\"GBR\",\"CUB\",\"BUL\",\"TRI\",\"JAM\",\"URS\",\"URS\",\"USA\",\"JAM\",\"USA\",\"JAM\",\"USA\",\"USA\",\"CUB\",\"CAN\",\"EUA\",\"USA\",\"GBR\",\"USA\",\"USA\",\"AUS\",\"USA\",\"JAM\",\"GBR\",\"USA\",\"USA\",\"PAN\",\"USA\",\"USA\",\"NED\",\"USA\",\"USA\",\"GER\",\"CAN\",\"GBR\",\"GER\",\"GBR\",\"USA\",\"NZL\",\"USA\",\"USA\",\"GBR\",\"USA\",\"USA\",\"USA\",\"RSA\",\"USA\",\"CAN\",\"USA\",\"USA\",\"AUS\",\"USA\",\"USA\",\"USA\",\"USA\",\"USA\",\"AUS\",\"USA\",\"GER\",\"HUN\",\"USA\"],\"Medal\":[\"GOLD\",\"SILVER\",\"BRONZE\",\"GOLD\",\"SILVER\",\"BRONZE\",\"GOLD\",\"SILVER\",\"BRONZE\",\"GOLD\",\"SILVER\",\"BRONZE\",\"GOLD\",\"SILVER\",\"BRONZE\",\"GOLD\",\"SILVER\",\"BRONZE\",\"GOLD\",\"SILVER\",\"BRONZE\",\"GOLD\",\"SILVER\",\"BRONZE\",\"GOLD\",\"SILVER\",\"BRONZE\",\"GOLD\",\"SILVER\",\"BRONZE\",\"GOLD\",\"SILVER\",\"BRONZE\",\"GOLD\",\"SILVER\",\"BRONZE\",\"GOLD\",\"SILVER\",\"BRONZE\",\"GOLD\",\"SILVER\",\"BRONZE\",\"GOLD\",\"SILVER\",\"BRONZE\",\"GOLD\",\"SILVER\",\"BRONZE\",\"GOLD\",\"SILVER\",\"BRONZE\",\"GOLD\",\"SILVER\",\"BRONZE\",\"GOLD\",\"SILVER\",\"BRONZE\",\"GOLD\",\"SILVER\",\"BRONZE\",\"GOLD\",\"SILVER\",\"BRONZE\",\"GOLD\",\"SILVER\",\"BRONZE\",\"GOLD\",\"SILVER\",\"BRONZE\",\"GOLD\",\"SILVER\",\"BRONZE\",\"GOLD\",\"SILVER\",\"BRONZE\",\"GOLD\",\"SILVER\",\"BRONZE\",\"GOLD\",\"SILVER\",\"BRONZE\",\"GOLD\",\"SILVER\",\"BRONZE\",\"BRONZE\"],\"Name\":[\"Usain Bolt\",\"Yohan Blake\",\"Justin Gatlin\",\"Usain Bolt\",\"Richard Thompson\",\"Walter Dix\",\"Justin Gatlin\",\"Francis Obikwelu\",\"Maurice Greene\",\"Maurice Greene\",\"Ato Boldon\",\"Obadele Thompson\",\"Donovan Bailey\",\"Frankie Fredericks\",\"Ato Boldon\",\"Linford Christie\",\"Frankie Fredericks\",\"Dennis Mitchell\",\"Carl Lewis\",\"Linford Christie\",\"Calvin Smith\",\"Carl Lewis\",\"Sam Graddy\",\"Ben Johnson\",\"Allan Wells\",\"Silvio Leonard Tartabull\",\"Petar Petrov\",\"Hasely Crawford\",\"Donald Quarrie\",\"Valery Borzov\",\"Valery Borzov\",\"Robert Taylor\",\"Lennox Miller\",\"Jim Hines\",\"Lennox Miller\",\"Charles Greene\",\"Bob Hayes\",\"Enrique Figuerola Camue\",\"Harry Jerome\",\"Armin Hary\",\"David Sime\",\"Peter Radford\",\"Bobby Joe Morrow\",\"W. Thane Baker\",\"Hector Hogan\",\"Lindy Remigino\",\"Herbert McKenley\",\"E. McDonald Bailey\",\"W. Harrison Dillard\",\"H. Norwood \\\"Barney\\\" Ewell\",\"Lloyd LaBeach\",\"Jesse Owens\",\"Ralph Metcalfe\",\"Martinus Osendarp\",\"T. \\\"Eddie\\\" Tolan\",\"Ralph Metcalfe\",\"Arthur Jonath\",\"Percy Williams\",\"John \\\"Jack\\\" London\",\"Georg Lammers\",\"Harold Abrahams\",\"Jackson Scholz\",\"Arthur Porritt\",\"Charles Paddock\",\"Morris Kirksey\",\"Harry Edward\",\"Ralph Craig\",\"Alvah Meyer\",\"Donald Lippincott\",\"Reginald Walker\",\"James Rector\",\"Robert Kerr\",\"Charles \\\"Archie\\\" Hahn\",\"Fay Moulton\",\"Nigel Barker\",\"Charles \\\"Archie\\\" Hahn\",\"Nathaniel Cartmell\",\"Bill Hogenson\",\"Frank Jarvis\",\"J. Walter Tewksbury\",\"Stanley Rowley\",\"Thomas Burke\",\"Fritz Hofmann\",\"Alojz Sokol\",\"Francis Lane\"],\"Time\":{\"__ndarray__\":\"w/UoXI9CI0AAAAAAAIAjQBSuR+F6lCNA4XoUrkdhI0BI4XoUrscjQFK4HoXr0SNAMzMzMzOzI0C4HoXrUbgjQD0K16NwvSNAPQrXo3C9I0B7FK5H4fojQBSuR+F6FCRArkfhehSuI0BI4XoUrscjQM3MzMzMzCNA7FG4HoXrI0AK16NwPQokQBSuR+F6FCRA16NwPQrXI0BxPQrXo/AjQHsUrkfh+iNAexSuR+H6I0DhehSuR2EkQHE9CtejcCRAAAAAAACAJEAAAAAAAIAkQEjhehSuxyRAH4XrUbgeJEApXI/C9SgkQEjhehSuRyRASOF6FK5HJEB7FK5H4XokQClcj8L1qCRAZmZmZmbmI0AUrkfhehQkQKRwPQrXIyRAAAAAAAAAJEBmZmZmZmYkQGZmZmZmZiRAZmZmZmZmJEBmZmZmZmYkQJqZmZmZmSRAAAAAAAAAJUAAAAAAAAAlQDMzMzMzMyVAzczMzMzMJEDNzMzMzMwkQM3MzMzMzCRAmpmZmZmZJEDNzMzMzMwkQM3MzMzMzCRAmpmZmZmZJEDNzMzMzMwkQAAAAAAAACVAmpmZmZmZJECamZmZmZkkQM3MzMzMzCRAmpmZmZmZJUDNzMzMzMwlQM3MzMzMzCVAMzMzMzMzJUCamZmZmZklQM3MzMzMzCVAmpmZmZmZJUDNzMzMzMwlQM3MzMzMzCVAmpmZmZmZJUDNzMzMzMwlQM3MzMzMzCVAmpmZmZmZJUAAAAAAAAAmQAAAAAAAACZAZmZmZmZmJkCamZmZmZkmQJqZmZmZmSZAAAAAAAAAJkBmZmZmZmYmQGZmZmZmZiZAAAAAAAAAJkAzMzMzMzMmQGZmZmZmZiZAAAAAAAAAKEBmZmZmZmYoQDMzMzMzMylAMzMzMzMzKUA=\",\"dtype\":\"float64\",\"shape\":[85]},\"Year\":{\"__ndarray__\":\"AAAADWlJc0IAAAANaUlzQgAAAA1pSXNCAABAXCpzcUIAAEBcKnNxQgAAQFwqc3FCAAAAV9c5b0IAAABX1zlvQgAAAFfXOW9CAACA9VmNa0IAAID1WY1rQgAAgPVZjWtCAAAAlNzgZ0IAAACU3OBnQgAAAJTc4GdCAACAMl80ZEIAAIAyXzRkQgAAgDJfNGRCAAAA0eGHYEIAAADR4YdgQgAAANHhh2BCAAAA38i2WUIAAADfyLZZQgAAAN/ItllCAAAAHM5dUkIAAAAczl1SQgAAABzOXVJCAAAAsqYJRkIAAACypglGQgAAALKmCUZCAAAAsMReLUIAAACwxF4tQgAAALDEXi1CAAAAaBFpLcIAAABoEWktwgAAAGgRaS3CAAAA4DkMRsIAAADgOQxGwgAAAOA5DEbCAAAAsxdfUsIAAACzF19SwgAAALMXX1LCAAAAdhK4WcIAAAB2ErhZwgAAAHYSuFnCAACAnIaIYMIAAICchohgwgAAgJyGiGDCAAAA/gM1ZMIAAAD+AzVkwgAAAP4DNWTCAACAInw6b8IAAIAifDpvwgAAgCJ8Om/CAAAAwnxzccIAAADCfHNxwgAAAMJ8c3HCAADAcrtJc8IAAMByu0lzwgAAwHK7SXPCAACAI/ofdcIAAIAj+h91wgAAgCP6H3XCAABA1Dj2dsIAAEDUOPZ2wgAAQNQ49nbCAADANbaiesIAAMA1tqJ6wgAAwDW2onrCAACA5vR4fMIAAIDm9Hh8wgAAgOb0eHzCAAAADOtjfcIAAAAM62N9wgAAAAzrY33CAABAlzNPfsIAAECXM09+wgAAQJczT37CAAAg8Y8SgMIAACDxjxKAwgAAIPGPEoDCAACASa/9gMIAAIBJr/2AwgAAgEmv/YDCAACASa/9gMI=\",\"dtype\":\"float64\",\"shape\":[85]},\"color\":[\"goldenrod\",\"silver\",\"saddlebrown\",\"goldenrod\",\"silver\",\"saddlebrown\",\"goldenrod\",\"silver\",\"saddlebrown\",\"goldenrod\",\"silver\",\"saddlebrown\",\"goldenrod\",\"silver\",\"saddlebrown\",\"goldenrod\",\"silver\",\"saddlebrown\",\"goldenrod\",\"silver\",\"saddlebrown\",\"goldenrod\",\"silver\",\"saddlebrown\",\"goldenrod\",\"silver\",\"saddlebrown\",\"goldenrod\",\"silver\",\"saddlebrown\",\"goldenrod\",\"silver\",\"saddlebrown\",\"goldenrod\",\"silver\",\"saddlebrown\",\"goldenrod\",\"silver\",\"saddlebrown\",\"goldenrod\",\"silver\",\"saddlebrown\",\"goldenrod\",\"silver\",\"saddlebrown\",\"goldenrod\",\"silver\",\"saddlebrown\",\"goldenrod\",\"silver\",\"saddlebrown\",\"goldenrod\",\"silver\",\"saddlebrown\",\"goldenrod\",\"silver\",\"saddlebrown\",\"goldenrod\",\"silver\",\"saddlebrown\",\"goldenrod\",\"silver\",\"saddlebrown\",\"goldenrod\",\"silver\",\"saddlebrown\",\"goldenrod\",\"silver\",\"saddlebrown\",\"goldenrod\",\"silver\",\"saddlebrown\",\"goldenrod\",\"silver\",\"saddlebrown\",\"goldenrod\",\"silver\",\"saddlebrown\",\"goldenrod\",\"silver\",\"saddlebrown\",\"goldenrod\",\"silver\",\"saddlebrown\",\"saddlebrown\"],\"index\":[0,1,2,3,4,5,6,7,8,9,10,11,12,13,14,15,16,17,18,19,20,21,22,23,24,25,26,27,28,29,30,31,32,33,34,35,36,37,38,39,40,41,42,43,44,45,46,47,48,49,50,51,52,53,54,55,56,57,58,59,60,61,62,63,64,65,66,67,68,69,70,71,72,73,74,75,76,77,78,79,80,81,82,83,84]},\"selected\":{\"id\":\"15829\",\"type\":\"Selection\"},\"selection_policy\":{\"id\":\"15830\",\"type\":\"UnionRenderers\"}},\"id\":\"15371\",\"type\":\"ColumnDataSource\"},{\"attributes\":{\"callback\":null},\"id\":\"15338\",\"type\":\"DataRange1d\"},{\"attributes\":{\"base\":24,\"mantissas\":[1,2,4,6,8,12],\"max_interval\":43200000.0,\"min_interval\":3600000.0,\"num_minor_ticks\":0},\"id\":\"15819\",\"type\":\"AdaptiveTicker\"},{\"attributes\":{\"base\":60,\"mantissas\":[1,2,5,10,15,20,30],\"max_interval\":1800000.0,\"min_interval\":1000.0,\"num_minor_ticks\":0},\"id\":\"15818\",\"type\":\"AdaptiveTicker\"},{\"attributes\":{},\"id\":\"15359\",\"type\":\"SaveTool\"},{\"attributes\":{\"plot\":{\"id\":\"15337\",\"subtype\":\"Figure\",\"type\":\"Plot\"},\"ticker\":{\"id\":\"15347\",\"type\":\"DatetimeTicker\"}},\"id\":\"15350\",\"type\":\"Grid\"},{\"attributes\":{},\"id\":\"15360\",\"type\":\"ResetTool\"},{\"attributes\":{\"days\":[1,4,7,10,13,16,19,22,25,28]},\"id\":\"15821\",\"type\":\"DaysTicker\"},{\"attributes\":{},\"id\":\"15361\",\"type\":\"HelpTool\"},{\"attributes\":{\"plot\":null,\"text\":\"\"},\"id\":\"15812\",\"type\":\"Title\"},{\"attributes\":{\"days\":[1,15]},\"id\":\"15823\",\"type\":\"DaysTicker\"},{\"attributes\":{\"source\":{\"id\":\"15371\",\"type\":\"ColumnDataSource\"}},\"id\":\"15376\",\"type\":\"CDSView\"},{\"attributes\":{\"days\":[1,8,15,22]},\"id\":\"15822\",\"type\":\"DaysTicker\"},{\"attributes\":{\"dimension\":1,\"plot\":{\"id\":\"15337\",\"subtype\":\"Figure\",\"type\":\"Plot\"},\"ticker\":{\"id\":\"15352\",\"type\":\"BasicTicker\"}},\"id\":\"15355\",\"type\":\"Grid\"},{\"attributes\":{\"months\":[0,1,2,3,4,5,6,7,8,9,10,11]},\"id\":\"15824\",\"type\":\"MonthsTicker\"},{\"attributes\":{\"months\":[0,4,8]},\"id\":\"15826\",\"type\":\"MonthsTicker\"},{\"attributes\":{},\"id\":\"15352\",\"type\":\"BasicTicker\"},{\"attributes\":{\"fill_alpha\":{\"value\":0.1},\"fill_color\":{\"value\":\"#1f77b4\"},\"line_alpha\":{\"value\":0.1},\"line_color\":{\"value\":\"#1f77b4\"},\"size\":{\"units\":\"screen\",\"value\":8},\"x\":{\"field\":\"Year\"},\"y\":{\"field\":\"Time\"}},\"id\":\"15374\",\"type\":\"Circle\"},{\"attributes\":{\"months\":[0,2,4,6,8,10]},\"id\":\"15825\",\"type\":\"MonthsTicker\"},{\"attributes\":{\"data_source\":{\"id\":\"15371\",\"type\":\"ColumnDataSource\"},\"glyph\":{\"id\":\"15373\",\"type\":\"Circle\"},\"hover_glyph\":null,\"muted_glyph\":null,\"nonselection_glyph\":{\"id\":\"15374\",\"type\":\"Circle\"},\"selection_glyph\":null,\"view\":{\"id\":\"15376\",\"type\":\"CDSView\"}},\"id\":\"15375\",\"type\":\"GlyphRenderer\"},{\"attributes\":{\"overlay\":{\"id\":\"15364\",\"type\":\"BoxAnnotation\"}},\"id\":\"15358\",\"type\":\"BoxZoomTool\"},{\"attributes\":{\"callback\":null},\"id\":\"15340\",\"type\":\"DataRange1d\"},{\"attributes\":{\"axis_label\":\"Time\",\"formatter\":{\"id\":\"15814\",\"type\":\"BasicTickFormatter\"},\"plot\":{\"id\":\"15337\",\"subtype\":\"Figure\",\"type\":\"Plot\"},\"ticker\":{\"id\":\"15352\",\"type\":\"BasicTicker\"}},\"id\":\"15351\",\"type\":\"LinearAxis\"},{\"attributes\":{},\"id\":\"15344\",\"type\":\"LinearScale\"},{\"attributes\":{\"active_drag\":\"auto\",\"active_inspect\":\"auto\",\"active_multi\":null,\"active_scroll\":\"auto\",\"active_tap\":\"auto\",\"tools\":[{\"id\":\"15356\",\"type\":\"PanTool\"},{\"id\":\"15357\",\"type\":\"WheelZoomTool\"},{\"id\":\"15358\",\"type\":\"BoxZoomTool\"},{\"id\":\"15359\",\"type\":\"SaveTool\"},{\"id\":\"15360\",\"type\":\"ResetTool\"},{\"id\":\"15361\",\"type\":\"HelpTool\"}]},\"id\":\"15362\",\"type\":\"Toolbar\"},{\"attributes\":{\"num_minor_ticks\":5,\"tickers\":[{\"id\":\"15817\",\"type\":\"AdaptiveTicker\"},{\"id\":\"15818\",\"type\":\"AdaptiveTicker\"},{\"id\":\"15819\",\"type\":\"AdaptiveTicker\"},{\"id\":\"15820\",\"type\":\"DaysTicker\"},{\"id\":\"15821\",\"type\":\"DaysTicker\"},{\"id\":\"15822\",\"type\":\"DaysTicker\"},{\"id\":\"15823\",\"type\":\"DaysTicker\"},{\"id\":\"15824\",\"type\":\"MonthsTicker\"},{\"id\":\"15825\",\"type\":\"MonthsTicker\"},{\"id\":\"15826\",\"type\":\"MonthsTicker\"},{\"id\":\"15827\",\"type\":\"MonthsTicker\"},{\"id\":\"15828\",\"type\":\"YearsTicker\"}]},\"id\":\"15347\",\"type\":\"DatetimeTicker\"},{\"attributes\":{},\"id\":\"15356\",\"type\":\"PanTool\"},{\"attributes\":{\"axis_label\":\"Year\",\"formatter\":{\"id\":\"15816\",\"type\":\"DatetimeTickFormatter\"},\"plot\":{\"id\":\"15337\",\"subtype\":\"Figure\",\"type\":\"Plot\"},\"ticker\":{\"id\":\"15347\",\"type\":\"DatetimeTicker\"}},\"id\":\"15346\",\"type\":\"DatetimeAxis\"}],\"root_ids\":[\"15337\"]},\"title\":\"Bokeh Application\",\"version\":\"1.0.2\"}};\n",
       "  var render_items = [{\"docid\":\"e078edeb-2bfe-4c3a-b8c6-c086e922f89a\",\"roots\":{\"15337\":\"7eec9722-36ed-4412-a6d5-8f8d945a59b5\"}}];\n",
       "  root.Bokeh.embed.embed_items_notebook(docs_json, render_items);\n",
       "\n",
       "  }\n",
       "  if (root.Bokeh !== undefined) {\n",
       "    embed_document(root);\n",
       "  } else {\n",
       "    var attempts = 0;\n",
       "    var timer = setInterval(function(root) {\n",
       "      if (root.Bokeh !== undefined) {\n",
       "        embed_document(root);\n",
       "        clearInterval(timer);\n",
       "      }\n",
       "      attempts++;\n",
       "      if (attempts > 100) {\n",
       "        console.log(\"Bokeh: ERROR: Unable to run BokehJS code because BokehJS library is missing\");\n",
       "        clearInterval(timer);\n",
       "      }\n",
       "    }, 10, root)\n",
       "  }\n",
       "})(window);"
      ],
      "application/vnd.bokehjs_exec.v0+json": ""
     },
     "metadata": {
      "application/vnd.bokehjs_exec.v0+json": {
       "id": "15337"
      }
     },
     "output_type": "display_data"
    }
   ],
   "source": [
    "# Import the ColumnDataSource class from bokeh.plotting\n",
    "from bokeh.plotting import ColumnDataSource\n",
    "\n",
    "sprint = pd.read_csv('sprint.csv', parse_dates=['Year'])\n",
    "\n",
    "p = figure(x_axis_type=\"datetime\", x_axis_label='Year', y_axis_label='Time')\n",
    "\n",
    "# Create a ColumnDataSource from df: source\n",
    "source = ColumnDataSource(sprint)\n",
    "\n",
    "# Add circle glyphs to the figure p\n",
    "p.circle(\"Year\", \"Time\", source=source, color='color', size=8)\n",
    "\n",
    "# Specify the name of the output file and show the result\n",
    "# output_file('sprint.html')\n",
    "show(p)\n"
   ]
  },
  {
   "cell_type": "markdown",
   "metadata": {},
   "source": [
    "### Selection and non-selection glyphs"
   ]
  },
  {
   "cell_type": "markdown",
   "metadata": {},
   "source": [
    "In this exercise, you're going to add the `box_select` tool to a figure and change the selected and non-selected circle glyph properties so that selected glyphs are red and non-selected glyphs are transparent blue.\n",
    "\n",
    "You'll use the ColumnDataSource object of the Olympic Sprint dataset you made in the last exercise. \n",
    "\n",
    "After you have created the figure, be sure to experiment with the Box Select tool you added! As in previous exercises, you may have to scroll down to view the lower portion of the figure."
   ]
  },
  {
   "cell_type": "code",
   "execution_count": 40,
   "metadata": {},
   "outputs": [
    {
     "data": {
      "text/html": [
       "\n",
       "\n",
       "\n",
       "\n",
       "\n",
       "\n",
       "  <div class=\"bk-root\" id=\"3512f8c5-5aae-4f17-ad69-d7341fc51a04\"></div>\n"
      ]
     },
     "metadata": {},
     "output_type": "display_data"
    },
    {
     "data": {
      "application/javascript": [
       "(function(root) {\n",
       "  function embed_document(root) {\n",
       "    \n",
       "  var docs_json = {\"9ac76975-8757-4a62-91ca-e744ccd84958\":{\"roots\":{\"references\":[{\"attributes\":{\"below\":[{\"id\":\"17011\",\"type\":\"DatetimeAxis\"}],\"left\":[{\"id\":\"17016\",\"type\":\"LinearAxis\"}],\"renderers\":[{\"id\":\"17011\",\"type\":\"DatetimeAxis\"},{\"id\":\"17015\",\"type\":\"Grid\"},{\"id\":\"17016\",\"type\":\"LinearAxis\"},{\"id\":\"17020\",\"type\":\"Grid\"},{\"id\":\"17022\",\"type\":\"BoxAnnotation\"},{\"id\":\"17030\",\"type\":\"GlyphRenderer\"}],\"title\":{\"id\":\"17509\",\"type\":\"Title\"},\"toolbar\":{\"id\":\"17024\",\"type\":\"Toolbar\"},\"x_range\":{\"id\":\"17003\",\"type\":\"DataRange1d\"},\"x_scale\":{\"id\":\"17007\",\"type\":\"LinearScale\"},\"y_range\":{\"id\":\"17005\",\"type\":\"DataRange1d\"},\"y_scale\":{\"id\":\"17009\",\"type\":\"LinearScale\"}},\"id\":\"17002\",\"subtype\":\"Figure\",\"type\":\"Plot\"},{\"attributes\":{},\"id\":\"17007\",\"type\":\"LinearScale\"},{\"attributes\":{\"months\":[0,6]},\"id\":\"17524\",\"type\":\"MonthsTicker\"},{\"attributes\":{},\"id\":\"15830\",\"type\":\"UnionRenderers\"},{\"attributes\":{\"months\":[0,4,8]},\"id\":\"17523\",\"type\":\"MonthsTicker\"},{\"attributes\":{\"callback\":null,\"overlay\":{\"id\":\"17022\",\"type\":\"BoxAnnotation\"}},\"id\":\"17021\",\"type\":\"BoxSelectTool\"},{\"attributes\":{},\"id\":\"15829\",\"type\":\"Selection\"},{\"attributes\":{\"plot\":{\"id\":\"17002\",\"subtype\":\"Figure\",\"type\":\"Plot\"},\"ticker\":{\"id\":\"17012\",\"type\":\"DatetimeTicker\"}},\"id\":\"17015\",\"type\":\"Grid\"},{\"attributes\":{\"callback\":null},\"id\":\"17003\",\"type\":\"DataRange1d\"},{\"attributes\":{\"callback\":null,\"data\":{\"Country\":[\"JAM\",\"JAM\",\"USA\",\"JAM\",\"TRI\",\"USA\",\"USA\",\"POR\",\"USA\",\"USA\",\"TRI\",\"BAR\",\"CAN\",\"NAM\",\"TRI\",\"GBR\",\"NAM\",\"USA\",\"USA\",\"GBR\",\"USA\",\"USA\",\"USA\",\"CAN\",\"GBR\",\"CUB\",\"BUL\",\"TRI\",\"JAM\",\"URS\",\"URS\",\"USA\",\"JAM\",\"USA\",\"JAM\",\"USA\",\"USA\",\"CUB\",\"CAN\",\"EUA\",\"USA\",\"GBR\",\"USA\",\"USA\",\"AUS\",\"USA\",\"JAM\",\"GBR\",\"USA\",\"USA\",\"PAN\",\"USA\",\"USA\",\"NED\",\"USA\",\"USA\",\"GER\",\"CAN\",\"GBR\",\"GER\",\"GBR\",\"USA\",\"NZL\",\"USA\",\"USA\",\"GBR\",\"USA\",\"USA\",\"USA\",\"RSA\",\"USA\",\"CAN\",\"USA\",\"USA\",\"AUS\",\"USA\",\"USA\",\"USA\",\"USA\",\"USA\",\"AUS\",\"USA\",\"GER\",\"HUN\",\"USA\"],\"Medal\":[\"GOLD\",\"SILVER\",\"BRONZE\",\"GOLD\",\"SILVER\",\"BRONZE\",\"GOLD\",\"SILVER\",\"BRONZE\",\"GOLD\",\"SILVER\",\"BRONZE\",\"GOLD\",\"SILVER\",\"BRONZE\",\"GOLD\",\"SILVER\",\"BRONZE\",\"GOLD\",\"SILVER\",\"BRONZE\",\"GOLD\",\"SILVER\",\"BRONZE\",\"GOLD\",\"SILVER\",\"BRONZE\",\"GOLD\",\"SILVER\",\"BRONZE\",\"GOLD\",\"SILVER\",\"BRONZE\",\"GOLD\",\"SILVER\",\"BRONZE\",\"GOLD\",\"SILVER\",\"BRONZE\",\"GOLD\",\"SILVER\",\"BRONZE\",\"GOLD\",\"SILVER\",\"BRONZE\",\"GOLD\",\"SILVER\",\"BRONZE\",\"GOLD\",\"SILVER\",\"BRONZE\",\"GOLD\",\"SILVER\",\"BRONZE\",\"GOLD\",\"SILVER\",\"BRONZE\",\"GOLD\",\"SILVER\",\"BRONZE\",\"GOLD\",\"SILVER\",\"BRONZE\",\"GOLD\",\"SILVER\",\"BRONZE\",\"GOLD\",\"SILVER\",\"BRONZE\",\"GOLD\",\"SILVER\",\"BRONZE\",\"GOLD\",\"SILVER\",\"BRONZE\",\"GOLD\",\"SILVER\",\"BRONZE\",\"GOLD\",\"SILVER\",\"BRONZE\",\"GOLD\",\"SILVER\",\"BRONZE\",\"BRONZE\"],\"Name\":[\"Usain Bolt\",\"Yohan Blake\",\"Justin Gatlin\",\"Usain Bolt\",\"Richard Thompson\",\"Walter Dix\",\"Justin Gatlin\",\"Francis Obikwelu\",\"Maurice Greene\",\"Maurice Greene\",\"Ato Boldon\",\"Obadele Thompson\",\"Donovan Bailey\",\"Frankie Fredericks\",\"Ato Boldon\",\"Linford Christie\",\"Frankie Fredericks\",\"Dennis Mitchell\",\"Carl Lewis\",\"Linford Christie\",\"Calvin Smith\",\"Carl Lewis\",\"Sam Graddy\",\"Ben Johnson\",\"Allan Wells\",\"Silvio Leonard Tartabull\",\"Petar Petrov\",\"Hasely Crawford\",\"Donald Quarrie\",\"Valery Borzov\",\"Valery Borzov\",\"Robert Taylor\",\"Lennox Miller\",\"Jim Hines\",\"Lennox Miller\",\"Charles Greene\",\"Bob Hayes\",\"Enrique Figuerola Camue\",\"Harry Jerome\",\"Armin Hary\",\"David Sime\",\"Peter Radford\",\"Bobby Joe Morrow\",\"W. Thane Baker\",\"Hector Hogan\",\"Lindy Remigino\",\"Herbert McKenley\",\"E. McDonald Bailey\",\"W. Harrison Dillard\",\"H. Norwood \\\"Barney\\\" Ewell\",\"Lloyd LaBeach\",\"Jesse Owens\",\"Ralph Metcalfe\",\"Martinus Osendarp\",\"T. \\\"Eddie\\\" Tolan\",\"Ralph Metcalfe\",\"Arthur Jonath\",\"Percy Williams\",\"John \\\"Jack\\\" London\",\"Georg Lammers\",\"Harold Abrahams\",\"Jackson Scholz\",\"Arthur Porritt\",\"Charles Paddock\",\"Morris Kirksey\",\"Harry Edward\",\"Ralph Craig\",\"Alvah Meyer\",\"Donald Lippincott\",\"Reginald Walker\",\"James Rector\",\"Robert Kerr\",\"Charles \\\"Archie\\\" Hahn\",\"Fay Moulton\",\"Nigel Barker\",\"Charles \\\"Archie\\\" Hahn\",\"Nathaniel Cartmell\",\"Bill Hogenson\",\"Frank Jarvis\",\"J. Walter Tewksbury\",\"Stanley Rowley\",\"Thomas Burke\",\"Fritz Hofmann\",\"Alojz Sokol\",\"Francis Lane\"],\"Time\":{\"__ndarray__\":\"w/UoXI9CI0AAAAAAAIAjQBSuR+F6lCNA4XoUrkdhI0BI4XoUrscjQFK4HoXr0SNAMzMzMzOzI0C4HoXrUbgjQD0K16NwvSNAPQrXo3C9I0B7FK5H4fojQBSuR+F6FCRArkfhehSuI0BI4XoUrscjQM3MzMzMzCNA7FG4HoXrI0AK16NwPQokQBSuR+F6FCRA16NwPQrXI0BxPQrXo/AjQHsUrkfh+iNAexSuR+H6I0DhehSuR2EkQHE9CtejcCRAAAAAAACAJEAAAAAAAIAkQEjhehSuxyRAH4XrUbgeJEApXI/C9SgkQEjhehSuRyRASOF6FK5HJEB7FK5H4XokQClcj8L1qCRAZmZmZmbmI0AUrkfhehQkQKRwPQrXIyRAAAAAAAAAJEBmZmZmZmYkQGZmZmZmZiRAZmZmZmZmJEBmZmZmZmYkQJqZmZmZmSRAAAAAAAAAJUAAAAAAAAAlQDMzMzMzMyVAzczMzMzMJEDNzMzMzMwkQM3MzMzMzCRAmpmZmZmZJEDNzMzMzMwkQM3MzMzMzCRAmpmZmZmZJEDNzMzMzMwkQAAAAAAAACVAmpmZmZmZJECamZmZmZkkQM3MzMzMzCRAmpmZmZmZJUDNzMzMzMwlQM3MzMzMzCVAMzMzMzMzJUCamZmZmZklQM3MzMzMzCVAmpmZmZmZJUDNzMzMzMwlQM3MzMzMzCVAmpmZmZmZJUDNzMzMzMwlQM3MzMzMzCVAmpmZmZmZJUAAAAAAAAAmQAAAAAAAACZAZmZmZmZmJkCamZmZmZkmQJqZmZmZmSZAAAAAAAAAJkBmZmZmZmYmQGZmZmZmZiZAAAAAAAAAJkAzMzMzMzMmQGZmZmZmZiZAAAAAAAAAKEBmZmZmZmYoQDMzMzMzMylAMzMzMzMzKUA=\",\"dtype\":\"float64\",\"shape\":[85]},\"Year\":{\"__ndarray__\":\"AAAADWlJc0IAAAANaUlzQgAAAA1pSXNCAABAXCpzcUIAAEBcKnNxQgAAQFwqc3FCAAAAV9c5b0IAAABX1zlvQgAAAFfXOW9CAACA9VmNa0IAAID1WY1rQgAAgPVZjWtCAAAAlNzgZ0IAAACU3OBnQgAAAJTc4GdCAACAMl80ZEIAAIAyXzRkQgAAgDJfNGRCAAAA0eGHYEIAAADR4YdgQgAAANHhh2BCAAAA38i2WUIAAADfyLZZQgAAAN/ItllCAAAAHM5dUkIAAAAczl1SQgAAABzOXVJCAAAAsqYJRkIAAACypglGQgAAALKmCUZCAAAAsMReLUIAAACwxF4tQgAAALDEXi1CAAAAaBFpLcIAAABoEWktwgAAAGgRaS3CAAAA4DkMRsIAAADgOQxGwgAAAOA5DEbCAAAAsxdfUsIAAACzF19SwgAAALMXX1LCAAAAdhK4WcIAAAB2ErhZwgAAAHYSuFnCAACAnIaIYMIAAICchohgwgAAgJyGiGDCAAAA/gM1ZMIAAAD+AzVkwgAAAP4DNWTCAACAInw6b8IAAIAifDpvwgAAgCJ8Om/CAAAAwnxzccIAAADCfHNxwgAAAMJ8c3HCAADAcrtJc8IAAMByu0lzwgAAwHK7SXPCAACAI/ofdcIAAIAj+h91wgAAgCP6H3XCAABA1Dj2dsIAAEDUOPZ2wgAAQNQ49nbCAADANbaiesIAAMA1tqJ6wgAAwDW2onrCAACA5vR4fMIAAIDm9Hh8wgAAgOb0eHzCAAAADOtjfcIAAAAM62N9wgAAAAzrY33CAABAlzNPfsIAAECXM09+wgAAQJczT37CAAAg8Y8SgMIAACDxjxKAwgAAIPGPEoDCAACASa/9gMIAAIBJr/2AwgAAgEmv/YDCAACASa/9gMI=\",\"dtype\":\"float64\",\"shape\":[85]},\"color\":[\"goldenrod\",\"silver\",\"saddlebrown\",\"goldenrod\",\"silver\",\"saddlebrown\",\"goldenrod\",\"silver\",\"saddlebrown\",\"goldenrod\",\"silver\",\"saddlebrown\",\"goldenrod\",\"silver\",\"saddlebrown\",\"goldenrod\",\"silver\",\"saddlebrown\",\"goldenrod\",\"silver\",\"saddlebrown\",\"goldenrod\",\"silver\",\"saddlebrown\",\"goldenrod\",\"silver\",\"saddlebrown\",\"goldenrod\",\"silver\",\"saddlebrown\",\"goldenrod\",\"silver\",\"saddlebrown\",\"goldenrod\",\"silver\",\"saddlebrown\",\"goldenrod\",\"silver\",\"saddlebrown\",\"goldenrod\",\"silver\",\"saddlebrown\",\"goldenrod\",\"silver\",\"saddlebrown\",\"goldenrod\",\"silver\",\"saddlebrown\",\"goldenrod\",\"silver\",\"saddlebrown\",\"goldenrod\",\"silver\",\"saddlebrown\",\"goldenrod\",\"silver\",\"saddlebrown\",\"goldenrod\",\"silver\",\"saddlebrown\",\"goldenrod\",\"silver\",\"saddlebrown\",\"goldenrod\",\"silver\",\"saddlebrown\",\"goldenrod\",\"silver\",\"saddlebrown\",\"goldenrod\",\"silver\",\"saddlebrown\",\"goldenrod\",\"silver\",\"saddlebrown\",\"goldenrod\",\"silver\",\"saddlebrown\",\"goldenrod\",\"silver\",\"saddlebrown\",\"goldenrod\",\"silver\",\"saddlebrown\",\"saddlebrown\"],\"index\":[0,1,2,3,4,5,6,7,8,9,10,11,12,13,14,15,16,17,18,19,20,21,22,23,24,25,26,27,28,29,30,31,32,33,34,35,36,37,38,39,40,41,42,43,44,45,46,47,48,49,50,51,52,53,54,55,56,57,58,59,60,61,62,63,64,65,66,67,68,69,70,71,72,73,74,75,76,77,78,79,80,81,82,83,84]},\"selected\":{\"id\":\"15829\",\"type\":\"Selection\"},\"selection_policy\":{\"id\":\"15830\",\"type\":\"UnionRenderers\"}},\"id\":\"15371\",\"type\":\"ColumnDataSource\"},{\"attributes\":{\"axis_label\":\"Time\",\"formatter\":{\"id\":\"17511\",\"type\":\"BasicTickFormatter\"},\"plot\":{\"id\":\"17002\",\"subtype\":\"Figure\",\"type\":\"Plot\"},\"ticker\":{\"id\":\"17017\",\"type\":\"BasicTicker\"}},\"id\":\"17016\",\"type\":\"LinearAxis\"},{\"attributes\":{\"mantissas\":[1,2,5],\"max_interval\":500.0,\"num_minor_ticks\":0},\"id\":\"17514\",\"type\":\"AdaptiveTicker\"},{\"attributes\":{\"axis_label\":\"Year\",\"formatter\":{\"id\":\"17513\",\"type\":\"DatetimeTickFormatter\"},\"plot\":{\"id\":\"17002\",\"subtype\":\"Figure\",\"type\":\"Plot\"},\"ticker\":{\"id\":\"17012\",\"type\":\"DatetimeTicker\"}},\"id\":\"17011\",\"type\":\"DatetimeAxis\"},{\"attributes\":{\"fill_color\":{\"field\":\"color\"},\"line_color\":{\"field\":\"color\"},\"x\":{\"field\":\"Year\"},\"y\":{\"field\":\"Time\"}},\"id\":\"17027\",\"type\":\"Circle\"},{\"attributes\":{\"base\":24,\"mantissas\":[1,2,4,6,8,12],\"max_interval\":43200000.0,\"min_interval\":3600000.0,\"num_minor_ticks\":0},\"id\":\"17516\",\"type\":\"AdaptiveTicker\"},{\"attributes\":{},\"id\":\"17525\",\"type\":\"YearsTicker\"},{\"attributes\":{\"dimension\":1,\"plot\":{\"id\":\"17002\",\"subtype\":\"Figure\",\"type\":\"Plot\"},\"ticker\":{\"id\":\"17017\",\"type\":\"BasicTicker\"}},\"id\":\"17020\",\"type\":\"Grid\"},{\"attributes\":{\"days\":[1,4,7,10,13,16,19,22,25,28]},\"id\":\"17518\",\"type\":\"DaysTicker\"},{\"attributes\":{\"num_minor_ticks\":5,\"tickers\":[{\"id\":\"17514\",\"type\":\"AdaptiveTicker\"},{\"id\":\"17515\",\"type\":\"AdaptiveTicker\"},{\"id\":\"17516\",\"type\":\"AdaptiveTicker\"},{\"id\":\"17517\",\"type\":\"DaysTicker\"},{\"id\":\"17518\",\"type\":\"DaysTicker\"},{\"id\":\"17519\",\"type\":\"DaysTicker\"},{\"id\":\"17520\",\"type\":\"DaysTicker\"},{\"id\":\"17521\",\"type\":\"MonthsTicker\"},{\"id\":\"17522\",\"type\":\"MonthsTicker\"},{\"id\":\"17523\",\"type\":\"MonthsTicker\"},{\"id\":\"17524\",\"type\":\"MonthsTicker\"},{\"id\":\"17525\",\"type\":\"YearsTicker\"}]},\"id\":\"17012\",\"type\":\"DatetimeTicker\"},{\"attributes\":{\"data_source\":{\"id\":\"15371\",\"type\":\"ColumnDataSource\"},\"glyph\":{\"id\":\"17027\",\"type\":\"Circle\"},\"hover_glyph\":null,\"muted_glyph\":null,\"nonselection_glyph\":{\"id\":\"17028\",\"type\":\"Circle\"},\"selection_glyph\":{\"id\":\"17029\",\"type\":\"Circle\"},\"view\":{\"id\":\"17031\",\"type\":\"CDSView\"}},\"id\":\"17030\",\"type\":\"GlyphRenderer\"},{\"attributes\":{\"source\":{\"id\":\"15371\",\"type\":\"ColumnDataSource\"}},\"id\":\"17031\",\"type\":\"CDSView\"},{\"attributes\":{\"active_drag\":\"auto\",\"active_inspect\":\"auto\",\"active_multi\":null,\"active_scroll\":\"auto\",\"active_tap\":\"auto\",\"tools\":[{\"id\":\"17021\",\"type\":\"BoxSelectTool\"}]},\"id\":\"17024\",\"type\":\"Toolbar\"},{\"attributes\":{\"plot\":null,\"text\":\"\"},\"id\":\"17509\",\"type\":\"Title\"},{\"attributes\":{\"base\":60,\"mantissas\":[1,2,5,10,15,20,30],\"max_interval\":1800000.0,\"min_interval\":1000.0,\"num_minor_ticks\":0},\"id\":\"17515\",\"type\":\"AdaptiveTicker\"},{\"attributes\":{\"fill_alpha\":{\"value\":0.1},\"fill_color\":{\"value\":\"blue\"},\"line_alpha\":{\"value\":0.1},\"line_color\":{\"value\":\"#1f77b4\"},\"x\":{\"field\":\"Year\"},\"y\":{\"field\":\"Time\"}},\"id\":\"17028\",\"type\":\"Circle\"},{\"attributes\":{},\"id\":\"17511\",\"type\":\"BasicTickFormatter\"},{\"attributes\":{},\"id\":\"17009\",\"type\":\"LinearScale\"},{\"attributes\":{\"bottom_units\":\"screen\",\"fill_alpha\":{\"value\":0.5},\"fill_color\":{\"value\":\"lightgrey\"},\"left_units\":\"screen\",\"level\":\"overlay\",\"line_alpha\":{\"value\":1.0},\"line_color\":{\"value\":\"black\"},\"line_dash\":[4,4],\"line_width\":{\"value\":2},\"plot\":null,\"render_mode\":\"css\",\"right_units\":\"screen\",\"top_units\":\"screen\"},\"id\":\"17022\",\"type\":\"BoxAnnotation\"},{\"attributes\":{\"days\":[1,15]},\"id\":\"17520\",\"type\":\"DaysTicker\"},{\"attributes\":{},\"id\":\"17513\",\"type\":\"DatetimeTickFormatter\"},{\"attributes\":{\"fill_color\":{\"value\":\"red\"},\"line_color\":{\"value\":\"red\"},\"x\":{\"field\":\"Year\"},\"y\":{\"field\":\"Time\"}},\"id\":\"17029\",\"type\":\"Circle\"},{\"attributes\":{\"days\":[1,8,15,22]},\"id\":\"17519\",\"type\":\"DaysTicker\"},{\"attributes\":{\"days\":[1,2,3,4,5,6,7,8,9,10,11,12,13,14,15,16,17,18,19,20,21,22,23,24,25,26,27,28,29,30,31]},\"id\":\"17517\",\"type\":\"DaysTicker\"},{\"attributes\":{\"months\":[0,1,2,3,4,5,6,7,8,9,10,11]},\"id\":\"17521\",\"type\":\"MonthsTicker\"},{\"attributes\":{},\"id\":\"17017\",\"type\":\"BasicTicker\"},{\"attributes\":{\"months\":[0,2,4,6,8,10]},\"id\":\"17522\",\"type\":\"MonthsTicker\"},{\"attributes\":{\"callback\":null},\"id\":\"17005\",\"type\":\"DataRange1d\"}],\"root_ids\":[\"17002\"]},\"title\":\"Bokeh Application\",\"version\":\"1.0.2\"}};\n",
       "  var render_items = [{\"docid\":\"9ac76975-8757-4a62-91ca-e744ccd84958\",\"roots\":{\"17002\":\"3512f8c5-5aae-4f17-ad69-d7341fc51a04\"}}];\n",
       "  root.Bokeh.embed.embed_items_notebook(docs_json, render_items);\n",
       "\n",
       "  }\n",
       "  if (root.Bokeh !== undefined) {\n",
       "    embed_document(root);\n",
       "  } else {\n",
       "    var attempts = 0;\n",
       "    var timer = setInterval(function(root) {\n",
       "      if (root.Bokeh !== undefined) {\n",
       "        embed_document(root);\n",
       "        clearInterval(timer);\n",
       "      }\n",
       "      attempts++;\n",
       "      if (attempts > 100) {\n",
       "        console.log(\"Bokeh: ERROR: Unable to run BokehJS code because BokehJS library is missing\");\n",
       "        clearInterval(timer);\n",
       "      }\n",
       "    }, 10, root)\n",
       "  }\n",
       "})(window);"
      ],
      "application/vnd.bokehjs_exec.v0+json": ""
     },
     "metadata": {
      "application/vnd.bokehjs_exec.v0+json": {
       "id": "17002"
      }
     },
     "output_type": "display_data"
    }
   ],
   "source": [
    "# Create a figure p with an x-axis label of 'Year', y-axis label of 'Time', and the 'box_select' tool.\n",
    "# To add the 'box_select' tool, you have to specify the keyword argument tools='box_select' inside the figure() function.\n",
    "p = figure(x_axis_type=\"datetime\", x_axis_label='Year', y_axis_label='Time', tools='box_select')\n",
    "\n",
    "# Add in circle glyphs with p.circle() such that the selected glyphs are red and non-selected glyphs are transparent blue. \n",
    "# This can be done by specifying 'red' as the argument to selection_color and 0.1 to nonselection_alpha. \n",
    "# Remember to also pass in the arguments for the x ('Year'), y ('Time'), and source parameters of p.circle().\n",
    "p.circle(\"Year\", \"Time\", source=source, color='color', size=4, selection_color='red', nonselection_alpha=0.1, nonselection_fill_color='blue')\n",
    "\n",
    "show(p)"
   ]
  },
  {
   "cell_type": "markdown",
   "metadata": {},
   "source": [
    "### Hover glyphs"
   ]
  },
  {
   "cell_type": "markdown",
   "metadata": {},
   "source": [
    "In this exercise, you're going to plot the blood glucose levels for an unknown patient. The blood glucose levels were recorded every 5 minutes on October 7th starting at 3 minutes past midnight.  \n",
    "Your job is to add a circle glyph that will appear red when the mouse is hovered near the data points. You will also add a customized hover tool object to the plot.\n",
    "\n",
    "When you're done, play around with the hover tool you just created! Notice how the points where your mouse hovers over turn red."
   ]
  },
  {
   "cell_type": "code",
   "execution_count": 41,
   "metadata": {},
   "outputs": [
    {
     "data": {
      "text/html": [
       "\n",
       "\n",
       "\n",
       "\n",
       "\n",
       "\n",
       "  <div class=\"bk-root\" id=\"0c7a7f42-7e35-4752-84d8-94104048be85\"></div>\n"
      ]
     },
     "metadata": {},
     "output_type": "display_data"
    },
    {
     "data": {
      "application/javascript": [
       "(function(root) {\n",
       "  function embed_document(root) {\n",
       "    \n",
       "  var docs_json = {\"79bbf5c0-1a10-4a30-9f85-9756a0838057\":{\"roots\":{\"references\":[{\"attributes\":{\"below\":[{\"id\":\"17856\",\"type\":\"DatetimeAxis\"}],\"left\":[{\"id\":\"17861\",\"type\":\"LinearAxis\"}],\"renderers\":[{\"id\":\"17856\",\"type\":\"DatetimeAxis\"},{\"id\":\"17860\",\"type\":\"Grid\"},{\"id\":\"17861\",\"type\":\"LinearAxis\"},{\"id\":\"17865\",\"type\":\"Grid\"},{\"id\":\"17874\",\"type\":\"BoxAnnotation\"},{\"id\":\"17885\",\"type\":\"GlyphRenderer\"}],\"title\":{\"id\":\"17845\",\"type\":\"Title\"},\"toolbar\":{\"id\":\"17872\",\"type\":\"Toolbar\"},\"x_range\":{\"id\":\"17848\",\"type\":\"DataRange1d\"},\"x_scale\":{\"id\":\"17852\",\"type\":\"LinearScale\"},\"y_range\":{\"id\":\"17850\",\"type\":\"DataRange1d\"},\"y_scale\":{\"id\":\"17854\",\"type\":\"LinearScale\"}},\"id\":\"17846\",\"subtype\":\"Figure\",\"type\":\"Plot\"},{\"attributes\":{\"overlay\":{\"id\":\"17874\",\"type\":\"BoxAnnotation\"}},\"id\":\"17868\",\"type\":\"BoxZoomTool\"},{\"attributes\":{\"months\":[0,2,4,6,8,10]},\"id\":\"18399\",\"type\":\"MonthsTicker\"},{\"attributes\":{},\"id\":\"17867\",\"type\":\"WheelZoomTool\"},{\"attributes\":{\"callback\":null},\"id\":\"17848\",\"type\":\"DataRange1d\"},{\"attributes\":{\"mantissas\":[1,2,5],\"max_interval\":500.0,\"num_minor_ticks\":0},\"id\":\"18391\",\"type\":\"AdaptiveTicker\"},{\"attributes\":{\"months\":[0,1,2,3,4,5,6,7,8,9,10,11]},\"id\":\"18398\",\"type\":\"MonthsTicker\"},{\"attributes\":{\"months\":[0,6]},\"id\":\"18401\",\"type\":\"MonthsTicker\"},{\"attributes\":{},\"id\":\"17866\",\"type\":\"PanTool\"},{\"attributes\":{},\"id\":\"18388\",\"type\":\"BasicTickFormatter\"},{\"attributes\":{},\"id\":\"18403\",\"type\":\"Selection\"},{\"attributes\":{\"fill_alpha\":{\"value\":0.1},\"fill_color\":{\"value\":\"#1f77b4\"},\"line_alpha\":{\"value\":0.1},\"line_color\":{\"value\":\"#1f77b4\"},\"size\":{\"units\":\"screen\",\"value\":10},\"x\":{\"field\":\"x\"},\"y\":{\"field\":\"y\"}},\"id\":\"17883\",\"type\":\"Circle\"},{\"attributes\":{\"days\":[1,8,15,22]},\"id\":\"18396\",\"type\":\"DaysTicker\"},{\"attributes\":{},\"id\":\"18402\",\"type\":\"YearsTicker\"},{\"attributes\":{\"months\":[0,4,8]},\"id\":\"18400\",\"type\":\"MonthsTicker\"},{\"attributes\":{\"fill_alpha\":{\"value\":0.1},\"fill_color\":{\"value\":\"grey\"},\"line_alpha\":{\"value\":0.1},\"line_color\":{\"value\":null},\"size\":{\"units\":\"screen\",\"value\":10},\"x\":{\"field\":\"x\"},\"y\":{\"field\":\"y\"}},\"id\":\"17882\",\"type\":\"Circle\"},{\"attributes\":{},\"id\":\"17869\",\"type\":\"SaveTool\"},{\"attributes\":{},\"id\":\"17870\",\"type\":\"ResetTool\"},{\"attributes\":{\"num_minor_ticks\":5,\"tickers\":[{\"id\":\"18391\",\"type\":\"AdaptiveTicker\"},{\"id\":\"18392\",\"type\":\"AdaptiveTicker\"},{\"id\":\"18393\",\"type\":\"AdaptiveTicker\"},{\"id\":\"18394\",\"type\":\"DaysTicker\"},{\"id\":\"18395\",\"type\":\"DaysTicker\"},{\"id\":\"18396\",\"type\":\"DaysTicker\"},{\"id\":\"18397\",\"type\":\"DaysTicker\"},{\"id\":\"18398\",\"type\":\"MonthsTicker\"},{\"id\":\"18399\",\"type\":\"MonthsTicker\"},{\"id\":\"18400\",\"type\":\"MonthsTicker\"},{\"id\":\"18401\",\"type\":\"MonthsTicker\"},{\"id\":\"18402\",\"type\":\"YearsTicker\"}]},\"id\":\"17857\",\"type\":\"DatetimeTicker\"},{\"attributes\":{\"days\":[1,2,3,4,5,6,7,8,9,10,11,12,13,14,15,16,17,18,19,20,21,22,23,24,25,26,27,28,29,30,31]},\"id\":\"18394\",\"type\":\"DaysTicker\"},{\"attributes\":{\"bottom_units\":\"screen\",\"fill_alpha\":{\"value\":0.5},\"fill_color\":{\"value\":\"lightgrey\"},\"left_units\":\"screen\",\"level\":\"overlay\",\"line_alpha\":{\"value\":1.0},\"line_color\":{\"value\":\"black\"},\"line_dash\":[4,4],\"line_width\":{\"value\":2},\"plot\":null,\"render_mode\":\"css\",\"right_units\":\"screen\",\"top_units\":\"screen\"},\"id\":\"17874\",\"type\":\"BoxAnnotation\"},{\"attributes\":{\"plot\":{\"id\":\"17846\",\"subtype\":\"Figure\",\"type\":\"Plot\"},\"ticker\":{\"id\":\"17857\",\"type\":\"DatetimeTicker\"}},\"id\":\"17860\",\"type\":\"Grid\"},{\"attributes\":{},\"id\":\"17871\",\"type\":\"HelpTool\"},{\"attributes\":{\"axis_label\":\"Blood glucose(mg/dL)\",\"formatter\":{\"id\":\"18388\",\"type\":\"BasicTickFormatter\"},\"plot\":{\"id\":\"17846\",\"subtype\":\"Figure\",\"type\":\"Plot\"},\"ticker\":{\"id\":\"17862\",\"type\":\"BasicTicker\"}},\"id\":\"17861\",\"type\":\"LinearAxis\"},{\"attributes\":{\"active_drag\":\"auto\",\"active_inspect\":\"auto\",\"active_multi\":null,\"active_scroll\":\"auto\",\"active_tap\":\"auto\",\"tools\":[{\"id\":\"17866\",\"type\":\"PanTool\"},{\"id\":\"17867\",\"type\":\"WheelZoomTool\"},{\"id\":\"17868\",\"type\":\"BoxZoomTool\"},{\"id\":\"17869\",\"type\":\"SaveTool\"},{\"id\":\"17870\",\"type\":\"ResetTool\"},{\"id\":\"17871\",\"type\":\"HelpTool\"},{\"id\":\"17887\",\"type\":\"HoverTool\"}]},\"id\":\"17872\",\"type\":\"Toolbar\"},{\"attributes\":{\"callback\":null,\"data\":{\"x\":{\"__ndarray__\":\"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\",\"dtype\":\"float64\",\"shape\":[288]},\"y\":[150,152,149,147,148,150,152,152,152,151,151,150,149,147,146,143,140,138,136,137,138,140,138,135,132,130,129,129,129,130,130,129,128,128,128,129,129,128,127,126,125,125,125,125,124,124,121,120,120,123,124,123,122,120,115,113,114,114,115,116,115,112,111,111,109,108,107,107,110,113,114,115,115,115,114,113,113,116,119,120,121,121,122,123,124,125,126,126,126,126,126,127,127,125,122,118,115,111,112,115,117,120,124,127,131,137,143,148,153,159,166,172,178,184,191,199,206,212,217,223,229,232,233,235,237,240,241,243,246,247,246,243,240,234,229,225,221,217,216,215,215,215,212,208,203,199,196,194,190,185,180,177,163,158,152,149,153,163,174,182,188,192,195,197,201,204,205,203,199,195,189,184,176,169,162,150,138,128,119,110,100,90,80,73,68,64,63,63,66,68,70,71,72,74,80,94,116,141,164,183,198,210,220,228,233,237,241,247,252,256,260,259,258,256,251,245,238,234,227,221,215,208,207,207,203,201,201,199,179,176,171,163,152,137,119,98,77,61,50,45,47,59,71,86,99,109,116,117,115,111,107,102,96,91,90,94,97,97,95,92,87,84,84,83,84,86,86,86,84,82,82,81,81,82,84,87,89,91,92,94,93,93,94,96,100,101,99,97]},\"selected\":{\"id\":\"18403\",\"type\":\"Selection\"},\"selection_policy\":{\"id\":\"18404\",\"type\":\"UnionRenderers\"}},\"id\":\"17881\",\"type\":\"ColumnDataSource\"},{\"attributes\":{\"axis_label\":\"Time of day\",\"formatter\":{\"id\":\"18390\",\"type\":\"DatetimeTickFormatter\"},\"plot\":{\"id\":\"17846\",\"subtype\":\"Figure\",\"type\":\"Plot\"},\"ticker\":{\"id\":\"17857\",\"type\":\"DatetimeTicker\"}},\"id\":\"17856\",\"type\":\"DatetimeAxis\"},{\"attributes\":{},\"id\":\"17854\",\"type\":\"LinearScale\"},{\"attributes\":{\"callback\":null,\"mode\":\"vline\",\"tooltips\":null},\"id\":\"17887\",\"type\":\"HoverTool\"},{\"attributes\":{},\"id\":\"17862\",\"type\":\"BasicTicker\"},{\"attributes\":{},\"id\":\"17852\",\"type\":\"LinearScale\"},{\"attributes\":{\"dimension\":1,\"plot\":{\"id\":\"17846\",\"subtype\":\"Figure\",\"type\":\"Plot\"},\"ticker\":{\"id\":\"17862\",\"type\":\"BasicTicker\"}},\"id\":\"17865\",\"type\":\"Grid\"},{\"attributes\":{\"days\":[1,4,7,10,13,16,19,22,25,28]},\"id\":\"18395\",\"type\":\"DaysTicker\"},{\"attributes\":{\"callback\":null},\"id\":\"17850\",\"type\":\"DataRange1d\"},{\"attributes\":{\"fill_alpha\":{\"value\":0.5},\"fill_color\":{\"value\":\"firebrick\"},\"line_alpha\":{\"value\":0.5},\"line_color\":{\"value\":\"white\"},\"size\":{\"units\":\"screen\",\"value\":10},\"x\":{\"field\":\"x\"},\"y\":{\"field\":\"y\"}},\"id\":\"17884\",\"type\":\"Circle\"},{\"attributes\":{},\"id\":\"18404\",\"type\":\"UnionRenderers\"},{\"attributes\":{\"source\":{\"id\":\"17881\",\"type\":\"ColumnDataSource\"}},\"id\":\"17886\",\"type\":\"CDSView\"},{\"attributes\":{\"base\":60,\"mantissas\":[1,2,5,10,15,20,30],\"max_interval\":1800000.0,\"min_interval\":1000.0,\"num_minor_ticks\":0},\"id\":\"18392\",\"type\":\"AdaptiveTicker\"},{\"attributes\":{\"data_source\":{\"id\":\"17881\",\"type\":\"ColumnDataSource\"},\"glyph\":{\"id\":\"17882\",\"type\":\"Circle\"},\"hover_glyph\":{\"id\":\"17884\",\"type\":\"Circle\"},\"muted_glyph\":null,\"nonselection_glyph\":{\"id\":\"17883\",\"type\":\"Circle\"},\"selection_glyph\":null,\"view\":{\"id\":\"17886\",\"type\":\"CDSView\"}},\"id\":\"17885\",\"type\":\"GlyphRenderer\"},{\"attributes\":{\"plot\":null,\"text\":\"Blood Glucose\"},\"id\":\"17845\",\"type\":\"Title\"},{\"attributes\":{\"days\":[1,15]},\"id\":\"18397\",\"type\":\"DaysTicker\"},{\"attributes\":{},\"id\":\"18390\",\"type\":\"DatetimeTickFormatter\"},{\"attributes\":{\"base\":24,\"mantissas\":[1,2,4,6,8,12],\"max_interval\":43200000.0,\"min_interval\":3600000.0,\"num_minor_ticks\":0},\"id\":\"18393\",\"type\":\"AdaptiveTicker\"}],\"root_ids\":[\"17846\"]},\"title\":\"Bokeh Application\",\"version\":\"1.0.2\"}};\n",
       "  var render_items = [{\"docid\":\"79bbf5c0-1a10-4a30-9f85-9756a0838057\",\"roots\":{\"17846\":\"0c7a7f42-7e35-4752-84d8-94104048be85\"}}];\n",
       "  root.Bokeh.embed.embed_items_notebook(docs_json, render_items);\n",
       "\n",
       "  }\n",
       "  if (root.Bokeh !== undefined) {\n",
       "    embed_document(root);\n",
       "  } else {\n",
       "    var attempts = 0;\n",
       "    var timer = setInterval(function(root) {\n",
       "      if (root.Bokeh !== undefined) {\n",
       "        embed_document(root);\n",
       "        clearInterval(timer);\n",
       "      }\n",
       "      attempts++;\n",
       "      if (attempts > 100) {\n",
       "        console.log(\"Bokeh: ERROR: Unable to run BokehJS code because BokehJS library is missing\");\n",
       "        clearInterval(timer);\n",
       "      }\n",
       "    }, 10, root)\n",
       "  }\n",
       "})(window);"
      ],
      "application/vnd.bokehjs_exec.v0+json": ""
     },
     "metadata": {
      "application/vnd.bokehjs_exec.v0+json": {
       "id": "17846"
      }
     },
     "output_type": "display_data"
    }
   ],
   "source": [
    "glucose = pd.read_csv('glucose.csv', parse_dates=['datetime'])\n",
    "\n",
    "p = figure(x_axis_type=\"datetime\", x_axis_label='Time of day', y_axis_label='Blood glucose(mg/dL)', title=\"Blood Glucose\")\n",
    "\n",
    "# import the HoverTool\n",
    "from bokeh.models import HoverTool\n",
    "\n",
    "# Add a circle glyph to the existing figure p for x and y with a size of 10, \n",
    "# fill_color of 'grey', alpha of 0.1, line_color of None, \n",
    "# hover_fill_color of 'firebrick', hover_alpha of 0.5, and hover_line_color of 'white'\n",
    "p.circle(glucose.datetime, glucose.glucose, size=10,\n",
    "         fill_color='grey', alpha=0.1, line_color=None,\n",
    "         hover_fill_color='firebrick', hover_alpha=0.5,\n",
    "         hover_line_color='white')\n",
    "\n",
    "# Use the HoverTool() function to create a HoverTool called hover with tooltips=None and mode='vline'\n",
    "hover = HoverTool(tooltips=None, mode='vline')\n",
    "\n",
    "# Add the hover tool to the figure p\n",
    "p.add_tools(hover)\n",
    "\n",
    "show(p)"
   ]
  },
  {
   "cell_type": "markdown",
   "metadata": {},
   "source": [
    "### Colormapping"
   ]
  },
  {
   "cell_type": "markdown",
   "metadata": {},
   "source": [
    "The final glyph customization we'll practice is using the CategoricalColorMapper to color each glyph by a categorical property.\n",
    "\n",
    "Here, you're going to use the automobile dataset to plot miles-per-gallon vs weight and color each circle glyph by the region where the automobile was manufactured.\n",
    "\n",
    "The `origin` column will be used in the ColorMapper to color automobiles manufactured in the US as blue, Europe as red and Asia as green."
   ]
  },
  {
   "cell_type": "code",
   "execution_count": 44,
   "metadata": {},
   "outputs": [
    {
     "data": {
      "text/html": [
       "\n",
       "\n",
       "\n",
       "\n",
       "\n",
       "\n",
       "  <div class=\"bk-root\" id=\"932e383e-d914-4dbd-a6d8-11e2c4aae03d\"></div>\n"
      ]
     },
     "metadata": {},
     "output_type": "display_data"
    },
    {
     "data": {
      "application/javascript": [
       "(function(root) {\n",
       "  function embed_document(root) {\n",
       "    \n",
       "  var docs_json = {\"333f28bc-67e2-465b-a13c-b03337e70ffb\":{\"roots\":{\"references\":[{\"attributes\":{\"below\":[{\"id\":\"20278\",\"type\":\"LinearAxis\"}],\"left\":[{\"id\":\"20283\",\"type\":\"LinearAxis\"}],\"renderers\":[{\"id\":\"20278\",\"type\":\"LinearAxis\"},{\"id\":\"20282\",\"type\":\"Grid\"},{\"id\":\"20283\",\"type\":\"LinearAxis\"},{\"id\":\"20287\",\"type\":\"Grid\"},{\"id\":\"20296\",\"type\":\"BoxAnnotation\"},{\"id\":\"20317\",\"type\":\"Legend\"},{\"id\":\"20308\",\"type\":\"GlyphRenderer\"}],\"title\":{\"id\":\"20311\",\"type\":\"Title\"},\"toolbar\":{\"id\":\"20294\",\"type\":\"Toolbar\"},\"x_range\":{\"id\":\"20270\",\"type\":\"DataRange1d\"},\"x_scale\":{\"id\":\"20274\",\"type\":\"LinearScale\"},\"y_range\":{\"id\":\"20272\",\"type\":\"DataRange1d\"},\"y_scale\":{\"id\":\"20276\",\"type\":\"LinearScale\"}},\"id\":\"20269\",\"subtype\":\"Figure\",\"type\":\"Plot\"},{\"attributes\":{\"plot\":null,\"text\":\"\"},\"id\":\"20311\",\"type\":\"Title\"},{\"attributes\":{},\"id\":\"20279\",\"type\":\"BasicTicker\"},{\"attributes\":{\"callback\":null},\"id\":\"20270\",\"type\":\"DataRange1d\"},{\"attributes\":{\"fill_color\":{\"field\":\"origin\",\"transform\":{\"id\":\"20304\",\"type\":\"CategoricalColorMapper\"}},\"line_color\":{\"field\":\"origin\",\"transform\":{\"id\":\"20304\",\"type\":\"CategoricalColorMapper\"}},\"x\":{\"field\":\"weight\"},\"y\":{\"field\":\"mpg\"}},\"id\":\"20306\",\"type\":\"Circle\"},{\"attributes\":{\"data_source\":{\"id\":\"20303\",\"type\":\"ColumnDataSource\"},\"glyph\":{\"id\":\"20306\",\"type\":\"Circle\"},\"hover_glyph\":null,\"muted_glyph\":null,\"nonselection_glyph\":{\"id\":\"20307\",\"type\":\"Circle\"},\"selection_glyph\":null,\"view\":{\"id\":\"20309\",\"type\":\"CDSView\"}},\"id\":\"20308\",\"type\":\"GlyphRenderer\"},{\"attributes\":{\"source\":{\"id\":\"20303\",\"type\":\"ColumnDataSource\"}},\"id\":\"20309\",\"type\":\"CDSView\"},{\"attributes\":{},\"id\":\"20291\",\"type\":\"SaveTool\"},{\"attributes\":{\"axis_label\":\"miles-per-gallon\",\"formatter\":{\"id\":\"20313\",\"type\":\"BasicTickFormatter\"},\"plot\":{\"id\":\"20269\",\"subtype\":\"Figure\",\"type\":\"Plot\"},\"ticker\":{\"id\":\"20284\",\"type\":\"BasicTicker\"}},\"id\":\"20283\",\"type\":\"LinearAxis\"},{\"attributes\":{},\"id\":\"20276\",\"type\":\"LinearScale\"},{\"attributes\":{},\"id\":\"20315\",\"type\":\"BasicTickFormatter\"},{\"attributes\":{\"overlay\":{\"id\":\"20296\",\"type\":\"BoxAnnotation\"}},\"id\":\"20290\",\"type\":\"BoxZoomTool\"},{\"attributes\":{\"bottom_units\":\"screen\",\"fill_alpha\":{\"value\":0.5},\"fill_color\":{\"value\":\"lightgrey\"},\"left_units\":\"screen\",\"level\":\"overlay\",\"line_alpha\":{\"value\":1.0},\"line_color\":{\"value\":\"black\"},\"line_dash\":[4,4],\"line_width\":{\"value\":2},\"plot\":null,\"render_mode\":\"css\",\"right_units\":\"screen\",\"top_units\":\"screen\"},\"id\":\"20296\",\"type\":\"BoxAnnotation\"},{\"attributes\":{\"active_drag\":\"auto\",\"active_inspect\":\"auto\",\"active_multi\":null,\"active_scroll\":\"auto\",\"active_tap\":\"auto\",\"tools\":[{\"id\":\"20288\",\"type\":\"PanTool\"},{\"id\":\"20289\",\"type\":\"WheelZoomTool\"},{\"id\":\"20290\",\"type\":\"BoxZoomTool\"},{\"id\":\"20291\",\"type\":\"SaveTool\"},{\"id\":\"20292\",\"type\":\"ResetTool\"},{\"id\":\"20293\",\"type\":\"HelpTool\"}]},\"id\":\"20294\",\"type\":\"Toolbar\"},{\"attributes\":{},\"id\":\"20853\",\"type\":\"Selection\"},{\"attributes\":{},\"id\":\"20313\",\"type\":\"BasicTickFormatter\"},{\"attributes\":{},\"id\":\"20854\",\"type\":\"UnionRenderers\"},{\"attributes\":{},\"id\":\"20274\",\"type\":\"LinearScale\"},{\"attributes\":{\"factors\":[\"Europe\",\"Asia\",\"US\"],\"palette\":[\"red\",\"green\",\"blue\"]},\"id\":\"20304\",\"type\":\"CategoricalColorMapper\"},{\"attributes\":{},\"id\":\"20284\",\"type\":\"BasicTicker\"},{\"attributes\":{},\"id\":\"20289\",\"type\":\"WheelZoomTool\"},{\"attributes\":{},\"id\":\"20292\",\"type\":\"ResetTool\"},{\"attributes\":{\"label\":{\"field\":\"origin\"},\"renderers\":[{\"id\":\"20308\",\"type\":\"GlyphRenderer\"}]},\"id\":\"20318\",\"type\":\"LegendItem\"},{\"attributes\":{},\"id\":\"20288\",\"type\":\"PanTool\"},{\"attributes\":{\"items\":[{\"id\":\"20318\",\"type\":\"LegendItem\"}],\"plot\":{\"id\":\"20269\",\"subtype\":\"Figure\",\"type\":\"Plot\"}},\"id\":\"20317\",\"type\":\"Legend\"},{\"attributes\":{\"axis_label\":\"weight(lbs)\",\"formatter\":{\"id\":\"20315\",\"type\":\"BasicTickFormatter\"},\"plot\":{\"id\":\"20269\",\"subtype\":\"Figure\",\"type\":\"Plot\"},\"ticker\":{\"id\":\"20279\",\"type\":\"BasicTicker\"}},\"id\":\"20278\",\"type\":\"LinearAxis\"},{\"attributes\":{\"callback\":null,\"data\":{\"accel\":{\"__ndarray__\":\"AAAAAAAALUAAAAAAAIAyQGZmZmZmZjBAAAAAAAAAM0CamZmZmZkvQJqZmZmZmS1AZmZmZmZmLkAAAAAAAAAyQM3MzMzMzC1AAAAAAAAAJUCamZmZmZk4QAAAAAAAADBAMzMzMzMzJ0AAAAAAAAArQAAAAAAAACNAAAAAAAAALECamZmZmZkyQGZmZmZmZjNAAAAAAAAANUAAAAAAAAArQAAAAAAAADBAAAAAAAAANUAAAAAAAAAsQAAAAAAAACRAAAAAAACAMkAAAAAAAAAvQM3MzMzMzCtAAAAAAAAALkAAAAAAAAAuQAAAAAAAgDFAzczMzMzMJkAAAAAAAAApQAAAAAAAADFAmpmZmZmZMEAAAAAAAAAvQAAAAAAAAC9AAAAAAAAAMEBmZmZmZmYmQM3MzMzMTDFAMzMzMzMzNkCamZmZmRkwQAAAAAAAACpAZmZmZmZmKkAzMzMzMzMmQDMzMzMzszRAAAAAAAAAM0BmZmZmZmYtQAAAAAAAACtAAAAAAAAAL0AAAAAAAAAxQAAAAAAAACdAzczMzMzMKkAAAAAAAAAsQAAAAAAAADBAAAAAAACAMEAAAAAAAAAtQAAAAAAAADBAMzMzMzOzMEBmZmZmZmYtQAAAAAAAAC5AAAAAAAAAM0AAAAAAAAAvQAAAAAAAADFAAAAAAAAAMUDNzMzMzMwuQAAAAAAAgDRAAAAAAAAAKEAAAAAAAAAvQAAAAAAAACtAAAAAAAAALkBmZmZmZmYrQAAAAAAAADJAAAAAAAAALUAAAAAAAAAnQJqZmZmZmStAzczMzMzMLUCamZmZmZkxQM3MzMzMzClAAAAAAAAAMEAAAAAAAAAsQJqZmZmZmTNAAAAAAAAAMEDNzMzMzMw4QM3MzMzMzC5AAAAAAAAAMEAAAAAAAAAsQAAAAAAAAC1AAAAAAAAAIUAzMzMzMzMwQAAAAAAAAChAmpmZmZkZNkAAAAAAAAAqQGZmZmZmZjBAAAAAAAAAL0AAAAAAAAAwQAAAAAAAAChAmpmZmZmZK0AzMzMzMzMyQAAAAAAAACtAMzMzMzOzMEBmZmZmZmYvQAAAAAAAACxAmpmZmZmZL0DNzMzMzMwsQAAAAAAAADFAAAAAAAAAL0AAAAAAAAA1QAAAAAAAADNAAAAAAAAAMUDNzMzMzMwvQAAAAAAAADNAAAAAAAAAJ0AAAAAAAIAzQAAAAAAAAChAAAAAAAAALUAAAAAAAAAzQGZmZmZm5jBAmpmZmZmZKUAAAAAAAAAqQJqZmZmZmSlAmpmZmZmZLkAAAAAAAAAyQAAAAAAAAClAZmZmZmbmM0CamZmZmZktQAAAAAAAACxAAAAAAACANEAAAAAAAAAvQAAAAAAAgDNAMzMzMzOzMkAAAAAAAAAnQAAAAAAAADFAZmZmZmZmLEAAAAAAAAAqQAAAAAAAACpAZmZmZmZmMEAAAAAAAAAvQDMzMzMzszVAAAAAAAAAMEAAAAAAAAAvQDMzMzMzszdAmpmZmZmZL0AzMzMzMzMzQJqZmZmZGTJAAAAAAAAAMEBmZmZmZmYwQAAAAAAAAClAAAAAAAAAKUDNzMzMzMwsQGZmZmZmZjRAAAAAAAAAKEAzMzMzMzMoQM3MzMzMzC1AAAAAAAAALkAAAAAAAIAzQAAAAAAAgDBAZmZmZmZmKkDNzMzMzMwwQAAAAAAAAC1AAAAAAAAAK0CamZmZmZkxQAAAAAAAgDBAZmZmZmZmL0AAAAAAAIAzQAAAAAAAAC9AAAAAAACAMUBmZmZmZmYxQAAAAAAAAC9AmpmZmZmZLEDNzMzMzMwtQAAAAAAAAC1AAAAAAAAAMEAAAAAAAAAtQAAAAAAAACZAmpmZmZmZMkAAAAAAAAAsQAAAAAAAADFAAAAAAACAMUAAAAAAAAAqQAAAAAAAADJAAAAAAAAAMUAAAAAAAIAzQDMzMzMzMzJAAAAAAAAAK0AAAAAAAIAwQDMzMzMzszFAMzMzMzOzMEAzMzMzMzMuQGZmZmZm5jFAmpmZmZmZKUAAAAAAAAAiQGZmZmZmZi9AzczMzMzMJkAzMzMzMzMxQDMzMzMzMzZAAAAAAAAAJkCamZmZmZkvQDMzMzMzMzBAAAAAAAAALUCamZmZmRk0QAAAAAAAADFAAAAAAACAM0AzMzMzMzMpQGZmZmZm5jBAAAAAAAAALkAAAAAAAIAxQAAAAAAAAC5AAAAAAAAAIUDNzMzMzMwtQDMzMzMzMzFAZmZmZmZmL0BmZmZmZmYuQM3MzMzMzCxAMzMzMzOzMUAAAAAAAAAzQM3MzMzMzDJAAAAAAAAAL0AAAAAAAIAwQAAAAAAAAC1AAAAAAAAAL0BmZmZmZmYqQJqZmZmZmTNAAAAAAAAAJEAAAAAAAIAyQM3MzMzMzC1AAAAAAAAAJkAAAAAAAIAyQM3MzMzMTDJAMzMzMzOzMkAzMzMzMzMwQAAAAAAAADVAAAAAAAAAL0AzMzMzMzMuQJqZmZmZGTFAAAAAAAAAKEAzMzMzMzMwQAAAAAAAADBAAAAAAAAALEDNzMzMzMwwQAAAAAAAgDVAmpmZmZkZNEAzMzMzMzMzQAAAAAAAAChAAAAAAAAAL0AAAAAAAAAqQJqZmZmZmTBAAAAAAAAAKEBmZmZmZmYxQDMzMzMzMzNAAAAAAAAAKkAAAAAAAIAwQAAAAAAAADNAAAAAAAAAJkAAAAAAAAApQGZmZmZmZipAMzMzMzMzMkAAAAAAAAAmQGZmZmZm5jVAzczMzMzMMUAAAAAAAIAwQAAAAAAAACZAAAAAAAAAK0CamZmZmZkuQGZmZmZmZi5AAAAAAAAAKkDNzMzMzMw1QAAAAAAAACRAAAAAAAAAJkAAAAAAAAAsQAAAAAAAADJAAAAAAAAAJEDNzMzMzMwtQAAAAAAAACpAZmZmZmbmMEAAAAAAAAAwQJqZmZmZmS1AAAAAAACAMEAAAAAAAAAxQAAAAAAAACxAAAAAAAAALUBmZmZmZmYwQAAAAAAAACtAZmZmZmZmM0AAAAAAAAAzQAAAAAAAgDJAAAAAAACAMEAAAAAAAAAuQGZmZmZmZihAZmZmZmZmK0AAAAAAAAAuQAAAAAAAACtAAAAAAAAAL0AAAAAAAAAtQAAAAAAAACxAmpmZmZmZL0AAAAAAAAAtQAAAAAAAAC1AmpmZmZmZL0CamZmZmZkyQGZmZmZmZjBAAAAAAAAALUAAAAAAAAApQJqZmZmZmSZAAAAAAAAALUBmZmZmZmYqQDMzMzMzMyxAAAAAAAAAI0BmZmZmZmYtQGZmZmZmZi1AzczMzMzMLEAAAAAAAAAvQJqZmZmZmS5AzczMzMzMKkAAAAAAAAAnQAAAAAAAACBAZmZmZmZmKEDNzMzMzMwxQAAAAAAAAClAAAAAAAAALUDNzMzMzMwrQM3MzMzMzCxAMzMzMzMzMkAAAAAAAIAwQAAAAAAAADJAAAAAAAAAM0AAAAAAAAAwQAAAAAAAACtAAAAAAAAAMUAAAAAAAAAoQGZmZmZmZixAAAAAAACAN0AAAAAAAAAqQM3MzMzMzC5AAAAAAAAAJ0AAAAAAAAAsQAAAAAAAADFAAAAAAAAAMkAAAAAAAAAqQDMzMzMzMy9AmpmZmZmZMkAAAAAAAAAoQM3MzMzMzC9AZmZmZmZmMEBmZmZmZmYwQDMzMzMzMytAZmZmZmZmKkAAAAAAAAArQAAAAAAAAC9AAAAAAAAAJ0AAAAAAAAAuQAAAAAAAAC5AMzMzMzOzMUAzMzMzMzMrQAAAAAAAACxAAAAAAACAMEAAAAAAAAAtQAAAAAAAACtAAAAAAAAALEAAAAAAAAAtQJqZmZmZmTFAmpmZmZmZMUAAAAAAAAAtQAAAAAAAADVAzczMzMzMKUBmZmZmZmYsQAAAAAAAACtAMzMzMzMzKUAAAAAAAAAwQAAAAAAAAClAAAAAAAAAM0AAAAAAAAAtQM3MzMzMTDFAAAAAAAAALkAAAAAAAAAuQAAAAAAAAC1AAAAAAAAAMkBmZmZmZmYtQAAAAAAAAC9AMzMzMzMzMkAAAAAAAAAsQAAAAAAAAC5AAAAAAACAMEBmZmZmZuYwQM3MzMzMTDFAAAAAAAAALUAAAAAAAAArQGZmZmZmZjNAAAAAAACAMEDNzMzMzEwxQJqZmZmZmTBAZmZmZmZmMEDNzMzMzMwuQA==\",\"dtype\":\"float64\",\"shape\":[392]},\"color\":[\"blue\",\"blue\",\"red\",\"blue\",\"green\",\"red\",\"red\",\"green\",\"blue\",\"blue\",\"green\",\"blue\",\"blue\",\"blue\",\"blue\",\"blue\",\"green\",\"blue\",\"red\",\"red\",\"blue\",\"blue\",\"blue\",\"blue\",\"blue\",\"green\",\"red\",\"red\",\"blue\",\"red\",\"red\",\"blue\",\"blue\",\"blue\",\"green\",\"green\",\"blue\",\"blue\",\"blue\",\"blue\",\"red\",\"blue\",\"blue\",\"blue\",\"blue\",\"red\",\"red\",\"blue\",\"blue\",\"blue\",\"blue\",\"blue\",\"red\",\"blue\",\"green\",\"blue\",\"blue\",\"blue\",\"blue\",\"red\",\"red\",\"blue\",\"blue\",\"blue\",\"blue\",\"blue\",\"blue\",\"blue\",\"blue\",\"blue\",\"blue\",\"green\",\"blue\",\"blue\",\"red\",\"blue\",\"blue\",\"blue\",\"blue\",\"green\",\"green\",\"green\",\"green\",\"blue\",\"blue\",\"green\",\"blue\",\"blue\",\"red\",\"blue\",\"blue\",\"blue\",\"blue\",\"red\",\"red\",\"blue\",\"red\",\"blue\",\"blue\",\"blue\",\"green\",\"green\",\"blue\",\"blue\",\"green\",\"green\",\"blue\",\"blue\",\"red\",\"green\",\"green\",\"blue\",\"blue\",\"blue\",\"green\",\"blue\",\"red\",\"blue\",\"blue\",\"blue\",\"green\",\"red\",\"blue\",\"green\",\"blue\",\"green\",\"green\",\"blue\",\"blue\",\"blue\",\"blue\",\"blue\",\"green\",\"blue\",\"blue\",\"red\",\"blue\",\"green\",\"blue\",\"blue\",\"green\",\"blue\",\"blue\",\"blue\",\"blue\",\"red\",\"green\",\"blue\",\"blue\",\"green\",\"blue\",\"blue\",\"green\",\"red\",\"blue\",\"blue\",\"blue\",\"red\",\"red\",\"blue\",\"red\",\"blue\",\"blue\",\"green\",\"green\",\"green\",\"blue\",\"red\",\"blue\",\"red\",\"blue\",\"red\",\"blue\",\"blue\",\"blue\",\"blue\",\"blue\",\"green\",\"blue\",\"blue\",\"blue\",\"green\",\"blue\",\"green\",\"blue\",\"blue\",\"green\",\"blue\",\"red\",\"green\",\"blue\",\"green\",\"blue\",\"blue\",\"blue\",\"blue\",\"blue\",\"blue\",\"red\",\"blue\",\"blue\",\"green\",\"blue\",\"red\",\"red\",\"red\",\"blue\",\"blue\",\"blue\",\"blue\",\"red\",\"red\",\"red\",\"blue\",\"blue\",\"red\",\"red\",\"red\",\"blue\",\"blue\",\"blue\",\"blue\",\"blue\",\"red\",\"blue\",\"blue\",\"blue\",\"red\",\"blue\",\"blue\",\"blue\",\"blue\",\"green\",\"blue\",\"blue\",\"blue\",\"blue\",\"blue\",\"red\",\"green\",\"green\",\"red\",\"blue\",\"red\",\"blue\",\"blue\",\"blue\",\"red\",\"red\",\"blue\",\"blue\",\"red\",\"blue\",\"red\",\"blue\",\"red\",\"blue\",\"green\",\"red\",\"blue\",\"blue\",\"blue\",\"green\",\"blue\",\"blue\",\"green\",\"blue\",\"blue\",\"blue\",\"blue\",\"blue\",\"blue\",\"blue\",\"green\",\"blue\",\"red\",\"blue\",\"red\",\"green\",\"blue\",\"blue\",\"red\",\"red\",\"blue\",\"blue\",\"red\",\"green\",\"green\",\"blue\",\"blue\",\"red\",\"blue\",\"blue\",\"blue\",\"blue\",\"red\",\"blue\",\"green\",\"red\",\"red\",\"green\",\"blue\",\"blue\",\"green\",\"blue\",\"green\",\"blue\",\"blue\",\"green\",\"blue\",\"blue\",\"green\",\"blue\",\"blue\",\"blue\",\"blue\",\"blue\",\"blue\",\"green\",\"blue\",\"blue\",\"red\",\"blue\",\"red\",\"blue\",\"blue\",\"blue\",\"red\",\"blue\",\"red\",\"green\",\"blue\",\"blue\",\"blue\",\"blue\",\"red\",\"blue\",\"blue\",\"blue\",\"blue\",\"blue\",\"blue\",\"blue\",\"blue\",\"blue\",\"blue\",\"blue\",\"blue\",\"blue\",\"blue\",\"blue\",\"blue\",\"green\",\"green\",\"red\",\"green\",\"red\",\"blue\",\"red\",\"blue\",\"blue\",\"green\",\"green\",\"blue\",\"green\",\"blue\",\"red\",\"blue\",\"blue\",\"red\",\"red\",\"blue\",\"blue\",\"blue\",\"blue\",\"blue\",\"green\",\"green\",\"blue\",\"blue\",\"blue\",\"green\",\"blue\",\"red\",\"red\",\"red\",\"red\",\"blue\",\"blue\",\"red\",\"blue\",\"blue\"],\"cyl\":[6,8,4,6,4,4,4,4,8,8,4,4,4,8,8,8,4,4,4,3,6,6,8,8,4,4,4,4,6,4,6,8,4,6,4,4,8,8,4,4,4,4,8,8,4,4,4,8,4,6,8,8,4,4,4,4,6,6,6,4,4,6,6,4,6,4,8,8,8,4,8,4,8,8,6,4,6,6,6,4,6,4,4,6,4,4,8,8,4,8,4,8,6,4,4,8,4,6,6,4,4,4,4,4,4,4,6,8,4,5,4,8,4,8,4,8,4,8,8,8,4,4,8,5,4,4,4,6,4,6,8,4,4,8,8,4,6,4,6,4,4,6,6,4,6,4,4,8,4,4,8,8,4,4,6,6,4,4,4,8,4,4,4,4,4,4,8,6,8,4,6,4,8,8,4,8,4,4,8,4,6,4,6,4,4,4,6,6,4,4,8,4,8,6,8,8,6,4,4,4,6,4,6,4,4,4,6,8,4,6,4,4,4,6,6,4,4,4,8,6,8,4,8,4,4,8,6,4,6,6,6,6,4,6,8,4,4,8,4,4,5,4,8,4,8,6,8,4,4,8,6,4,8,3,8,4,8,4,4,6,8,8,4,8,6,4,8,8,8,6,8,8,8,4,6,4,4,4,4,8,4,3,4,4,4,4,4,4,8,6,4,8,4,6,6,4,6,6,4,4,4,8,6,4,4,4,8,4,4,4,6,4,6,8,8,8,6,8,4,8,4,4,4,4,6,8,8,4,8,4,4,8,8,8,4,4,4,8,4,4,8,4,4,4,4,8,8,4,8,4,8,6,6,4,4,4,3,8,6,4,6,4,4,4,4,8,6,6,8,4,4,4,8,8,4,6,4,4,6,8,6,4,6,4,4,6,4,6,4,4,6,4],\"displ\":{\"__ndarray__\":\"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\",\"dtype\":\"float64\",\"shape\":[392]},\"hp\":[88,193,60,98,78,100,75,76,130,140,52,88,84,148,150,130,58,82,65,110,95,110,140,170,78,90,96,95,110,75,132,150,83,85,86,75,140,139,70,52,60,84,138,180,65,67,97,150,70,100,180,129,95,90,83,75,100,85,112,67,65,88,100,75,100,70,145,110,210,80,145,69,150,198,120,92,90,115,95,75,76,67,71,115,84,91,150,215,67,175,60,175,110,95,68,150,67,95,110,105,102,110,89,66,88,75,78,105,70,103,60,150,72,170,90,110,58,152,145,139,83,69,150,67,80,71,46,105,90,110,175,80,74,150,150,65,100,48,105,90,48,105,105,88,100,75,113,190,92,80,165,180,71,97,72,105,90,75,88,155,68,90,84,87,112,87,125,108,142,97,105,75,137,150,88,145,63,95,140,88,85,70,85,115,86,79,120,120,65,110,220,115,170,100,90,225,85,65,97,90,90,49,110,70,92,53,100,190,63,90,67,65,75,100,110,60,93,88,150,100,150,88,225,68,70,208,105,74,90,110,72,97,88,88,129,85,86,150,70,48,77,65,175,90,150,110,130,53,65,158,95,61,215,100,145,68,150,88,67,105,175,160,74,135,100,67,198,180,215,100,225,155,170,81,85,95,80,92,70,149,84,97,52,72,85,52,95,71,140,100,96,150,75,107,110,75,97,133,70,67,112,145,115,98,70,78,230,63,76,105,95,62,165,165,160,190,95,180,78,120,80,75,68,67,95,140,110,72,150,95,54,153,130,170,86,97,90,145,86,79,165,83,64,92,72,140,150,96,150,80,130,100,125,90,94,76,90,150,97,85,81,78,46,84,70,153,116,100,167,88,88,88,200,125,92,110,69,67,90,150,90,71,105,62,88,122,65,88,90,68,110,88],\"index\":[0,1,2,3,4,5,6,7,8,9,10,11,12,13,14,15,16,17,18,19,20,21,22,23,24,25,26,27,28,29,30,31,32,33,34,35,36,37,38,39,40,41,42,43,44,45,46,47,48,49,50,51,52,53,54,55,56,57,58,59,60,61,62,63,64,65,66,67,68,69,70,71,72,73,74,75,76,77,78,79,80,81,82,83,84,85,86,87,88,89,90,91,92,93,94,95,96,97,98,99,100,101,102,103,104,105,106,107,108,109,110,111,112,113,114,115,116,117,118,119,120,121,122,123,124,125,126,127,128,129,130,131,132,133,134,135,136,137,138,139,140,141,142,143,144,145,146,147,148,149,150,151,152,153,154,155,156,157,158,159,160,161,162,163,164,165,166,167,168,169,170,171,172,173,174,175,176,177,178,179,180,181,182,183,184,185,186,187,188,189,190,191,192,193,194,195,196,197,198,199,200,201,202,203,204,205,206,207,208,209,210,211,212,213,214,215,216,217,218,219,220,221,222,223,224,225,226,227,228,229,230,231,232,233,234,235,236,237,238,239,240,241,242,243,244,245,246,247,248,249,250,251,252,253,254,255,256,257,258,259,260,261,262,263,264,265,266,267,268,269,270,271,272,273,274,275,276,277,278,279,280,281,282,283,284,285,286,287,288,289,290,291,292,293,294,295,296,297,298,299,300,301,302,303,304,305,306,307,308,309,310,311,312,313,314,315,316,317,318,319,320,321,322,323,324,325,326,327,328,329,330,331,332,333,334,335,336,337,338,339,340,341,342,343,344,345,346,347,348,349,350,351,352,353,354,355,356,357,358,359,360,361,362,363,364,365,366,367,368,369,370,371,372,373,374,375,376,377,378,379,380,381,382,383,384,385,386,387,388,389,390,391],\"mpg\":{\"__ndarray__\":\"AAAAAAAAMkAAAAAAAAAiQM3MzMzMDEJAAAAAAACAMkBmZmZmZiZBQDMzMzMzc0BAmpmZmZkZQEAAAAAAAAA2QAAAAAAAAC5AAAAAAAAAMUAAAAAAAABGQAAAAAAAgDhAAAAAAAAAQEAAAAAAAAAsQAAAAAAAAC5AAAAAAAAAKkAAAAAAAABCQAAAAAAAAD9AAAAAAAAAQEAAAAAAAIA1QAAAAAAAADNAAAAAAAAAMUAAAAAAAAAwQAAAAAAAAC5AAAAAAAAAN0AAAAAAAAA6QAAAAAAAAEBAAAAAAAAAOEAAAAAAAAA1QM3MzMzMTD9AmpmZmZlZQEAAAAAAAAAuQAAAAAAAADdAmpmZmZmZMUAAAAAAAAA8QAAAAAAAADhAAAAAAAAALECamZmZmRkyQAAAAAAAAEJAAAAAAAAAPUDNzMzMzIxBQAAAAAAAAEJAAAAAAACAMEAAAAAAAAAwQGZmZmZm5j1AAAAAAAAAP0AzMzMzMzM7QAAAAAAAACxAzczMzMwMQEAAAAAAAAAuQAAAAAAAAChAmpmZmZmZMUAAAAAAAAA5QGZmZmZmZjxAAAAAAAAAPUBmZmZmZuY+QAAAAAAAADRAzczMzMzMNEAAAAAAAAA2QAAAAAAAAENAAAAAAAAAP0AAAAAAAAAzQAAAAAAAADBAAAAAAAAAOUAAAAAAAAA2QAAAAAAAADpAAAAAAAAAKkBmZmZmZuYzQAAAAAAAACZAAAAAAAAAPEAAAAAAAAAvQAAAAAAAADpAAAAAAAAALEAAAAAAAAAoQDMzMzMzMzhAAAAAAAAAOUAAAAAAAIA2QM3MzMzMzDpAAAAAAAAAN0AAAAAAAAA6QDMzMzMzsz5AAAAAAAAAP0AzMzMzMzM7QAAAAAAAgDVAAAAAAAAAPUAAAAAAAAA0QAAAAAAAACpAAAAAAAAALEAAAAAAAABDQAAAAAAAACpAAAAAAACAOEAAAAAAAAAqQAAAAAAAADlAAAAAAAAAOEDNzMzMzAxBQAAAAAAAACpAzczMzMxMRkAAAAAAAIA0QAAAAAAAADJAMzMzMzMzN0AAAAAAAAA0QAAAAAAAADhAAAAAAACAOUDNzMzMzAxCQAAAAAAAADdAAAAAAAAAOEAAAAAAAAAyQJqZmZmZmTpAAAAAAAAAQEDNzMzMzEw0QAAAAAAAADtAAAAAAAAAMUAAAAAAAAA1QAAAAAAAACpAAAAAAAAAOEAAAAAAAAAxQM3MzMzMjENAAAAAAAAALUAAAAAAAAAqQDMzMzMzMzRAAAAAAAAAO0AAAAAAAIBBQAAAAAAAAC5AMzMzMzMzQkAAAAAAAAA+QGZmZmZm5j9AAAAAAAAAOkAAAAAAAAAwQAAAAAAAADRAmpmZmZmZMkAAAAAAAAAsQAAAAAAAADlAAAAAAACAQEAAAAAAAAAsQAAAAAAAgDJAmpmZmZmZQkAAAAAAAAAyQGZmZmZmJkZAAAAAAAAAMkAAAAAAAAA8QDMzMzMzs0VAmpmZmZmZNEAzMzMzMzMzQGZmZmZmZjpAAAAAAAAAMkAAAAAAAAA8QAAAAAAAADpAAAAAAAAAKkDNzMzMzMw5QJqZmZmZGTxAAAAAAAAAKkAAAAAAAIAwQAAAAAAAgD9AAAAAAAAAOEAAAAAAAAAuQAAAAAAAADJAAAAAAADAQEAzMzMzMzNAQAAAAAAAADtAAAAAAAAAKkAAAAAAAAA/QAAAAAAAADxAMzMzMzMzO0AAAAAAAAA1QAAAAAAAADNAAAAAAAAAOUAAAAAAAAA3QAAAAAAAADNAAAAAAAAAL0BmZmZmZuY3QAAAAAAAADZAAAAAAAAAPUAAAAAAAAAsQAAAAAAAAC5AAAAAAAAAO0AAAAAAAAAuQAAAAAAAgD5AAAAAAAAAOUAAAAAAAIAxQAAAAAAAAEFAAAAAAAAAQ0AAAAAAAAA+QM3MzMzMzDNAAAAAAAAAOUAAAAAAAAA1QAAAAAAAADpAAAAAAACAMECamZmZmRkyQM3MzMzMTEdAAAAAAACANUAAAAAAAAAsQJqZmZmZmTVAAAAAAAAAL0AAAAAAAIA0QGZmZmZm5jdAAAAAAAAAKEAzMzMzMzM0QDMzMzMzM0FAAAAAAAAAN0DNzMzMzEw4QAAAAAAAADNAAAAAAAAAPUAAAAAAAIA3QAAAAAAAAEFAAAAAAACAQkAAAAAAAIBAQAAAAAAAADJAAAAAAAAALkCamZmZmVlBQGZmZmZmZjNAAAAAAAAAQEDNzMzMzAxBQJqZmZmZ2UBAAAAAAAAANEAAAAAAAAAuQM3MzMzMDENAAAAAAAAAOkAAAAAAAAA7QAAAAAAAADBAAAAAAAAAMUAAAAAAAAAqQAAAAAAAADxAAAAAAAAALEAAAAAAAIA/QAAAAAAAQEFAAAAAAAAAJkAAAAAAAAAwQJqZmZmZmT9AmpmZmZkZM0AAAAAAAIAyQAAAAAAAAC5AAAAAAAAAMkAAAAAAAIBBQDMzMzMzMzRAAAAAAAAAKkAAAAAAAAA/QAAAAAAAADZAAAAAAAAAJkAAAAAAAMBAQM3MzMzMjEVAZmZmZmZmOUBmZmZmZmZEQAAAAAAAACxAzczMzMzMPUAAAAAAAAAwQJqZmZmZmTRAAAAAAAAAMkAAAAAAAIBAQM3MzMzMzD9AAAAAAAAAKkAAAAAAAAA0QAAAAAAAAEBAAAAAAAAAKkAzMzMzM7M3QDMzMzMzMzNAAAAAAACAQkAAAAAAAAAyQAAAAAAAADNAZmZmZmYmQEAAAAAAAAAyQAAAAAAAACpAAAAAAAAAKEAAAAAAAABCQDMzMzMzMzJAAAAAAAAAM0AAAAAAAAA+QAAAAAAAAC5AAAAAAAAAJkAAAAAAAAAkQAAAAAAAADBAAAAAAAAALEBmZmZmZuYwQAAAAAAAACpAAAAAAAAAOUAAAAAAAAA1QJqZmZmZGTVAAAAAAAAAOkAAAAAAAAA8QAAAAAAAAD1AAAAAAAAAMECamZmZmZk6QAAAAAAAADNAZmZmZmZmQEAAAAAAAAA2QAAAAAAAADNAAAAAAAAAP0AAAAAAAAA3QAAAAAAAgD1AAAAAAACAMUAAAAAAAAAzQAAAAAAAADhAAAAAAAAALEAAAAAAAAA8QAAAAAAAADVAZmZmZmZmNkAAAAAAAABCQAAAAAAAADJAMzMzMzMzMEAzMzMzM7NDQAAAAAAAAD5AAAAAAAAAMkAAAAAAAIAxQM3MzMzMzDxAAAAAAAAANkCamZmZmRlBQAAAAAAAgD5AAAAAAAAAMEAAAAAAAABDQAAAAAAAwERAZmZmZmbmO0AAAAAAAAA2QM3MzMzMzD1AMzMzMzOzMUAAAAAAAAAuQAAAAAAAACxAAAAAAAAAL0AAAAAAAIAxQAAAAAAAAChAAAAAAAAAPUAAAAAAAAAvQJqZmZmZ2UFAAAAAAAAAOkAAAAAAAAA+QGZmZmZm5kBAAAAAAAAAMkAAAAAAAAAqQAAAAAAAADRAMzMzMzMzQEAAAAAAAAAwQAAAAAAAgDtAAAAAAAAAN0AAAAAAAAAsQAAAAAAAADFAAAAAAAAAMEAAAAAAAAA3QAAAAAAAADhAAAAAAAAAO0AAAAAAAAAuQAAAAAAAADtAAAAAAAAAPEAAAAAAAAAsQAAAAAAAwEBAAAAAAACAQ0AAAAAAAAA4QAAAAAAAgDpAZmZmZmZmM0AAAAAAAAAuQAAAAAAAgDlAAAAAAAAALEBmZmZmZmY7QAAAAAAAACpAAAAAAAAAM0AAAAAAAAAxQAAAAAAAADxAAAAAAAAANkAAAAAAAAA+QAAAAAAAADJAAAAAAAAALEAAAAAAAAA2QM3MzMzMzDdAAAAAAAAAOEAAAAAAAAA6QAAAAAAAADpAAAAAAAAAPkAAAAAAAAA9QAAAAAAAACxAZmZmZmZmOUAAAAAAAAAzQAAAAAAAAChAAAAAAAAANEAAAAAAAAA7QM3MzMzMTDZAAAAAAAAAJEAzMzMzMzMzQAAAAAAAADpAAAAAAAAAMEBmZmZmZqZCQAAAAAAAADpAMzMzMzMzNEAAAAAAAAAqQAAAAAAAADVAAAAAAAAAOUAAAAAAAIA0QJqZmZmZ2UJAAAAAAAAAQkAAAAAAAAA0QAAAAAAAgEJAAAAAAAAAMkAAAAAAAAA7QAAAAAAAgD1AAAAAAACAMUCamZmZmRk5QA==\",\"dtype\":\"float64\",\"shape\":[392]},\"name\":[\"ford mustang\",\"hi 1200d\",\"honda civic cvcc\",\"ford granada\",\"audi 4000\",\"datsun 200sx\",\"toyota corolla\",\"volkswagen 411 (sw)\",\"mercury cougar brougham\",\"ford torino\",\"vw pickup\",\"pontiac sunbird coupe\",\"dodge rampage\",\"ford ltd\",\"chevrolet monte carlo\",\"chevrolet chevelle concours (sw)\",\"renault 5 gtl\",\"chevy s-10\",\"toyota corolla 1200\",\"mazda rx-4\",\"plymouth valiant custom\",\"buick century\",\"ford gran torino\",\"dodge challenger se\",\"pontiac astro\",\"fiat 124 sport coupe\",\"toyota celica gt\",\"toyota corona mark ii\",\"buick skyhawk\",\"mazda 626\",\"datsun 280-zx\",\"amc matador (sw)\",\"ford pinto\",\"chrysler lebaron salon\",\"fiat 131\",\"opel manta\",\"ford gran torino (sw)\",\"ford futura\",\"mercury lynx l\",\"chevrolet chevette\",\"honda civic 1300\",\"dodge charger 2.2\",\"mercury grand marquis\",\"pontiac grand prix lj\",\"ford escort 2h\",\"datsun b210\",\"datsun 510\",\"dodge coronet custom (sw)\",\"chevrolet chevette\",\"chevrolet nova\",\"dodge monaco (sw)\",\"ford ltd landau\",\"toyota corona\",\"buick skylark limited\",\"audi fox\",\"dodge omni\",\"amc gremlin\",\"mercury zephyr\",\"ford granada l\",\"honda civic\",\"toyota corolla 1200\",\"ford torino 500\",\"chevrolet chevelle malibu classic\",\"chevrolet vega\",\"plymouth valiant\",\"plymouth cricket\",\"chevy c10\",\"oldsmobile cutlass salon brougham\",\"dodge d200\",\"dodge colt (sw)\",\"dodge monaco brougham\",\"renault 12 (sw)\",\"plymouth fury gran sedan\",\"mercury marquis brougham\",\"datsun 810 maxima\",\"capri ii\",\"amc hornet\",\"oldsmobile omega brougham\",\"plymouth duster\",\"fiat 124 tc\",\"volvo diesel\",\"fiat x1.9\",\"peugeot 504\",\"pontiac lemans v6\",\"dodge aries se\",\"audi 100ls\",\"buick century luxus (sw)\",\"plymouth fury iii\",\"datsun 310 gx\",\"pontiac safari (sw)\",\"chevrolet woody\",\"buick century 350\",\"buick century limited\",\"toyota corona hardtop\",\"mazda glc 4\",\"chevrolet caprice classic\",\"honda civic 1500 gl\",\"chevrolet malibu\",\"amc hornet sportabout (sw)\",\"plymouth sapporo\",\"volvo 245\",\"saab 99le\",\"ford mustang ii 2+2\",\"ford fiesta\",\"peugeot 504\",\"fiat 128\",\"ford granada ghia\",\"oldsmobile cutlass ls\",\"datsun b-210\",\"audi 5000\",\"volkswagen model 111\",\"amc ambassador sst\",\"chevrolet vega\",\"ford country squire (sw)\",\"audi 100 ls\",\"oldsmobile cutlass supreme\",\"toyota starlet\",\"ford gran torino\",\"chevrolet malibu\",\"mercury monarch ghia\",\"renault 12tl\",\"datsun 1200\",\"dodge coronet custom\",\"audi 5000s (diesel)\",\"buick opel isuzu deluxe\",\"vw rabbit custom\",\"volkswagen 1131 deluxe sedan\",\"plymouth satellite custom\",\"chevrolet vega\",\"dodge aspen\",\"pontiac catalina brougham\",\"dodge colt hardtop\",\"volkswagen jetta\",\"plymouth fury iii\",\"chrysler lebaron town @ country (sw)\",\"datsun 310\",\"amc matador\",\"vw rabbit c (diesel)\",\"chevrolet nova\",\"chevrolet vega 2300\",\"vw dasher (diesel)\",\"buick century special\",\"pontiac phoenix lj\",\"ford fairmont\",\"amc hornet\",\"toyota corolla\",\"bmw 2002\",\"chrysler newport royal\",\"dodge aries wagon (sw)\",\"peugeot 505s turbo diesel\",\"chevrolet impala\",\"cadillac seville\",\"volkswagen scirocco\",\"honda civic\",\"ford maverick\",\"plymouth satellite sebring\",\"pontiac phoenix\",\"toyota corolla\",\"datsun pl510\",\"buick lesabre custom\",\"mazda glc custom\",\"chevrolet citation\",\"plymouth reliant\",\"peugeot 504 (sw)\",\"volvo 144ea\",\"peugeot 504\",\"cadillac eldorado\",\"toyota mark ii\",\"ford country squire (sw)\",\"datsun 200-sx\",\"chevrolet nova\",\"toyota corolla\",\"ford gran torino\",\"dodge dart custom\",\"chevrolet cavalier wagon\",\"chevrolet bel air\",\"chevrolet chevette\",\"saab 99e\",\"chevrolet chevelle malibu classic\",\"chevrolet cavalier 2-door\",\"oldsmobile cutlass ciera (diesel)\",\"peugeot 304\",\"mercury zephyr 6\",\"saab 99le\",\"ford pinto runabout\",\"dodge colt\",\"mercedes-benz 280s\",\"amc concord d/l\",\"mazda glc\",\"bmw 320i\",\"chevrolet impala\",\"saab 99gle\",\"chevrolet monte carlo landau\",\"plymouth volare\",\"oldsmobile cutlass salon brougham\",\"buick electra 225 custom\",\"ford fairmont (auto)\",\"ford escort 4w\",\"toyouta corona mark ii (sw)\",\"amc concord\",\"amc pacer\",\"fiat 128\",\"chevrolet citation\",\"toyota corolla\",\"datsun 510 hatchback\",\"honda civic cvcc\",\"amc gremlin\",\"amc ambassador dpl\",\"plymouth horizon 4\",\"amc concord\",\"honda civic (auto)\",\"maxda glc deluxe\",\"honda prelude\",\"dodge aspen se\",\"amc matador\",\"toyota corolla tercel\",\"subaru\",\"toyota corolla 1600 (sw)\",\"plymouth grand fury\",\"chevrolet chevelle malibu\",\"plymouth volare premier v8\",\"chevrolet cavalier\",\"buick estate wagon (sw)\",\"honda accord cvcc\",\"plymouth horizon tc3\",\"mercury marquis\",\"chevroelt chevelle malibu\",\"mazda 626\",\"dodge aspen\",\"pontiac ventura sj\",\"mercury monarch\",\"amc hornet\",\"triumph tr7 coupe\",\"ford granada gl\",\"ford mustang ii\",\"pontiac j2000 se hatchback\",\"ford pinto (sw)\",\"chevrolet impala\",\"datsun f-10 hatchback\",\"volkswagen rabbit custom diesel\",\"mercedes benz 300d\",\"datsun 210\",\"pontiac catalina\",\"toyota corona liftback\",\"dodge coronet brougham\",\"dodge aspen 6\",\"chevrolet chevelle malibu\",\"honda civic\",\"datsun 210\",\"ford ltd\",\"plymouth duster\",\"datsun 710\",\"chrysler new yorker brougham\",\"mazda rx-7 gs\",\"chevrolet monte carlo landau\",\"mazda glc custom l\",\"plymouth satellite\",\"peugeot 504\",\"subaru\",\"plymouth valiant\",\"amc ambassador brougham\",\"oldsmobile delta 88 royale\",\"volkswagen rabbit l\",\"dodge st. regis\",\"amc gremlin\",\"mercedes-benz 240d\",\"ford galaxie 500\",\"oldsmobile omega\",\"ford f250\",\"chevrolet nova custom\",\"pontiac catalina\",\"buick estate wagon (sw)\",\"plymouth custom suburb\",\"opel 1900\",\"ford maverick\",\"toyota celica gt liftback\",\"ford pinto\",\"datsun 510 (sw)\",\"volkswagen rabbit\",\"ford thunderbird\",\"buick skylark\",\"mazda rx2 coupe\",\"mazda glc deluxe\",\"chevrolet vega (sw)\",\"ford pinto\",\"toyota corona\",\"audi 100ls\",\"volkswagen rabbit\",\"dodge magnum xe\",\"pontiac firebird\",\"toyota corona\",\"amc matador (sw)\",\"dodge colt\",\"mercury capri v6\",\"buick century\",\"honda accord\",\"ford pinto\",\"peugeot 604sl\",\"datsun b210 gx\",\"subaru dl\",\"volvo 145e (sw)\",\"chevrolet caprice classic\",\"chevrolet citation\",\"volvo 244dl\",\"plymouth horizon\",\"volkswagen dasher\",\"pontiac grand prix\",\"plymouth horizon miser\",\"vw rabbit\",\"dodge colt\",\"plymouth duster\",\"vokswagen rabbit\",\"buick regal sport coupe (turbo)\",\"buick skylark 320\",\"plymouth 'cuda 340\",\"chrysler cordoba\",\"amc pacer d/l\",\"oldsmobile vista cruiser\",\"volkswagen rabbit custom\",\"amc matador\",\"dodge colt hatchback custom\",\"toyota corolla liftback\",\"chevrolet chevette\",\"subaru dl\",\"plymouth fury\",\"ford gran torino (sw)\",\"chevrolet monza 2+2\",\"honda accord\",\"amc rebel sst\",\"toyota corona\",\"volkswagen type 3\",\"ford galaxie 500\",\"chevrolet caprice classic\",\"pontiac catalina\",\"mercury capri 2000\",\"datsun 710\",\"pontiac phoenix\",\"chevrolet monte carlo s\",\"ford mustang gl\",\"ford ranger\",\"chevrolet impala\",\"dodge colt m/m\",\"plymouth champ\",\"ford fairmont futura\",\"ford pinto\",\"dodge diplomat\",\"plymouth fury iii\",\"plymouth arrow gs\",\"amc matador\",\"amc spirit dl\",\"ford f108\",\"plymouth volare custom\",\"volvo 264gl\",\"opel 1900\",\"datsun 610\",\"fiat 124b\",\"maxda rx3\",\"plymouth satellite custom (sw)\",\"datsun 810\",\"oldsmobile starfire sx\",\"ford maverick\",\"opel manta\",\"volkswagen super beetle\",\"plymouth reliant\",\"vw rabbit\",\"ford galaxie 500\",\"toyota cressida\",\"amc hornet\",\"ford country\",\"toyota carina\",\"datsun pl510\",\"ford fairmont 4\",\"chevy c20\",\"chevrolet malibu classic (sw)\",\"chrysler lebaron medallion\",\"amc matador\",\"fiat strada custom\",\"volkswagen dasher\",\"amc concord dl 6\",\"dodge d100\",\"amc gremlin\",\"volkswagen dasher\",\"buick skylark\",\"toyota tercel\",\"nissan stanza xe\",\"toyota mark ii\",\"datsun 210 mpg\",\"ford maverick\",\"chevrolet camaro\",\"honda accord lx\",\"chevrolet concours\",\"ford fairmont (man)\"],\"origin\":[\"US\",\"US\",\"Asia\",\"US\",\"Europe\",\"Asia\",\"Asia\",\"Europe\",\"US\",\"US\",\"Europe\",\"US\",\"US\",\"US\",\"US\",\"US\",\"Europe\",\"US\",\"Asia\",\"Asia\",\"US\",\"US\",\"US\",\"US\",\"US\",\"Europe\",\"Asia\",\"Asia\",\"US\",\"Asia\",\"Asia\",\"US\",\"US\",\"US\",\"Europe\",\"Europe\",\"US\",\"US\",\"US\",\"US\",\"Asia\",\"US\",\"US\",\"US\",\"US\",\"Asia\",\"Asia\",\"US\",\"US\",\"US\",\"US\",\"US\",\"Asia\",\"US\",\"Europe\",\"US\",\"US\",\"US\",\"US\",\"Asia\",\"Asia\",\"US\",\"US\",\"US\",\"US\",\"US\",\"US\",\"US\",\"US\",\"US\",\"US\",\"Europe\",\"US\",\"US\",\"Asia\",\"US\",\"US\",\"US\",\"US\",\"Europe\",\"Europe\",\"Europe\",\"Europe\",\"US\",\"US\",\"Europe\",\"US\",\"US\",\"Asia\",\"US\",\"US\",\"US\",\"US\",\"Asia\",\"Asia\",\"US\",\"Asia\",\"US\",\"US\",\"US\",\"Europe\",\"Europe\",\"US\",\"US\",\"Europe\",\"Europe\",\"US\",\"US\",\"Asia\",\"Europe\",\"Europe\",\"US\",\"US\",\"US\",\"Europe\",\"US\",\"Asia\",\"US\",\"US\",\"US\",\"Europe\",\"Asia\",\"US\",\"Europe\",\"US\",\"Europe\",\"Europe\",\"US\",\"US\",\"US\",\"US\",\"US\",\"Europe\",\"US\",\"US\",\"Asia\",\"US\",\"Europe\",\"US\",\"US\",\"Europe\",\"US\",\"US\",\"US\",\"US\",\"Asia\",\"Europe\",\"US\",\"US\",\"Europe\",\"US\",\"US\",\"Europe\",\"Asia\",\"US\",\"US\",\"US\",\"Asia\",\"Asia\",\"US\",\"Asia\",\"US\",\"US\",\"Europe\",\"Europe\",\"Europe\",\"US\",\"Asia\",\"US\",\"Asia\",\"US\",\"Asia\",\"US\",\"US\",\"US\",\"US\",\"US\",\"Europe\",\"US\",\"US\",\"US\",\"Europe\",\"US\",\"Europe\",\"US\",\"US\",\"Europe\",\"US\",\"Asia\",\"Europe\",\"US\",\"Europe\",\"US\",\"US\",\"US\",\"US\",\"US\",\"US\",\"Asia\",\"US\",\"US\",\"Europe\",\"US\",\"Asia\",\"Asia\",\"Asia\",\"US\",\"US\",\"US\",\"US\",\"Asia\",\"Asia\",\"Asia\",\"US\",\"US\",\"Asia\",\"Asia\",\"Asia\",\"US\",\"US\",\"US\",\"US\",\"US\",\"Asia\",\"US\",\"US\",\"US\",\"Asia\",\"US\",\"US\",\"US\",\"US\",\"Europe\",\"US\",\"US\",\"US\",\"US\",\"US\",\"Asia\",\"Europe\",\"Europe\",\"Asia\",\"US\",\"Asia\",\"US\",\"US\",\"US\",\"Asia\",\"Asia\",\"US\",\"US\",\"Asia\",\"US\",\"Asia\",\"US\",\"Asia\",\"US\",\"Europe\",\"Asia\",\"US\",\"US\",\"US\",\"Europe\",\"US\",\"US\",\"Europe\",\"US\",\"US\",\"US\",\"US\",\"US\",\"US\",\"US\",\"Europe\",\"US\",\"Asia\",\"US\",\"Asia\",\"Europe\",\"US\",\"US\",\"Asia\",\"Asia\",\"US\",\"US\",\"Asia\",\"Europe\",\"Europe\",\"US\",\"US\",\"Asia\",\"US\",\"US\",\"US\",\"US\",\"Asia\",\"US\",\"Europe\",\"Asia\",\"Asia\",\"Europe\",\"US\",\"US\",\"Europe\",\"US\",\"Europe\",\"US\",\"US\",\"Europe\",\"US\",\"US\",\"Europe\",\"US\",\"US\",\"US\",\"US\",\"US\",\"US\",\"Europe\",\"US\",\"US\",\"Asia\",\"US\",\"Asia\",\"US\",\"US\",\"US\",\"Asia\",\"US\",\"Asia\",\"Europe\",\"US\",\"US\",\"US\",\"US\",\"Asia\",\"US\",\"US\",\"US\",\"US\",\"US\",\"US\",\"US\",\"US\",\"US\",\"US\",\"US\",\"US\",\"US\",\"US\",\"US\",\"US\",\"Europe\",\"Europe\",\"Asia\",\"Europe\",\"Asia\",\"US\",\"Asia\",\"US\",\"US\",\"Europe\",\"Europe\",\"US\",\"Europe\",\"US\",\"Asia\",\"US\",\"US\",\"Asia\",\"Asia\",\"US\",\"US\",\"US\",\"US\",\"US\",\"Europe\",\"Europe\",\"US\",\"US\",\"US\",\"Europe\",\"US\",\"Asia\",\"Asia\",\"Asia\",\"Asia\",\"US\",\"US\",\"Asia\",\"US\",\"US\"],\"size\":{\"__ndarray__\":\"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\",\"dtype\":\"float64\",\"shape\":[392]},\"weight\":[3139,4732,1800,3525,2188,2615,2265,2511,4295,3449,2130,2740,2295,4657,3761,4098,1825,2720,1836,2720,3264,3907,4141,3563,2592,2265,2665,2372,3039,2542,2910,3892,2639,3465,2464,2158,4638,3205,2125,2035,1760,2370,3955,4220,2380,1950,2300,4457,2120,3336,4955,3725,2228,2670,2219,2230,2914,3070,2835,1965,1773,3302,3781,2542,3233,1955,4055,3365,4382,2164,4140,2189,4237,4952,2930,2572,3085,2700,2904,2246,3160,2000,3190,3245,2525,2582,4699,4312,1995,5140,2164,4100,2945,2278,1985,4464,1850,3155,2962,2745,3150,2660,2755,1800,2957,2108,3574,3725,1990,2830,1834,3672,2401,4746,2430,4060,1755,4215,3988,3570,2202,1613,3777,2950,2155,1925,1835,3439,2408,3620,4464,2126,2190,4096,3940,2019,3288,2085,3459,2264,2335,3380,3535,2870,2945,2155,2234,4422,2620,3230,4274,4380,1990,2489,3158,3613,2556,2350,2130,4502,1970,2678,2490,2979,2868,2672,3900,2930,4054,2405,3353,2171,4042,3399,2640,4440,2051,2375,4215,2395,3015,2074,2990,2671,2226,2255,3820,3410,2110,2600,4354,2795,4165,3430,3420,4951,2965,2045,2506,3003,3211,1867,2725,2245,2434,1795,2789,3850,2215,3210,1965,1975,2210,3651,3730,1968,2391,2100,4498,3329,3940,2605,3086,2045,2150,4633,3897,2635,3381,3645,3432,2774,2500,3060,3169,2575,2395,4997,1945,1985,3530,2110,4385,2711,4190,3360,3504,1795,2020,4363,3102,2003,4735,2420,3425,2025,3436,3270,2065,3121,3821,4456,1980,3830,2634,3250,4341,3664,4615,3278,4425,4360,4654,2220,2587,2515,2451,2288,1937,4335,2635,2330,1985,2408,2310,1649,2694,1825,4080,3282,2702,4257,2125,2472,3415,2205,2984,3410,2070,1985,2933,3880,2595,2945,2200,2190,4278,2125,2144,2800,2833,1845,3445,3693,3609,4325,3193,4499,1940,3962,1915,2265,2155,2145,3785,4294,3221,2290,3433,2560,2254,4129,3840,4668,2220,2545,2735,4082,2790,2625,4209,2075,1875,2865,2565,3735,4135,2300,3672,2670,3870,3630,3140,2123,2379,2065,2124,4077,2815,2855,3012,2300,1950,2385,1937,4154,2900,2901,4906,2279,2130,2890,4376,3605,2585,3632,2130,1963,3265,3755,2648,2223,3425,2050,2160,2807,1975,3021,2950,2135,3520,2720],\"yr\":[71,70,78,77,80,81,80,72,77,70,82,77,82,75,70,72,77,82,74,77,75,75,74,70,75,73,82,70,75,80,80,72,75,81,76,73,74,78,82,76,81,82,79,77,81,74,78,74,80,74,71,79,71,79,74,78,75,78,82,82,71,71,74,74,76,71,76,78,70,72,77,72,73,73,81,76,76,79,73,74,81,74,79,79,82,73,74,70,82,71,76,73,82,72,81,73,80,78,71,78,76,73,77,78,75,74,76,81,76,78,71,72,73,71,70,77,81,76,73,78,76,71,73,80,77,79,70,71,72,78,71,72,81,71,79,80,71,80,75,71,80,78,78,80,73,76,70,72,81,81,72,76,78,74,75,74,79,81,70,72,82,80,81,72,73,70,79,76,79,78,76,75,73,73,82,75,77,70,76,82,82,71,79,75,72,76,76,78,80,77,70,78,77,78,79,73,78,81,72,80,75,73,81,82,80,75,73,70,81,78,82,79,81,76,75,80,74,72,75,71,76,82,70,77,79,72,75,81,80,76,75,70,80,81,75,82,72,73,77,78,79,80,72,80,76,79,70,76,79,73,74,74,73,80,78,82,70,76,81,73,73,72,82,79,71,80,70,73,70,73,70,79,73,76,70,78,74,72,75,77,81,72,78,71,73,74,75,76,78,71,75,74,74,73,81,82,75,78,78,77,72,77,79,75,79,77,73,82,80,80,70,80,78,70,70,77,76,73,77,76,79,77,78,80,75,72,75,80,70,78,72,72,79,75,71,75,82,73,82,82,71,77,81,82,76,78,72,77,73,79,76,77,78,71,73,71,73,72,77,78,76,74,73,81,76,71,81,74,73,73,71,79,70,79,82,74,79,74,79,76,70,75,77,81,82,73,81,73,82,78,77,78]},\"selected\":{\"id\":\"20853\",\"type\":\"Selection\"},\"selection_policy\":{\"id\":\"20854\",\"type\":\"UnionRenderers\"}},\"id\":\"20303\",\"type\":\"ColumnDataSource\"},{\"attributes\":{},\"id\":\"20293\",\"type\":\"HelpTool\"},{\"attributes\":{\"plot\":{\"id\":\"20269\",\"subtype\":\"Figure\",\"type\":\"Plot\"},\"ticker\":{\"id\":\"20279\",\"type\":\"BasicTicker\"}},\"id\":\"20282\",\"type\":\"Grid\"},{\"attributes\":{\"callback\":null},\"id\":\"20272\",\"type\":\"DataRange1d\"},{\"attributes\":{\"dimension\":1,\"plot\":{\"id\":\"20269\",\"subtype\":\"Figure\",\"type\":\"Plot\"},\"ticker\":{\"id\":\"20284\",\"type\":\"BasicTicker\"}},\"id\":\"20287\",\"type\":\"Grid\"},{\"attributes\":{\"fill_alpha\":{\"value\":0.1},\"fill_color\":{\"value\":\"#1f77b4\"},\"line_alpha\":{\"value\":0.1},\"line_color\":{\"value\":\"#1f77b4\"},\"x\":{\"field\":\"weight\"},\"y\":{\"field\":\"mpg\"}},\"id\":\"20307\",\"type\":\"Circle\"}],\"root_ids\":[\"20269\"]},\"title\":\"Bokeh Application\",\"version\":\"1.0.2\"}};\n",
       "  var render_items = [{\"docid\":\"333f28bc-67e2-465b-a13c-b03337e70ffb\",\"roots\":{\"20269\":\"932e383e-d914-4dbd-a6d8-11e2c4aae03d\"}}];\n",
       "  root.Bokeh.embed.embed_items_notebook(docs_json, render_items);\n",
       "\n",
       "  }\n",
       "  if (root.Bokeh !== undefined) {\n",
       "    embed_document(root);\n",
       "  } else {\n",
       "    var attempts = 0;\n",
       "    var timer = setInterval(function(root) {\n",
       "      if (root.Bokeh !== undefined) {\n",
       "        embed_document(root);\n",
       "        clearInterval(timer);\n",
       "      }\n",
       "      attempts++;\n",
       "      if (attempts > 100) {\n",
       "        console.log(\"Bokeh: ERROR: Unable to run BokehJS code because BokehJS library is missing\");\n",
       "        clearInterval(timer);\n",
       "      }\n",
       "    }, 10, root)\n",
       "  }\n",
       "})(window);"
      ],
      "application/vnd.bokehjs_exec.v0+json": ""
     },
     "metadata": {
      "application/vnd.bokehjs_exec.v0+json": {
       "id": "20269"
      }
     },
     "output_type": "display_data"
    }
   ],
   "source": [
    "#Import CategoricalColorMapper from bokeh.models\n",
    "from bokeh.models import CategoricalColorMapper\n",
    "\n",
    "p = figure(x_axis_label='weight(lbs)', y_axis_label='miles-per-gallon')\n",
    "\n",
    "# Convert df to a ColumnDataSource: source\n",
    "source = ColumnDataSource(df)\n",
    "\n",
    "# Make a CategoricalColorMapper object: color_mapper with the CategoricalColorMapper() function. \n",
    "# It has two parameters here: factors and palette.\n",
    "color_mapper = CategoricalColorMapper(factors=['Europe', 'Asia', 'US'],\n",
    "                                      palette=['red', 'green', 'blue'])\n",
    "\n",
    "# Add a circle glyph to the figure p to plot 'mpg' (on the y-axis) vs 'weight' (on the x-axis). \n",
    "# Remember to pass in source and 'origin' as arguments to source and legend. \n",
    "# For the color parameter, use dict(field='origin', transform=color_mapper)\n",
    "p.circle('weight', 'mpg', source=source,legend='origin',\n",
    "            color=dict(field='origin', transform=color_mapper))\n",
    "\n",
    "# Specify the name of the output file and show the result\n",
    "output_file('colormap.html')\n",
    "show(p)\n"
   ]
  },
  {
   "cell_type": "code",
   "execution_count": null,
   "metadata": {},
   "outputs": [],
   "source": []
  }
 ],
 "metadata": {
  "kernelspec": {
   "display_name": "Python 3",
   "language": "python",
   "name": "python3"
  },
  "language_info": {
   "codemirror_mode": {
    "name": "ipython",
    "version": 3
   },
   "file_extension": ".py",
   "mimetype": "text/x-python",
   "name": "python",
   "nbconvert_exporter": "python",
   "pygments_lexer": "ipython3",
   "version": "3.7.1"
  },
  "toc": {
   "base_numbering": 1,
   "nav_menu": {},
   "number_sections": false,
   "sideBar": false,
   "skip_h1_title": false,
   "title_cell": "Table of Contents",
   "title_sidebar": "Contents",
   "toc_cell": false,
   "toc_position": {},
   "toc_section_display": false,
   "toc_window_display": false
  }
 },
 "nbformat": 4,
 "nbformat_minor": 2
}
