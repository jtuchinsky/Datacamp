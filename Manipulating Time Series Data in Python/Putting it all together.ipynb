{
 "cells": [
  {
   "cell_type": "markdown",
   "metadata": {},
   "source": [
    "## Putting it all together: Building a value-weighted index"
   ]
  },
  {
   "cell_type": "markdown",
   "metadata": {},
   "source": [
    "This chapter combines the previous concepts by teaching you how to create a value-weighted index. This index uses market-cap data contained in the stock exchange listings to calculate weights and 2016 stock price information. Index performance is then compared against benchmarks to evaluate the performance of the index you created."
   ]
  },
  {
   "cell_type": "code",
   "execution_count": 3,
   "metadata": {},
   "outputs": [],
   "source": [
    "import pandas as pd\n",
    "import matplotlib.pyplot as plt\n",
    "\n",
    "%matplotlib inline"
   ]
  },
  {
   "cell_type": "markdown",
   "metadata": {},
   "source": [
    "### Explore and clean company listing information"
   ]
  },
  {
   "cell_type": "markdown",
   "metadata": {},
   "source": [
    "To get started with the construction of a market-value based index, you'll work with the combined listing info for the three largest US stock exchanges, the NYSE, the NASDAQ and the AMEX.\n",
    "\n",
    "In this and the next exercise, you will calculate market-cap weights for these stocks."
   ]
  },
  {
   "cell_type": "code",
   "execution_count": 12,
   "metadata": {},
   "outputs": [
    {
     "name": "stdout",
     "output_type": "stream",
     "text": [
      "<class 'pandas.core.frame.DataFrame'>\n",
      "Int64Index: 6674 entries, 0 to 359\n",
      "Data columns (total 8 columns):\n",
      "Exchange                 6674 non-null object\n",
      "Stock Symbol             6674 non-null object\n",
      "Company Name             6674 non-null object\n",
      "Last Sale                6590 non-null float64\n",
      "Market Capitalization    6674 non-null float64\n",
      "IPO Year                 2852 non-null float64\n",
      "Sector                   5182 non-null object\n",
      "Industry                 5182 non-null object\n",
      "dtypes: float64(3), object(5)\n",
      "memory usage: 469.3+ KB\n",
      "None\n",
      "<class 'pandas.core.frame.DataFrame'>\n",
      "Index: 2349 entries, WBAI to ZDGE\n",
      "Data columns (total 7 columns):\n",
      "Exchange                 2349 non-null object\n",
      "Company Name             2349 non-null object\n",
      "Last Sale                2349 non-null float64\n",
      "Market Capitalization    2349 non-null float64\n",
      "IPO Year                 2349 non-null float64\n",
      "Sector                   2349 non-null object\n",
      "Industry                 2349 non-null object\n",
      "dtypes: float64(3), object(4)\n",
      "memory usage: 146.8+ KB\n",
      "None\n",
      "Sector\n",
      "Health Care              445\n",
      "Consumer Services        402\n",
      "Technology               386\n",
      "Finance                  351\n",
      "Energy                   144\n",
      "Capital Goods            143\n",
      "Public Utilities         104\n",
      "Basic Industries         104\n",
      "Consumer Non-Durables     89\n",
      "Miscellaneous             68\n",
      "Transportation            58\n",
      "Consumer Durables         55\n",
      "dtype: int64\n"
     ]
    }
   ],
   "source": [
    "nyse = pd.read_excel('listings.xlsx', sheet_name='nyse', na_values = 'n/a')\n",
    "nyse.insert(0, 'Exchange', 'nyse')\n",
    "\n",
    "nasdaq = pd.read_excel('listings.xlsx', sheet_name='nasdaq', na_values = 'n/a')\n",
    "nasdaq.insert(0, 'Exchange', 'nasdaq')\n",
    "\n",
    "amex = pd.read_excel('listings.xlsx', sheet_name='amex', na_values = 'n/a')\n",
    "amex.insert(0, 'Exchange', 'amex')\n",
    "\n",
    "listings = pd.concat([nyse, nasdaq, amex], axis=0)\n",
    "listings['Market Capitalization'] /= 1e6 # in Million USD\n",
    "\n",
    "# Inspect listings\n",
    "print(listings.info())\n",
    "\n",
    "# Move 'stock symbol' into the index\n",
    "listings.set_index('Stock Symbol', inplace=True)\n",
    "\n",
    "# Drop rows with missing 'sector' data\n",
    "listings.dropna(subset=['Sector'], inplace=True)\n",
    "\n",
    "# Select companies with IPO Year before 2019\n",
    "listings = listings[listings['IPO Year'] < 2019]\n",
    "\n",
    "# Inspect the new listings data\n",
    "print(listings.info())\n",
    "\n",
    "# Show the number of companies per 'Sector' using .groupby() and .size(). \n",
    "# Sort the output in descending order.\n",
    "print(listings.groupby('Sector').size().sort_values(ascending=False))\n",
    "\n"
   ]
  },
  {
   "cell_type": "markdown",
   "metadata": {},
   "source": [
    "### Select and inspect index components"
   ]
  },
  {
   "cell_type": "markdown",
   "metadata": {},
   "source": [
    "Now that you have imported and cleaned the `listings` data, you can proceed to select the `index` components as the largest company for each sector by market capitalization.\n",
    "\n",
    "You'll also have the opportunity to take a closer look at the components, their last market value, and last price."
   ]
  },
  {
   "cell_type": "code",
   "execution_count": 14,
   "metadata": {},
   "outputs": [
    {
     "name": "stdout",
     "output_type": "stream",
     "text": [
      "Sector                 Stock Symbol\n",
      "Technology             AAPL            740024.467000\n",
      "Consumer Services      AMZN            422138.530626\n",
      "Miscellaneous          BABA            275525.000000\n",
      "Health Care            AMGN            118927.210535\n",
      "Transportation         UPS              90180.886756\n",
      "Finance                GS               88840.590477\n",
      "Consumer Non-Durables  ABEV             88240.198455\n",
      "Basic Industries       RIO              70431.476895\n",
      "Public Utilities       TEF              54609.806092\n",
      "Capital Goods          GM               50086.335099\n",
      "Energy                 PAA              22223.001416\n",
      "Consumer Durables      CPRT             13620.922869\n",
      "Name: Market Capitalization, dtype: float64\n",
      "Index(['RIO', 'GM', 'CPRT', 'ABEV', 'AMZN', 'PAA', 'GS', 'AMGN', 'BABA', 'TEF',\n",
      "       'AAPL', 'UPS'],\n",
      "      dtype='object', name='Stock Symbol')\n"
     ]
    },
    {
     "data": {
      "text/html": [
       "<div>\n",
       "<style scoped>\n",
       "    .dataframe tbody tr th:only-of-type {\n",
       "        vertical-align: middle;\n",
       "    }\n",
       "\n",
       "    .dataframe tbody tr th {\n",
       "        vertical-align: top;\n",
       "    }\n",
       "\n",
       "    .dataframe thead th {\n",
       "        text-align: right;\n",
       "    }\n",
       "</style>\n",
       "<table border=\"1\" class=\"dataframe\">\n",
       "  <thead>\n",
       "    <tr style=\"text-align: right;\">\n",
       "      <th></th>\n",
       "      <th>Company Name</th>\n",
       "      <th>Market Capitalization</th>\n",
       "      <th>Last Sale</th>\n",
       "    </tr>\n",
       "    <tr>\n",
       "      <th>Stock Symbol</th>\n",
       "      <th></th>\n",
       "      <th></th>\n",
       "      <th></th>\n",
       "    </tr>\n",
       "  </thead>\n",
       "  <tbody>\n",
       "    <tr>\n",
       "      <th>AAPL</th>\n",
       "      <td>Apple Inc.</td>\n",
       "      <td>740024.467000</td>\n",
       "      <td>141.05</td>\n",
       "    </tr>\n",
       "    <tr>\n",
       "      <th>AMZN</th>\n",
       "      <td>Amazon.com, Inc.</td>\n",
       "      <td>422138.530626</td>\n",
       "      <td>884.67</td>\n",
       "    </tr>\n",
       "    <tr>\n",
       "      <th>BABA</th>\n",
       "      <td>Alibaba Group Holding Limited</td>\n",
       "      <td>275525.000000</td>\n",
       "      <td>110.21</td>\n",
       "    </tr>\n",
       "    <tr>\n",
       "      <th>AMGN</th>\n",
       "      <td>Amgen Inc.</td>\n",
       "      <td>118927.210535</td>\n",
       "      <td>161.61</td>\n",
       "    </tr>\n",
       "    <tr>\n",
       "      <th>UPS</th>\n",
       "      <td>United Parcel Service, Inc.</td>\n",
       "      <td>90180.886756</td>\n",
       "      <td>103.74</td>\n",
       "    </tr>\n",
       "    <tr>\n",
       "      <th>GS</th>\n",
       "      <td>Goldman Sachs Group, Inc. (The)</td>\n",
       "      <td>88840.590477</td>\n",
       "      <td>223.32</td>\n",
       "    </tr>\n",
       "    <tr>\n",
       "      <th>ABEV</th>\n",
       "      <td>Ambev S.A.</td>\n",
       "      <td>88240.198455</td>\n",
       "      <td>5.62</td>\n",
       "    </tr>\n",
       "    <tr>\n",
       "      <th>RIO</th>\n",
       "      <td>Rio Tinto Plc</td>\n",
       "      <td>70431.476895</td>\n",
       "      <td>38.94</td>\n",
       "    </tr>\n",
       "    <tr>\n",
       "      <th>TEF</th>\n",
       "      <td>Telefonica SA</td>\n",
       "      <td>54609.806092</td>\n",
       "      <td>10.84</td>\n",
       "    </tr>\n",
       "    <tr>\n",
       "      <th>GM</th>\n",
       "      <td>General Motors Company</td>\n",
       "      <td>50086.335099</td>\n",
       "      <td>33.39</td>\n",
       "    </tr>\n",
       "    <tr>\n",
       "      <th>PAA</th>\n",
       "      <td>Plains All American Pipeline, L.P.</td>\n",
       "      <td>22223.001416</td>\n",
       "      <td>30.72</td>\n",
       "    </tr>\n",
       "    <tr>\n",
       "      <th>CPRT</th>\n",
       "      <td>Copart, Inc.</td>\n",
       "      <td>13620.922869</td>\n",
       "      <td>29.65</td>\n",
       "    </tr>\n",
       "  </tbody>\n",
       "</table>\n",
       "</div>"
      ],
      "text/plain": [
       "                                    Company Name  Market Capitalization  \\\n",
       "Stock Symbol                                                              \n",
       "AAPL                                  Apple Inc.          740024.467000   \n",
       "AMZN                            Amazon.com, Inc.          422138.530626   \n",
       "BABA               Alibaba Group Holding Limited          275525.000000   \n",
       "AMGN                                  Amgen Inc.          118927.210535   \n",
       "UPS                  United Parcel Service, Inc.           90180.886756   \n",
       "GS               Goldman Sachs Group, Inc. (The)           88840.590477   \n",
       "ABEV                                  Ambev S.A.           88240.198455   \n",
       "RIO                                Rio Tinto Plc           70431.476895   \n",
       "TEF                                Telefonica SA           54609.806092   \n",
       "GM                        General Motors Company           50086.335099   \n",
       "PAA           Plains All American Pipeline, L.P.           22223.001416   \n",
       "CPRT                                Copart, Inc.           13620.922869   \n",
       "\n",
       "              Last Sale  \n",
       "Stock Symbol             \n",
       "AAPL             141.05  \n",
       "AMZN             884.67  \n",
       "BABA             110.21  \n",
       "AMGN             161.61  \n",
       "UPS              103.74  \n",
       "GS               223.32  \n",
       "ABEV               5.62  \n",
       "RIO               38.94  \n",
       "TEF               10.84  \n",
       "GM                33.39  \n",
       "PAA               30.72  \n",
       "CPRT              29.65  "
      ]
     },
     "metadata": {},
     "output_type": "display_data"
    }
   ],
   "source": [
    "# Use .groupby() and .nlargest() to select the largest company by 'Market Capitalization' for each 'Sector'\n",
    "components = listings.groupby(['Sector'])['Market Capitalization'].nlargest(1)\n",
    "\n",
    "# Print components, sorted by market cap\n",
    "print(components.sort_values(ascending=False))\n",
    "\n",
    "# Select stock symbols and print the result\n",
    "tickers = components.index.get_level_values('Stock Symbol')\n",
    "print(tickers)\n",
    "\n",
    "# Print company name, market cap, and last price for each component \n",
    "info_cols = ['Company Name', 'Market Capitalization', 'Last Sale']\n",
    "display(listings.loc[tickers, info_cols].sort_values('Market Capitalization', ascending=False))"
   ]
  },
  {
   "cell_type": "markdown",
   "metadata": {},
   "source": [
    "### Import index component price information"
   ]
  },
  {
   "cell_type": "markdown",
   "metadata": {},
   "source": [
    "Now you'll use the stock symbols for the companies you selected in the last exercise to calculate returns for each company."
   ]
  },
  {
   "cell_type": "code",
   "execution_count": 22,
   "metadata": {},
   "outputs": [
    {
     "name": "stdout",
     "output_type": "stream",
     "text": [
      "['RIO', 'GM', 'CPRT', 'ABEV', 'AMZN', 'PAA', 'GS', 'AMGN', 'BABA', 'TEF', 'AAPL', 'UPS']\n",
      "<class 'pandas.core.frame.DataFrame'>\n",
      "DatetimeIndex: 1762 entries, 2010-01-04 to 2016-12-30\n",
      "Data columns (total 12 columns):\n",
      "AAPL    1761 non-null float64\n",
      "AMGN    1761 non-null float64\n",
      "AMZN    1761 non-null float64\n",
      "CPRT    1761 non-null float64\n",
      "EL      1762 non-null float64\n",
      "GS      1762 non-null float64\n",
      "ILMN    1761 non-null float64\n",
      "MA      1762 non-null float64\n",
      "PAA     1762 non-null float64\n",
      "RIO     1762 non-null float64\n",
      "TEF     1762 non-null float64\n",
      "UPS     1762 non-null float64\n",
      "dtypes: float64(12)\n",
      "memory usage: 179.0 KB\n",
      "None\n"
     ]
    },
    {
     "data": {
      "text/plain": [
       "<matplotlib.axes._subplots.AxesSubplot at 0x1a3f176a978>"
      ]
     },
     "execution_count": 22,
     "metadata": {},
     "output_type": "execute_result"
    },
    {
     "data": {
      "image/png": "[encoded data removed]",
      "text/plain": [
       "<Figure size 432x288 with 1 Axes>"
      ]
     },
     "metadata": {
      "needs_background": "light"
     },
     "output_type": "display_data"
    }
   ],
   "source": [
    "print(tickers)\n",
    "\n",
    "# Import prices and inspect result\n",
    "stock_prices = pd.read_csv('stock_data.csv', index_col='Date', parse_dates=['Date'])\n",
    "print(stock_prices.info())\n",
    "\n",
    "# Calculate the returns  for the index components by dividing the last row of stock_prices by the first, subtracting 1 and multiplying by 100.\n",
    "price_return = stock_prices.iloc[-1,:].div(stock_prices.iloc[0,:]).sub(1).mul(100)\n",
    "\n",
    "# Plot horizontal bar chart of sorted price_return   \n",
    "price_return.sort_values(ascending=False).plot(kind='barh', title='Stock Price Returns')"
   ]
  },
  {
   "cell_type": "markdown",
   "metadata": {},
   "source": [
    "### Calculate number of shares outstanding"
   ]
  },
  {
   "cell_type": "markdown",
   "metadata": {},
   "source": [
    "The next step towards building a value-weighted index is to calculate the number of shares for each index component.\n",
    "\n",
    "The number of shares will allow you to calculate the total market capitalization for each component given the historical price series in the next exercise."
   ]
  },
  {
   "cell_type": "code",
   "execution_count": 24,
   "metadata": {},
   "outputs": [
    {
     "data": {
      "text/html": [
       "<div>\n",
       "<style scoped>\n",
       "    .dataframe tbody tr th:only-of-type {\n",
       "        vertical-align: middle;\n",
       "    }\n",
       "\n",
       "    .dataframe tbody tr th {\n",
       "        vertical-align: top;\n",
       "    }\n",
       "\n",
       "    .dataframe thead th {\n",
       "        text-align: right;\n",
       "    }\n",
       "</style>\n",
       "<table border=\"1\" class=\"dataframe\">\n",
       "  <thead>\n",
       "    <tr style=\"text-align: right;\">\n",
       "      <th></th>\n",
       "      <th>Market Capitalization</th>\n",
       "      <th>Last Sale</th>\n",
       "    </tr>\n",
       "    <tr>\n",
       "      <th>Stock Symbol</th>\n",
       "      <th></th>\n",
       "      <th></th>\n",
       "    </tr>\n",
       "  </thead>\n",
       "  <tbody>\n",
       "    <tr>\n",
       "      <th>RIO</th>\n",
       "      <td>70431.476895</td>\n",
       "      <td>38.94</td>\n",
       "    </tr>\n",
       "    <tr>\n",
       "      <th>GM</th>\n",
       "      <td>50086.335099</td>\n",
       "      <td>33.39</td>\n",
       "    </tr>\n",
       "    <tr>\n",
       "      <th>CPRT</th>\n",
       "      <td>13620.922869</td>\n",
       "      <td>29.65</td>\n",
       "    </tr>\n",
       "    <tr>\n",
       "      <th>ABEV</th>\n",
       "      <td>88240.198455</td>\n",
       "      <td>5.62</td>\n",
       "    </tr>\n",
       "    <tr>\n",
       "      <th>AMZN</th>\n",
       "      <td>422138.530626</td>\n",
       "      <td>884.67</td>\n",
       "    </tr>\n",
       "  </tbody>\n",
       "</table>\n",
       "</div>"
      ],
      "text/plain": [
       "              Market Capitalization  Last Sale\n",
       "Stock Symbol                                  \n",
       "RIO                    70431.476895      38.94\n",
       "GM                     50086.335099      33.39\n",
       "CPRT                   13620.922869      29.65\n",
       "ABEV                   88240.198455       5.62\n",
       "AMZN                  422138.530626     884.67"
      ]
     },
     "metadata": {},
     "output_type": "display_data"
    },
    {
     "data": {
      "text/plain": [
       "Stock Symbol\n",
       "ABEV    15701.102928\n",
       "AAPL     5246.540000\n",
       "TEF      5037.804990\n",
       "BABA     2500.000000\n",
       "RIO      1808.717948\n",
       "GM       1500.039985\n",
       "UPS       869.297154\n",
       "AMGN      735.890171\n",
       "PAA       723.404994\n",
       "AMZN      477.170618\n",
       "CPRT      459.390316\n",
       "GS        397.817439\n",
       "dtype: float64"
      ]
     },
     "metadata": {},
     "output_type": "display_data"
    }
   ],
   "source": [
    "# Use .loc[] with the list of tickers to select the index components and the columns 'Market Capitalization' and 'Last Sale'\n",
    "components = listings.loc[tickers, ['Market Capitalization', 'Last Sale']]\n",
    "\n",
    "# Print the first rows of components\n",
    "display(components.head())\n",
    "\n",
    "# Calculate the number of shares by dividing Market Capitalization by 'Last Sale'\n",
    "no_shares = components['Market Capitalization'].div(components['Last Sale'])\n",
    "\n",
    "# Print the sorted no_shares\n",
    "display(no_shares.sort_values(ascending=False))\n"
   ]
  },
  {
   "cell_type": "markdown",
   "metadata": {},
   "source": [
    "### Create time series of market value"
   ]
  },
  {
   "cell_type": "markdown",
   "metadata": {},
   "source": [
    "You can now use the number of shares to calculate the total market capitalization for each component and trading date from the historical price series.\n",
    "\n",
    "The result will be the key input to construct the value-weighted stock index, which you will complete in the next exercise."
   ]
  },
  {
   "cell_type": "code",
   "execution_count": 32,
   "metadata": {},
   "outputs": [
    {
     "name": "stdout",
     "output_type": "stream",
     "text": [
      "Stock Symbol\n",
      "AAPL    5246.540000\n",
      "TEF     5037.804990\n",
      "RIO     1808.717948\n",
      "MA      1108.884100\n",
      "UPS      869.297154\n",
      "AMGN     735.890171\n",
      "PAA      723.404994\n",
      "AMZN     477.170618\n",
      "CPRT     459.390316\n",
      "GS       397.817439\n",
      "EL       366.405816\n",
      "ILMN     146.300000\n",
      "Name: Number of Shares, dtype: float64\n"
     ]
    },
    {
     "data": {
      "text/html": [
       "<div>\n",
       "<style scoped>\n",
       "    .dataframe tbody tr th:only-of-type {\n",
       "        vertical-align: middle;\n",
       "    }\n",
       "\n",
       "    .dataframe tbody tr th {\n",
       "        vertical-align: top;\n",
       "    }\n",
       "\n",
       "    .dataframe thead th {\n",
       "        text-align: right;\n",
       "    }\n",
       "</style>\n",
       "<table border=\"1\" class=\"dataframe\">\n",
       "  <thead>\n",
       "    <tr style=\"text-align: right;\">\n",
       "      <th></th>\n",
       "      <th>AAPL</th>\n",
       "      <th>AMGN</th>\n",
       "      <th>AMZN</th>\n",
       "      <th>CPRT</th>\n",
       "      <th>EL</th>\n",
       "      <th>GS</th>\n",
       "      <th>ILMN</th>\n",
       "      <th>MA</th>\n",
       "      <th>PAA</th>\n",
       "      <th>RIO</th>\n",
       "      <th>TEF</th>\n",
       "      <th>UPS</th>\n",
       "    </tr>\n",
       "    <tr>\n",
       "      <th>Date</th>\n",
       "      <th></th>\n",
       "      <th></th>\n",
       "      <th></th>\n",
       "      <th></th>\n",
       "      <th></th>\n",
       "      <th></th>\n",
       "      <th></th>\n",
       "      <th></th>\n",
       "      <th></th>\n",
       "      <th></th>\n",
       "      <th></th>\n",
       "      <th></th>\n",
       "    </tr>\n",
       "  </thead>\n",
       "  <tbody>\n",
       "    <tr>\n",
       "      <th>2010-01-04</th>\n",
       "      <td>160386.7278</td>\n",
       "      <td>42475.580670</td>\n",
       "      <td>63893.145750</td>\n",
       "      <td>2090.225938</td>\n",
       "      <td>8892.669154</td>\n",
       "      <td>68854.242342</td>\n",
       "      <td>4469.465</td>\n",
       "      <td>28476.143688</td>\n",
       "      <td>19531.934838</td>\n",
       "      <td>101342.466626</td>\n",
       "      <td>143829.332465</td>\n",
       "      <td>50575.708420</td>\n",
       "    </tr>\n",
       "    <tr>\n",
       "      <th>2010-01-05</th>\n",
       "      <td>160701.5202</td>\n",
       "      <td>42107.635585</td>\n",
       "      <td>64270.110538</td>\n",
       "      <td>2090.225938</td>\n",
       "      <td>8859.692631</td>\n",
       "      <td>70071.563705</td>\n",
       "      <td>4440.205</td>\n",
       "      <td>28398.521801</td>\n",
       "      <td>19748.956336</td>\n",
       "      <td>102916.051241</td>\n",
       "      <td>143728.576365</td>\n",
       "      <td>50662.638135</td>\n",
       "    </tr>\n",
       "    <tr>\n",
       "      <th>2010-01-06</th>\n",
       "      <td>158130.7156</td>\n",
       "      <td>41791.202811</td>\n",
       "      <td>63105.814231</td>\n",
       "      <td>2081.038131</td>\n",
       "      <td>8885.341038</td>\n",
       "      <td>69323.666920</td>\n",
       "      <td>4713.786</td>\n",
       "      <td>28343.077596</td>\n",
       "      <td>19741.722286</td>\n",
       "      <td>106063.220471</td>\n",
       "      <td>142217.234868</td>\n",
       "      <td>50288.840359</td>\n",
       "    </tr>\n",
       "    <tr>\n",
       "      <th>2010-01-07</th>\n",
       "      <td>157815.9232</td>\n",
       "      <td>41408.539922</td>\n",
       "      <td>62032.180340</td>\n",
       "      <td>2067.256422</td>\n",
       "      <td>8998.926841</td>\n",
       "      <td>70680.224387</td>\n",
       "      <td>4794.251</td>\n",
       "      <td>28154.567299</td>\n",
       "      <td>19502.998638</td>\n",
       "      <td>106081.307650</td>\n",
       "      <td>139799.088473</td>\n",
       "      <td>49906.349611</td>\n",
       "    </tr>\n",
       "    <tr>\n",
       "      <th>2010-01-08</th>\n",
       "      <td>158865.2312</td>\n",
       "      <td>41776.485008</td>\n",
       "      <td>63711.820915</td>\n",
       "      <td>2076.444228</td>\n",
       "      <td>9035.567423</td>\n",
       "      <td>69343.557792</td>\n",
       "      <td>4849.845</td>\n",
       "      <td>28165.656140</td>\n",
       "      <td>19568.105088</td>\n",
       "      <td>107256.974316</td>\n",
       "      <td>138892.283574</td>\n",
       "      <td>52305.609756</td>\n",
       "    </tr>\n",
       "  </tbody>\n",
       "</table>\n",
       "</div>"
      ],
      "text/plain": [
       "                   AAPL          AMGN          AMZN         CPRT           EL  \\\n",
       "Date                                                                            \n",
       "2010-01-04  160386.7278  42475.580670  63893.145750  2090.225938  8892.669154   \n",
       "2010-01-05  160701.5202  42107.635585  64270.110538  2090.225938  8859.692631   \n",
       "2010-01-06  158130.7156  41791.202811  63105.814231  2081.038131  8885.341038   \n",
       "2010-01-07  157815.9232  41408.539922  62032.180340  2067.256422  8998.926841   \n",
       "2010-01-08  158865.2312  41776.485008  63711.820915  2076.444228  9035.567423   \n",
       "\n",
       "                      GS      ILMN            MA           PAA            RIO  \\\n",
       "Date                                                                            \n",
       "2010-01-04  68854.242342  4469.465  28476.143688  19531.934838  101342.466626   \n",
       "2010-01-05  70071.563705  4440.205  28398.521801  19748.956336  102916.051241   \n",
       "2010-01-06  69323.666920  4713.786  28343.077596  19741.722286  106063.220471   \n",
       "2010-01-07  70680.224387  4794.251  28154.567299  19502.998638  106081.307650   \n",
       "2010-01-08  69343.557792  4849.845  28165.656140  19568.105088  107256.974316   \n",
       "\n",
       "                      TEF           UPS  \n",
       "Date                                     \n",
       "2010-01-04  143829.332465  50575.708420  \n",
       "2010-01-05  143728.576365  50662.638135  \n",
       "2010-01-06  142217.234868  50288.840359  \n",
       "2010-01-07  139799.088473  49906.349611  \n",
       "2010-01-08  138892.283574  52305.609756  "
      ]
     },
     "metadata": {},
     "output_type": "display_data"
    },
    {
     "data": {
      "text/plain": [
       "<matplotlib.axes._subplots.AxesSubplot at 0x1a3f4255cf8>"
      ]
     },
     "execution_count": 32,
     "metadata": {},
     "output_type": "execute_result"
    },
    {
     "data": {
      "image/png": "[encoded data removed]",
      "text/plain": [
       "<Figure size 432x288 with 1 Axes>"
      ]
     },
     "metadata": {
      "needs_background": "light"
     },
     "output_type": "display_data"
    }
   ],
   "source": [
    "components = pd.read_csv('components.csv', index_col='Stock Symbol')\n",
    "no_shares = components['Number of Shares']\n",
    "print(no_shares.sort_values(ascending=False))\n",
    "\n",
    "# Multiply stock_prices by no_shares to create a time series of market cap per ticker, \n",
    "# and assign it to market_cap\n",
    "market_cap = stock_prices.mul(no_shares)\n",
    "display(market_cap.head())\n",
    "\n",
    "# Select first and last market cap here\n",
    "first_value = market_cap.iloc[0,:]\n",
    "last_value = market_cap.iloc[-1,:]\n",
    "\n",
    "\n",
    "# Use pd.concat() to concatenate first_value and last_value along axis=1 \n",
    "# and plot the result as horizontal bar chart\n",
    "pd.concat([first_value, last_value], axis=1).plot(kind='barh')\n"
   ]
  },
  {
   "cell_type": "markdown",
   "metadata": {},
   "source": [
    "### Calculate & plot the composite index"
   ]
  },
  {
   "cell_type": "markdown",
   "metadata": {},
   "source": [
    "By now you have all ingredients that you need to calculate the aggregate stock performance for your group of companies.\n",
    "\n",
    "Use the time series of market capitalization that you created in the last exercise to aggregate the market value for each period, and then normalize this series to convert it to an index."
   ]
  },
  {
   "cell_type": "code",
   "execution_count": 39,
   "metadata": {},
   "outputs": [
    {
     "data": {
      "image/png": "[encoded data removed]",
      "text/plain": [
       "<Figure size 432x288 with 1 Axes>"
      ]
     },
     "metadata": {
      "needs_background": "light"
     },
     "output_type": "display_data"
    }
   ],
   "source": [
    "# Aggregate and print the market cap per trading day\n",
    "raw_index = market_cap.sum(axis=1)\n",
    "\n",
    "# Normalize the aggregate market cap here \n",
    "index = raw_index.div(raw_index.iloc[0]).mul(100)\n",
    "\n",
    "# Plot the index here\n",
    "index.plot(title='Market-Cap Weighted Index')\n",
    "plt.show()"
   ]
  },
  {
   "cell_type": "markdown",
   "metadata": {},
   "source": [
    "### Calculate the contribution of each stock to the index"
   ]
  },
  {
   "cell_type": "markdown",
   "metadata": {},
   "source": [
    "You have successfully built the value-weighted index. Let's now explore how it performed over the 2010-2016 period.\n",
    "\n",
    "Let's also determine how much each stock has contributed to the index return."
   ]
  },
  {
   "cell_type": "code",
   "execution_count": 40,
   "metadata": {},
   "outputs": [
    {
     "name": "stdout",
     "output_type": "stream",
     "text": [
      "126.65826661173818\n",
      "Stock Symbol\n",
      "CPRT    0.007564\n",
      "PAA     0.012340\n",
      "ILMN    0.014110\n",
      "EL      0.017282\n",
      "TEF     0.030324\n",
      "RIO     0.039110\n",
      "GS      0.049332\n",
      "UPS     0.050077\n",
      "AMGN    0.066039\n",
      "MA      0.068484\n",
      "AMZN    0.234410\n",
      "AAPL    0.410929\n",
      "Name: Market Capitalization, dtype: float64\n"
     ]
    },
    {
     "data": {
      "text/plain": [
       "<matplotlib.axes._subplots.AxesSubplot at 0x1a3f1401dd8>"
      ]
     },
     "execution_count": 40,
     "metadata": {},
     "output_type": "execute_result"
    },
    {
     "data": {
      "image/png": "[encoded data removed]",
      "text/plain": [
       "<Figure size 432x288 with 1 Axes>"
      ]
     },
     "metadata": {
      "needs_background": "light"
     },
     "output_type": "display_data"
    }
   ],
   "source": [
    "# Calculate and print the index return here\n",
    "# Divide the last index value by the first, subtract 1 and multiply by 100. \n",
    "index_return = (index.iloc[-1] / index.iloc[0] - 1) * 100\n",
    "print(index_return)\n",
    "\n",
    "# Select the market capitalization\n",
    "market_cap = components['Market Capitalization']\n",
    "\n",
    "# Calculate the total market cap\n",
    "total_market_cap = market_cap.sum()\n",
    "\n",
    "# Calculate the component weights, and print the result\n",
    "# Divide the components' market cap by total_market_cap to calculate the component weights\n",
    "weights = market_cap.div(total_market_cap)\n",
    "print(weights.sort_values())\n",
    "\n",
    "# Calculate and plot the contribution by component\n",
    "# Multiply weights by the index_return to calculate the contribution by component, \n",
    "# sort the values in ascending order, \n",
    "# and plot the result as a horizontal bar chart.\n",
    "weights.mul(index_return).sort_values().plot(kind='barh')"
   ]
  },
  {
   "cell_type": "markdown",
   "metadata": {},
   "source": [
    "### Compare index performance against benchmark I"
   ]
  },
  {
   "cell_type": "markdown",
   "metadata": {},
   "source": [
    "The next step in analyzing the performance of your index is to compare it against a benchmark.\n",
    "\n",
    "In the video, we used the S&P 500 as benchmark. You can also use the Dow Jones Industrial Average, which contains the 30 largest stocks, and would also be a reasonable benchmark for the largest stocks from all sectors across the three exchanges."
   ]
  },
  {
   "cell_type": "code",
   "execution_count": 64,
   "metadata": {},
   "outputs": [
    {
     "name": "stdout",
     "output_type": "stream",
     "text": [
      "Index    126.658267\n",
      "DJIA      86.722172\n",
      "dtype: float64\n"
     ]
    },
    {
     "data": {
      "text/plain": [
       "<matplotlib.axes._subplots.AxesSubplot at 0x1a3f30db668>"
      ]
     },
     "execution_count": 64,
     "metadata": {},
     "output_type": "execute_result"
    },
    {
     "data": {
      "image/png": "[encoded data removed]",
      "text/plain": [
       "<Figure size 432x288 with 1 Axes>"
      ]
     },
     "metadata": {
      "needs_background": "light"
     },
     "output_type": "display_data"
    }
   ],
   "source": [
    "djia = pd.read_csv('djia.csv', parse_dates=['date'], index_col='date').dropna()['djia']\n",
    "djia = djia['2010-01-04':]\n",
    "\n",
    "# Convert index series to dataframe here\n",
    "data = index.to_frame('Index')\n",
    "\n",
    "# Normalize djia series and add as new column to data\n",
    "djia = djia.div(djia[0]).mul(100)\n",
    "data['DJIA'] = djia\n",
    "\n",
    "# Show total return for both index and djia by dividing the last row of data by the first, subtracting 1 and multiplying by 100.\n",
    "print(data.iloc[-1,:].div(data.iloc[0,:]).sub(1).mul(100))\n",
    "\n",
    "# Plot both series\n",
    "data.plot()"
   ]
  },
  {
   "cell_type": "markdown",
   "metadata": {},
   "source": [
    "### Compare index performance against benchmark II"
   ]
  },
  {
   "cell_type": "code",
   "execution_count": 66,
   "metadata": {},
   "outputs": [
    {
     "name": "stderr",
     "output_type": "stream",
     "text": [
      "C:\\Users\\Jacob\\Anaconda3\\lib\\site-packages\\ipykernel_launcher.py:9: FutureWarning: Currently, 'apply' passes the values as ndarrays to the applied function. In the future, this will change to passing it as Series objects. You need to specify 'raw=True' to keep the current behaviour, and you can pass 'raw=False' to silence this warning\n",
      "  if __name__ == '__main__':\n"
     ]
    },
    {
     "data": {
      "text/plain": [
       "<matplotlib.axes._subplots.AxesSubplot at 0x1a3f16ab0b8>"
      ]
     },
     "execution_count": 66,
     "metadata": {},
     "output_type": "execute_result"
    },
    {
     "data": {
      "image/png": "[encoded data removed]",
      "text/plain": [
       "<Figure size 432x288 with 1 Axes>"
      ]
     },
     "metadata": {
      "needs_background": "light"
     },
     "output_type": "display_data"
    }
   ],
   "source": [
    "import numpy as np\n",
    "# Define a function multi_period_return that takes a numpy array of period returns as input, \n",
    "# and returns the total return for the period. \n",
    "# Use the formula from the video - add 1 to the input, pass the result to np.prod(), subtract 1 and multiply by 100.\n",
    "def multi_period_return(r):\n",
    "    return (np.prod(1+r)-1) * 100\n",
    "\n",
    "# Calculate rolling_return_360\n",
    "rolling_return_360 = data.pct_change().rolling(window='360D').apply(multi_period_return)\n",
    "\n",
    "# Plot rolling_return_360 here\n",
    "rolling_return_360.plot(title='Rolling 360D Return')\n"
   ]
  },
  {
   "cell_type": "markdown",
   "metadata": {},
   "source": [
    "### Visualize your index constituent correlations"
   ]
  },
  {
   "cell_type": "markdown",
   "metadata": {},
   "source": [
    "To better understand the characteristics of your index constituents, you can calculate the return correlations.\n",
    "\n",
    "Use the daily stock prices or your index companies, and show a heatmap of the daily return correlations!"
   ]
  },
  {
   "cell_type": "code",
   "execution_count": 68,
   "metadata": {},
   "outputs": [
    {
     "name": "stdout",
     "output_type": "stream",
     "text": [
      "<class 'pandas.core.frame.DataFrame'>\n",
      "DatetimeIndex: 1762 entries, 2010-01-04 to 2016-12-30\n",
      "Data columns (total 12 columns):\n",
      "AAPL    1761 non-null float64\n",
      "AMGN    1761 non-null float64\n",
      "AMZN    1761 non-null float64\n",
      "CPRT    1761 non-null float64\n",
      "EL      1762 non-null float64\n",
      "GS      1762 non-null float64\n",
      "ILMN    1761 non-null float64\n",
      "MA      1762 non-null float64\n",
      "PAA     1762 non-null float64\n",
      "RIO     1762 non-null float64\n",
      "TEF     1762 non-null float64\n",
      "UPS     1762 non-null float64\n",
      "dtypes: float64(12)\n",
      "memory usage: 259.0 KB\n",
      "None\n",
      "          AAPL      AMGN      AMZN      CPRT        EL        GS      ILMN  \\\n",
      "AAPL  1.000000  0.286898  0.327611  0.346616  0.306770  0.344981  0.264791   \n",
      "AMGN  0.286898  1.000000  0.323408  0.355892  0.349893  0.390076  0.336927   \n",
      "AMZN  0.327611  0.323408  1.000000  0.298929  0.334031  0.333402  0.242726   \n",
      "CPRT  0.346616  0.355892  0.298929  1.000000  0.371763  0.423160  0.265665   \n",
      "EL    0.306770  0.349893  0.334031  0.371763  1.000000  0.358318  0.214027   \n",
      "GS    0.344981  0.390076  0.333402  0.423160  0.358318  1.000000  0.266063   \n",
      "ILMN  0.264791  0.336927  0.242726  0.265665  0.214027  0.266063  1.000000   \n",
      "MA    0.391421  0.400230  0.428330  0.401352  0.431556  0.466796  0.301392   \n",
      "PAA   0.212960  0.229255  0.182438  0.221273  0.206056  0.271982  0.162796   \n",
      "RIO   0.361684  0.313878  0.326229  0.384944  0.415416  0.527298  0.234445   \n",
      "TEF   0.325309  0.374555  0.331867  0.376767  0.428925  0.498230  0.231173   \n",
      "UPS   0.366039  0.432468  0.378399  0.462716  0.456952  0.506407  0.267801   \n",
      "\n",
      "            MA       PAA       RIO       TEF       UPS  \n",
      "AAPL  0.391421  0.212960  0.361684  0.325309  0.366039  \n",
      "AMGN  0.400230  0.229255  0.313878  0.374555  0.432468  \n",
      "AMZN  0.428330  0.182438  0.326229  0.331867  0.378399  \n",
      "CPRT  0.401352  0.221273  0.384944  0.376767  0.462716  \n",
      "EL    0.431556  0.206056  0.415416  0.428925  0.456952  \n",
      "GS    0.466796  0.271982  0.527298  0.498230  0.506407  \n",
      "ILMN  0.301392  0.162796  0.234445  0.231173  0.267801  \n",
      "MA    1.000000  0.243761  0.437778  0.448438  0.486512  \n",
      "PAA   0.243761  1.000000  0.337448  0.253598  0.217523  \n",
      "RIO   0.437778  0.337448  1.000000  0.559264  0.509809  \n",
      "TEF   0.448438  0.253598  0.559264  1.000000  0.516242  \n",
      "UPS   0.486512  0.217523  0.509809  0.516242  1.000000  \n"
     ]
    },
    {
     "data": {
      "text/plain": [
       "Text(0.5, 1, 'Daily Return Correlations')"
      ]
     },
     "execution_count": 68,
     "metadata": {},
     "output_type": "execute_result"
    },
    {
     "data": {
      "image/png": "[encoded data removed]",
      "text/plain": [
       "<Figure size 432x288 with 2 Axes>"
      ]
     },
     "metadata": {
      "needs_background": "light"
     },
     "output_type": "display_data"
    }
   ],
   "source": [
    "import seaborn as sns\n",
    "\n",
    "# Inspect stock_prices here\n",
    "print(stock_prices.info())\n",
    "\n",
    "# Calculate the daily returns\n",
    "returns = stock_prices.pct_change()\n",
    "\n",
    "# Calculate and print the pairwise correlations\n",
    "correlations = returns.corr()\n",
    "print(correlations)\n",
    "\n",
    "# Plot a heatmap of daily return correlations\n",
    "sns.heatmap(correlations, annot=True)\n",
    "plt.xticks(rotation=45)\n",
    "plt.title('Daily Return Correlations')"
   ]
  },
  {
   "cell_type": "markdown",
   "metadata": {},
   "source": [
    "### Save your analysis to multiple excel worksheets"
   ]
  },
  {
   "cell_type": "markdown",
   "metadata": {},
   "source": [
    "Now that you have completed your analysis, you may want to save all results into a single Excel workbook.\n",
    "\n",
    "Let's practice exporting various DataFrame to multiple Excel worksheets."
   ]
  },
  {
   "cell_type": "code",
   "execution_count": 71,
   "metadata": {},
   "outputs": [
    {
     "name": "stdout",
     "output_type": "stream",
     "text": [
      "<class 'pandas.core.frame.DataFrame'>\n",
      "DatetimeIndex: 1762 entries, 2010-01-04 to 2016-12-30\n",
      "Data columns (total 12 columns):\n",
      "AAPL    1761 non-null float64\n",
      "AMGN    1761 non-null float64\n",
      "AMZN    1761 non-null float64\n",
      "CPRT    1761 non-null float64\n",
      "EL      1762 non-null float64\n",
      "GS      1762 non-null float64\n",
      "ILMN    1761 non-null float64\n",
      "MA      1762 non-null float64\n",
      "PAA     1762 non-null float64\n",
      "RIO     1762 non-null float64\n",
      "TEF     1762 non-null float64\n",
      "UPS     1762 non-null float64\n",
      "dtypes: float64(12)\n",
      "memory usage: 259.0 KB\n",
      "None\n",
      "<class 'pandas.core.frame.DataFrame'>\n",
      "DatetimeIndex: 1762 entries, 2010-01-04 to 2016-12-30\n",
      "Data columns (total 13 columns):\n",
      "AAPL     1761 non-null float64\n",
      "AMGN     1761 non-null float64\n",
      "AMZN     1761 non-null float64\n",
      "CPRT     1761 non-null float64\n",
      "EL       1762 non-null float64\n",
      "GS       1762 non-null float64\n",
      "ILMN     1761 non-null float64\n",
      "MA       1762 non-null float64\n",
      "PAA      1762 non-null float64\n",
      "RIO      1762 non-null float64\n",
      "TEF      1762 non-null float64\n",
      "UPS      1762 non-null float64\n",
      "Index    1762 non-null float64\n",
      "dtypes: float64(13)\n",
      "memory usage: 272.7 KB\n",
      "None\n"
     ]
    }
   ],
   "source": [
    "# Inspect index and stock_prices\n",
    "#print(index.info())\n",
    "print(stock_prices.info())\n",
    "\n",
    "# Join index to stock_prices, and inspect the result\n",
    "data = stock_prices.join(index.to_frame('Index'))\n",
    "print(data.info())\n",
    "\n",
    "# Create index & stock price returns\n",
    "returns = data.pct_change()\n",
    "\n",
    "# Export data and data as returns to excel\n",
    "with pd.ExcelWriter('my_saved_data.xls') as writer:\n",
    "    data.to_excel(excel_writer=writer, sheet_name='data')\n",
    "    returns.to_excel(excel_writer=writer, sheet_name='returns')\n"
   ]
  },
  {
   "cell_type": "code",
   "execution_count": null,
   "metadata": {},
   "outputs": [],
   "source": []
  }
 ],
 "metadata": {
  "kernelspec": {
   "display_name": "Python 3",
   "language": "python",
   "name": "python3"
  },
  "language_info": {
   "codemirror_mode": {
    "name": "ipython",
    "version": 3
   },
   "file_extension": ".py",
   "mimetype": "text/x-python",
   "name": "python",
   "nbconvert_exporter": "python",
   "pygments_lexer": "ipython3",
   "version": "3.7.1"
  },
  "toc": {
   "base_numbering": 1,
   "nav_menu": {},
   "number_sections": false,
   "sideBar": false,
   "skip_h1_title": false,
   "title_cell": "Table of Contents",
   "title_sidebar": "Contents",
   "toc_cell": false,
   "toc_position": {},
   "toc_section_display": false,
   "toc_window_display": false
  }
 },
 "nbformat": 4,
 "nbformat_minor": 2
}
