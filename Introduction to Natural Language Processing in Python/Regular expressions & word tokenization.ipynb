{
 "cells": [
  {
   "cell_type": "markdown",
   "metadata": {},
   "source": [
    "# Regular expressions & word tokenization"
   ]
  },
  {
   "cell_type": "markdown",
   "metadata": {},
   "source": [
    "This chapter will introduce some basic NLP concepts, such as word tokenization and regular expressions to help parse text. You'll also learn how to handle non-English text and more difficult tokenization you might find."
   ]
  },
  {
   "cell_type": "markdown",
   "metadata": {},
   "source": [
    "**Common Regex patterns**  \n",
    "\n",
    "|pattern |matches |example|\n",
    "|-------|-------|-------|\n",
    "|\\w+ |word| 'Magic'|\n",
    "|\\d |digit| 9|\n",
    "|\\s |space| ' '|\n",
    "|.* |wildcard| 'username74'|\n",
    "|+ or * |greedy match| 'aaaaaa'|\n",
    "|\\S |not space| 'no_spaces'|\n",
    "|[a-z] |lowercase group| 'abcdefg'|\n",
    "|[A-Za-z]+|upper and lowercase English alphabet|'ABCDEfghijk'|\n",
    "|[0-9] |numbers from 0 to 9 |9|\n",
    "|[A-Za-z\\-\\.]+ |upper and lowercase English alphabet, - and .|'MyWebsite.com'|\n",
    "|(a-z)| a, - and z| 'a-z'|\n",
    "|(\\s+l,)| spaces or a comma| ','|"
   ]
  },
  {
   "cell_type": "markdown",
   "metadata": {},
   "source": [
    "## Practicing regular expressions: re.split() and re.findall()"
   ]
  },
  {
   "cell_type": "markdown",
   "metadata": {},
   "source": [
    "Now you'll get a chance to write some regular expressions to match digits, strings and non-alphanumeric characters. Take a look at my_string first by printing it in the IPython Shell, to determine how you might best match the different steps.\n",
    "\n",
    "Note: It's important to prefix your regex patterns with r to ensure that your patterns are interpreted in the way you want them to. Else, you may encounter problems to do with escape sequences in strings. For example, \"\\n\" in Python is used to indicate a new line, but if you use the r prefix, it will be interpreted as the raw string \"\\n\" - that is, the character \"\\\" followed by the character \"n\" - and not as a new line.\n",
    "\n",
    "The regular expression module re has already been imported for you.\n",
    "\n",
    "Remember from the video that the syntax for the regex library is to always to pass the pattern first, and then the string second."
   ]
  },
  {
   "cell_type": "code",
   "execution_count": 9,
   "metadata": {},
   "outputs": [
    {
     "name": "stdout",
     "output_type": "stream",
     "text": [
      "[\"Let's write RegEx\", \"  Won't that be fun\", '  I sure think so', '  Can you find 4 sentences', '  Or perhaps, all 19 words', '']\n",
      "['Let', 'RegEx', 'Won', 'Can', 'Or']\n",
      "[\"Let's\", 'write', 'RegEx!', \"Won't\", 'that', 'be', 'fun?', 'I', 'sure', 'think', 'so.', 'Can', 'you', 'find', '4', 'sentences?', 'Or', 'perhaps,', 'all', '19', 'words?']\n",
      "['4', '19']\n"
     ]
    }
   ],
   "source": [
    "import re\n",
    "\n",
    "my_string = \"Let's write RegEx!  Won't that be fun?  I sure think so.  Can you find 4 sentences?  Or perhaps, all 19 words?\"\n",
    "\n",
    "# Split my_string on each sentence ending. To do this:\n",
    "# Write a pattern to match sentence endings (.?!): sentence_endings\n",
    "sentence_endings = r\"[.?!]\"\n",
    "\n",
    "# Split my_string on sentence endings and print the result\n",
    "print(re.split(sentence_endings, my_string))\n",
    "\n",
    "# Find all capitalized words in my_string and print the result\n",
    "capitalized_words = r\"[A-Z]\\w+\"\n",
    "print(re.findall(capitalized_words, my_string))\n",
    "\n",
    "# Split my_string on spaces and print the result\n",
    "spaces = r\"\\s+\"\n",
    "print(re.split(spaces, my_string))\n",
    "\n",
    "# Find all digits in my_string and print the result\n",
    "digits = r\"\\d+\"\n",
    "print(re.findall(digits, my_string))\n"
   ]
  },
  {
   "cell_type": "markdown",
   "metadata": {},
   "source": [
    "## Word tokenization with NLTK"
   ]
  },
  {
   "cell_type": "markdown",
   "metadata": {},
   "source": [
    "Here, you'll be using the first scene of Monty Python's Holy Grail, which has been pre-loaded as scene_one. Feel free to check it out in the IPython Shell!\n",
    "\n",
    "Your job in this exercise is to utilize word_tokenize and sent_tokenize from nltk.tokenize to tokenize both words and sentences from Python strings - in this case, the first scene of Monty Python's Holy Grail."
   ]
  },
  {
   "cell_type": "code",
   "execution_count": 10,
   "metadata": {},
   "outputs": [],
   "source": [
    "scene_one = \"\"\"SCENE 1: [wind] [clop clop clop] \n",
    "KING ARTHUR: Whoa there!  [clop clop clop] \n",
    "SOLDIER #1: Halt!  Who goes there?\n",
    "ARTHUR: It is I, Arthur, son of Uther Pendragon, from the castle of Camelot.  King of the Britons, defeator of the Saxons, sovereign of all England!\n",
    "SOLDIER #1: Pull the other one!\n",
    "ARTHUR: I am, ...  and this is my trusty servant Patsy.  We have ridden the length and breadth of the land in search of knights who will join me in my court at Camelot.  I must speak with your lord and master.\n",
    "SOLDIER #1: What?  Ridden on a horse?\n",
    "ARTHUR: Yes!\n",
    "SOLDIER #1: You're using coconuts!\n",
    "ARTHUR: What?\n",
    "SOLDIER #1: You've got two empty halves of coconut and you're bangin' 'em together.\n",
    "ARTHUR: So?  We have ridden since the snows of winter covered this land, through the kingdom of Mercea, through--\n",
    "SOLDIER #1: Where'd you get the coconuts?\n",
    "ARTHUR: We found them.\n",
    "SOLDIER #1: Found them?  In Mercea?  The coconut's tropical!\n",
    "ARTHUR: What do you mean?\n",
    "SOLDIER #1: Well, this is a temperate zone.\n",
    "ARTHUR: The swallow may fly south with the sun or the house martin or the plover may seek warmer climes in winter, yet these are not strangers to our land?\n",
    "SOLDIER #1: Are you suggesting coconuts migrate?\n",
    "ARTHUR: Not at all.  They could be carried.\n",
    "SOLDIER #1: What?  A swallow carrying a coconut?\n",
    "ARTHUR: It could grip it by the husk!\n",
    "SOLDIER #1: It's not a question of where he grips it!  It's a simple question of weight ratios!  A five ounce bird could not carry a one pound coconut.\n",
    "ARTHUR: Well, it doesn't matter.  Will you go and tell your master that Arthur from the Court of Camelot is here.\n",
    "SOLDIER #1: Listen.  In order to maintain air-speed velocity, a swallow needs to beat its wings forty-three times every second, right?\n",
    "ARTHUR: Please!\n",
    "SOLDIER #1: Am I right?\n",
    "ARTHUR: I'm not interested!\n",
    "SOLDIER #2: It could be carried by an African swallow!\n",
    "SOLDIER #1: Oh, yeah, an African swallow maybe, but not a European swallow.  That's my point.\n",
    "SOLDIER #2: Oh, yeah, I agree with that.\n",
    "ARTHUR: Will you ask your master if he wants to join my court at Camelot?!\n",
    "SOLDIER #1: But then of course a-- African swallows are non-migratory.\n",
    "SOLDIER #2: Oh, yeah...\n",
    "SOLDIER #1: So they couldn't bring a coconut back anyway...  [clop clop clop] \n",
    "SOLDIER #2: Wait a minute!  Supposing two swallows carried it together?\n",
    "SOLDIER #1: No, they'd have to have it on a line.\n",
    "SOLDIER #2: Well, simple!  They'd just use a strand of creeper!\n",
    "SOLDIER #1: What, held under the dorsal guiding feathers?\n",
    "SOLDIER #2: Well, why not?\"\"\""
   ]
  },
  {
   "cell_type": "code",
   "execution_count": 19,
   "metadata": {},
   "outputs": [
    {
     "name": "stdout",
     "output_type": "stream",
     "text": [
      "{'knights', 'No', 'What', 'You', \"'\", 'not', 'Am', 'dorsal', 'found', 'wings', 'using', 'ask', 'goes', 'needs', 'horse', 'here', 'wants', 'an', 'line', 'coconuts', 'held', 'swallow', 'Arthur', 'our', 'It', 'SCENE', 'castle', 'ridden', 'you', 'velocity', 'non-migratory', 'temperate', 'guiding', 'maybe', 'Pendragon', '#', 'will', 'are', '1', 'suggesting', 'Well', 'use', 'of', 'do', 'plover', 'Wait', \"n't\", 'got', 'coconut', 'house', \"'s\", 'under', 'all', \"'d\", 'carrying', 'King', 'snows', 'So', 'Whoa', 'where', 'The', 'if', 'swallows', 'SOLDIER', 'course', 'they', 'pound', 'But', 'Yes', 'length', 'sun', 'by', 'air-speed', 'ARTHUR', 'and', 'but', 'then', 'feathers', 'sovereign', \"'em\", 'must', 'tropical', 'search', 'Uther', 'be', 'minute', '[', 'Halt', 'have', 'A', 'Will', 'order', 'ratios', 'yet', 'beat', '...', 'land', 'the', 'kingdom', 'strand', 'my', 'together', 'there', 'warmer', 'strangers', 'weight', 'does', 'it', ',', 'on', 'speak', 'other', 'Who', 'master', 'south', 'Listen', 'That', 'with', 'ounce', 'your', 'forty-three', 'Patsy', 'every', 'Found', 'climes', 'these', 'from', 'migrate', 'halves', 'could', 'African', 'yeah', \"'m\", 'court', 'matter', 'fly', 'he', 'martin', 'KING', 'They', 'servant', 'is', '2', 'European', 'back', 'right', 'maintain', 'to', 'anyway', 'Mercea', 'times', 'question', 'In', 'zone', 'carried', ']', 'England', '!', 'son', 'in', 'Not', '?', 'get', 'that', 'its', 'Ridden', 'at', 'why', 'through', 'bird', 'a', 'since', \"'re\", ':', 'carry', 'lord', 'Are', 'empty', 'Please', 'agree', 'Pull', 'tell', 'clop', 'just', 'breadth', 'Where', 'I', 'covered', 'second', 'defeator', 'bring', 'trusty', 'Saxons', 'Court', 'interested', 'point', 'go', 'one', 'this', 'Camelot', 'We', 'Supposing', 'wind', 'bangin', 'may', 'creeper', 'husk', \"'ve\", 'Britons', 'them', 'Oh', '--', 'who', 'simple', 'mean', 'seek', 'grip', 'am', '.', 'two', 'winter', 'grips', 'five', 'join', 'me', 'or'}\n"
     ]
    },
    {
     "name": "stderr",
     "output_type": "stream",
     "text": [
      "[nltk_data] Downloading package punkt to\n",
      "[nltk_data]     C:\\Users\\Jacob\\AppData\\Roaming\\nltk_data...\n",
      "[nltk_data]   Package punkt is already up-to-date!\n"
     ]
    }
   ],
   "source": [
    "import re\n",
    "from nltk.tokenize import word_tokenize, sent_tokenize\n",
    "\n",
    "nltk.download('punkt')\n",
    "\n",
    "# Split scene_one into sentences: sentences\n",
    "sentences = sent_tokenize(scene_one)\n",
    "\n",
    "# Use word_tokenize to tokenize the fourth sentence: tokenized_sent\n",
    "tokenized_sent = word_tokenize(sentences[3])\n",
    "\n",
    "# Make a set of unique tokens in the entire scene by using word_tokenize() \n",
    "# on scene_one and then converting it into a set using set(): unique_tokens\n",
    "unique_tokens = set(word_tokenize(scene_one))\n",
    "\n",
    "# Print the unique tokens result\n",
    "print(unique_tokens)\n"
   ]
  },
  {
   "cell_type": "markdown",
   "metadata": {},
   "source": [
    "## More regex with re.search()"
   ]
  },
  {
   "cell_type": "markdown",
   "metadata": {},
   "source": [
    "In this exercise, you'll utilize ```re.search()``` and ```re.match()``` to find specific tokens. Both search and match expect regex patterns, similar to those you defined in an earlier exercise. You'll apply these regex library methods to the same Monty Python text from the ```nltk``` corpora.\n",
    "\n",
    "You have both ```scene_one``` and ```sentences``` available from the last exercise; now you can use them with ```re.search()``` and ```re.match()``` to extract and match more text."
   ]
  },
  {
   "cell_type": "code",
   "execution_count": 20,
   "metadata": {},
   "outputs": [
    {
     "name": "stdout",
     "output_type": "stream",
     "text": [
      "580 588\n"
     ]
    }
   ],
   "source": [
    "# Search for the first occurrence of \"coconuts\" in scene_one: match\n",
    "match = re.search('coconuts', scene_one)\n",
    "\n",
    "# Print the start and end indexes of match\n",
    "print(match.start(), match.end())"
   ]
  },
  {
   "cell_type": "code",
   "execution_count": 21,
   "metadata": {},
   "outputs": [
    {
     "name": "stdout",
     "output_type": "stream",
     "text": [
      "<re.Match object; span=(9, 32), match='[wind] [clop clop clop]'>\n"
     ]
    }
   ],
   "source": [
    "# Write a regular expression to search for anything in square brackets: pattern1\n",
    "pattern1 = r\"\\[.*]\"\n",
    "\n",
    "# Use re.search to find the first text in square brackets\n",
    "print(re.search(pattern1, scene_one))"
   ]
  },
  {
   "cell_type": "code",
   "execution_count": 23,
   "metadata": {},
   "outputs": [
    {
     "name": "stdout",
     "output_type": "stream",
     "text": [
      "<re.Match object; span=(0, 8), match='\\nARTHUR:'>\n"
     ]
    }
   ],
   "source": [
    "# Find the script notation at the beginning of the fourth sentence and print it\n",
    "# Create a pattern to match the script notation (e.g. Character:), assigning the result to pattern2.\n",
    "# Remember that you will want to match any words or spaces that precede the : (such as the space within SOLDIER #1:).\n",
    "pattern2 = r\"[\\w\\s]+:\"\n",
    "print(re.match(pattern2, sentences[3]))"
   ]
  },
  {
   "cell_type": "markdown",
   "metadata": {},
   "source": [
    "## Regex with NLTK tokenization"
   ]
  },
  {
   "cell_type": "markdown",
   "metadata": {},
   "source": [
    "Twitter is a frequently used source for NLP text and tasks. In this exercise, you'll build a more complex tokenizer for tweets with hashtags and mentions using `nltk` and `regex`. The `nltk.tokenize.TweetTokenizer` class gives you some extra methods and attributes for parsing tweets.\n",
    "\n",
    "Here, you're given some example tweets to parse using both `TweetTokenizer` and `regexp_tokenize` from the `nltk.tokenize` module. These example tweets have been pre-loaded into the variable `tweets`. Feel free to explore it in the IPython Shell!\n",
    "\n",
    "Unlike the syntax for the regex library, with `nltk_tokenize()` you pass the pattern as the second argument."
   ]
  },
  {
   "cell_type": "code",
   "execution_count": 25,
   "metadata": {},
   "outputs": [],
   "source": [
    "from nltk.tokenize import regexp_tokenize\n",
    "from nltk.tokenize import TweetTokenizer"
   ]
  },
  {
   "cell_type": "code",
   "execution_count": 29,
   "metadata": {},
   "outputs": [
    {
     "name": "stdout",
     "output_type": "stream",
     "text": [
      "['#nlp', '#python']\n",
      "['@datacamp', '#nlp', '#python']\n",
      "[['This', 'is', 'the', 'best', '#nlp', 'exercise', 'ive', 'found', 'online', '!', '#python'], ['#NLP', 'is', 'super', 'fun', '!', '<3', '#learning'], ['Thanks', '@datacamp', ':)', '#nlp', '#python']]\n"
     ]
    }
   ],
   "source": [
    "tweets = ['This is the best #nlp exercise ive found online! #python', '#NLP is super fun! <3 #learning', 'Thanks @datacamp :) #nlp #python']\n",
    "# Define a regex pattern to find hashtags: pattern1\n",
    "pattern1 = r\"#\\w+\"\n",
    "# Use the pattern on the first tweet in the tweets list\n",
    "hashtags = regexp_tokenize(tweets[0], pattern1)\n",
    "print(hashtags)\n",
    "\n",
    "# Write a pattern that matches both mentions (@) and hashtags\n",
    "pattern2 = r\"([@#]\\w+)\"\n",
    "# Use the pattern on the last tweet in the tweets list\n",
    "mentions_hashtags = regexp_tokenize(tweets[-1], pattern2)\n",
    "print(mentions_hashtags)\n",
    "\n",
    "# Use the TweetTokenizer to tokenize all tweets into one list\n",
    "tknzr = TweetTokenizer()\n",
    "all_tokens = [tknzr.tokenize(t) for t in tweets]\n",
    "print(all_tokens)"
   ]
  },
  {
   "cell_type": "markdown",
   "metadata": {},
   "source": [
    "## Non-ascii tokenization"
   ]
  },
  {
   "cell_type": "markdown",
   "metadata": {},
   "source": [
    "In this exercise, you'll practice advanced tokenization by tokenizing some non-ascii based text. You'll be using German with emoji!\n",
    "\n",
    "Here, you have access to a string called `german_text`, which has been printed for you in the Shell. Notice the emoji and the German characters!\n",
    "\n",
    "\n",
    "Unicode ranges for emoji are:\n",
    "\n",
    "`('\\U0001F300'-'\\U0001F5FF'), ('\\U0001F600-\\U0001F64F'), ('\\U0001F680-\\U0001F6FF'), and ('\\u2600'-\\u26FF-\\u2700-\\u27BF')`."
   ]
  },
  {
   "cell_type": "code",
   "execution_count": 45,
   "metadata": {},
   "outputs": [
    {
     "name": "stdout",
     "output_type": "stream",
     "text": [
      "['Wann', 'gehen', 'wir', 'Pizza', 'essen', '?', '🍕', 'Und', 'fährst', 'du', 'mit', 'Über', '?', '🚕']\n",
      "['Wann', 'Pizza', 'Und', 'Über']\n",
      "['🍕', '🚕']\n"
     ]
    }
   ],
   "source": [
    "german_text = 'Wann gehen wir Pizza essen? 🍕 Und fährst du mit Über? 🚕'\n",
    "\n",
    "from nltk.tokenize import regexp_tokenize, word_tokenize\n",
    "\n",
    "# Tokenize and print all words in german_text\n",
    "all_words = word_tokenize(german_text)\n",
    "print(all_words)\n",
    "\n",
    "# Tokenize and print only capital words\n",
    "capital_words = r\"[A-Z|Ü]\\w+\"\n",
    "print(regexp_tokenize(german_text, capital_words))\n",
    "\n",
    "# Tokenize and print only emoji\n",
    "emoji = \"['\\U0001F300-\\U0001F5FF'|'\\U0001F600-\\U0001F64F'|'\\U0001F680-\\U0001F6FF'|'\\u2600-\\u26FF\\u2700-\\u27BF']\"\n",
    "print(regexp_tokenize(german_text, emoji))\n"
   ]
  },
  {
   "cell_type": "markdown",
   "metadata": {},
   "source": [
    "## Charting word length with nltk"
   ]
  },
  {
   "cell_type": "markdown",
   "metadata": {},
   "source": [
    "Try using your new skills to find and chart the number of words per line in the script using `matplotlib`. The Holy Grail script is loaded for you, and you need to use regex to find the words per line.\n",
    "\n",
    "Using list comprehensions here will speed up your computations. For example: `my_lines = [tokenize(l) for l in lines]` will call a function tokenize on each line in the list lines. The new transformed list will be saved in the my_lines variable.\n",
    "\n",
    "You have access to the entire script in the variable holy_grail. Go for it!"
   ]
  },
  {
   "cell_type": "code",
   "execution_count": 53,
   "metadata": {},
   "outputs": [
    {
     "data": {
      "image/png": "[encoded data removed]",
      "text/plain": [
       "<Figure size 432x288 with 1 Axes>"
      ]
     },
     "metadata": {
      "needs_background": "light"
     },
     "output_type": "display_data"
    }
   ],
   "source": [
    "from matplotlib import pyplot as plt \n",
    "%matplotlib inline\n",
    "\n",
    "hamlet = nltk.corpus.gutenberg.raw('shakespeare-hamlet.txt')\n",
    "\n",
    "# Split the script into lines: lines\n",
    "lines = hamlet.split('\\n')\n",
    "\n",
    "# Replace all script lines for speaker\n",
    "pattern = \"[A-Z]{2,}(\\s)?(#\\d)?([A-Z]{2,})?:\"\n",
    "lines = [re.sub(pattern, '', l) for l in lines]\n",
    "\n",
    "# Tokenize each line: tokenized_lines\n",
    "tokenized_lines = [regexp_tokenize(s, \"\\w+\") for s in lines]\n",
    "\n",
    "# Make a frequency list of lengths: line_num_words\n",
    "line_num_words = [len(t_line) for t_line in tokenized_lines]\n",
    "\n",
    "# Plot a histogram of the line lengths\n",
    "plt.hist(line_num_words)\n",
    "\n",
    "# Show the plot\n",
    "plt.show()"
   ]
  },
  {
   "cell_type": "code",
   "execution_count": null,
   "metadata": {},
   "outputs": [],
   "source": []
  }
 ],
 "metadata": {
  "kernelspec": {
   "display_name": "Python 3",
   "language": "python",
   "name": "python3"
  },
  "language_info": {
   "codemirror_mode": {
    "name": "ipython",
    "version": 3
   },
   "file_extension": ".py",
   "mimetype": "text/x-python",
   "name": "python",
   "nbconvert_exporter": "python",
   "pygments_lexer": "ipython3",
   "version": "3.7.1"
  },
  "toc": {
   "base_numbering": 1,
   "nav_menu": {},
   "number_sections": false,
   "sideBar": false,
   "skip_h1_title": false,
   "title_cell": "Table of Contents",
   "title_sidebar": "Contents",
   "toc_cell": false,
   "toc_position": {},
   "toc_section_display": false,
   "toc_window_display": false
  }
 },
 "nbformat": 4,
 "nbformat_minor": 2
}
