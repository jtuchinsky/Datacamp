{
 "cells": [
  {
   "cell_type": "markdown",
   "metadata": {},
   "source": [
    "# Net Present Values and Cash Flows"
   ]
  },
  {
   "cell_type": "markdown",
   "metadata": {},
   "source": [
    "Cash flows are a series of gains or losses from an investment over\n",
    "time.  \n",
    "\n",
    "|Year | Project 1 Cash Flows | Project 2 Cash Flows|\n",
    "|-----|----------------------|---------------------|\n",
    "|0    | -\\$100               | \\$100               |\n",
    "|1 | \\$100 | \\$100 |\n",
    "|2 | \\$125 | -\\$100 |\n",
    "|3 | \\$150 | \\$200 |\n",
    "|4 | \\$175 | \\$300 |\n",
    "\n",
    "Which project is more profitable? We need to discount cash flows to the present values in order to compare.  \n",
    "\n",
    "Assume a 3% discount rate  \n",
    "\n",
    "|Year | Cash Flows | Formula |Present Value\n",
    "|-----|------------|---------|-------------   \n",
    "|0 | -\\$100 | pv(rate=0.03, nper=0, pmt=0, fv=-100) | -100\n",
    "|1 | \\$100 | pv(rate=0.03, nper=1, pmt=0, fv=100) | 97.09\n",
    "|2 | \\$125 | pv(rate=0.03, nper=2, pmt=0, fv=125) | 117.82\n",
    "|3 | \\$150 | pv(rate=0.03, nper=3, pmt=0, fv=150) | 137.27\n",
    "|4 | \\$175 | pv(rate=0.03, nper=4, pmt=0, fv=175) | 155.49\n",
    "\n",
    "Sum of all present values (Net Present Value) = 407.67\n",
    "\n",
    "**Discounting Cash Flows**  \n",
    "You can use numpy's net present value function numpy.npv(rate, values) to calculate the net present value of a series of cash flows. You can create these cash flows by using a numpy.array([...]) of values.\n"
   ]
  },
  {
   "cell_type": "code",
   "execution_count": 6,
   "metadata": {},
   "outputs": [
    {
     "name": "stdout",
     "output_type": "stream",
     "text": [
      "Investment 1's net present value is $471.71 in today's dollars\n",
      "Investment 2's net present value is $454.6 in today's dollars\n",
      "Investment 3's net present value is $438.72 in today's dollars\n"
     ]
    }
   ],
   "source": [
    "import numpy as np\n",
    "\n",
    "# Predefined array of cash flows\n",
    "cash_flows = np.array([100, 100, 100, 100, 100])\n",
    "\n",
    "# Calculate the net present value of the investment with cash_flows at a discount rate of 3% per year\n",
    "investment_1 = np.npv(rate=0.03, values=cash_flows)\n",
    "print(\"Investment 1's net present value is $\" + str(round(investment_1, 2)) + \" in today's dollars\")\n",
    "\n",
    "# Repeat the process with a discount rate of 5% per year\n",
    "investment_2 = np.npv(rate=0.05, values=cash_flows)\n",
    "print(\"Investment 2's net present value is $\" + str(round(investment_2, 2)) + \" in today's dollars\")\n",
    "\n",
    "# Repeat the process with a discount rate of 7% per year\n",
    "investment_3 = np.npv(rate=0.07, values=cash_flows)\n",
    "print(\"Investment 3's net present value is $\" + str(round(investment_3, 2)) + \" in today's dollars\")"
   ]
  },
  {
   "cell_type": "markdown",
   "metadata": {},
   "source": [
    "For this exercise, we will calculate the net present value of two potential projects with different cash flows as follows:\n",
    "\n",
    "| Year\t| Project 1\t| Project 2\n",
    "|-------|-----------|---------|   \n",
    "| 1\t| -\\$250 (initial investment)\t| -\\$250 (initial investment)\n",
    "| 2\t| \\$100 cash flow\t| \\$300 cash flow\n",
    "| 3\t| \\$200 cash flow\t| -\\$250 (net investment)\n",
    "| 4\t| \\$300 cash flow\t| \\$300 cash flow\n",
    "| 5\t| \\$400 cash flow\t| \\$300 cash flow"
   ]
  },
  {
   "cell_type": "code",
   "execution_count": 7,
   "metadata": {},
   "outputs": [
    {
     "name": "stdout",
     "output_type": "stream",
     "text": [
      "The net present value of Investment 1 is worth $665.54 in today's dollars\n",
      "The net present value of Investment 2 is worth $346.7 in today's dollars\n"
     ]
    }
   ],
   "source": [
    "import numpy as np\n",
    "\n",
    "# Create an array of cash flows for project 1\n",
    "cash_flows_1 = np.array([-250,100,200,300, 400])\n",
    "\n",
    "# Create an array of cash flows for project 2\n",
    "cash_flows_2 = np.array([-250,300,-250,300,300])\n",
    "\n",
    "# Calculate the net present value of project 1\n",
    "investment_1 = np.npv(rate=0.03, values=cash_flows_1)\n",
    "print(\"The net present value of Investment 1 is worth $\" + str(round(investment_1, 2)) + \" in today's dollars\")\n",
    "\n",
    "# Calculate the net present value of project 2\n",
    "investment_2 = np.npv(rate=0.03, values=cash_flows_2)\n",
    "print(\"The net present value of Investment 2 is worth $\" + str(round(investment_2, 2)) + \" in today's dollars\")"
   ]
  },
  {
   "cell_type": "markdown",
   "metadata": {},
   "source": [
    "**Diminishing Cash Flows**  \n",
    "\n",
    "Remember how compounded returns grow rapidly over time? Well, it works in the reverse, too. Compounded discount factors over time will quickly shrink a number towards zero.\n",
    "\n",
    "For example, \\$100 at a 3% annual discount for 1 year is still worth roughly $97.08:\n",
    "\n",
    "$$\\frac{\\text{Value}}{(1+\\text{Discount Rate})^{\\# \\text{of Discount Periods}}}=\\frac{\\$100}{(1+0.03)^1}= $97.08$$ \n",
    "But this number shrinks quite rapidly as the number of discounting periods increases:\n",
    "\n",
    "- $\\frac{\\$100}{(1+0.03)^5}= \\$86.26$ \n",
    "- $\\frac{\\$100}{(1+0.03)^{10}}= \\$74.41$  \n",
    "\n",
    "This means that the longer in the future your cash flows will be received (or paid), the close to 0 that number will be."
   ]
  },
  {
   "cell_type": "code",
   "execution_count": 8,
   "metadata": {},
   "outputs": [
    {
     "name": "stdout",
     "output_type": "stream",
     "text": [
      "Investment 1 is worth $41.2 in today's dollars\n",
      "Investment 2 is worth $22.81 in today's dollars\n",
      "Investment 3 is worth $5.2 in today's dollars\n"
     ]
    }
   ],
   "source": [
    "# Calculate the present value of a single $100 payment received 30 years from now with an annual inflation rate of 3%\n",
    "investment_1 = np.pv(rate=0.03, nper=30, pmt=0, fv=100)\n",
    "print(\"Investment 1 is worth $\" + str(round(-investment_1, 2)) + \" in today's dollars\")\n",
    "\n",
    "# Calculate the present value of a single $100 payment received 50 years from now with an annual inflation rate of 3%\n",
    "investment_2 = np.pv(rate=0.03, nper=50, pmt=0, fv=100)\n",
    "print(\"Investment 2 is worth $\" + str(round(-investment_2, 2)) + \" in today's dollars\")\n",
    "\n",
    "# Calculate the present value of a single $100 payment received 100 years from now with an annual inflation rate of 3%\n",
    "investment_3 = np.pv(rate=0.03, nper=100, pmt=0, fv=100)\n",
    "print(\"Investment 3 is worth $\" + str(round(-investment_3, 2)) + \" in today's dollars\")"
   ]
  },
  {
   "cell_type": "code",
   "execution_count": null,
   "metadata": {
    "collapsed": true
   },
   "outputs": [],
   "source": []
  }
 ],
 "metadata": {
  "kernelspec": {
   "display_name": "Python 3",
   "language": "python",
   "name": "python3"
  },
  "language_info": {
   "codemirror_mode": {
    "name": "ipython",
    "version": 3
   },
   "file_extension": ".py",
   "mimetype": "text/x-python",
   "name": "python",
   "nbconvert_exporter": "python",
   "pygments_lexer": "ipython3",
   "version": "3.7.1"
  },
  "toc": {
   "base_numbering": 1,
   "nav_menu": {},
   "number_sections": false,
   "sideBar": false,
   "skip_h1_title": false,
   "title_cell": "Table of Contents",
   "title_sidebar": "Contents",
   "toc_cell": false,
   "toc_position": {},
   "toc_section_display": false,
   "toc_window_display": false
  }
 },
 "nbformat": 4,
 "nbformat_minor": 2
}
