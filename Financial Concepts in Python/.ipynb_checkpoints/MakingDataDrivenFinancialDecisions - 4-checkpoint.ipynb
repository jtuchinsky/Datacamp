{
 "cells": [
  {
   "cell_type": "markdown",
   "metadata": {},
   "source": [
    "# Making Data-Driven FInancial Decisions"
   ]
  },
  {
   "cell_type": "markdown",
   "metadata": {},
   "source": [
    "## Common Profitability Analysis Methods"
   ]
  },
  {
   "cell_type": "markdown",
   "metadata": {},
   "source": [
    "- Net Present Value (NPV)\n",
    "- Internal Rate of Return (IRR)\n",
    "- Equivalent Annual Annuity (EAA)"
   ]
  },
  {
   "cell_type": "markdown",
   "metadata": {},
   "source": [
    "## Net Present Value"
   ]
  },
  {
   "cell_type": "markdown",
   "metadata": {},
   "source": [
    "NPV is equal to the sum of all discounted cash flows:  \n",
    "    $$NPV=\\sum_{t=1}^T \\frac{C_t}{(1+r)^t} - C_0$$\n",
    "\n",
    "- $C_t$: Cash flow C at time t\n",
    "- $r$: Discount rate  \n",
    "\n",
    "NPV is a simple cash flow valuation measure that does not allow for the comparison of different sized projects or lengths."
   ]
  },
  {
   "cell_type": "markdown",
   "metadata": {},
   "source": [
    "## Internal Rate of Return (IRR)"
   ]
  },
  {
   "cell_type": "markdown",
   "metadata": {},
   "source": [
    "The internal rate of return must be computed by solving for IRR in the NPV equation when set equal to 0.\n",
    "\n",
    "$$NPV = \\sum_{t=1}^{T} \\frac{C_t}{(1+IRR)^t} - C_0 = 0$$\n",
    "\n",
    "- $C_t$: Cash flow C at time t\n",
    "- $IRR$: Internal Rate of Return\n",
    "\n",
    "IRR can be used to compare projects of different sizes and lengths but requires an algorithmic solution and does not measure total value.  \n",
    "\n",
    "You can use the NumPy function .irr(values) to compute the internal rate of return of an array of values."
   ]
  },
  {
   "cell_type": "code",
   "execution_count": 15,
   "metadata": {},
   "outputs": [
    {
     "name": "stdout",
     "output_type": "stream",
     "text": [
      "135.0781059358212\n"
     ]
    }
   ],
   "source": [
    "import numpy as np\n",
    "project_1 = np.array([-100, 150, 200])\n",
    "print(np.irr(project_1)*100 )\n"
   ]
  },
  {
   "cell_type": "markdown",
   "metadata": {},
   "source": [
    "**Project Proposals and Cash Flows Projections**\n",
    "Your project managers have projected the cash flows for each of the proposals.\n",
    "\n",
    "Project 1 provides higher short term cash flows, but Project 2 becomes more profitable over time.\n",
    "\n",
    "The cash flow projections for both projects are as follows:\n",
    "\n",
    "|Year |\tProject 1 |\tProject 2 |\n",
    "|-----|-----------|-----------|\n",
    "|1\t|-\\$1,000 (initial investment)\t|-\\$1,000 (initial investment)\n",
    "|2\t|\\$200 (cash flow)\t|\\$150 (cash flow)|\n",
    "|3\t|\\$250\t|\\$225|\n",
    "|4\t|\\$300\t|\\$300|\n",
    "|5\t|\\$350\t|\\$375|\n",
    "|6\t|\\$400\t|\\$425|\n",
    "|7\t|\\$450\t|\\$500|\n",
    "|8\t|\\$500\t|\\$575|\n",
    "|9\t|\\$550\t|\\$600|\n",
    "|10\t|\\$600\t|\\$625|\n",
    "\n",
    "Note: The projections are provided in thousands. For example, $1,000 = $1,000,000. We will use the smaller denominations to make everything easier to read. This is also commonly done in financial statements with thousands or even millions in order to represent millions or billions."
   ]
  },
  {
   "cell_type": "code",
   "execution_count": 16,
   "metadata": {},
   "outputs": [
    {
     "name": "stdout",
     "output_type": "stream",
     "text": [
      "Project 1 IRR: 28.92%\n",
      "Project 2 IRR: 28.78%\n"
     ]
    }
   ],
   "source": [
    "# Create a numpy array of cash flows for Project 1\n",
    "cf_project_1 = np.array([-1000,200,250,300,350,400,450,500,550,600])\n",
    "\n",
    "# Create a numpy array of cash flows for Project 2\n",
    "cf_project_2 = np.array([-1000,150,225,300,375,425,500,575,600,625])\n",
    "\n",
    "# Scale the original objects by 1000x\n",
    "cf_project1 = cf_project_1*1000\n",
    "cf_project2 = cf_project_2*1000\n",
    "\n",
    "# Calculate the internal rate of return for Project 1\n",
    "irr_project1 = np.irr(cf_project1)\n",
    "print(\"Project 1 IRR: \" + str(round(100*irr_project1, 2)) + \"%\")\n",
    "\n",
    "# Calculate the internal rate of return for Project 2\n",
    "irr_project2 = np.irr(cf_project2)\n",
    "print(\"Project 2 IRR: \" + str(round(100*irr_project2, 2)) + \"%\")"
   ]
  },
  {
   "cell_type": "markdown",
   "metadata": {},
   "source": [
    "## The Weighted Average Cost of Capital"
   ]
  },
  {
   "cell_type": "markdown",
   "metadata": {},
   "source": [
    "### What is WACC?"
   ]
  },
  {
   "cell_type": "markdown",
   "metadata": {},
   "source": [
    "$$WACC=F_{Equity}∗C_{Equity} + F_{Debt}∗C_{Debt}∗(1−TR)$$\n",
    "\n",
    "- $F_{Equity}$: The proportion (%) of a company's financing via equity\n",
    "- $F_{Debt}$: The proportion (%) of a company's financing via debt\n",
    "- $C_{Equity}$: The cost of a company's equity\n",
    "- $C_{Debt}$: The cost of a company's debt\n",
    "- $TR$: The corporate tax rate"
   ]
  },
  {
   "cell_type": "markdown",
   "metadata": {},
   "source": [
    "### Proportion of FInancing"
   ]
  },
  {
   "cell_type": "markdown",
   "metadata": {},
   "source": [
    "The proportion (%) of financing can be calculated as follows:\n",
    "\n",
    "$$F_{Equity} = \\frac{M_{Equity}}{M_{Total}}$$  \n",
    "\n",
    "$$F_{Debt} = \\frac{M_{Debt}}{M_{Total}}$$  \n",
    "\n",
    "$$M_{Total} = M_{Debt} + M_{Equity}$$  \n",
    "\n",
    "- $M_{Debt}$: Market value of a company's debt\n",
    "- $M_{Equity}$: Market value of a company's equity\n",
    "- $M_{Total}$: Total value of a company's financing  \n",
    "\n",
    "**Example:**  \n",
    "\n",
    "Calculate the WACC of a company with a 12% cost of debt, 14% cost of equity, 20% debt financing and 80% equity financing. Assume a 35% effective corporate tax rate."
   ]
  },
  {
   "cell_type": "code",
   "execution_count": 17,
   "metadata": {},
   "outputs": [
    {
     "name": "stdout",
     "output_type": "stream",
     "text": [
      "0.12760000000000002\n"
     ]
    }
   ],
   "source": [
    "percent_equity = 0.80\n",
    "percent_debt = 0.20\n",
    "cost_equity = 0.14\n",
    "cost_debt = 0.12\n",
    "tax_rate = 0.35\n",
    "wacc = (percent_equity*cost_equity) + (percent_debt*cost_debt) * (1 - tax_rate)\n",
    "print(wacc)"
   ]
  },
  {
   "cell_type": "markdown",
   "metadata": {},
   "source": [
    "### Discounting Using WACC"
   ]
  },
  {
   "cell_type": "markdown",
   "metadata": {},
   "source": [
    "**Example:**  \n",
    "\n",
    "Calculate the NPV of a project that produces \\$100 in cash flow every year for 5 years. Assume a WACC of 13%."
   ]
  },
  {
   "cell_type": "code",
   "execution_count": 18,
   "metadata": {},
   "outputs": [
    {
     "name": "stdout",
     "output_type": "stream",
     "text": [
      "397.447132554\n"
     ]
    }
   ],
   "source": [
    "cf_project1 = np.repeat(100,5)\n",
    "npv_project1 = np.npv(0.13, cf_project1)\n",
    "print(npv_project1)"
   ]
  },
  {
   "cell_type": "markdown",
   "metadata": {},
   "source": [
    "### Debt and Equity Financing"
   ]
  },
  {
   "cell_type": "markdown",
   "metadata": {},
   "source": [
    "You are the CEO of a new company which has outstanding debt and financing costs which you will have to adjust for.  \n",
    "\n",
    "You will use the WACC as your discount rate in upcoming exercises.\n",
    "\n",
    "For this exercise, assume you take out a \\$1,000,000 loan to finance the project, which will be your company's only outstanding debt, which will represent 50% of your company's total financing of \\$2,000,000. The remaining funding comes from the market value of equity."
   ]
  },
  {
   "cell_type": "code",
   "execution_count": 19,
   "metadata": {},
   "outputs": [
    {
     "name": "stdout",
     "output_type": "stream",
     "text": [
      "Debt Financing: 50.0%\n",
      "Equity Financing: 50.0%\n",
      "WACC: 12.9%\n"
     ]
    }
   ],
   "source": [
    "# Set the market value of debt\n",
    "mval_debt = 1000000\n",
    "\n",
    "# Set the market value of equity\n",
    "mval_equity = 1000000\n",
    "\n",
    "# Compute the total market value of your company's financing\n",
    "mval_total = mval_debt + mval_equity\n",
    "\n",
    "# Compute the proportion of your company's financing via debt\n",
    "percent_debt = mval_debt/mval_total\n",
    "print(\"Debt Financing: \" + str(round(100*percent_debt, 2)) + \"%\")\n",
    "\n",
    "# Compute the proportion of your company's financing via equity\n",
    "percent_equity = mval_equity/mval_total\n",
    "print(\"Equity Financing: \" + str(round(100*percent_equity, 2)) + \"%\")\n",
    "\n",
    "# Assume a cost of equity of 18% based on similar companies.\n",
    "cost_equity = 0.18\n",
    "\n",
    "# The bank is willing to lend at an interest rate of 12%.\n",
    "cost_debt = 0.12\n",
    "\n",
    "# Assume a corporate tax rate of 35% and that your debt financing is tax-deductible.\n",
    "tax_rate = 0.35\n",
    "\n",
    "# Calculate the WACC\n",
    "wacc = (percent_equity*cost_equity) + (percent_debt*cost_debt) * (1 - tax_rate)\n",
    "print(\"WACC: \" + str(round(100*wacc, 2)) + \"%\")\n"
   ]
  },
  {
   "cell_type": "markdown",
   "metadata": {},
   "source": [
    "### Comparing Project NPV with IRR"
   ]
  },
  {
   "cell_type": "markdown",
   "metadata": {},
   "source": [
    "Companies use their WACC as the discount rate when calculating the net present value of potential projects.\n",
    "\n",
    "In the same way that you discounted values by inflation in the previous chapter to account for costs over time, companies adjust the cash flows of potential projects by their cost of financing, the WACC, to account for their investor's required rate of return based on market conditions.\n",
    "\n",
    "Now that you calculated the WACC, you can determine the net present value (NPV) of each project's cash flows."
   ]
  },
  {
   "cell_type": "code",
   "execution_count": 20,
   "metadata": {},
   "outputs": [
    {
     "name": "stdout",
     "output_type": "stream",
     "text": [
      "Project 1 NPV: 856073.18\n",
      "Project 2 NPV: 904741.35\n"
     ]
    }
   ],
   "source": [
    "# Scale the original objects by 1000x\n",
    "cf_project1 = cf_project_1*1000\n",
    "cf_project2 = cf_project_2*1000\n",
    "\n",
    "# Set your weighted average cost of capital equal to 12.9%\n",
    "wacc = 0.129\n",
    "\n",
    "# Calculate the net present value for Project 1\n",
    "npv_project1 = np.npv(wacc, cf_project1)\n",
    "print(\"Project 1 NPV: \" + str(round(npv_project1, 2)))\n",
    "\n",
    "# Calculate the net present value for Project 2\n",
    "npv_project2 = np.npv(wacc, cf_project2)\n",
    "print(\"Project 2 NPV: \" + str(round(npv_project2, 2)))"
   ]
  },
  {
   "cell_type": "markdown",
   "metadata": {},
   "source": [
    "## Comparing Two Prjects of Different Life Spans"
   ]
  },
  {
   "cell_type": "markdown",
   "metadata": {},
   "source": [
    "**Different NPVs and IRRs**  \n",
    "\n",
    "|Year\t|Project 1\t|Project 2|\n",
    "|-------|-----------|---------|\n",
    "|1\t|-\\$100\t|-\\$125|\n",
    "|2\t|\\$200\t|\\$100|\n",
    "|3\t|\\$300\t|\\$100|\n",
    "|4\t|N / A\t|\\$100|\n",
    "|5\t|N / A\t|\\$100|\n",
    "|6\t|N / A\t|\\$100|\n",
    "|7\t|N / A\t|\\$100|\n",
    "|8\t|N / A\t|\\$100|  \n",
    "\n",
    "Assume a 5% discount rate for both projects  \n",
    "\n",
    "|Project\t|NPV\t|IRR\t|Length|\n",
    "|-----------|-------|-------|------|\n",
    "|#1\t|362.58\t|200%\t|3|\n",
    "|#2\t|453.64\t|78.62%\t|8|  \n",
    "\n",
    "Notice how you could undertake multiple Project 1's over 8 years? Are the NPVs fair to compare?\n",
    "There is another methodology comes - Equivalent Annual Annuity\n"
   ]
  },
  {
   "cell_type": "markdown",
   "metadata": {},
   "source": [
    "## Equivalent Annual Annuity"
   ]
  },
  {
   "cell_type": "markdown",
   "metadata": {},
   "source": [
    "**Equivalent Annual Annuity** (EAA) can be used to compare two projects of different lifespans in present value terms.\n",
    "\n",
    "Apply the EAA method to the previous two projects using the computed NPVs * -1:"
   ]
  },
  {
   "cell_type": "code",
   "execution_count": 21,
   "metadata": {},
   "outputs": [
    {
     "name": "stdout",
     "output_type": "stream",
     "text": [
      "133.142481364\n",
      "70.1880035341\n"
     ]
    }
   ],
   "source": [
    "npv_project1 = 362.58\n",
    "npv_project2 = 453.64\n",
    "pmt1 = np.pmt(rate=0.05, nper=3, pv=-1*npv_project1, fv=0)\n",
    "print(pmt1)\n",
    "pmt2 = np.pmt(rate=0.05, nper=8, pv=-1*npv_project2, fv=0)\n",
    "print(pmt2)"
   ]
  },
  {
   "cell_type": "markdown",
   "metadata": {},
   "source": [
    "**Two Project With Different Lifespans**  \n",
    "The board of the company has decided to go a different direction, involving slightly shorter term projects and lower initial investments.\n",
    "\n",
    "Your project managers have come up with two new ideas, and projected the cash flows for each of the proposals.\n",
    "\n",
    "Project 1 has a lifespan of 8 years, but Project 2 only has a lifespan of 7 years. Project 1 requires an initial investment of $700,000, but Project 2 only requires $400,000.\n",
    "\n",
    "The cash flow projections for both projects are as follows:\n",
    "\n",
    "|Year\t|Project 1\t|Project 2|\n",
    "|-------|-----------|---------|\n",
    "|1\t|-\\$700 (initial investment)\t|-\\$400 (initial investment)|\n",
    "|2\t|\\$100 (cash flow)\t|\\$50 (cash flow)|\n",
    "|3\t|\\$150\t|\\$100|\n",
    "|4\t|\\$200\t|\\$150|\n",
    "|5\t|\\$250\t|\\$200|\n",
    "|6\t|\\$300\t|\\$250|\n",
    "|7\t|\\$350\t|\\$300|\n",
    "|8\t|\\$400\t|N / A|"
   ]
  },
  {
   "cell_type": "code",
   "execution_count": 23,
   "metadata": {},
   "outputs": [
    {
     "name": "stdout",
     "output_type": "stream",
     "text": [
      "Project 1 IRR: 22.94%\n",
      "Project 2 IRR: 26.89%\n",
      "Project 1 NPV: 302744.98\n",
      "Project 2 NPV: 231228.39\n"
     ]
    }
   ],
   "source": [
    "# Create a numpy array of cash flows for Project 1\n",
    "cf_project_1 = np.array([-700,100,150,200,250,300,350,400])\n",
    "\n",
    "# Create a numpy array of cash flows for Project 2\n",
    "cf_project_2 = np.array([-400,50,100,150,200,250,300])\n",
    "\n",
    "# Scale the original objects by 1000x\n",
    "cf_project1 = cf_project_1*1000\n",
    "cf_project2 = cf_project_2*1000\n",
    "\n",
    "# Calculate the IRR for Project 1\n",
    "irr_project1 = np.irr(cf_project1)\n",
    "print(\"Project 1 IRR: \" + str(round(100*irr_project1, 2)) + \"%\")\n",
    "\n",
    "# Calculate the IRR for Project 2\n",
    "irr_project2 = np.irr(cf_project2)\n",
    "print(\"Project 2 IRR: \" + str(round(100*irr_project2, 2)) + \"%\")\n",
    "\n",
    "# Set the wacc equal to 12.9%\n",
    "wacc = 0.129\n",
    "\n",
    "# Calculate the NPV for Project 1\n",
    "npv_project1 = np.npv(wacc, cf_project1)\n",
    "print(\"Project 1 NPV: \" + str(round(npv_project1, 2)))\n",
    "\n",
    "# Calculate the NPV for Project 2\n",
    "npv_project2 = np.npv(wacc, cf_project2)\n",
    "print(\"Project 2 NPV: \" + str(round(npv_project2, 2)))\n",
    "\n"
   ]
  },
  {
   "cell_type": "markdown",
   "metadata": {},
   "source": [
    "**Using the Equivalent Annual Annuity Approach**  \n",
    "\n",
    "Since the net present values of each project are not directly comparable given the different lifespans of each project, you will have to consider a different approach.\n",
    "\n",
    "The **equivalent annual annuity** (EAA) approach allows us to compare two projects by essentially assuming that each project is an investment generating a flat interest rate each year (an annuity), and calculating the annual payment you would receive from each project, discounted to present value.\n",
    "\n",
    "You can compute the EAA of each project using the .pmt(rate, nper, pv, fv) function in numpy."
   ]
  },
  {
   "cell_type": "code",
   "execution_count": 25,
   "metadata": {},
   "outputs": [
    {
     "name": "stdout",
     "output_type": "stream",
     "text": [
      "Project 1 EAA: 62872.2\n",
      "Project 2 EAA: 52120.61\n"
     ]
    }
   ],
   "source": [
    "# Calculate the EAA for Project 1\n",
    "eaa_project1 = np.pmt(rate=wacc, nper=8, pv=-npv_project1, fv=0)\n",
    "print(\"Project 1 EAA: \" + str(round(eaa_project1, 2)))\n",
    "\n",
    "# Calculate the EAA for Project 2\n",
    "eaa_project2 = np.pmt(rate=wacc, nper=7, pv=-npv_project2, fv=0)\n",
    "print(\"Project 2 EAA: \" + str(round(eaa_project2, 2)))"
   ]
  },
  {
   "cell_type": "code",
   "execution_count": null,
   "metadata": {
    "collapsed": true
   },
   "outputs": [],
   "source": []
  }
 ],
 "metadata": {
  "kernelspec": {
   "display_name": "Python 3",
   "language": "python",
   "name": "python3"
  },
  "language_info": {
   "codemirror_mode": {
    "name": "ipython",
    "version": 3
   },
   "file_extension": ".py",
   "mimetype": "text/x-python",
   "name": "python",
   "nbconvert_exporter": "python",
   "pygments_lexer": "ipython3",
   "version": "3.6.3"
  }
 },
 "nbformat": 4,
 "nbformat_minor": 2
}
