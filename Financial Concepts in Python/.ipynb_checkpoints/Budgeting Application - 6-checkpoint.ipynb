{
 "cells": [
  {
   "cell_type": "markdown",
   "metadata": {},
   "source": [
    "# Budgeting Application"
   ]
  },
  {
   "cell_type": "markdown",
   "metadata": {},
   "source": [
    "## Project Proposal"
   ]
  },
  {
   "cell_type": "markdown",
   "metadata": {},
   "source": [
    "Your budget will have to take into account the following:\n",
    "\n",
    "- Rent\n",
    "- Food expenses\n",
    "- Entertainment expenses\n",
    "- Emergency fund  \n",
    "\n",
    "You will have to adjust for the following:\n",
    "\n",
    "- Taxes\n",
    "- Salary growth\n",
    "- Inflation (for all expenses)"
   ]
  },
  {
   "cell_type": "markdown",
   "metadata": {},
   "source": [
    "**Salary and Taxes**  \n",
    "You just got a new job as an entry-level Data Scientist at a technology company in New York City with a decent starting salary of $85,000 per year.\n",
    "\n",
    "Unfortunately, after state and local taxes, you can expect to be sending roughly 30% back to the government each year.\n",
    "\n",
    "You will need to calculate your monthly take home pay after taxes in order to begin budgeting."
   ]
  },
  {
   "cell_type": "code",
   "execution_count": 1,
   "metadata": {},
   "outputs": [
    {
     "name": "stdout",
     "output_type": "stream",
     "text": [
      "Salary after taxes: 59500.0\n",
      "Monthly takehome salary: 4958.33\n"
     ]
    }
   ],
   "source": [
    "# Enter your annual salary\n",
    "salary = 85000\n",
    "\n",
    "# Assume a tax rate of 30%\n",
    "tax_rate = 0.30\n",
    "\n",
    "# Calculate your salary after taxes\n",
    "salary_after_taxes = salary * (1-tax_rate)\n",
    "print(\"Salary after taxes: \" + str(round(salary_after_taxes, 2)))\n",
    "\n",
    "# Calculate your monthly salary after taxes\n",
    "monthly_takehome_salary = salary_after_taxes/12\n",
    "print(\"Monthly takehome salary: \" + str(round(monthly_takehome_salary, 2)))"
   ]
  },
  {
   "cell_type": "markdown",
   "metadata": {},
   "source": [
    "**Monthly Expenses and Savings**  \n",
    "In order to make it in New York City, you have decided to split a two-bedroom apartment with a friend. You will have to budget for rent, food and entertainment, but it's also a good idea to allocate an amount for unforeseen expenses each month. This unforeseen expenses budget could be used for anything ranging from new clothes or electronics to doctor appointments.\n",
    "\n",
    "Set up your monthly budget as follows:\n",
    "\n",
    "- Rent: \\$1200 / month (Includes utilities)\n",
    "- Food: \\$30 / day (On average. Includes groceries and eating out.)\n",
    "- Entertainment: \\$200 / month (Movies, drinks, museums, parties...)\n",
    "- Unforeseen Expenses: \\$250 / month (Stay safe, and don't drop your phone!)  \n",
    "\n",
    "For this application, assume an average of 30 days per month. Whatever is left after your paying your monthly expenses will go into your savings account each month."
   ]
  },
  {
   "cell_type": "code",
   "execution_count": 2,
   "metadata": {},
   "outputs": [
    {
     "name": "stdout",
     "output_type": "stream",
     "text": [
      "Monthly expenses: 2550\n",
      "Monthly savings: 2408.33\n"
     ]
    }
   ],
   "source": [
    "# Enter your monthly rent\n",
    "monthly_rent = 1200\n",
    "\n",
    "# Enter your daily food budget\n",
    "daily_food_budget = 30\n",
    "\n",
    "# Calculate your monthly food budget assuming 30 days per month\n",
    "monthly_food_budget = daily_food_budget * 30\n",
    "\n",
    "# Set your monthly entertainment budget\n",
    "monthly_entertainment_budget = 200\n",
    "\n",
    "# Allocate funds for unforeseen expenses, just in case\n",
    "monthly_unforeseen_expenses = 250\n",
    "\n",
    "# Next, calculate your total monthly expenses\n",
    "monthly_expenses = monthly_rent + monthly_food_budget + monthly_entertainment_budget + monthly_unforeseen_expenses\n",
    "print(\"Monthly expenses: \" + str(round(monthly_expenses, 2)))\n",
    "\n",
    "# Finally, calculate your monthly take-home savings\n",
    "monthly_savings = monthly_takehome_salary - monthly_expenses\n",
    "print(\"Monthly savings: \" + str(round(monthly_savings, 2)))"
   ]
  },
  {
   "cell_type": "markdown",
   "metadata": {},
   "source": [
    "**Forecast Salary Growth and Cost of Living**  \n",
    "Due to both inflation and increased productivity from experience, you can expect your salary to grow at different rates depending on your job. Now, since you are working in a growing an in-demand career field as a Data Scientist, you can assume a steady growth in your annual salary every year based on performance.\n",
    "\n",
    "You can assume an annual salary growth rate of 5%, which means if you start at \\$85,000 per year, you can expect to earn over \\$176,000 per year after 15 years. After taxes, assuming your tax rate hasn't changed, that works out to roughly \\$125,000 per year, which is not unreasonable for a Data Scientist. In fact, you might even make it to that level in a few years! But just to be safe, you should be conservative with your projections.\n",
    "\n",
    "For this application, assume all inflation and salary growth happens in smaller increments on a monthly basis instead of just one large increase at the end of each year."
   ]
  },
  {
   "cell_type": "code",
   "execution_count": 7,
   "metadata": {},
   "outputs": [
    {
     "data": {
      "image/png": "[encoded data removed]",
      "text/plain": [
       "<matplotlib.figure.Figure at 0x1de91705cf8>"
      ]
     },
     "metadata": {},
     "output_type": "display_data"
    }
   ],
   "source": [
    "import numpy as np\n",
    "import matplotlib.pyplot as plt\n",
    "\n",
    "# Create monthly forecasts up to 15 years from now\n",
    "forecast_months = 12*15\n",
    "\n",
    "# Set your annual salary growth rate\n",
    "annual_salary_growth = 0.05\n",
    "\n",
    "# Calculate your equivalent monthly salary growth rate\n",
    "monthly_salary_growth = (1 + annual_salary_growth)**(1/12) - 1\n",
    "\n",
    "# Forecast the cumulative growth of your salary\n",
    "cumulative_salary_growth_forecast = np.cumprod(np.repeat(1 + monthly_salary_growth, forecast_months))\n",
    "\n",
    "# Calculate the actual salary forecast\n",
    "salary_forecast = monthly_takehome_salary * cumulative_salary_growth_forecast\n",
    "\n",
    "# Plot the forecasted salary\n",
    "plt.plot(salary_forecast, color='blue')\n",
    "plt.show()"
   ]
  },
  {
   "cell_type": "markdown",
   "metadata": {},
   "source": [
    "**Forecast Growing Expenses Due to Inflation**  \n",
    "\n",
    "You will also assume your monthly expenses will rise by an average of 2.5% per year due to inflation. This will lead to higher cost of living over time, paying for the same expenses each year but at a higher price. Luckily, your salary is growing faster than inflation, which means you should have more money going into savings each month."
   ]
  },
  {
   "cell_type": "code",
   "execution_count": 8,
   "metadata": {},
   "outputs": [
    {
     "data": {
      "image/png": "[encoded data removed]",
      "text/plain": [
       "<matplotlib.figure.Figure at 0x1de927e37f0>"
      ]
     },
     "metadata": {},
     "output_type": "display_data"
    }
   ],
   "source": [
    "# Create monthly forecasts up to 15 years from now\n",
    "forecast_months = 12*15\n",
    "\n",
    "# Set the annual inflation rate\n",
    "annual_inflation = 0.025\n",
    "\n",
    "# Calculate the equivalent monthly inflation rate\n",
    "monthly_inflation = (1+annual_inflation)**(1/12) - 1\n",
    "\n",
    "# Forecast cumulative inflation over time\n",
    "cumulative_inflation_forecast = np.cumprod(np.repeat(1+monthly_inflation, forecast_months))\n",
    "\n",
    "# Calculate your forecasted expenses\n",
    "expenses_forecast = monthly_expenses * cumulative_inflation_forecast\n",
    "\n",
    "# Plot the forecasted expenses\n",
    "plt.plot(expenses_forecast, color='red')\n",
    "plt.show()"
   ]
  },
  {
   "cell_type": "markdown",
   "metadata": {},
   "source": [
    "## Net Worth, Savings, and Investing"
   ]
  },
  {
   "cell_type": "markdown",
   "metadata": {},
   "source": [
    "**Net Worth**  \n",
    "\n",
    "- Net Worth = Assets - Liabilities = Equity\n",
    "- This is the basis of modern accounting\n",
    "- A point in time measurement  \n",
    "\n",
    "**Calculate Your Net Worth**  \n",
    "Now that you have forecasted your savings and salary over time, taking into account career progression and inflation, you have constructed a time-series which you can use to calculate your cash flows, just like in Chapter 1.\n",
    "\n",
    "For this example, all you need to do is subtract your forecasted monthly expenses from your forcasted monthly salary. The remaining cash flow will go straight into your savings account for each month.\n",
    "\n",
    "You want to project your cumulative savings over time to see how effective your budgeting process will be given your projections."
   ]
  },
  {
   "cell_type": "code",
   "execution_count": 9,
   "metadata": {},
   "outputs": [
    {
     "name": "stdout",
     "output_type": "stream",
     "text": [
      "Your final net worth: 762318.83\n"
     ]
    },
    {
     "data": {
      "image/png": "[encoded data removed]",
      "text/plain": [
       "<matplotlib.figure.Figure at 0x1de927c4940>"
      ]
     },
     "metadata": {},
     "output_type": "display_data"
    }
   ],
   "source": [
    "# Calculate your savings for each month\n",
    "savings_forecast = salary_forecast - expenses_forecast\n",
    "\n",
    "# Calculate your cumulative savings over time\n",
    "cumulative_savings = np.cumsum(savings_forecast)\n",
    "\n",
    "# Print the final cumulative savings after 15 years\n",
    "final_net_worth = cumulative_savings[-1]\n",
    "print(\"Your final net worth: \" + str(round(final_net_worth, 2)))\n",
    "\n",
    "# Plot the forecasted savings\n",
    "plt.plot(cumulative_savings, color='blue')\n",
    "plt.show()"
   ]
  },
  {
   "cell_type": "markdown",
   "metadata": {},
   "source": [
    "**Valuation**  \n",
    "\n",
    "- NPV(discount rate, cash flows)\n",
    "- Take into account future cash flows, salary and expenses\n",
    "- Adjust for inflation"
   ]
  },
  {
   "cell_type": "markdown",
   "metadata": {},
   "source": [
    "**Reaching Financial Goals**  \n",
    "\n",
    "- Saving will only earn you a low rate of return\n",
    "- Inflation will destroy most of your savings over time if you let it\n",
    "- The best way to combat inflation is to invest\n",
    "\n",
    "**So You Want to Be a Millionaire?**  \n",
    "Your projections show that you can accumulate over \\$700,000 in just 15 years by following a strict budget and growing your salary steadily over time.\n",
    "\n",
    "But you want to be a millionaire in 15 years, retire young, sip margaritas and travel for the rest of your life.\n",
    "\n",
    "In order to do that, you're going to need to invest.\n",
    "\n",
    "Remember the .pmt() function from numpy? You can use this function to calculate how much you need to save each month in order to accumulate your desired wealth over time.\n",
    "\n",
    "You still have a lot to learn about the stock market, but your financial advisor told you that you can earn anywhere from 5-10% per year on your capital on average by investing in a low cost index fund.\n",
    "\n",
    "You know that the stock market doesn't always go up, but you will assume a modest 7% return per year, which has been the average annual return in the US stock market from 1950-2009."
   ]
  },
  {
   "cell_type": "code",
   "execution_count": 11,
   "metadata": {},
   "outputs": [
    {
     "name": "stdout",
     "output_type": "stream",
     "text": [
      "You will have to invest $3214.35 per month to amass $1M over 15 years\n"
     ]
    }
   ],
   "source": [
    "# Forecast out 15 years ahead, 12 months at a time\n",
    "forecast_months = 15*12\n",
    "\n",
    "# Set the annual investment return to 7%\n",
    "investment_rate_annual = 0.07\n",
    "\n",
    "# Calculate the monthly investment return\n",
    "investment_rate_monthly = (1+investment_rate_annual)**(1/12) - 1\n",
    "\n",
    "# Calculate your required monthly investment to amass $1M\n",
    "required_investment_monthly = np.pmt(rate=investment_rate_monthly, nper=forecast_months, pv=0, fv=-1000000)\n",
    "print(\"You will have to invest $\" + str(round(required_investment_monthly, 2)) + \" per month to amass $1M over 15 years\")"
   ]
  },
  {
   "cell_type": "markdown",
   "metadata": {},
   "source": [
    "**Investing a Percentage of Your Income (I)**  \n",
    "Unfortunately, you really can't afford to save \\$3,000 per month in order to amass \\$1,000,000 after only 15 years.\n",
    "\n",
    "But what you can do is start slowly, investing a small percentage of your take-home income each month, which should grow over time as your income grows as well.\n",
    "\n",
    "In this exercise, you will lay the foundations to simulate this investing process over time."
   ]
  },
  {
   "cell_type": "code",
   "execution_count": 16,
   "metadata": {},
   "outputs": [
    {
     "data": {
      "image/png": "[encoded data removed]",
      "text/plain": [
       "<matplotlib.figure.Figure at 0x1de92883128>"
      ]
     },
     "metadata": {},
     "output_type": "display_data"
    }
   ],
   "source": [
    "# Calculate your monthly cash flow after expenses\n",
    "cash_flow_forecast = salary_forecast - expenses_forecast\n",
    "\n",
    "# Set the percentage of your income to deposit each month\n",
    "monthly_investment_percentage = 0.30\n",
    "\n",
    "# Calculate your monthly deposit into your investment account\n",
    "investment_deposit_forecast = cash_flow_forecast * monthly_investment_percentage\n",
    "\n",
    "# The rest goes into your savings account\n",
    "savings_forecast_new = cash_flow_forecast * (1 - monthly_investment_percentage)\n",
    "\n",
    "# Calculate your cumulative savings over time\n",
    "cumulative_savings_new = np.cumsum(savings_forecast_new)\n",
    "\n",
    "# Plot your forecasted monthly savings vs investments\n",
    "investments_plot, = plt.plot(investment_deposit_forecast, color='red', label=\"Investments\")\n",
    "savings_plot, = plt.plot(savings_forecast_new, color='blue', label=\"Savings\")\n",
    "plt.legend(handles=[investments_plot, savings_plot], loc=2)\n",
    "plt.show()"
   ]
  },
  {
   "cell_type": "markdown",
   "metadata": {},
   "source": [
    "**Investing a Percentage of Your Income (II)**  \n",
    "\n",
    "To finish up your investment simulation, you will need to loop through each time period, calculate the growth of any investments you have already made, add your new monthly deposit, and calculate your net worth at each point in time.\n",
    "\n",
    "You can do it!"
   ]
  },
  {
   "cell_type": "code",
   "execution_count": 17,
   "metadata": {},
   "outputs": [
    {
     "name": "stdout",
     "output_type": "stream",
     "text": [
      "Period 0: Current Investment Balance: 726.98 | Savings Account: 1696.3 | Net Worth: 2423.28\n",
      "Period 1: Current Investment Balance: 1462.59 | Savings Account: 3403.11 | Net Worth: 4865.69\n",
      "Period 2: Current Investment Balance: 2206.87 | Savings Account: 5120.48 | Net Worth: 7327.36\n",
      "Period 3: Current Investment Balance: 2959.92 | Savings Account: 6848.47 | Net Worth: 9808.39\n",
      "Period 4: Current Investment Balance: 3721.79 | Savings Account: 8587.13 | Net Worth: 12308.92\n",
      "Period 5: Current Investment Balance: 4492.57 | Savings Account: 10336.5 | Net Worth: 14829.06\n",
      "Period 6: Current Investment Balance: 5272.31 | Savings Account: 12096.64 | Net Worth: 17368.95\n",
      "Period 7: Current Investment Balance: 6061.1 | Savings Account: 13867.59 | Net Worth: 19928.7\n",
      "Period 8: Current Investment Balance: 6859.01 | Savings Account: 15649.42 | Net Worth: 22508.44\n",
      "Period 9: Current Investment Balance: 7666.12 | Savings Account: 17442.17 | Net Worth: 25108.29\n",
      "Period 10: Current Investment Balance: 8482.49 | Savings Account: 19245.89 | Net Worth: 27728.38\n",
      "Period 11: Current Investment Balance: 9308.2 | Savings Account: 21060.64 | Net Worth: 30368.84\n",
      "Period 12: Current Investment Balance: 10143.33 | Savings Account: 22886.47 | Net Worth: 33029.8\n",
      "Period 13: Current Investment Balance: 10987.95 | Savings Account: 24723.43 | Net Worth: 35711.38\n",
      "Period 14: Current Investment Balance: 11842.14 | Savings Account: 26571.58 | Net Worth: 38413.72\n",
      "Period 15: Current Investment Balance: 12705.97 | Savings Account: 28430.96 | Net Worth: 41136.93\n",
      "Period 16: Current Investment Balance: 13579.53 | Savings Account: 30301.64 | Net Worth: 43881.17\n",
      "Period 17: Current Investment Balance: 14462.89 | Savings Account: 32183.66 | Net Worth: 46646.55\n",
      "Period 18: Current Investment Balance: 15356.13 | Savings Account: 34077.07 | Net Worth: 49433.2\n",
      "Period 19: Current Investment Balance: 16259.33 | Savings Account: 35981.94 | Net Worth: 52241.27\n",
      "Period 20: Current Investment Balance: 17172.57 | Savings Account: 37898.32 | Net Worth: 55070.89\n",
      "Period 21: Current Investment Balance: 18095.92 | Savings Account: 39826.26 | Net Worth: 57922.19\n",
      "Period 22: Current Investment Balance: 19029.48 | Savings Account: 41765.82 | Net Worth: 60795.3\n",
      "Period 23: Current Investment Balance: 19973.32 | Savings Account: 43717.05 | Net Worth: 63690.36\n",
      "Period 24: Current Investment Balance: 20927.51 | Savings Account: 45680.0 | Net Worth: 66607.52\n",
      "Period 25: Current Investment Balance: 21892.16 | Savings Account: 47654.74 | Net Worth: 69546.9\n",
      "Period 26: Current Investment Balance: 22867.33 | Savings Account: 49641.31 | Net Worth: 72508.64\n",
      "Period 27: Current Investment Balance: 23853.11 | Savings Account: 51639.79 | Net Worth: 75492.9\n",
      "Period 28: Current Investment Balance: 24849.59 | Savings Account: 53650.21 | Net Worth: 78499.8\n",
      "Period 29: Current Investment Balance: 25856.85 | Savings Account: 55672.64 | Net Worth: 81529.48\n",
      "Period 30: Current Investment Balance: 26874.97 | Savings Account: 57707.13 | Net Worth: 84582.1\n",
      "Period 31: Current Investment Balance: 27904.05 | Savings Account: 59753.74 | Net Worth: 87657.79\n",
      "Period 32: Current Investment Balance: 28944.16 | Savings Account: 61812.54 | Net Worth: 90756.7\n",
      "Period 33: Current Investment Balance: 29995.4 | Savings Account: 63883.56 | Net Worth: 93878.96\n",
      "Period 34: Current Investment Balance: 31057.85 | Savings Account: 65966.89 | Net Worth: 97024.73\n",
      "Period 35: Current Investment Balance: 32131.6 | Savings Account: 68062.56 | Net Worth: 100194.16\n",
      "Period 36: Current Investment Balance: 33216.74 | Savings Account: 70170.64 | Net Worth: 103387.38\n",
      "Period 37: Current Investment Balance: 34313.36 | Savings Account: 72291.19 | Net Worth: 106604.56\n",
      "Period 38: Current Investment Balance: 35421.55 | Savings Account: 74424.27 | Net Worth: 109845.83\n",
      "Period 39: Current Investment Balance: 36541.4 | Savings Account: 76569.94 | Net Worth: 113111.34\n",
      "Period 40: Current Investment Balance: 37673.0 | Savings Account: 78728.25 | Net Worth: 116401.25\n",
      "Period 41: Current Investment Balance: 38816.45 | Savings Account: 80899.27 | Net Worth: 119715.72\n",
      "Period 42: Current Investment Balance: 39971.83 | Savings Account: 83083.05 | Net Worth: 123054.88\n",
      "Period 43: Current Investment Balance: 41139.24 | Savings Account: 85279.66 | Net Worth: 126418.89\n",
      "Period 44: Current Investment Balance: 42318.77 | Savings Account: 87489.15 | Net Worth: 129807.92\n",
      "Period 45: Current Investment Balance: 43510.52 | Savings Account: 89711.59 | Net Worth: 133222.11\n",
      "Period 46: Current Investment Balance: 44714.58 | Savings Account: 91947.03 | Net Worth: 136661.62\n",
      "Period 47: Current Investment Balance: 45931.05 | Savings Account: 94195.55 | Net Worth: 140126.6\n",
      "Period 48: Current Investment Balance: 47160.03 | Savings Account: 96457.19 | Net Worth: 143617.22\n",
      "Period 49: Current Investment Balance: 48401.61 | Savings Account: 98732.02 | Net Worth: 147133.63\n",
      "Period 50: Current Investment Balance: 49655.89 | Savings Account: 101020.11 | Net Worth: 150676.0\n",
      "Period 51: Current Investment Balance: 50922.96 | Savings Account: 103321.51 | Net Worth: 154244.48\n",
      "Period 52: Current Investment Balance: 52202.94 | Savings Account: 105636.3 | Net Worth: 157839.23\n",
      "Period 53: Current Investment Balance: 53495.91 | Savings Account: 107964.52 | Net Worth: 161460.43\n",
      "Period 54: Current Investment Balance: 54801.98 | Savings Account: 110306.24 | Net Worth: 165108.22\n",
      "Period 55: Current Investment Balance: 56121.25 | Savings Account: 112661.53 | Net Worth: 168782.78\n",
      "Period 56: Current Investment Balance: 57453.82 | Savings Account: 115030.45 | Net Worth: 172484.27\n",
      "Period 57: Current Investment Balance: 58799.79 | Savings Account: 117413.07 | Net Worth: 176212.86\n",
      "Period 58: Current Investment Balance: 60159.27 | Savings Account: 119809.44 | Net Worth: 179968.72\n",
      "Period 59: Current Investment Balance: 61532.36 | Savings Account: 122219.64 | Net Worth: 183752.0\n",
      "Period 60: Current Investment Balance: 62919.17 | Savings Account: 124643.72 | Net Worth: 187562.89\n",
      "Period 61: Current Investment Balance: 64319.8 | Savings Account: 127081.76 | Net Worth: 191401.56\n",
      "Period 62: Current Investment Balance: 65734.35 | Savings Account: 129533.82 | Net Worth: 195268.17\n",
      "Period 63: Current Investment Balance: 67162.94 | Savings Account: 131999.95 | Net Worth: 199162.89\n",
      "Period 64: Current Investment Balance: 68605.67 | Savings Account: 134480.24 | Net Worth: 203085.91\n",
      "Period 65: Current Investment Balance: 70062.65 | Savings Account: 136974.74 | Net Worth: 207037.39\n",
      "Period 66: Current Investment Balance: 71533.98 | Savings Account: 139483.52 | Net Worth: 211017.51\n",
      "Period 67: Current Investment Balance: 73019.79 | Savings Account: 142006.66 | Net Worth: 215026.44\n",
      "Period 68: Current Investment Balance: 74520.17 | Savings Account: 144544.2 | Net Worth: 219064.37\n",
      "Period 69: Current Investment Balance: 76035.25 | Savings Account: 147096.23 | Net Worth: 223131.48\n",
      "Period 70: Current Investment Balance: 77565.12 | Savings Account: 149662.81 | Net Worth: 227227.93\n",
      "Period 71: Current Investment Balance: 79109.91 | Savings Account: 152244.0 | Net Worth: 231353.92\n",
      "Period 72: Current Investment Balance: 80669.73 | Savings Account: 154839.89 | Net Worth: 235509.62\n",
      "Period 73: Current Investment Balance: 82244.7 | Savings Account: 157450.52 | Net Worth: 239695.22\n",
      "Period 74: Current Investment Balance: 83834.92 | Savings Account: 160075.98 | Net Worth: 243910.9\n",
      "Period 75: Current Investment Balance: 85440.51 | Savings Account: 162716.33 | Net Worth: 248156.84\n",
      "Period 76: Current Investment Balance: 87061.59 | Savings Account: 165371.64 | Net Worth: 252433.24\n",
      "Period 77: Current Investment Balance: 88698.29 | Savings Account: 168041.99 | Net Worth: 256740.27\n",
      "Period 78: Current Investment Balance: 90350.7 | Savings Account: 170727.43 | Net Worth: 261078.13\n",
      "Period 79: Current Investment Balance: 92018.97 | Savings Account: 173428.04 | Net Worth: 265447.01\n",
      "Period 80: Current Investment Balance: 93703.19 | Savings Account: 176143.9 | Net Worth: 269847.09\n",
      "Period 81: Current Investment Balance: 95403.51 | Savings Account: 178875.07 | Net Worth: 274278.57\n",
      "Period 82: Current Investment Balance: 97120.02 | Savings Account: 181621.62 | Net Worth: 278741.65\n",
      "Period 83: Current Investment Balance: 98852.87 | Savings Account: 184383.63 | Net Worth: 283236.5\n",
      "Period 84: Current Investment Balance: 100602.17 | Savings Account: 187161.16 | Net Worth: 287763.33\n",
      "Period 85: Current Investment Balance: 102368.05 | Savings Account: 189954.29 | Net Worth: 292322.34\n",
      "Period 86: Current Investment Balance: 104150.63 | Savings Account: 192763.1 | Net Worth: 296913.72\n",
      "Period 87: Current Investment Balance: 105950.03 | Savings Account: 195587.64 | Net Worth: 301537.67\n",
      "Period 88: Current Investment Balance: 107766.38 | Savings Account: 198428.01 | Net Worth: 306194.39\n",
      "Period 89: Current Investment Balance: 109599.82 | Savings Account: 201284.26 | Net Worth: 310884.08\n",
      "Period 90: Current Investment Balance: 111450.46 | Savings Account: 204156.48 | Net Worth: 315606.94\n",
      "Period 91: Current Investment Balance: 113318.44 | Savings Account: 207044.74 | Net Worth: 320363.18\n",
      "Period 92: Current Investment Balance: 115203.89 | Savings Account: 209949.1 | Net Worth: 325153.0\n",
      "Period 93: Current Investment Balance: 117106.94 | Savings Account: 212869.66 | Net Worth: 329976.6\n",
      "Period 94: Current Investment Balance: 119027.71 | Savings Account: 215806.47 | Net Worth: 334834.19\n",
      "Period 95: Current Investment Balance: 120966.35 | Savings Account: 218759.63 | Net Worth: 339725.98\n",
      "Period 96: Current Investment Balance: 122922.98 | Savings Account: 221729.19 | Net Worth: 344652.17\n",
      "Period 97: Current Investment Balance: 124897.74 | Savings Account: 224715.24 | Net Worth: 349612.99\n",
      "Period 98: Current Investment Balance: 126890.77 | Savings Account: 227717.86 | Net Worth: 354608.63\n",
      "Period 99: Current Investment Balance: 128902.2 | Savings Account: 230737.12 | Net Worth: 359639.32\n",
      "Period 100: Current Investment Balance: 130932.16 | Savings Account: 233773.1 | Net Worth: 364705.26\n",
      "Period 101: Current Investment Balance: 132980.8 | Savings Account: 236825.87 | Net Worth: 369806.67\n",
      "Period 102: Current Investment Balance: 135048.25 | Savings Account: 239895.51 | Net Worth: 374943.77\n",
      "Period 103: Current Investment Balance: 137134.66 | Savings Account: 242982.1 | Net Worth: 380116.77\n",
      "Period 104: Current Investment Balance: 139240.17 | Savings Account: 246085.73 | Net Worth: 385325.89\n",
      "Period 105: Current Investment Balance: 141364.91 | Savings Account: 249206.46 | Net Worth: 390571.36\n",
      "Period 106: Current Investment Balance: 143509.02 | Savings Account: 252344.37 | Net Worth: 395853.4\n",
      "Period 107: Current Investment Balance: 145672.67 | Savings Account: 255499.55 | Net Worth: 401172.22\n",
      "Period 108: Current Investment Balance: 147855.97 | Savings Account: 258672.08 | Net Worth: 406528.06\n",
      "Period 109: Current Investment Balance: 150059.1 | Savings Account: 261862.03 | Net Worth: 411921.13\n",
      "Period 110: Current Investment Balance: 152282.18 | Savings Account: 265069.49 | Net Worth: 417351.66\n",
      "Period 111: Current Investment Balance: 154525.36 | Savings Account: 268294.53 | Net Worth: 422819.89\n",
      "Period 112: Current Investment Balance: 156788.8 | Savings Account: 271537.24 | Net Worth: 428326.04\n",
      "Period 113: Current Investment Balance: 159072.65 | Savings Account: 274797.69 | Net Worth: 433870.34\n",
      "Period 114: Current Investment Balance: 161377.05 | Savings Account: 278075.98 | Net Worth: 439453.03\n",
      "Period 115: Current Investment Balance: 163702.15 | Savings Account: 281372.18 | Net Worth: 445074.33\n",
      "Period 116: Current Investment Balance: 166048.12 | Savings Account: 284686.37 | Net Worth: 450734.49\n",
      "Period 117: Current Investment Balance: 168415.09 | Savings Account: 288018.64 | Net Worth: 456433.73\n",
      "Period 118: Current Investment Balance: 170803.23 | Savings Account: 291369.06 | Net Worth: 462172.3\n",
      "Period 119: Current Investment Balance: 173212.7 | Savings Account: 294737.73 | Net Worth: 467950.43\n",
      "Period 120: Current Investment Balance: 175643.64 | Savings Account: 298124.73 | Net Worth: 473768.37\n",
      "Period 121: Current Investment Balance: 178096.21 | Savings Account: 301530.14 | Net Worth: 479626.35\n",
      "Period 122: Current Investment Balance: 180570.58 | Savings Account: 304954.05 | Net Worth: 485524.63\n",
      "Period 123: Current Investment Balance: 183066.9 | Savings Account: 308396.53 | Net Worth: 491463.43\n",
      "Period 124: Current Investment Balance: 185585.34 | Savings Account: 311857.68 | Net Worth: 497443.02\n",
      "Period 125: Current Investment Balance: 188126.05 | Savings Account: 315337.58 | Net Worth: 503463.64\n",
      "Period 126: Current Investment Balance: 190689.21 | Savings Account: 318836.32 | Net Worth: 509525.53\n",
      "Period 127: Current Investment Balance: 193274.96 | Savings Account: 322353.99 | Net Worth: 515628.95\n",
      "Period 128: Current Investment Balance: 195883.48 | Savings Account: 325890.66 | Net Worth: 521774.14\n",
      "Period 129: Current Investment Balance: 198514.94 | Savings Account: 329446.43 | Net Worth: 527961.37\n",
      "Period 130: Current Investment Balance: 201169.49 | Savings Account: 333021.38 | Net Worth: 534190.88\n",
      "Period 131: Current Investment Balance: 203847.32 | Savings Account: 336615.61 | Net Worth: 540462.93\n",
      "Period 132: Current Investment Balance: 206548.58 | Savings Account: 340229.2 | Net Worth: 546777.78\n",
      "Period 133: Current Investment Balance: 209273.45 | Savings Account: 343862.24 | Net Worth: 553135.69\n",
      "Period 134: Current Investment Balance: 212022.11 | Savings Account: 347514.82 | Net Worth: 559536.92\n",
      "Period 135: Current Investment Balance: 214794.71 | Savings Account: 351187.02 | Net Worth: 565981.73\n",
      "Period 136: Current Investment Balance: 217591.45 | Savings Account: 354878.95 | Net Worth: 572470.39\n",
      "Period 137: Current Investment Balance: 220412.48 | Savings Account: 358590.68 | Net Worth: 579003.16\n",
      "Period 138: Current Investment Balance: 223257.99 | Savings Account: 362322.3 | Net Worth: 585580.3\n",
      "Period 139: Current Investment Balance: 226128.16 | Savings Account: 366073.92 | Net Worth: 592202.09\n",
      "Period 140: Current Investment Balance: 229023.17 | Savings Account: 369845.62 | Net Worth: 598868.79\n",
      "Period 141: Current Investment Balance: 231943.18 | Savings Account: 373637.49 | Net Worth: 605580.68\n",
      "Period 142: Current Investment Balance: 234888.4 | Savings Account: 377449.63 | Net Worth: 612338.02\n",
      "Period 143: Current Investment Balance: 237858.99 | Savings Account: 381282.12 | Net Worth: 619141.1\n",
      "Period 144: Current Investment Balance: 240855.14 | Savings Account: 385135.06 | Net Worth: 625990.2\n",
      "Period 145: Current Investment Balance: 243877.03 | Savings Account: 389008.54 | Net Worth: 632885.57\n",
      "Period 146: Current Investment Balance: 246924.86 | Savings Account: 392902.66 | Net Worth: 639827.52\n",
      "Period 147: Current Investment Balance: 249998.8 | Savings Account: 396817.51 | Net Worth: 646816.31\n",
      "Period 148: Current Investment Balance: 253099.05 | Savings Account: 400753.19 | Net Worth: 653852.24\n",
      "Period 149: Current Investment Balance: 256225.79 | Savings Account: 404709.79 | Net Worth: 660935.58\n",
      "Period 150: Current Investment Balance: 259379.22 | Savings Account: 408687.4 | Net Worth: 668066.62\n",
      "Period 151: Current Investment Balance: 262559.52 | Savings Account: 412686.12 | Net Worth: 675245.64\n",
      "Period 152: Current Investment Balance: 265766.9 | Savings Account: 416706.05 | Net Worth: 682472.95\n",
      "Period 153: Current Investment Balance: 269001.54 | Savings Account: 420747.28 | Net Worth: 689748.83\n",
      "Period 154: Current Investment Balance: 272263.64 | Savings Account: 424809.92 | Net Worth: 697073.56\n",
      "Period 155: Current Investment Balance: 275553.41 | Savings Account: 428894.05 | Net Worth: 704447.45\n",
      "Period 156: Current Investment Balance: 278871.02 | Savings Account: 432999.78 | Net Worth: 711870.8\n",
      "Period 157: Current Investment Balance: 282216.69 | Savings Account: 437127.2 | Net Worth: 719343.89\n",
      "Period 158: Current Investment Balance: 285590.62 | Savings Account: 441276.41 | Net Worth: 726867.03\n",
      "Period 159: Current Investment Balance: 288993.01 | Savings Account: 445447.52 | Net Worth: 734440.53\n",
      "Period 160: Current Investment Balance: 292424.06 | Savings Account: 449640.61 | Net Worth: 742064.67\n",
      "Period 161: Current Investment Balance: 295883.98 | Savings Account: 453855.8 | Net Worth: 749739.78\n",
      "Period 162: Current Investment Balance: 299372.97 | Savings Account: 458093.18 | Net Worth: 757466.15\n",
      "Period 163: Current Investment Balance: 302891.24 | Savings Account: 462352.85 | Net Worth: 765244.09\n",
      "Period 164: Current Investment Balance: 306439.0 | Savings Account: 466634.91 | Net Worth: 773073.91\n",
      "Period 165: Current Investment Balance: 310016.46 | Savings Account: 470939.47 | Net Worth: 780955.93\n",
      "Period 166: Current Investment Balance: 313623.83 | Savings Account: 475266.63 | Net Worth: 788890.46\n",
      "Period 167: Current Investment Balance: 317261.33 | Savings Account: 479616.48 | Net Worth: 796877.81\n",
      "Period 168: Current Investment Balance: 320929.17 | Savings Account: 483989.14 | Net Worth: 804918.31\n",
      "Period 169: Current Investment Balance: 324627.56 | Savings Account: 488384.7 | Net Worth: 813012.26\n",
      "Period 170: Current Investment Balance: 328356.73 | Savings Account: 492803.27 | Net Worth: 821160.0\n",
      "Period 171: Current Investment Balance: 332116.88 | Savings Account: 497244.95 | Net Worth: 829361.84\n",
      "Period 172: Current Investment Balance: 335908.25 | Savings Account: 501709.86 | Net Worth: 837618.11\n",
      "Period 173: Current Investment Balance: 339731.05 | Savings Account: 506198.08 | Net Worth: 845929.13\n",
      "Period 174: Current Investment Balance: 343585.51 | Savings Account: 510709.74 | Net Worth: 854295.25\n",
      "Period 175: Current Investment Balance: 347471.84 | Savings Account: 515244.93 | Net Worth: 862716.77\n",
      "Period 176: Current Investment Balance: 351390.28 | Savings Account: 519803.76 | Net Worth: 871194.05\n",
      "Period 177: Current Investment Balance: 355341.06 | Savings Account: 524386.35 | Net Worth: 879727.4\n",
      "Period 178: Current Investment Balance: 359324.4 | Savings Account: 528992.78 | Net Worth: 888317.18\n",
      "Period 179: Current Investment Balance: 363340.53 | Savings Account: 533623.18 | Net Worth: 896963.71\n"
     ]
    },
    {
     "data": {
      "image/png": "[encoded data removed]",
      "text/plain": [
       "<matplotlib.figure.Figure at 0x1de92497c88>"
      ]
     },
     "metadata": {},
     "output_type": "display_data"
    }
   ],
   "source": [
    "# Initialize the investments array and net worth array\n",
    "investment_portfolio = np.repeat(0.0, forecast_months)\n",
    "net_worth = np.repeat(0.0, forecast_months)\n",
    "\n",
    "# Loop through each forecast period\n",
    "for i in range(forecast_months):\n",
    "    \n",
    "    # Find the previous investment deposit amount\n",
    "    if i == 0: \n",
    "        previous_investment = 0\n",
    "    else:\n",
    "        previous_investment = investment_portfolio[i-1]\n",
    "        \n",
    "    # Calculate the value of your previous investments, which have grown\n",
    "    previous_investment_growth = previous_investment*(1 + investment_rate_monthly)\n",
    "    \n",
    "    # Add your new deposit to your investment portfolio\n",
    "    investment_portfolio[i] =  previous_investment_growth + investment_deposit_forecast[i]\n",
    "    \n",
    "    # Calculate your net worth at each point in time\n",
    "    net_worth[i] = investment_portfolio[i] + cumulative_savings_new[i]\n",
    "    \n",
    "    # Print the results at each period\n",
    "    print(\"Period \" + str(i) + \": Current Investment Balance: \" + \\\n",
    "          str(round(investment_portfolio[i], 2)) + \\\n",
    "          \" | Savings Account: \" + str(round(cumulative_savings_new[i], 2)) + \\\n",
    "          \" | Net Worth: \" + str(round(net_worth[i], 2)) \\\n",
    "         )\n",
    "         \n",
    "# Plot your forecasted cumulative savings vs investments and net worth\n",
    "investments_plot, = plt.plot(investment_portfolio, color='red', label=\"Investments\")\n",
    "savings_plot, = plt.plot(cumulative_savings_new, color='blue', label = \"Savings\")\n",
    "networth_plot, = plt.plot(net_worth, color='green', label = \"Net Worth\")\n",
    "plt.legend(handles=[investments_plot,savings_plot,networth_plot], loc=2)\n",
    "plt.show()"
   ]
  },
  {
   "cell_type": "markdown",
   "metadata": {},
   "source": [
    "**Inflation-Adjusted Net Worth**  \n",
    "\n",
    "By saving 30% per year, your simulation shows that you can accumulate $896,962.66. Not quite a millionaire, but not bad at all!\n",
    "\n",
    "For the sake of simplicity, let's assume you were able to save \\$900,000 by following your budget.\n",
    "\n",
    "But what if you retire 15 years from now? What is \\$900,000 going to be truly worth 15 years from now?"
   ]
  },
  {
   "cell_type": "code",
   "execution_count": 18,
   "metadata": {},
   "outputs": [
    {
     "name": "stdout",
     "output_type": "stream",
     "text": [
      "Your inflation-adjusted net worth: $621419.0\n"
     ]
    }
   ],
   "source": [
    "# Set your future net worth\n",
    "future_net_worth = 900000\n",
    "\n",
    "# Set the annual inflation rate to 2.5%\n",
    "annual_inflation = 0.025\n",
    "\n",
    "# Calculate the present value of your terminal wealth over 15 years\n",
    "inflation_adjusted_net_worth = np.pv(rate=annual_inflation, nper=15, pmt=0, fv=-1*future_net_worth)\n",
    "print(\"Your inflation-adjusted net worth: $\" + str(round(inflation_adjusted_net_worth, 2)))"
   ]
  },
  {
   "cell_type": "code",
   "execution_count": null,
   "metadata": {
    "collapsed": true
   },
   "outputs": [],
   "source": []
  }
 ],
 "metadata": {
  "kernelspec": {
   "display_name": "Python 3",
   "language": "python",
   "name": "python3"
  },
  "language_info": {
   "codemirror_mode": {
    "name": "ipython",
    "version": 3
   },
   "file_extension": ".py",
   "mimetype": "text/x-python",
   "name": "python",
   "nbconvert_exporter": "python",
   "pygments_lexer": "ipython3",
   "version": "3.6.3"
  }
 },
 "nbformat": 4,
 "nbformat_minor": 2
}
