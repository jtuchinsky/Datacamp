{
 "cells": [
  {
   "cell_type": "markdown",
   "metadata": {},
   "source": [
    "# Present and Future Value"
   ]
  },
  {
   "cell_type": "markdown",
   "metadata": {},
   "source": [
    "## The Non-Static Value of Money"
   ]
  },
  {
   "cell_type": "markdown",
   "metadata": {},
   "source": [
    "What is better:  \n",
    "\n",
    "- \\$10,000 in your pocket today\n",
    "- \\$10,500 in your pocket one year from now\n",
    "\n",
    "What you can do with \\$10,000?\n",
    "\n",
    "Your Options:\n",
    "\n",
    "- A: Take the \\$10,000, stash it in the bank at 1% interest per year, risk free\n",
    "- B: Invest the \\$10,000 in the stock market and earn an average 8% per year with a risk of loose money\n",
    "- C: Wait 1 year, take the \\$10,500 instead"
   ]
  },
  {
   "cell_type": "markdown",
   "metadata": {},
   "source": [
    "## Comparing Future Values"
   ]
  },
  {
   "cell_type": "markdown",
   "metadata": {},
   "source": [
    "- A: 10,000 * (1 + 0.01) = 10,100 future dollars\n",
    "- B: 10,000 * (1 + 0.08) = 10,800 future dollars\n",
    "- C: 10,500 future dollars"
   ]
  },
  {
   "cell_type": "markdown",
   "metadata": {},
   "source": [
    "## Present and Future Value in Python"
   ]
  },
  {
   "cell_type": "markdown",
   "metadata": {},
   "source": [
    "The .pv(rate, nper, pmt, fv) function allows you to calculate the **present value** of an investment as before with a few simple parameters:\n",
    "\n",
    "- **rate**: The rate of return of the investment\n",
    "- **nper**: The lifespan of the investment\n",
    "- **fv**: The future value of the investment  \n",
    "\n",
    "You can use this formula in many ways, for example, to calculate the present value of future investments in today's dollars.  \n",
    "\n",
    "The _numpy_ module also contains a similar function, .fv(rate, nper, pmt, pv), which allows you to calculate the present value of an investment as before with a few simple parameters:\n",
    "\n",
    "- **rate**: The rate of return of the investment\n",
    "- **nper**: The lifespan of the investment\n",
    "- **pv**: The present value of the investment  \n",
    "\n",
    "It is important to note that in this function call, you must pass a **negative** value into the pv parameter if it represents a **negative cash flow** (cash going out). In other words, if you were to compute the future value of an investment, requiring an up-front cash payment, you would need to pass a negative value into the .fv() function for the pv parameter.\n",
    "\n"
   ]
  },
  {
   "cell_type": "code",
   "execution_count": 9,
   "metadata": {},
   "outputs": [
    {
     "name": "stdout",
     "output_type": "stream",
     "text": [
      "Investment 1 is worth 6418.62 in today's dollars\n",
      "Investment 2 is worth 6139.13 in today's dollars\n",
      "Investment 1 will yield a total of $20789.28 in 15 years\n",
      "Investment 2 will yield a total of $31721.69 in 15 years\n"
     ]
    }
   ],
   "source": [
    "import numpy as np\n",
    "\n",
    "# Compute the present value of an investment which will yield $10,000 15 years from now at an inflation rate of 3% per year \n",
    "investment_1 = np.pv(rate=0.03, nper=15, pmt=0, fv=10000)\n",
    "# Note that the present value returned is negative, so we multiply the result by -1\n",
    "print(\"Investment 1 is worth \" + str(round(-investment_1, 2)) + \" in today's dollars\")\n",
    "\n",
    "# Compute the present value of the same investment, but with a time horizon of only 10 years and an inflation rate of 5%\n",
    "investment_2 = np.pv(rate=0.05, nper=10, pmt=0, fv=10000)\n",
    "print(\"Investment 2 is worth \" + str(round(-investment_2, 2)) + \" in today's dollars\")\n",
    "\n",
    "# Calculate the future value of a $10,000 investment returning 5% per year for 15 years \n",
    "investment_3 = np.fv(rate=0.05, nper=15, pmt=0, pv=-10000)\n",
    "print(\"Investment 1 will yield a total of $\" + str(round(investment_3, 2)) + \" in 15 years\")\n",
    " \n",
    "# Calculate the future value of a $10,000 investment returning 8% per year for 15 years \n",
    "investment_4 = np.fv(rate=0.08, nper=15, pmt=0, pv=-10000)\n",
    "print(\"Investment 2 will yield a total of $\" + str(round(investment_4, 2)) + \" in 15 years\")\n"
   ]
  },
  {
   "cell_type": "markdown",
   "metadata": {},
   "source": [
    "## Adjusting Future Values for Inflation"
   ]
  },
  {
   "cell_type": "markdown",
   "metadata": {},
   "source": [
    "- First, forecast the future value of an investment given a rate of return\n",
    "- Second, discount the future value of the investment by a projected inflation rate"
   ]
  },
  {
   "cell_type": "code",
   "execution_count": 10,
   "metadata": {},
   "outputs": [
    {
     "name": "stdout",
     "output_type": "stream",
     "text": [
      "Investment 1 will yield a total of $21589.25 in 10 years\n",
      "After adjusting for inflation, investment 1 is worth $16064.43 in today's dollars\n"
     ]
    }
   ],
   "source": [
    "# Calculate the future value of a $10,000 investment returning 8% per year for 10 years \n",
    "investment_1 = np.fv(rate=0.08, nper=10, pmt=0, pv=-10000)\n",
    "print(\"Investment 1 will yield a total of $\" + str(round(investment_1, 2)) + \" in 10 years\")\n",
    "\n",
    "# Calculate the inflation-adjusted present value of investment_1, using an inflation rate of 3% per year\n",
    "investment_1_discounted = np.pv(rate=0.03, nper=10, pmt=0, fv=investment_1)\n",
    "print(\"After adjusting for inflation, investment 1 is worth $\" + str(round(-investment_1_discounted, 2)) + \" in today's dollars\")"
   ]
  },
  {
   "cell_type": "code",
   "execution_count": null,
   "metadata": {
    "collapsed": true
   },
   "outputs": [],
   "source": []
  }
 ],
 "metadata": {
  "kernelspec": {
   "display_name": "Python 3",
   "language": "python",
   "name": "python3"
  },
  "language_info": {
   "codemirror_mode": {
    "name": "ipython",
    "version": 3
   },
   "file_extension": ".py",
   "mimetype": "text/x-python",
   "name": "python",
   "nbconvert_exporter": "python",
   "pygments_lexer": "ipython3",
   "version": "3.6.3"
  }
 },
 "nbformat": 4,
 "nbformat_minor": 2
}
