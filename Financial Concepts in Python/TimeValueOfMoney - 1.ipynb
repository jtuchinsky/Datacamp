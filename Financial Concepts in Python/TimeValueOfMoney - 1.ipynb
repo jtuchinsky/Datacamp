{
 "cells": [
  {
   "cell_type": "markdown",
   "metadata": {},
   "source": [
    "# The Time Value of Money"
   ]
  },
  {
   "cell_type": "markdown",
   "metadata": {},
   "source": [
    "## Calculating Return on Investment (% Gain)"
   ]
  },
  {
   "cell_type": "markdown",
   "metadata": {},
   "source": [
    "Return (% Gain) = $ \\frac{v_{t_2} - v_{t_1}}{v_{t_1}} = r$ \n",
    "\n",
    "- $v_{t_1}$: The initial value of the investment at time\n",
    "- $v_{t_2}$: The final value of the investment at time\n",
    "                                             \n",
    "**Example**  \n",
    "- You invest \\$10,000 at time = year 1  \n",
    "- At time = year 2, your investment is worth \\$11,000  \n",
    "\n",
    "$$\\frac{\\$11,000 - \\$10,000}{\\$10,000} * 100 = \\text{10\\% annual return (gain) on your investment}$$\n"
   ]
  },
  {
   "cell_type": "markdown",
   "metadata": {},
   "source": [
    "## Calculating Return on Investment (Dollar Value)"
   ]
  },
  {
   "cell_type": "markdown",
   "metadata": {},
   "source": [
    "$$v_{t_2} = v_{t_1} * (1+r)$$\n",
    "\n",
    "- $v_{t_1}$: The initial value of the investment at time\n",
    "- $v_{t_2}$: The final value of the investment at time\n",
    "- r: The rate of the investment per period t\n",
    "\n",
    "**Example**\n",
    "- Annual rate of return = 10% = 10/100\n",
    "- You invest \\$10,000 at time = year 1\n",
    "\n",
    "$$\\text{\\$10,000} * (1 + \\frac{10}{100}) = \\text{\\$11,000} $10,000∗(1+$$\n"
   ]
  },
  {
   "cell_type": "markdown",
   "metadata": {},
   "source": [
    "## Cumulative Growth (or Depreciation)"
   ]
  },
  {
   "cell_type": "markdown",
   "metadata": {},
   "source": [
    "\n",
    "- r: The investment's expected rate of return (growth rate)\n",
    "- t: The lifespan of the investment (time)\n",
    "- $v_{t_0}$: The initial value of the investment at time 0\n",
    "\n",
    "$$\\text{Investment Value} = v_{t_0}*(1 + r)^t$$ \n",
    "\n",
    "\n",
    "If the growth rate _r_ is negative, the investment's value will depreciate (shrink) over time."
   ]
  },
  {
   "cell_type": "code",
   "execution_count": 7,
   "metadata": {},
   "outputs": [
    {
     "name": "stdout",
     "output_type": "stream",
     "text": [
      "Future Value of Investment: 574.35\n",
      "Future value of Investment:: 59.87\n"
     ]
    }
   ],
   "source": [
    "initial_investment = 100.00\n",
    "growth_rate = 0.06\n",
    "time_period = 30\n",
    "\n",
    "future_value = initial_investment*(1 + growth_rate)**time_period\n",
    "print(\"Future Value of Investment: \" + str(round(future_value, 2)))\n",
    "\n",
    "#Calculate the future value of a $100 investment that depreciates in value by 5% per year for 10 years\n",
    "initial_investment = 100\n",
    "growth_rate = -0.05\n",
    "growth_periods = 10\n",
    "future_value = initial_investment * pow((1+growth_rate), growth_periods)\n",
    "print(\"Future value of Investment:: \" + str(round(future_value, 2)))\n"
   ]
  },
  {
   "cell_type": "markdown",
   "metadata": {},
   "source": [
    "## Discount Factors"
   ]
  },
  {
   "cell_type": "markdown",
   "metadata": {},
   "source": [
    "\n",
    "$$df = \\frac{1}{(1 + r)^t}$$ \n",
    "\n",
    "$$v = fv*df$$ \n",
    "\n",
    "- _df_: Discount factor\n",
    "- _r_: The rate of depreciation per period tt\n",
    "- _t_: Time periods\n",
    "- _v_: Initial value of the investment\n",
    "- _fv_: Future value of the investment"
   ]
  },
  {
   "cell_type": "code",
   "execution_count": 5,
   "metadata": {},
   "outputs": [
    {
     "name": "stdout",
     "output_type": "stream",
     "text": [
      "Future value: 59.87\n",
      "Discount factor: 1.67\n",
      "Initial value: 100.0\n"
     ]
    }
   ],
   "source": [
    "# Calculate the future value\n",
    "initial_investment = 100\n",
    "growth_rate = -0.05\n",
    "growth_periods = 10\n",
    "future_value = initial_investment * pow((1+growth_rate), growth_periods)\n",
    "print(\"Future value: \" + str(round(future_value, 2)))\n",
    "\n",
    "# Calculate the discount factor of the investment\n",
    "discount_factor = 1/pow((1+growth_rate), growth_periods)\n",
    "print(\"Discount factor: \" + str(round(discount_factor, 2)))\n",
    "\n",
    "\n",
    "# Derive the initial value of the investment\n",
    "initial_investment_again = future_value * discount_factor\n",
    "print(\"Initial value: \" + str(round(initial_investment_again, 2)))"
   ]
  },
  {
   "cell_type": "markdown",
   "metadata": {},
   "source": [
    "## Compound Interest"
   ]
  },
  {
   "cell_type": "markdown",
   "metadata": {},
   "source": [
    "\n",
    "$$\\text{Investment Value} = v_{t_0}*(1 + \\frac{r}{c})^{t*c}$$  \n",
    "\n",
    "- _r_: The investment's annual expected rate of return (growth rate)\n",
    "- _t_: The lifespan of the investment\n",
    "- $v_{t_0}$: The initial value of the investment at time 0\n",
    "- _c_: The number of compounding periods per year"
   ]
  },
  {
   "cell_type": "code",
   "execution_count": 4,
   "metadata": {},
   "outputs": [
    {
     "name": "stdout",
     "output_type": "stream",
     "text": [
      "Investment 1: 574.35\n",
      "Investment 2: 596.93\n",
      "Investment 3: 602.26\n"
     ]
    }
   ],
   "source": [
    "initial_investment = 100\n",
    "growth_periods = 30\n",
    "growth_rate = 0.06\n",
    "\n",
    "# Calculate the value for the investment compounded once per year\n",
    "compound_periods_1 = 1\n",
    "investment_1 = initial_investment*((1 + growth_rate/compound_periods_1)**(growth_periods*compound_periods_1))\n",
    "print(\"Investment 1: \" + str(round(investment_1, 2)))\n",
    "\n",
    "# Calculate the value for the investment compounded quarterly\n",
    "compound_periods_2 = 4\n",
    "investment_2 = initial_investment*((1 + growth_rate/compound_periods_2)**(growth_periods*compound_periods_2))\n",
    "print(\"Investment 2: \" + str(round(investment_2, 2)))\n",
    "\n",
    "# Calculate the value for the investment compounded monthly\n",
    "compound_periods_3 = 12\n",
    "investment_3 = initial_investment*((1 + growth_rate/compound_periods_3)**(growth_periods*compound_periods_3))\n",
    "print(\"Investment 3: \" + str(round(investment_3, 2)))"
   ]
  },
  {
   "cell_type": "code",
   "execution_count": null,
   "metadata": {
    "collapsed": true
   },
   "outputs": [],
   "source": []
  }
 ],
 "metadata": {
  "celltoolbar": "Tags",
  "kernelspec": {
   "display_name": "Python 3",
   "language": "python",
   "name": "python3"
  },
  "language_info": {
   "codemirror_mode": {
    "name": "ipython",
    "version": 3
   },
   "file_extension": ".py",
   "mimetype": "text/x-python",
   "name": "python",
   "nbconvert_exporter": "python",
   "pygments_lexer": "ipython3",
   "version": "3.7.1"
  }
 },
 "nbformat": 4,
 "nbformat_minor": 2
}
